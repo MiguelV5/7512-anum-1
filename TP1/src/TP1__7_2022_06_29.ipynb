{
  "cells": [
    {
      "cell_type": "markdown",
      "metadata": {
        "id": "6HXX2GtJqhTP"
      },
      "source": [
        "<p align=\"center\">\n",
        "_____________________________________________________________________________________________________________________________\n",
        "\n",
        "<br>\n",
        "<br>\n",
        "  <img src=\"https://www.estudiaradistancia.com.ar/logos/original/logo-universidad-de-buenos-aires.webp\" height=180 />\n",
        "  <img  src=\"https://confedi.org.ar/wp-content/uploads/2020/09/fiuba_logo.jpg\" height=\"180\">\n",
        "<br>\n",
        "_____________________________________________________________________________________________________________________________\n",
        "<br>\n",
        "<br>\n",
        "<font size=\"+3\">\n",
        "[71.12] Análisis Numérico I\n",
        "<br>\n",
        "Trabajo Práctico I\n",
        "<br>\n",
        "Primer Cuatrimestre 2022\n",
        "</font>\n",
        "<br>\n",
        "<br>\n",
        "_____________________________________________________________________________________________________________________________\n",
        "<br>\n",
        "<br>\n",
        "<font size=\"+2\">\n",
        "Desarrollo de métodos numéricos de busqueda de raíces e interpolacion\n",
        "<br>\n",
        "de Spline cúbica para su aplicación en problemas de optimización industrial. \n",
        "</font>\n",
        "<br>\n",
        "<br>\n",
        "_____________________________________________________________________________________________________________________________\n",
        "<br>\n",
        "<br>\n",
        "<font size=\"+2\">\n",
        "AUTORES\n",
        "</font>\n",
        "<br>\n",
        "<font size=\"+1\">\n",
        "Gamberale Luciano Martin,\n",
        "<br>  \n",
        "Veiga Angel Martin,\n",
        "<br>\n",
        "Godoy Dupont Mateo,\n",
        "<br>\n",
        "Vasquez Jimenez Miguel Angel,\n",
        "</font>\n",
        "<br>\n",
        "<br>\n",
        "<font size=\"+2\">\n",
        "DOCENTES\n",
        "</font>\n",
        "<br>\n",
        "<font size=\"+1\">\n",
        "Sassano Myriam Patricia\n",
        "<br>\n",
        "Garcia Ezequiel\n",
        "<br>\n",
        "Husain Santiago\n",
        "<br>\n",
        "Payva Matias\n",
        "<br>\n",
        "Turano Maria Agustina\n",
        "<br>\n",
        "Vera Ramiro\n",
        "</font>\n",
        "<br>\n",
        "<br>\n",
        "<br>\n",
        "\n",
        "_____________________________________________________________________________________________________________________________\n",
        "</p>\n",
        "\n",
        "\n"
      ]
    },
    {
      "cell_type": "markdown",
      "metadata": {
        "id": "kDnTzEsMHVAf"
      },
      "source": [
        "___________________________________________________________________________________________________________________________________________________________________________________________________________________________________________________________________________\n"
      ]
    },
    {
      "cell_type": "markdown",
      "source": [
        "# Índice\n",
        "\n",
        "0. Introducción\n",
        "    - 0.1 Objetivos\n",
        "    - 0.2 Introducción\n",
        "1. Plan de producción:\n",
        "    - 1.1 Implementacion de metodos de busqueda de Raices:  \n",
        "        - 1.1.1 Definiciones, funciones e imports auxiliares:\n",
        "            - 1.1.1.1 Imports\n",
        "            - 1.1.1.2 Calculo de orden de convergencia (α)\n",
        "            - 1.1.1.3 Calculo de la constante asintótica (λ)\n",
        "            - 1.1.1.4 Funciones de iteraciones funcionales\n",
        "                - 1.1.1.4.1 Para métodos de semilla única\n",
        "                - 1.1.1.4.2 Caso particular método Secante (semilla doble)\n",
        "            - 1.1.1.5 Funciones para extraccion de datos una vez completada la aplicacion de los metodos para problemas especificos\n",
        "                - 1.1.1.5.1 Extraccion de valores importantes tras biseccion\n",
        "                - 1.1.1.5.2 Extraccion de valores importantes tras metodos de iteracion funcional\n",
        "                - 1.1.1.5.3 Función auxiliar para representar los valores en tablas\n",
        "                - 1.1.1.5.4 Extracción de valor obtenido en ultima iteración: pn\n",
        "            - 1.1.1.6 Criterios de paro:\n",
        "        - 1.1.2 Metodo de la biseccion\n",
        "        - 1.1.3 Metodo Punto Fijo\n",
        "        - 1.1.4 Metodo Newton-Raphson\n",
        "        - 1.1.5 Metodo Newton-Raphson modificado para raices multiples\n",
        "        - 1.1.6 Metodo Secante\n",
        "    - 1.2 Planteo del problema\n",
        "        - 1.2.1 (Pregunta a) Formule el problema y grafíquelo.\n",
        "        - 1.2.2 (Pregunta b) Hallar las cantidades a fabricar del producto “E41” utilizando los métodos vistos en clase:\n",
        "            - 1.2.2.1 Bisección/ Busqueda Binaria / Metodo de Arranque:\n",
        "            - 1.2.2.2 Método del Punto Fijo:\n",
        "            - 1.2.2.3 Método de Newton-Raphson:\n",
        "            - 1.2.2.4 Método de Newton-Raphson modificado:\n",
        "            - 1.2.2.5 Método de la Secante:\n",
        "        - 1.2.3 (Pregunta c) Realizar una tabla con los resultados de las iteraciones, convergencia P y la constante asintótica λ.\n",
        "            - 1.2.3.1 Método de Bisección\n",
        "            - 1.2.3.2 Método de Punto Fijo\n",
        "            - 1.2.3.3 Método de Newton-Raphson\n",
        "            - 1.2.3.4 Método de Newton-Raphson Modificado\n",
        "            - 1.2.3.5 Método de la Secante\n",
        "        - 1.2.4 (Pregunta d) Compare los resultados obtenidos para los distintos métodos y cotas, grafique el orden de convergencia P y la constante asintótica λ para todos los casos. Realice un gráfico log10(Δx) vs iteraciones, para visualizar el comportamiento de la constante asintótica y el orden de convergencia. Discuta ventajas y desventajas. ¿Son las que esperaba en base a la teoría?\n",
        "            - 1.2.4.1 Funciones auxiliares para plots:\n",
        "            - 1.2.4.2 Graficos orden de convergencia α vs Iteraciones\n",
        "            - 1.2.4.3 Graficos constante asintótica λ vs Iteraciones\n",
        "            - 1.2.4.4 Graficos log10(Δx) vs Iteraciones\n",
        "2. Splines para aproximacion de curvas\n",
        "    - 2.1 Implementación del método de iterpolacion de Spline cúbica:\n",
        "        - 2.1.1 Definiciones de funciones de cálculo de coeficientes:\n",
        "        - 2.1.2 Definiciones de funciones auxiliares para ploteo:\n",
        "        - 2.1.3 Metodo de interpolación de Spline cúbica\n",
        "    - 2.2 Planteo del problema\n",
        "        - 2.2.1 Uso de datos, interpolación y tabla de coeficientes resultantes:\n",
        "        - 2.2.2 Gráfico\n",
        "        - 2.2.3 Conclusiones\n",
        "\n",
        "3. Conclusiones generales\n",
        "\n",
        "4. Referencias\n"
      ],
      "metadata": {
        "id": "NPDCxHa-LfPY"
      }
    },
    {
      "cell_type": "markdown",
      "source": [
        "# ***0. Introducción***"
      ],
      "metadata": {
        "id": "9WzybvgGP6zR"
      }
    },
    {
      "cell_type": "markdown",
      "source": [
        "### 0.1 Objetivos"
      ],
      "metadata": {
        "id": "Nv-vwzvOa0Rw"
      }
    },
    {
      "cell_type": "markdown",
      "source": [
        "El presente trabajo se divide en dos problemas a resolver:\n",
        "- Plan de producción:\n",
        "    - Se analiza la cantidad mínima requerida de un producto industrial a partir de dos restricciones principales relacionadas con la rentabilidad y la producción.\n",
        "    - Se desarrolla el análisis por medio del uso de métodos numéricos para la obtención de raíces de funciones, obteniendo así aproximaciones de la cantidad mencionada anteriormente.\n",
        "    - Se implementaron los algoritmos correspondientes a los siguientes métodos numéricos:\n",
        "        - Bisección\n",
        "        - Punto Fijo\n",
        "        - Newton-Raphson\n",
        "        - Newton-Raphson para raíces multiples\n",
        "        - Secante\n",
        "    - Se realizan análisis previos con el fin de garantizar el cumplimiento de las condiciones necesarias para aplicar cada uno de los métodos.\n",
        "    - Se realizan análisis posteriores a la aplicación de los métodos y la correspondiente comparativa entre lo obtenido y lo esperado según las bases teóricas. \n",
        "    - Se analizan gráficamente los resultados los métodos, incluyendo propiedades de los mismos como son: constante asintótica y orden de convergencia. \n",
        "- Spline para aproximación de curvas:\n",
        "    - Se busca realizar una aproximación de una función partida dado un conjunto de puntos de la misma y sus derivadas en los extremos. Para ello se utiliza la interpolación de Spline cúbica ligada.\n",
        "    - Se implementan las funciones necesarias para realizar el cálculo de coeficientes independientes, lineales, cuadráticos y cúbicos mediante la forma matricial tridiagonal.\n",
        "    - Se analizan gráficamente los resultados de las interpolaciones y se comparan con los puntos originales de la tabla. \n"
      ],
      "metadata": {
        "id": "TX86_o4dP_BM"
      }
    },
    {
      "cell_type": "markdown",
      "source": [
        "### 0.2 Introducción\n"
      ],
      "metadata": {
        "id": "bY0sYJfGbBHI"
      }
    },
    {
      "cell_type": "markdown",
      "source": [
        "Inicialmente se investiga el funcionamiento y el desempeño de los distintos métodos numéricos aplicados a un problema particular.\n",
        "\n",
        "Dicho problema consiste en la busqueda de la cantidad mínima requerida de producto dadas dos restricciones explicadas más adelante.\n",
        "\n",
        "En conjunto con el valor mínimo esperado como respuesta al problema planteado, se espera corroborar que el desempeño de los métodos se corresponde a las propiedades mencionadas en el objetivo del trabajo para cada uno de ellos.\n",
        "\n",
        "Posteriormente se investiga una aplicación práctica del método para interpolación de Spline cúbica ligada desarrollada por medio de su forma matricial cuya deducción se encuentra en su respectivo apartado en el cuerpo del trabajo.\n",
        "\n",
        "Se espera que la aproximación resultante cumpla con todas las condiciones planteadas en la sección respectiva del cuerpo del trabajo y que se reflejen gráficamente."
      ],
      "metadata": {
        "id": "a9h2zhi3bG5j"
      }
    },
    {
      "cell_type": "markdown",
      "metadata": {
        "id": "asv_VvKlJbVn"
      },
      "source": [
        "# ***1. Plan de producción:*** "
      ]
    },
    {
      "cell_type": "markdown",
      "metadata": {
        "id": "MTDfAlxDja5I"
      },
      "source": [
        "Se le solicita el área \"Supply Chain\" que indique qué mix de productos es más conveniente\n",
        "fabricar mensualmente dada una serie de restricciones que tiene la planta y la contribución\n",
        "marginal que ofrece cada producto.\n",
        "\n",
        " Como nuevo pasante del área le asignan el cálculo para\n",
        "el producto estrella de la empresa, acero de calidad “E41” utilizado para fabricar perfiles de\n",
        "\"Steel Frame\".\n",
        "\n",
        "Consulta con el área de Rentabilidad la utilidad unitaria del producto, y le informan que la\n",
        "misma responde a la siguiente función: $$0,001·x·(x−1000kg\n",
        ")^2$$, donde x es la cantidad de producto\n",
        "a producir (medida en kilogramos), y que para producirse debe alcanzarse los $25000\n",
        "de contribución mensual.\n",
        "\n",
        "Luego, llama al área de Producción y le consulta por las restricciones que tiene la línea donde\n",
        "se fabrica este producto.\n",
        "\n",
        "Le informan que para que se justifique hacer el set up para prender\n",
        "la máquina correspondiente, se deberán fabricar al menos $827 kg$ del mismo."
      ]
    },
    {
      "cell_type": "markdown",
      "metadata": {
        "id": "ZeJrZWqAyv1v"
      },
      "source": [
        "## ***1.1  Implementacion de metodos de busqueda de Raices:***"
      ]
    },
    {
      "cell_type": "markdown",
      "metadata": {
        "id": "clSFQYoobwFy"
      },
      "source": [
        "### **1.1.1 Definiciones, funciones e imports auxiliares:**"
      ]
    },
    {
      "cell_type": "markdown",
      "metadata": {
        "id": "x6QxyrI3AmRf"
      },
      "source": [
        "#### *1.1.1.1  Imports* "
      ]
    },
    {
      "cell_type": "code",
      "execution_count": 99,
      "metadata": {
        "id": "EsTgQUYSbuXh"
      },
      "outputs": [],
      "source": [
        "import matplotlib.pyplot as plt\n",
        "from matplotlib.ticker import (AutoMinorLocator, MultipleLocator) \n",
        "import numpy as np\n",
        "from math import isclose\n",
        "import pandas as pd\n",
        "\n",
        "MAX_ITERACIONES = 30\n",
        "MAX_VALOR_DE_ERROR = 1e+20\n",
        "MIN_VALOR_DE_ERROR = 1e-12\n",
        "\n",
        "ERROR_FUERA_DE_RANGO = \"La cota del error es un valor muy cercano a cero no representable.\"\n",
        "ERROR_MAX_ITERACIONES = \"Raíz no encontrada: Se llegó al maximo de iteraciones sin encontrar la raiz.\"\n",
        "ERROR_EJECUCION = \"Error en los parametros al ejecutar el método.\"\n",
        "ERROR_TAMAÑO_LISTA = \"La listas recibidas deben poseer el mismo tamaño.\"\n",
        "ERROR_DIVERGENCIA = \"El método diverge para estos parámetros\"\n",
        "\n",
        "COTA_DE_ERROR_1 = 1e-05\n",
        "COTA_DE_ERROR_2 = 1e-13"
      ]
    },
    {
      "cell_type": "markdown",
      "source": [
        "Tener en cuenta que para los calculos de orden de convergencia y constante asintótica se hace una aproximación en base a los límites que los definen. Entre mayor sea el número de iteraciones más precisa será esa aproximación.\n",
        "Por definición se tenía:\n",
        "\n",
        "$\\displaystyle{\\lim_{n \\to \\infty}}$ $ \\frac{|p_{n+1}-p|}{|p_n-p|^{α}} = \\lambda$"
      ],
      "metadata": {
        "id": "Xi920GjywYXd"
      }
    },
    {
      "cell_type": "markdown",
      "metadata": {
        "id": "hR_G8N3X-Y2b"
      },
      "source": [
        "#### *1.1.1.2 Calculo de orden de convergencia ($\\alpha$)*\n",
        "\n"
      ]
    },
    {
      "cell_type": "markdown",
      "source": [
        "$\\alpha_n \\cong \\frac{log|({x_n-x_{n-1})/(x_{n-1} - x_{n-2})|}}{log|(x_{n-1}-x_{n-2})/(x_{n-2}-x_{n-3})|}$"
      ],
      "metadata": {
        "id": "GWsBvUd3xYf-"
      }
    },
    {
      "cell_type": "code",
      "execution_count": 100,
      "metadata": {
        "id": "iC_T_0A5_GiF"
      },
      "outputs": [],
      "source": [
        "def calcular_orden_de_convergencia_alfa(lista_pn):\n",
        "    lista_orden_de_convergencia = []\n",
        "\n",
        "    for i in range(len(lista_pn)):\n",
        "        alpha_i = None\n",
        "        if ( (i > 2) and not(isclose((lista_pn[i]-lista_pn[i-1]) ,0, rel_tol = MIN_VALOR_DE_ERROR))):\n",
        "            alpha_i = ((np.log(abs((lista_pn[i]-lista_pn[i-1])/(lista_pn[i-1]-lista_pn[i-2])))) / (np.log(abs((lista_pn[i-1]-lista_pn[i-2])/(lista_pn[i-2]-lista_pn[i-3])))))\n",
        "        \n",
        "        lista_orden_de_convergencia.append(alpha_i)\n",
        "    return lista_orden_de_convergencia"
      ]
    },
    {
      "cell_type": "markdown",
      "metadata": {
        "id": "mtfGnGus-nXZ"
      },
      "source": [
        "#### *1.1.1.3 Calculo de la constante asintótica ($\\lambda$)*"
      ]
    },
    {
      "cell_type": "markdown",
      "source": [
        "$\\lambda_{n} \\cong  \\frac{\\Delta x_n}{\\Delta x_{n-1}^{\\alpha_{n}}}$ "
      ],
      "metadata": {
        "id": "rMlkqBNMzd59"
      }
    },
    {
      "cell_type": "code",
      "execution_count": 101,
      "metadata": {
        "id": "OWvnRScI-YF8"
      },
      "outputs": [],
      "source": [
        "def calcular_cte_asintotica_lambda(lista_errores, lista_alfas):\n",
        "    if(len(lista_errores) <= len(lista_alfas)-1):\n",
        "        print(ERROR_TAMAÑO_LISTA)\n",
        "        return None\n",
        "\n",
        "    lista_cte_asintotica = []\n",
        "\n",
        "    for i in range(len(lista_alfas)):\n",
        "        lambda_i = None\n",
        "        if(i > 2):\n",
        "            if ((lista_errores[i-1] != None) and (lista_alfas[i] != None)) : # Condicion necesaria por metodo Secante\n",
        "                lambda_i = lista_errores[i] / (lista_errores[i-1] ** lista_alfas[i])\n",
        "            lista_cte_asintotica.append(lambda_i)\n",
        "        else:\n",
        "            lista_cte_asintotica.append(None)\n",
        "\n",
        "    return lista_cte_asintotica"
      ]
    },
    {
      "cell_type": "markdown",
      "metadata": {
        "id": "wWYozkkL91DB"
      },
      "source": [
        "#### *1.1.1.4 Funciones de iteraciones funcionales*"
      ]
    },
    {
      "cell_type": "markdown",
      "metadata": {
        "id": "v2588TYJ_rQX"
      },
      "source": [
        "###### 1.1.1.4.1 Para métodos de semilla única\n",
        "$g(x) = x - 𝝋(x)f(x) $ ;\n",
        "\n",
        "con $𝝋(x)$ definida dependiedo del método (Punto fijo, NR, NR modificado)\n"
      ]
    },
    {
      "cell_type": "code",
      "execution_count": 102,
      "metadata": {
        "id": "RfqbviTMTITm"
      },
      "outputs": [],
      "source": [
        "def iteracion_funcional_recursiva(g, numero_iteracion, tolerancia, lista_resultados):\n",
        "    if(numero_iteracion == MAX_ITERACIONES):  \n",
        "        print(ERROR_MAX_ITERACIONES)\n",
        "        return lista_resultados, False\n",
        "\n",
        "    pn_1 = lista_resultados[numero_iteracion-1][0]\n",
        "    pn = g(pn_1)\n",
        "\n",
        "    error_actual = np.abs(pn_1 - pn)\n",
        "    if(error_actual > MAX_VALOR_DE_ERROR):\n",
        "        print(ERROR_DIVERGENCIA)\n",
        "        return lista_resultados, False\n",
        "    if (isclose(error_actual,0, rel_tol = MIN_VALOR_DE_ERROR) or error_actual == 0):             #Caso de que el error sea menor que la capacidad de la computadora\n",
        "        print(ERROR_FUERA_DE_RANGO)\n",
        "        error_actual =  MIN_VALOR_DE_ERROR\n",
        "        lista_resultados_n = [pn, error_actual]  #[pn, error]  \n",
        "        lista_resultados.append(lista_resultados_n)\n",
        "        return lista_resultados, True\n",
        "\n",
        "    lista_resultados_n = [pn, error_actual]  #[pn, error]  \n",
        "    lista_resultados.append(lista_resultados_n)\n",
        "                            \n",
        "    if(error_actual < tolerancia):\n",
        "        return lista_resultados, True\n",
        "\n",
        "    return iteracion_funcional_recursiva(g, numero_iteracion+1, tolerancia, lista_resultados)"
      ]
    },
    {
      "cell_type": "markdown",
      "metadata": {
        "id": "EX0dmNOd_5vs"
      },
      "source": [
        "###### 1.1.1.4.2 Caso particular método Secante (semilla doble)\n",
        "$g(x,y) = x - 𝝋(x,y)f(x)$ "
      ]
    },
    {
      "cell_type": "code",
      "execution_count": 103,
      "metadata": {
        "id": "gh6GGZwYYAAD"
      },
      "outputs": [],
      "source": [
        "def iteracion_funcional_recursiva_de_dos_semillas(g, numero_iteracion, tolerancia, lista_resultados):\n",
        "    if(numero_iteracion == MAX_ITERACIONES): \n",
        "        return lista_resultados, False\n",
        "\n",
        "    pn_1 = lista_resultados[numero_iteracion-1][0]\n",
        "    pn_2 = lista_resultados[numero_iteracion-2][0]\n",
        "    pn = g(pn_1,pn_2)\n",
        "    \n",
        "\n",
        "    error_actual = np.abs(pn - pn_1)\n",
        "    if(error_actual > MAX_VALOR_DE_ERROR):\n",
        "        print(ERROR_DIVERGENCIA)\n",
        "        return lista_resultados, False\n",
        "    if (isclose(error_actual,0, rel_tol = MIN_VALOR_DE_ERROR) or error_actual == 0):             #Caso de que el error sea menor que la capacidad de la computadora\n",
        "        print(ERROR_FUERA_DE_RANGO)\n",
        "        error_actual =  MIN_VALOR_DE_ERROR\n",
        "        lista_resultados_n = [pn, error_actual]  #[pn, error]  \n",
        "        lista_resultados.append(lista_resultados_n)\n",
        "        return lista_resultados, True\n",
        "\n",
        "    lista_resultados_n = [pn, error_actual]  # [pn, error]  \n",
        "    lista_resultados.append(lista_resultados_n)\n",
        "        \n",
        "    if(error_actual < tolerancia):\n",
        "        return lista_resultados, True\n",
        "\n",
        "    return iteracion_funcional_recursiva_de_dos_semillas(g, numero_iteracion+1, tolerancia, lista_resultados)"
      ]
    },
    {
      "cell_type": "markdown",
      "metadata": {
        "id": "0zpSRjSOi_e3"
      },
      "source": [
        "#### *1.1.1.5 Funciones para extraccion de datos una vez completada la aplicacion de los metodos para problemas especificos*"
      ]
    },
    {
      "cell_type": "markdown",
      "metadata": {
        "id": "Utj6sQVmkeFK"
      },
      "source": [
        "###### 1.1.1.5.1 Extraccion de valores importantes tras biseccion \n",
        "Dichos valores son:\n",
        "\n",
        "$p_n$ o de errores: $|p_n-p_{n-1}|$  de cada iteración a partir de la\n",
        "lista con resultados totales del método de biseccion (exclusivamente)"
      ]
    },
    {
      "cell_type": "code",
      "execution_count": 104,
      "metadata": {
        "id": "dFt1CBVDbPqf"
      },
      "outputs": [],
      "source": [
        "def extraer_pn_biseccion(lista_resultados):\n",
        "    lista_xi = []\n",
        "\n",
        "    for i in range(len(lista_resultados)):\n",
        "        lista_xi.append(lista_resultados[i][2])\n",
        "\n",
        "    return lista_xi\n",
        "\n",
        "\n",
        "\n",
        "def extraer_errores_biseccion(lista_resultados):\n",
        "    lista_xi = []\n",
        "\n",
        "    for i in range(len(lista_resultados)):\n",
        "        lista_xi.append(lista_resultados[i][3])\n",
        "\n",
        "    return lista_xi"
      ]
    },
    {
      "cell_type": "markdown",
      "metadata": {
        "id": "0qWHq3kLk2J4"
      },
      "source": [
        "###### 1.1.1.5.2 Extraccion de valores importantes tras metodos de iteracion funcional\n",
        "Dichos valores son:\n",
        "\n",
        "$p_n$ o de errores: $|p_n-p_{n-1}|$  de cada iteración a partir de la\n",
        "lista con resultados totales de cualquiera de los metodos con iteracion funcional"
      ]
    },
    {
      "cell_type": "code",
      "execution_count": 105,
      "metadata": {
        "id": "uH8Etsf9bKmF"
      },
      "outputs": [],
      "source": [
        "def extraer_pn(lista_resultados):\n",
        "    lista_xi = []\n",
        "\n",
        "    for i in range(len(lista_resultados)):\n",
        "        lista_xi.append(lista_resultados[i][0])\n",
        "\n",
        "    return lista_xi\n",
        "\n",
        "\n",
        "\n",
        "def extraer_errores(lista_resultados):\n",
        "    lista_xi = []\n",
        "\n",
        "    for i in range(len(lista_resultados)):\n",
        "        lista_xi.append(lista_resultados[i][1])\n",
        "\n",
        "    return lista_xi"
      ]
    },
    {
      "cell_type": "markdown",
      "metadata": {
        "id": "LXck20AWkSA1"
      },
      "source": [
        "###### *1.1.1.5.3 Función auxiliar para representar los valores en tablas*"
      ]
    },
    {
      "cell_type": "code",
      "execution_count": 106,
      "metadata": {
        "id": "Nv7xieIckcLl"
      },
      "outputs": [],
      "source": [
        "def lista_resultados_a_dataframe(lista_resultados,lista_alfa,lista_cte_asintotica,columnas):\n",
        "    lista_auxiliar = lista_resultados   \n",
        "    for i in range(len(lista_auxiliar)):\n",
        "        lista_auxiliar[i].append(lista_alfa[i])\n",
        "        lista_auxiliar[i].append(lista_cte_asintotica[i])\n",
        "    df = pd.DataFrame(lista_auxiliar, columns=columnas)\n",
        "    if len(df) > 12:\n",
        "        return pd.concat([df.head(), df.tail()])\n",
        "    else:\n",
        "        return df"
      ]
    },
    {
      "cell_type": "markdown",
      "metadata": {
        "id": "iyeFA0nb7kUZ"
      },
      "source": [
        "###### 1.1.1.5.4 Extracción de valor obtenido en ultima iteración: $p_n$ "
      ]
    },
    {
      "cell_type": "code",
      "execution_count": 107,
      "metadata": {
        "id": "IQ3vLzFY7kUZ"
      },
      "outputs": [],
      "source": [
        "def extraer_ultimo_pn_biseccion(lista_resultados):\n",
        "    posicion_ultimo_elemento = len(lista_resultados)-1\n",
        "\n",
        "    ultimo_elemento = lista_resultados[posicion_ultimo_elemento][2] \n",
        "\n",
        "    return ultimo_elemento\n",
        "\n",
        "\n",
        "def extraer_ultimo_pn(lista_resultados):\n",
        "    posicion_ultimo_elemento = len(lista_resultados)-1\n",
        "\n",
        "    ultimo_elemento = lista_resultados[posicion_ultimo_elemento][0] \n",
        "\n",
        "    return ultimo_elemento"
      ]
    },
    {
      "cell_type": "markdown",
      "source": [
        "#### 1.1.1.6 Criterios de paro:\n",
        "En general utilizamos el criterio de paro $ |p_n  - p_{n-1}| \\leq ϵ$; con $ϵ = tolerancia$\n",
        "\n",
        "A su vez tambien consideramos diversos casos de error o advertencias a lo largo de los algoritmos, como son:\n",
        "- Divergencia de métodos (por lo tanto el error entre iteraciones es creciente).\n",
        "- El valor aproximado de una raíz devuelto por el método en dos iteraciones consecutivas fue el mismo (por lo cual el error deja de ser representable)\n",
        "- Se llega a una cantidad máxima de iteraciones antes de cumplir con la tolerancia pedida."
      ],
      "metadata": {
        "id": "BbbG_QOXq_cf"
      }
    },
    {
      "cell_type": "markdown",
      "metadata": {
        "id": "QfZzABwJ1yYu"
      },
      "source": [
        "### **1.1.2 Metodo de la biseccion**"
      ]
    },
    {
      "cell_type": "markdown",
      "source": [
        "Su implementación se basa en que si $f \\in C[a,b] $ y $f(a) ⋅ f(b) < 0$ ; el teoréma de Bolzano garantiza que existe $p \\in (a,b)$ tal que $f(p) = 0$\n",
        "\n",
        "Con esto se va dividiendo en subintervalos del intervalo $[a,b]$  y en cada paso se determina en qué subintervalo se encuentra la raíz usando el mismo razonamiento; repitiendo hasta que se llegue a los distintos criterios de paro.\n",
        "\n",
        "(Tener en cuenta entonces que para el correcto funcionamiento del método se debe garantizar que $f(a) ⋅ f(b) < 0$)"
      ],
      "metadata": {
        "id": "IMF36SUJY320"
      }
    },
    {
      "cell_type": "code",
      "execution_count": 108,
      "metadata": {
        "id": "2Ak2bI10U4AU"
      },
      "outputs": [],
      "source": [
        "def biseccion_recursivo(funcion, numero_iteracion, an, bn, tolerancia, lista_resultados):\n",
        "    if(MAX_ITERACIONES == numero_iteracion):\n",
        "        print(ERROR_MAX_ITERACIONES) \n",
        "        return lista_resultados,False \n",
        "\n",
        "    pn = (an+bn)/2 \n",
        "    error_actual = np.abs((bn-an)/2)\n",
        "    lista_resultados_n = [an, bn, pn, error_actual]  #[an, bn, pn, error]  \n",
        "    lista_resultados.append(lista_resultados_n)\n",
        "                            \n",
        "    if((error_actual < tolerancia) or (isclose(funcion(pn), 0))):\n",
        "        return lista_resultados, True\n",
        "\n",
        "    if(funcion(an) * funcion (pn) > 0):\n",
        "        an = pn\n",
        "    elif(funcion(bn) * funcion (pn) > 0):\n",
        "        bn = pn\n",
        "\n",
        "    return biseccion_recursivo(funcion, numero_iteracion+1, an, bn, tolerancia, lista_resultados) \n",
        "\n",
        "\n",
        "def biseccion(funcion, an, bn, tolerancia): \n",
        "    lista_resultados = []\n",
        "    numero_de_iteracion = 0\n",
        "    \n",
        "    if((an >= bn) or (tolerancia <= 0) or (MAX_ITERACIONES <= 0)):\n",
        "        print(ERROR_EJECUCION)\n",
        "        return None, False\n",
        "\n",
        "    return biseccion_recursivo(funcion, numero_de_iteracion, an, bn, tolerancia, lista_resultados)"
      ]
    },
    {
      "cell_type": "markdown",
      "metadata": {
        "id": "Hgc0T3SB6A8D"
      },
      "source": [
        "#### Ejemplo de uso"
      ]
    },
    {
      "cell_type": "code",
      "execution_count": 109,
      "metadata": {
        "colab": {
          "base_uri": "https://localhost:8080/",
          "height": 0
        },
        "id": "6eug3U_X6DKe",
        "outputId": "d2cac58a-bccc-457e-d9b7-4ebd45563ade"
      },
      "outputs": [
        {
          "output_type": "execute_result",
          "data": {
            "text/plain": [
              "          an        bn        pn         error  alfa  lambda\n",
              "0   0.100000  1.000000  0.550000  4.500000e-01   NaN     NaN\n",
              "1   0.550000  1.000000  0.775000  2.250000e-01   NaN     NaN\n",
              "2   0.550000  0.775000  0.662500  1.125000e-01   NaN     NaN\n",
              "3   0.550000  0.662500  0.606250  5.625000e-02   1.0     0.5\n",
              "4   0.550000  0.606250  0.578125  2.812500e-02   1.0     0.5\n",
              "15  0.567139  0.567166  0.567152  1.373291e-05   1.0     0.5\n",
              "16  0.567139  0.567152  0.567146  6.866455e-06   1.0     0.5\n",
              "17  0.567139  0.567146  0.567142  3.433228e-06   1.0     0.5\n",
              "18  0.567142  0.567146  0.567144  1.716614e-06   1.0     0.5\n",
              "19  0.567142  0.567144  0.567143  8.583069e-07   1.0     0.5"
            ],
            "text/html": [
              "\n",
              "  <div id=\"df-536e8cea-4b38-4596-a46d-42bb39085326\">\n",
              "    <div class=\"colab-df-container\">\n",
              "      <div>\n",
              "<style scoped>\n",
              "    .dataframe tbody tr th:only-of-type {\n",
              "        vertical-align: middle;\n",
              "    }\n",
              "\n",
              "    .dataframe tbody tr th {\n",
              "        vertical-align: top;\n",
              "    }\n",
              "\n",
              "    .dataframe thead th {\n",
              "        text-align: right;\n",
              "    }\n",
              "</style>\n",
              "<table border=\"1\" class=\"dataframe\">\n",
              "  <thead>\n",
              "    <tr style=\"text-align: right;\">\n",
              "      <th></th>\n",
              "      <th>an</th>\n",
              "      <th>bn</th>\n",
              "      <th>pn</th>\n",
              "      <th>error</th>\n",
              "      <th>alfa</th>\n",
              "      <th>lambda</th>\n",
              "    </tr>\n",
              "  </thead>\n",
              "  <tbody>\n",
              "    <tr>\n",
              "      <th>0</th>\n",
              "      <td>0.100000</td>\n",
              "      <td>1.000000</td>\n",
              "      <td>0.550000</td>\n",
              "      <td>4.500000e-01</td>\n",
              "      <td>NaN</td>\n",
              "      <td>NaN</td>\n",
              "    </tr>\n",
              "    <tr>\n",
              "      <th>1</th>\n",
              "      <td>0.550000</td>\n",
              "      <td>1.000000</td>\n",
              "      <td>0.775000</td>\n",
              "      <td>2.250000e-01</td>\n",
              "      <td>NaN</td>\n",
              "      <td>NaN</td>\n",
              "    </tr>\n",
              "    <tr>\n",
              "      <th>2</th>\n",
              "      <td>0.550000</td>\n",
              "      <td>0.775000</td>\n",
              "      <td>0.662500</td>\n",
              "      <td>1.125000e-01</td>\n",
              "      <td>NaN</td>\n",
              "      <td>NaN</td>\n",
              "    </tr>\n",
              "    <tr>\n",
              "      <th>3</th>\n",
              "      <td>0.550000</td>\n",
              "      <td>0.662500</td>\n",
              "      <td>0.606250</td>\n",
              "      <td>5.625000e-02</td>\n",
              "      <td>1.0</td>\n",
              "      <td>0.5</td>\n",
              "    </tr>\n",
              "    <tr>\n",
              "      <th>4</th>\n",
              "      <td>0.550000</td>\n",
              "      <td>0.606250</td>\n",
              "      <td>0.578125</td>\n",
              "      <td>2.812500e-02</td>\n",
              "      <td>1.0</td>\n",
              "      <td>0.5</td>\n",
              "    </tr>\n",
              "    <tr>\n",
              "      <th>15</th>\n",
              "      <td>0.567139</td>\n",
              "      <td>0.567166</td>\n",
              "      <td>0.567152</td>\n",
              "      <td>1.373291e-05</td>\n",
              "      <td>1.0</td>\n",
              "      <td>0.5</td>\n",
              "    </tr>\n",
              "    <tr>\n",
              "      <th>16</th>\n",
              "      <td>0.567139</td>\n",
              "      <td>0.567152</td>\n",
              "      <td>0.567146</td>\n",
              "      <td>6.866455e-06</td>\n",
              "      <td>1.0</td>\n",
              "      <td>0.5</td>\n",
              "    </tr>\n",
              "    <tr>\n",
              "      <th>17</th>\n",
              "      <td>0.567139</td>\n",
              "      <td>0.567146</td>\n",
              "      <td>0.567142</td>\n",
              "      <td>3.433228e-06</td>\n",
              "      <td>1.0</td>\n",
              "      <td>0.5</td>\n",
              "    </tr>\n",
              "    <tr>\n",
              "      <th>18</th>\n",
              "      <td>0.567142</td>\n",
              "      <td>0.567146</td>\n",
              "      <td>0.567144</td>\n",
              "      <td>1.716614e-06</td>\n",
              "      <td>1.0</td>\n",
              "      <td>0.5</td>\n",
              "    </tr>\n",
              "    <tr>\n",
              "      <th>19</th>\n",
              "      <td>0.567142</td>\n",
              "      <td>0.567144</td>\n",
              "      <td>0.567143</td>\n",
              "      <td>8.583069e-07</td>\n",
              "      <td>1.0</td>\n",
              "      <td>0.5</td>\n",
              "    </tr>\n",
              "  </tbody>\n",
              "</table>\n",
              "</div>\n",
              "      <button class=\"colab-df-convert\" onclick=\"convertToInteractive('df-536e8cea-4b38-4596-a46d-42bb39085326')\"\n",
              "              title=\"Convert this dataframe to an interactive table.\"\n",
              "              style=\"display:none;\">\n",
              "        \n",
              "  <svg xmlns=\"http://www.w3.org/2000/svg\" height=\"24px\"viewBox=\"0 0 24 24\"\n",
              "       width=\"24px\">\n",
              "    <path d=\"M0 0h24v24H0V0z\" fill=\"none\"/>\n",
              "    <path d=\"M18.56 5.44l.94 2.06.94-2.06 2.06-.94-2.06-.94-.94-2.06-.94 2.06-2.06.94zm-11 1L8.5 8.5l.94-2.06 2.06-.94-2.06-.94L8.5 2.5l-.94 2.06-2.06.94zm10 10l.94 2.06.94-2.06 2.06-.94-2.06-.94-.94-2.06-.94 2.06-2.06.94z\"/><path d=\"M17.41 7.96l-1.37-1.37c-.4-.4-.92-.59-1.43-.59-.52 0-1.04.2-1.43.59L10.3 9.45l-7.72 7.72c-.78.78-.78 2.05 0 2.83L4 21.41c.39.39.9.59 1.41.59.51 0 1.02-.2 1.41-.59l7.78-7.78 2.81-2.81c.8-.78.8-2.07 0-2.86zM5.41 20L4 18.59l7.72-7.72 1.47 1.35L5.41 20z\"/>\n",
              "  </svg>\n",
              "      </button>\n",
              "      \n",
              "  <style>\n",
              "    .colab-df-container {\n",
              "      display:flex;\n",
              "      flex-wrap:wrap;\n",
              "      gap: 12px;\n",
              "    }\n",
              "\n",
              "    .colab-df-convert {\n",
              "      background-color: #E8F0FE;\n",
              "      border: none;\n",
              "      border-radius: 50%;\n",
              "      cursor: pointer;\n",
              "      display: none;\n",
              "      fill: #1967D2;\n",
              "      height: 32px;\n",
              "      padding: 0 0 0 0;\n",
              "      width: 32px;\n",
              "    }\n",
              "\n",
              "    .colab-df-convert:hover {\n",
              "      background-color: #E2EBFA;\n",
              "      box-shadow: 0px 1px 2px rgba(60, 64, 67, 0.3), 0px 1px 3px 1px rgba(60, 64, 67, 0.15);\n",
              "      fill: #174EA6;\n",
              "    }\n",
              "\n",
              "    [theme=dark] .colab-df-convert {\n",
              "      background-color: #3B4455;\n",
              "      fill: #D2E3FC;\n",
              "    }\n",
              "\n",
              "    [theme=dark] .colab-df-convert:hover {\n",
              "      background-color: #434B5C;\n",
              "      box-shadow: 0px 1px 3px 1px rgba(0, 0, 0, 0.15);\n",
              "      filter: drop-shadow(0px 1px 2px rgba(0, 0, 0, 0.3));\n",
              "      fill: #FFFFFF;\n",
              "    }\n",
              "  </style>\n",
              "\n",
              "      <script>\n",
              "        const buttonEl =\n",
              "          document.querySelector('#df-536e8cea-4b38-4596-a46d-42bb39085326 button.colab-df-convert');\n",
              "        buttonEl.style.display =\n",
              "          google.colab.kernel.accessAllowed ? 'block' : 'none';\n",
              "\n",
              "        async function convertToInteractive(key) {\n",
              "          const element = document.querySelector('#df-536e8cea-4b38-4596-a46d-42bb39085326');\n",
              "          const dataTable =\n",
              "            await google.colab.kernel.invokeFunction('convertToInteractive',\n",
              "                                                     [key], {});\n",
              "          if (!dataTable) return;\n",
              "\n",
              "          const docLinkHtml = 'Like what you see? Visit the ' +\n",
              "            '<a target=\"_blank\" href=https://colab.research.google.com/notebooks/data_table.ipynb>data table notebook</a>'\n",
              "            + ' to learn more about interactive tables.';\n",
              "          element.innerHTML = '';\n",
              "          dataTable['output_type'] = 'display_data';\n",
              "          await google.colab.output.renderOutput(dataTable, element);\n",
              "          const docLink = document.createElement('div');\n",
              "          docLink.innerHTML = docLinkHtml;\n",
              "          element.appendChild(docLink);\n",
              "        }\n",
              "      </script>\n",
              "    </div>\n",
              "  </div>\n",
              "  "
            ]
          },
          "metadata": {},
          "execution_count": 109
        }
      ],
      "source": [
        "f = lambda x:  x - np.e**-x\n",
        "a0 = 0.1\n",
        "b0 = 1\n",
        "\n",
        "lista_resultados_biseccion = biseccion(f, a0, b0, tolerancia=1e-06)[0]\n",
        "lista_pn_biseccion = extraer_pn_biseccion(lista_resultados_biseccion)\n",
        "lista_errores_biseccion = extraer_errores_biseccion(lista_resultados_biseccion)\n",
        "lista_alfa_biseccion = calcular_orden_de_convergencia_alfa(lista_pn_biseccion)\n",
        "lista_cte_asintotica_biseccion = calcular_cte_asintotica_lambda(lista_errores_biseccion, lista_alfa_biseccion)\n",
        "\n",
        "\n",
        "\n",
        "lista_resultados_a_dataframe(lista_resultados_biseccion,lista_alfa_biseccion,lista_cte_asintotica_biseccion,['an', 'bn', 'pn', 'error','alfa','lambda'])"
      ]
    },
    {
      "cell_type": "markdown",
      "metadata": {
        "id": "n7s2J2WF15xU"
      },
      "source": [
        "### **1.1.3 Metodo Punto Fijo**"
      ]
    },
    {
      "cell_type": "markdown",
      "source": [
        "Su implementación se basa en el uso de una función $g(x)$ de iteración funcional, tal que \n",
        "$g(x) = x - f(x) $ ;\n",
        "\n",
        "con $𝝋(x) = 1$ para éste método\n",
        "\n",
        "Esto viene de que:\n",
        " \n",
        "Queremos analizar el valor de la raíz de una $f \\in C[a,b] $,\n",
        "estamos buscando  $p \\in (a,b)$ tal que $f(p) = 0$;\n",
        "\n",
        "A su vez, sea una función $g \\in C[a,b] $, se dice que la misma tiene punto fijo  $p \\in [a,b]$ si $g(p) = p$;\n",
        "\n",
        "Por lo tanto si se define $g(x) = x - f(x) $  y $p$ es punto fijo de $g$:\n",
        "\n",
        "$g(p) = p = p - f(p)$\n",
        "\n",
        " $⇒$ $f(p) = p - p = 0$\n",
        "\n",
        "Con lo cual hallar el punto fijo de $g$ es equivalente a hallar la raíz buscada de $f$\n",
        "\n",
        "(Tener en cuenta entonces que para el correcto funcionamiento del método se debe garantizar que:\n",
        "- Existe punto fijo para $g$ en el intervalo:\n",
        "    \n",
        "    Debe cumplirse que  $g \\in C[a,b] $  y  $g(x) \\in [a,b]$ $\\forall$ $x \\in [a,b]$\n",
        "- El punto fijo es único para $g$ en el intervalo:\n",
        "    \n",
        "    Debe cumplirse que  $∃$ $g'(x)$ $\\forall$ $x \\in (a,b)$  y que  $∃$ $0 < k < 1$ tal que $\\forall$ $x \\in (a,b)$ vale que $|g'(x)| \\leq k$\n",
        "\n",
        ")"
      ],
      "metadata": {
        "id": "p9G1WdzTbFHG"
      }
    },
    {
      "cell_type": "code",
      "execution_count": 110,
      "metadata": {
        "id": "rnisqvgWOR9w"
      },
      "outputs": [],
      "source": [
        "def metodo_punto_fijo(funcion, p0, tolerancia):\n",
        "    lista_resultados = []\n",
        "    numero_iteracion = 0\n",
        "    g = lambda x: x - funcion(x)\n",
        "\n",
        "    if((tolerancia <= 0) or (MAX_ITERACIONES <= 0)):\n",
        "        return None, False\n",
        "        \n",
        "    lista_resultados.append([p0, None])\n",
        "\n",
        "    return iteracion_funcional_recursiva(g, numero_iteracion+1, tolerancia, lista_resultados)"
      ]
    },
    {
      "cell_type": "markdown",
      "metadata": {
        "id": "hPJg-0d-7T24"
      },
      "source": [
        "#### Ejemplo de uso"
      ]
    },
    {
      "cell_type": "code",
      "execution_count": 111,
      "metadata": {
        "colab": {
          "base_uri": "https://localhost:8080/",
          "height": 363
        },
        "id": "F-mkEVl-7T25",
        "outputId": "d5bc2cbf-c099-48f7-9f46-1873f89a4747"
      },
      "outputs": [
        {
          "output_type": "execute_result",
          "data": {
            "text/plain": [
              "          pn         error      alfa    lambda\n",
              "0   0.550000           NaN       NaN       NaN\n",
              "1   0.576950  2.694981e-02       NaN       NaN\n",
              "2   0.561609  1.534104e-02       NaN       NaN\n",
              "3   0.570291  8.682089e-03  1.010338  0.590913\n",
              "4   0.565361  4.929884e-03  0.994163  0.552307\n",
              "15  0.567147  9.622055e-06  1.000011  0.567213\n",
              "16  0.567141  5.457091e-06  0.999994  0.567102\n",
              "17  0.567144  3.094950e-06  1.000004  0.567168\n",
              "18  0.567143  1.755281e-06  0.999998  0.567129\n",
              "19  0.567144  9.954956e-07  1.000001  0.567152"
            ],
            "text/html": [
              "\n",
              "  <div id=\"df-ef514b86-e3e4-44b2-85d3-c74fbb8fcc05\">\n",
              "    <div class=\"colab-df-container\">\n",
              "      <div>\n",
              "<style scoped>\n",
              "    .dataframe tbody tr th:only-of-type {\n",
              "        vertical-align: middle;\n",
              "    }\n",
              "\n",
              "    .dataframe tbody tr th {\n",
              "        vertical-align: top;\n",
              "    }\n",
              "\n",
              "    .dataframe thead th {\n",
              "        text-align: right;\n",
              "    }\n",
              "</style>\n",
              "<table border=\"1\" class=\"dataframe\">\n",
              "  <thead>\n",
              "    <tr style=\"text-align: right;\">\n",
              "      <th></th>\n",
              "      <th>pn</th>\n",
              "      <th>error</th>\n",
              "      <th>alfa</th>\n",
              "      <th>lambda</th>\n",
              "    </tr>\n",
              "  </thead>\n",
              "  <tbody>\n",
              "    <tr>\n",
              "      <th>0</th>\n",
              "      <td>0.550000</td>\n",
              "      <td>NaN</td>\n",
              "      <td>NaN</td>\n",
              "      <td>NaN</td>\n",
              "    </tr>\n",
              "    <tr>\n",
              "      <th>1</th>\n",
              "      <td>0.576950</td>\n",
              "      <td>2.694981e-02</td>\n",
              "      <td>NaN</td>\n",
              "      <td>NaN</td>\n",
              "    </tr>\n",
              "    <tr>\n",
              "      <th>2</th>\n",
              "      <td>0.561609</td>\n",
              "      <td>1.534104e-02</td>\n",
              "      <td>NaN</td>\n",
              "      <td>NaN</td>\n",
              "    </tr>\n",
              "    <tr>\n",
              "      <th>3</th>\n",
              "      <td>0.570291</td>\n",
              "      <td>8.682089e-03</td>\n",
              "      <td>1.010338</td>\n",
              "      <td>0.590913</td>\n",
              "    </tr>\n",
              "    <tr>\n",
              "      <th>4</th>\n",
              "      <td>0.565361</td>\n",
              "      <td>4.929884e-03</td>\n",
              "      <td>0.994163</td>\n",
              "      <td>0.552307</td>\n",
              "    </tr>\n",
              "    <tr>\n",
              "      <th>15</th>\n",
              "      <td>0.567147</td>\n",
              "      <td>9.622055e-06</td>\n",
              "      <td>1.000011</td>\n",
              "      <td>0.567213</td>\n",
              "    </tr>\n",
              "    <tr>\n",
              "      <th>16</th>\n",
              "      <td>0.567141</td>\n",
              "      <td>5.457091e-06</td>\n",
              "      <td>0.999994</td>\n",
              "      <td>0.567102</td>\n",
              "    </tr>\n",
              "    <tr>\n",
              "      <th>17</th>\n",
              "      <td>0.567144</td>\n",
              "      <td>3.094950e-06</td>\n",
              "      <td>1.000004</td>\n",
              "      <td>0.567168</td>\n",
              "    </tr>\n",
              "    <tr>\n",
              "      <th>18</th>\n",
              "      <td>0.567143</td>\n",
              "      <td>1.755281e-06</td>\n",
              "      <td>0.999998</td>\n",
              "      <td>0.567129</td>\n",
              "    </tr>\n",
              "    <tr>\n",
              "      <th>19</th>\n",
              "      <td>0.567144</td>\n",
              "      <td>9.954956e-07</td>\n",
              "      <td>1.000001</td>\n",
              "      <td>0.567152</td>\n",
              "    </tr>\n",
              "  </tbody>\n",
              "</table>\n",
              "</div>\n",
              "      <button class=\"colab-df-convert\" onclick=\"convertToInteractive('df-ef514b86-e3e4-44b2-85d3-c74fbb8fcc05')\"\n",
              "              title=\"Convert this dataframe to an interactive table.\"\n",
              "              style=\"display:none;\">\n",
              "        \n",
              "  <svg xmlns=\"http://www.w3.org/2000/svg\" height=\"24px\"viewBox=\"0 0 24 24\"\n",
              "       width=\"24px\">\n",
              "    <path d=\"M0 0h24v24H0V0z\" fill=\"none\"/>\n",
              "    <path d=\"M18.56 5.44l.94 2.06.94-2.06 2.06-.94-2.06-.94-.94-2.06-.94 2.06-2.06.94zm-11 1L8.5 8.5l.94-2.06 2.06-.94-2.06-.94L8.5 2.5l-.94 2.06-2.06.94zm10 10l.94 2.06.94-2.06 2.06-.94-2.06-.94-.94-2.06-.94 2.06-2.06.94z\"/><path d=\"M17.41 7.96l-1.37-1.37c-.4-.4-.92-.59-1.43-.59-.52 0-1.04.2-1.43.59L10.3 9.45l-7.72 7.72c-.78.78-.78 2.05 0 2.83L4 21.41c.39.39.9.59 1.41.59.51 0 1.02-.2 1.41-.59l7.78-7.78 2.81-2.81c.8-.78.8-2.07 0-2.86zM5.41 20L4 18.59l7.72-7.72 1.47 1.35L5.41 20z\"/>\n",
              "  </svg>\n",
              "      </button>\n",
              "      \n",
              "  <style>\n",
              "    .colab-df-container {\n",
              "      display:flex;\n",
              "      flex-wrap:wrap;\n",
              "      gap: 12px;\n",
              "    }\n",
              "\n",
              "    .colab-df-convert {\n",
              "      background-color: #E8F0FE;\n",
              "      border: none;\n",
              "      border-radius: 50%;\n",
              "      cursor: pointer;\n",
              "      display: none;\n",
              "      fill: #1967D2;\n",
              "      height: 32px;\n",
              "      padding: 0 0 0 0;\n",
              "      width: 32px;\n",
              "    }\n",
              "\n",
              "    .colab-df-convert:hover {\n",
              "      background-color: #E2EBFA;\n",
              "      box-shadow: 0px 1px 2px rgba(60, 64, 67, 0.3), 0px 1px 3px 1px rgba(60, 64, 67, 0.15);\n",
              "      fill: #174EA6;\n",
              "    }\n",
              "\n",
              "    [theme=dark] .colab-df-convert {\n",
              "      background-color: #3B4455;\n",
              "      fill: #D2E3FC;\n",
              "    }\n",
              "\n",
              "    [theme=dark] .colab-df-convert:hover {\n",
              "      background-color: #434B5C;\n",
              "      box-shadow: 0px 1px 3px 1px rgba(0, 0, 0, 0.15);\n",
              "      filter: drop-shadow(0px 1px 2px rgba(0, 0, 0, 0.3));\n",
              "      fill: #FFFFFF;\n",
              "    }\n",
              "  </style>\n",
              "\n",
              "      <script>\n",
              "        const buttonEl =\n",
              "          document.querySelector('#df-ef514b86-e3e4-44b2-85d3-c74fbb8fcc05 button.colab-df-convert');\n",
              "        buttonEl.style.display =\n",
              "          google.colab.kernel.accessAllowed ? 'block' : 'none';\n",
              "\n",
              "        async function convertToInteractive(key) {\n",
              "          const element = document.querySelector('#df-ef514b86-e3e4-44b2-85d3-c74fbb8fcc05');\n",
              "          const dataTable =\n",
              "            await google.colab.kernel.invokeFunction('convertToInteractive',\n",
              "                                                     [key], {});\n",
              "          if (!dataTable) return;\n",
              "\n",
              "          const docLinkHtml = 'Like what you see? Visit the ' +\n",
              "            '<a target=\"_blank\" href=https://colab.research.google.com/notebooks/data_table.ipynb>data table notebook</a>'\n",
              "            + ' to learn more about interactive tables.';\n",
              "          element.innerHTML = '';\n",
              "          dataTable['output_type'] = 'display_data';\n",
              "          await google.colab.output.renderOutput(dataTable, element);\n",
              "          const docLink = document.createElement('div');\n",
              "          docLink.innerHTML = docLinkHtml;\n",
              "          element.appendChild(docLink);\n",
              "        }\n",
              "      </script>\n",
              "    </div>\n",
              "  </div>\n",
              "  "
            ]
          },
          "metadata": {},
          "execution_count": 111
        }
      ],
      "source": [
        "f = lambda x:  x - np.e**-x\n",
        "semilla_p0 = 0.55\n",
        "\n",
        "lista_resultados_punto_fijo = metodo_punto_fijo(f, semilla_p0, tolerancia=1e-06)[0]\n",
        "lista_pn_punto_fijo = extraer_pn(lista_resultados_punto_fijo)\n",
        "lista_alfa_punto_fijo = calcular_orden_de_convergencia_alfa(lista_pn_punto_fijo)\n",
        "lista_errores_punto_fijo = extraer_errores(lista_resultados_punto_fijo)\n",
        "lista_cte_asintotica_punto_fijo = calcular_cte_asintotica_lambda(lista_errores_punto_fijo, lista_alfa_punto_fijo)\n",
        "\n",
        "lista_resultados_a_dataframe(lista_resultados_punto_fijo,lista_alfa_punto_fijo,lista_cte_asintotica_punto_fijo,columnas=['pn', 'error','alfa','lambda'])"
      ]
    },
    {
      "cell_type": "markdown",
      "metadata": {
        "id": "eIwD2Do_IzmS"
      },
      "source": [
        "### **1.1.4 Metodo Newton-Raphson**"
      ]
    },
    {
      "cell_type": "markdown",
      "source": [
        "Su implementación se basa en el uso de una función $g(x)$ de iteración funcional, tal que \n",
        "$g(x) = x - \\frac{f(x)}{f'(x)} $ ;\n",
        "\n",
        "con $𝝋(x) = \\frac{1}{f'(x)}$ para éste método\n",
        "\n",
        "Esto viene de que:\n",
        " \n",
        "Se realiza su deducción a partir del polinomio de taylor, tomando una aproximación de la raíz $p$ de tal forma que la distancia de dicha aproximación a la raíz real sea cercana a cero.\n",
        "\n",
        "En base a esta \"cercanía\" se puede deducir que el cumplimiento de las hipótesis de punto fijo se satisfacen bajo dicha condición.\n",
        "\n",
        "(Tener en cuenta entonces que para el correcto funcionamiento del método se debe garantizar que:\n",
        "- La semilla o aproximación inicial debe ser elegida en un intervalo tal que se le considere suficientemente a la raíz esperada.\n",
        "- Debe cumplirse que  $f \\in C^2[a,b] $  y  $f'(x)$ no debe anularse en el entorno inicial que se elija para contener a la semilla y a la raíz\n",
        "\n",
        ")"
      ],
      "metadata": {
        "id": "r56N-lxmgngQ"
      }
    },
    {
      "cell_type": "code",
      "execution_count": 112,
      "metadata": {
        "id": "w8ePkegNIyQU"
      },
      "outputs": [],
      "source": [
        "def metodo_newton_raphson(funcion, derivada_funcion, p0, tolerancia):\n",
        "    lista_resultados = []\n",
        "    numero_iteracion = 0\n",
        "    g = lambda x: x - funcion(x)/derivada_funcion(x)\n",
        "\n",
        "    if((tolerancia <= 0) or (MAX_ITERACIONES <= 0)):\n",
        "        return ERROR_EJECUCION\n",
        "\n",
        "    lista_resultados.append([p0, None])\n",
        "\n",
        "    return iteracion_funcional_recursiva(g, numero_iteracion+1, tolerancia, lista_resultados)"
      ]
    },
    {
      "cell_type": "markdown",
      "metadata": {
        "id": "Z9nB7qJ1737_"
      },
      "source": [
        "#### Ejemplo de uso"
      ]
    },
    {
      "cell_type": "code",
      "execution_count": 113,
      "metadata": {
        "colab": {
          "base_uri": "https://localhost:8080/",
          "height": 0
        },
        "id": "s93-R-04738A",
        "outputId": "ec1f0e96-24fc-4132-eabf-cbf8cf9d1304"
      },
      "outputs": [
        {
          "output_type": "execute_result",
          "data": {
            "text/plain": [
              "         pn         error      alfa    lambda\n",
              "0  0.550000           NaN       NaN       NaN\n",
              "1  0.567090  1.708983e-02       NaN       NaN\n",
              "2  0.567143  5.345596e-05       NaN       NaN\n",
              "3  0.567143  5.170849e-10  2.001977  0.184507"
            ],
            "text/html": [
              "\n",
              "  <div id=\"df-1207a54b-bf73-4f43-b7be-001acf5177bc\">\n",
              "    <div class=\"colab-df-container\">\n",
              "      <div>\n",
              "<style scoped>\n",
              "    .dataframe tbody tr th:only-of-type {\n",
              "        vertical-align: middle;\n",
              "    }\n",
              "\n",
              "    .dataframe tbody tr th {\n",
              "        vertical-align: top;\n",
              "    }\n",
              "\n",
              "    .dataframe thead th {\n",
              "        text-align: right;\n",
              "    }\n",
              "</style>\n",
              "<table border=\"1\" class=\"dataframe\">\n",
              "  <thead>\n",
              "    <tr style=\"text-align: right;\">\n",
              "      <th></th>\n",
              "      <th>pn</th>\n",
              "      <th>error</th>\n",
              "      <th>alfa</th>\n",
              "      <th>lambda</th>\n",
              "    </tr>\n",
              "  </thead>\n",
              "  <tbody>\n",
              "    <tr>\n",
              "      <th>0</th>\n",
              "      <td>0.550000</td>\n",
              "      <td>NaN</td>\n",
              "      <td>NaN</td>\n",
              "      <td>NaN</td>\n",
              "    </tr>\n",
              "    <tr>\n",
              "      <th>1</th>\n",
              "      <td>0.567090</td>\n",
              "      <td>1.708983e-02</td>\n",
              "      <td>NaN</td>\n",
              "      <td>NaN</td>\n",
              "    </tr>\n",
              "    <tr>\n",
              "      <th>2</th>\n",
              "      <td>0.567143</td>\n",
              "      <td>5.345596e-05</td>\n",
              "      <td>NaN</td>\n",
              "      <td>NaN</td>\n",
              "    </tr>\n",
              "    <tr>\n",
              "      <th>3</th>\n",
              "      <td>0.567143</td>\n",
              "      <td>5.170849e-10</td>\n",
              "      <td>2.001977</td>\n",
              "      <td>0.184507</td>\n",
              "    </tr>\n",
              "  </tbody>\n",
              "</table>\n",
              "</div>\n",
              "      <button class=\"colab-df-convert\" onclick=\"convertToInteractive('df-1207a54b-bf73-4f43-b7be-001acf5177bc')\"\n",
              "              title=\"Convert this dataframe to an interactive table.\"\n",
              "              style=\"display:none;\">\n",
              "        \n",
              "  <svg xmlns=\"http://www.w3.org/2000/svg\" height=\"24px\"viewBox=\"0 0 24 24\"\n",
              "       width=\"24px\">\n",
              "    <path d=\"M0 0h24v24H0V0z\" fill=\"none\"/>\n",
              "    <path d=\"M18.56 5.44l.94 2.06.94-2.06 2.06-.94-2.06-.94-.94-2.06-.94 2.06-2.06.94zm-11 1L8.5 8.5l.94-2.06 2.06-.94-2.06-.94L8.5 2.5l-.94 2.06-2.06.94zm10 10l.94 2.06.94-2.06 2.06-.94-2.06-.94-.94-2.06-.94 2.06-2.06.94z\"/><path d=\"M17.41 7.96l-1.37-1.37c-.4-.4-.92-.59-1.43-.59-.52 0-1.04.2-1.43.59L10.3 9.45l-7.72 7.72c-.78.78-.78 2.05 0 2.83L4 21.41c.39.39.9.59 1.41.59.51 0 1.02-.2 1.41-.59l7.78-7.78 2.81-2.81c.8-.78.8-2.07 0-2.86zM5.41 20L4 18.59l7.72-7.72 1.47 1.35L5.41 20z\"/>\n",
              "  </svg>\n",
              "      </button>\n",
              "      \n",
              "  <style>\n",
              "    .colab-df-container {\n",
              "      display:flex;\n",
              "      flex-wrap:wrap;\n",
              "      gap: 12px;\n",
              "    }\n",
              "\n",
              "    .colab-df-convert {\n",
              "      background-color: #E8F0FE;\n",
              "      border: none;\n",
              "      border-radius: 50%;\n",
              "      cursor: pointer;\n",
              "      display: none;\n",
              "      fill: #1967D2;\n",
              "      height: 32px;\n",
              "      padding: 0 0 0 0;\n",
              "      width: 32px;\n",
              "    }\n",
              "\n",
              "    .colab-df-convert:hover {\n",
              "      background-color: #E2EBFA;\n",
              "      box-shadow: 0px 1px 2px rgba(60, 64, 67, 0.3), 0px 1px 3px 1px rgba(60, 64, 67, 0.15);\n",
              "      fill: #174EA6;\n",
              "    }\n",
              "\n",
              "    [theme=dark] .colab-df-convert {\n",
              "      background-color: #3B4455;\n",
              "      fill: #D2E3FC;\n",
              "    }\n",
              "\n",
              "    [theme=dark] .colab-df-convert:hover {\n",
              "      background-color: #434B5C;\n",
              "      box-shadow: 0px 1px 3px 1px rgba(0, 0, 0, 0.15);\n",
              "      filter: drop-shadow(0px 1px 2px rgba(0, 0, 0, 0.3));\n",
              "      fill: #FFFFFF;\n",
              "    }\n",
              "  </style>\n",
              "\n",
              "      <script>\n",
              "        const buttonEl =\n",
              "          document.querySelector('#df-1207a54b-bf73-4f43-b7be-001acf5177bc button.colab-df-convert');\n",
              "        buttonEl.style.display =\n",
              "          google.colab.kernel.accessAllowed ? 'block' : 'none';\n",
              "\n",
              "        async function convertToInteractive(key) {\n",
              "          const element = document.querySelector('#df-1207a54b-bf73-4f43-b7be-001acf5177bc');\n",
              "          const dataTable =\n",
              "            await google.colab.kernel.invokeFunction('convertToInteractive',\n",
              "                                                     [key], {});\n",
              "          if (!dataTable) return;\n",
              "\n",
              "          const docLinkHtml = 'Like what you see? Visit the ' +\n",
              "            '<a target=\"_blank\" href=https://colab.research.google.com/notebooks/data_table.ipynb>data table notebook</a>'\n",
              "            + ' to learn more about interactive tables.';\n",
              "          element.innerHTML = '';\n",
              "          dataTable['output_type'] = 'display_data';\n",
              "          await google.colab.output.renderOutput(dataTable, element);\n",
              "          const docLink = document.createElement('div');\n",
              "          docLink.innerHTML = docLinkHtml;\n",
              "          element.appendChild(docLink);\n",
              "        }\n",
              "      </script>\n",
              "    </div>\n",
              "  </div>\n",
              "  "
            ]
          },
          "metadata": {},
          "execution_count": 113
        }
      ],
      "source": [
        "f = lambda x:  x - np.e**-x\n",
        "derivada_f = lambda x:  1 + np.e**-x\n",
        "semilla_p0 = 0.55\n",
        "\n",
        "lista_resultados_NR = metodo_newton_raphson(f, derivada_f, semilla_p0, tolerancia=1e-06)[0]\n",
        "lista_pn_NR = extraer_pn(lista_resultados_NR)\n",
        "lista_alfa_NR = calcular_orden_de_convergencia_alfa(lista_pn_NR)\n",
        "lista_errores_NR = extraer_errores(lista_resultados_NR)\n",
        "lista_cte_asintotica_NR = calcular_cte_asintotica_lambda(lista_errores_NR, lista_alfa_NR)\n",
        "\n",
        "lista_resultados_a_dataframe(lista_resultados_NR,lista_alfa_NR,lista_cte_asintotica_NR,['pn', 'error','alfa','lambda'])"
      ]
    },
    {
      "cell_type": "markdown",
      "metadata": {
        "id": "LUbRkbwP88DV"
      },
      "source": [
        "### **1.1.5 Metodo Newton-Raphson modificado para raices multiples**"
      ]
    },
    {
      "cell_type": "markdown",
      "source": [
        "Su implementación se basa en el uso de una función $g(x)$ de iteración funcional, tal que \n",
        "$g(x) = x - \\frac{f(x)⋅f'(x)}{f'(x)^2 - f(x)⋅f''(x)} $ ;\n",
        "\n",
        "con $𝝋(x) = \\frac{f'(x)}{f'(x)^2 - f(x)⋅f''(x)}$ para éste método\n",
        "\n",
        "Esto viene de que:\n",
        " \n",
        "Se realiza la modificación a partir de ver que al aplicar NR sin modificar para raices de multiplicidad algebráica $m > 1,$ hace que se pierda la convergencia cuadrática del método, con lo cual se modifica teniendo en cuenta que:\n",
        "\n",
        "$f \\in C^m[a,b] $  tiene un cero de multiplicidad algebráica $m$ en $p \\in (a,b)$ $⇔$ $0 = f(p) = f'(p) = f''(p) = ⋯ = f^{(m-1)}(p)$ y $f^{(m)}(p) \\neq 0$\n",
        "\n",
        "(Tener en cuenta entonces que para el correcto funcionamiento del método se deben garantizar las mismas condiciones mencionadas para Newton-Raphson)"
      ],
      "metadata": {
        "id": "xI_rCeqmuayl"
      }
    },
    {
      "cell_type": "code",
      "execution_count": 114,
      "metadata": {
        "id": "IJozkFex2Fab"
      },
      "outputs": [],
      "source": [
        "def metodo_newton_raphson_para_raices_multiples(funcion, derivadaFuncion, derivadaSegundaFuncion, p0, tolerancia):\n",
        "    lista_resultados = []\n",
        "    numero_iteracion = 0\n",
        "    g = lambda x: x - (funcion(x)*derivadaFuncion(x))/(derivadaFuncion(x)**2 - funcion(x)*derivadaSegundaFuncion(x))\n",
        "\n",
        "    if((tolerancia <= 0) or (MAX_ITERACIONES <= 0)):\n",
        "        return None, False\n",
        "\n",
        "    lista_resultados.append([p0, None])\n",
        "\n",
        "    return iteracion_funcional_recursiva(g, numero_iteracion+1, tolerancia, lista_resultados)"
      ]
    },
    {
      "cell_type": "markdown",
      "metadata": {
        "id": "_LDHRsAC75tP"
      },
      "source": [
        "#### Ejemplo de uso"
      ]
    },
    {
      "cell_type": "code",
      "execution_count": 115,
      "metadata": {
        "colab": {
          "base_uri": "https://localhost:8080/",
          "height": 0
        },
        "id": "_v9QqZ2W75tQ",
        "outputId": "980ea224-0fba-4b9b-f586-838f22659247"
      },
      "outputs": [
        {
          "output_type": "execute_result",
          "data": {
            "text/plain": [
              "         pn         error      alfa    lambda\n",
              "0  0.550000           NaN       NaN       NaN\n",
              "1  0.567197  1.719736e-02       NaN       NaN\n",
              "2  0.567143  5.407056e-05       NaN       NaN\n",
              "3  0.567143  5.290072e-10  2.001797  0.184166"
            ],
            "text/html": [
              "\n",
              "  <div id=\"df-a4a00919-25ec-4206-855c-6ba1ad07609d\">\n",
              "    <div class=\"colab-df-container\">\n",
              "      <div>\n",
              "<style scoped>\n",
              "    .dataframe tbody tr th:only-of-type {\n",
              "        vertical-align: middle;\n",
              "    }\n",
              "\n",
              "    .dataframe tbody tr th {\n",
              "        vertical-align: top;\n",
              "    }\n",
              "\n",
              "    .dataframe thead th {\n",
              "        text-align: right;\n",
              "    }\n",
              "</style>\n",
              "<table border=\"1\" class=\"dataframe\">\n",
              "  <thead>\n",
              "    <tr style=\"text-align: right;\">\n",
              "      <th></th>\n",
              "      <th>pn</th>\n",
              "      <th>error</th>\n",
              "      <th>alfa</th>\n",
              "      <th>lambda</th>\n",
              "    </tr>\n",
              "  </thead>\n",
              "  <tbody>\n",
              "    <tr>\n",
              "      <th>0</th>\n",
              "      <td>0.550000</td>\n",
              "      <td>NaN</td>\n",
              "      <td>NaN</td>\n",
              "      <td>NaN</td>\n",
              "    </tr>\n",
              "    <tr>\n",
              "      <th>1</th>\n",
              "      <td>0.567197</td>\n",
              "      <td>1.719736e-02</td>\n",
              "      <td>NaN</td>\n",
              "      <td>NaN</td>\n",
              "    </tr>\n",
              "    <tr>\n",
              "      <th>2</th>\n",
              "      <td>0.567143</td>\n",
              "      <td>5.407056e-05</td>\n",
              "      <td>NaN</td>\n",
              "      <td>NaN</td>\n",
              "    </tr>\n",
              "    <tr>\n",
              "      <th>3</th>\n",
              "      <td>0.567143</td>\n",
              "      <td>5.290072e-10</td>\n",
              "      <td>2.001797</td>\n",
              "      <td>0.184166</td>\n",
              "    </tr>\n",
              "  </tbody>\n",
              "</table>\n",
              "</div>\n",
              "      <button class=\"colab-df-convert\" onclick=\"convertToInteractive('df-a4a00919-25ec-4206-855c-6ba1ad07609d')\"\n",
              "              title=\"Convert this dataframe to an interactive table.\"\n",
              "              style=\"display:none;\">\n",
              "        \n",
              "  <svg xmlns=\"http://www.w3.org/2000/svg\" height=\"24px\"viewBox=\"0 0 24 24\"\n",
              "       width=\"24px\">\n",
              "    <path d=\"M0 0h24v24H0V0z\" fill=\"none\"/>\n",
              "    <path d=\"M18.56 5.44l.94 2.06.94-2.06 2.06-.94-2.06-.94-.94-2.06-.94 2.06-2.06.94zm-11 1L8.5 8.5l.94-2.06 2.06-.94-2.06-.94L8.5 2.5l-.94 2.06-2.06.94zm10 10l.94 2.06.94-2.06 2.06-.94-2.06-.94-.94-2.06-.94 2.06-2.06.94z\"/><path d=\"M17.41 7.96l-1.37-1.37c-.4-.4-.92-.59-1.43-.59-.52 0-1.04.2-1.43.59L10.3 9.45l-7.72 7.72c-.78.78-.78 2.05 0 2.83L4 21.41c.39.39.9.59 1.41.59.51 0 1.02-.2 1.41-.59l7.78-7.78 2.81-2.81c.8-.78.8-2.07 0-2.86zM5.41 20L4 18.59l7.72-7.72 1.47 1.35L5.41 20z\"/>\n",
              "  </svg>\n",
              "      </button>\n",
              "      \n",
              "  <style>\n",
              "    .colab-df-container {\n",
              "      display:flex;\n",
              "      flex-wrap:wrap;\n",
              "      gap: 12px;\n",
              "    }\n",
              "\n",
              "    .colab-df-convert {\n",
              "      background-color: #E8F0FE;\n",
              "      border: none;\n",
              "      border-radius: 50%;\n",
              "      cursor: pointer;\n",
              "      display: none;\n",
              "      fill: #1967D2;\n",
              "      height: 32px;\n",
              "      padding: 0 0 0 0;\n",
              "      width: 32px;\n",
              "    }\n",
              "\n",
              "    .colab-df-convert:hover {\n",
              "      background-color: #E2EBFA;\n",
              "      box-shadow: 0px 1px 2px rgba(60, 64, 67, 0.3), 0px 1px 3px 1px rgba(60, 64, 67, 0.15);\n",
              "      fill: #174EA6;\n",
              "    }\n",
              "\n",
              "    [theme=dark] .colab-df-convert {\n",
              "      background-color: #3B4455;\n",
              "      fill: #D2E3FC;\n",
              "    }\n",
              "\n",
              "    [theme=dark] .colab-df-convert:hover {\n",
              "      background-color: #434B5C;\n",
              "      box-shadow: 0px 1px 3px 1px rgba(0, 0, 0, 0.15);\n",
              "      filter: drop-shadow(0px 1px 2px rgba(0, 0, 0, 0.3));\n",
              "      fill: #FFFFFF;\n",
              "    }\n",
              "  </style>\n",
              "\n",
              "      <script>\n",
              "        const buttonEl =\n",
              "          document.querySelector('#df-a4a00919-25ec-4206-855c-6ba1ad07609d button.colab-df-convert');\n",
              "        buttonEl.style.display =\n",
              "          google.colab.kernel.accessAllowed ? 'block' : 'none';\n",
              "\n",
              "        async function convertToInteractive(key) {\n",
              "          const element = document.querySelector('#df-a4a00919-25ec-4206-855c-6ba1ad07609d');\n",
              "          const dataTable =\n",
              "            await google.colab.kernel.invokeFunction('convertToInteractive',\n",
              "                                                     [key], {});\n",
              "          if (!dataTable) return;\n",
              "\n",
              "          const docLinkHtml = 'Like what you see? Visit the ' +\n",
              "            '<a target=\"_blank\" href=https://colab.research.google.com/notebooks/data_table.ipynb>data table notebook</a>'\n",
              "            + ' to learn more about interactive tables.';\n",
              "          element.innerHTML = '';\n",
              "          dataTable['output_type'] = 'display_data';\n",
              "          await google.colab.output.renderOutput(dataTable, element);\n",
              "          const docLink = document.createElement('div');\n",
              "          docLink.innerHTML = docLinkHtml;\n",
              "          element.appendChild(docLink);\n",
              "        }\n",
              "      </script>\n",
              "    </div>\n",
              "  </div>\n",
              "  "
            ]
          },
          "metadata": {},
          "execution_count": 115
        }
      ],
      "source": [
        "f = lambda x:  x - np.e**-x\n",
        "derivada_f = lambda x:  1 + np.e**-x\n",
        "derivada_segunda_f = lambda x:  -np.e**-x\n",
        "semilla_p0 = 0.55\n",
        "\n",
        "lista_resultados_NR_multiple = metodo_newton_raphson_para_raices_multiples(f, derivada_f, derivada_segunda_f, semilla_p0, tolerancia=1e-06)[0]\n",
        "lista_pn_NR_multiple = extraer_pn(lista_resultados_NR_multiple)\n",
        "lista_alfa_NR_multiple = calcular_orden_de_convergencia_alfa(lista_pn_NR_multiple)\n",
        "lista_errores_NR_multiple = extraer_errores(lista_resultados_NR_multiple)\n",
        "lista_cte_asintotica_NR_multiple = calcular_cte_asintotica_lambda(lista_errores_NR_multiple, lista_alfa_NR_multiple)\n",
        "\n",
        "lista_resultados_a_dataframe(lista_resultados_NR_multiple,lista_alfa_NR_multiple,lista_cte_asintotica_NR_multiple,['pn', 'error','alfa','lambda'])"
      ]
    },
    {
      "cell_type": "markdown",
      "metadata": {
        "id": "wuEH_MIUJ4Px"
      },
      "source": [
        "### **1.1.6 Metodo Secante**"
      ]
    },
    {
      "cell_type": "markdown",
      "source": [
        "Su implementación se basa en el uso de una función $g(x)$ de iteración funcional, tal que \n",
        "$g(x,y) = x - \\frac{f(x)⋅(x-y)}{f(x) - f(y)} $ ;\n",
        "\n",
        "con $𝝋(x,y) = \\frac{(x-y)}{f(x) - f(y)}$ para éste método\n",
        "\n",
        "(Para mayor claridad, se muestra la sucesión como:\n",
        "    $p_{n} = p_{n-1} - \\frac{f(p_{n-1})⋅(p_{n-1}-p_{n-2})}{f(p_{n-1}) - f(p_{n-2})}$\n",
        ")\n",
        "\n",
        "Esto viene de que:\n",
        "\n",
        "Se usa la definición de derivada con el cociente incremental para llegar a una aproximación que permite evitar la evaluación de $f'$ proveniente del método de NR.\n",
        "\n",
        "(Tener en cuenta que, a pesar de que se usa una aproximación de los valores de la derivada, para el correcto funcionamiento del método se deben garantizar las mismas condiciones mencionadas para Newton-Raphson. Además de esto ahora se debe contar con **dos semillas** o aproximaciones iniciales cercanas a la raíz buscada)"
      ],
      "metadata": {
        "id": "Q3DTqpcWzAFI"
      }
    },
    {
      "cell_type": "code",
      "execution_count": 116,
      "metadata": {
        "id": "T7YdLGQuJ90u"
      },
      "outputs": [],
      "source": [
        "def metodo_secante(funcion, p0, p1, tolerancia):\n",
        "    lista_resultados = []\n",
        "    numero_iteracion = 0\n",
        "    g = lambda x,y: x - (funcion(x)*(x-y))/(funcion(x)-funcion(y))\n",
        "\n",
        "    if((tolerancia <= 0) or (MAX_ITERACIONES <= 0)):\n",
        "        return ERROR_EJECUCION\n",
        "\n",
        "    lista_resultados.append([p0, None])\n",
        "    lista_resultados.append([p1, None])\n",
        "    \n",
        "    return iteracion_funcional_recursiva_de_dos_semillas(g, numero_iteracion+2, tolerancia, lista_resultados)"
      ]
    },
    {
      "cell_type": "markdown",
      "metadata": {
        "id": "6Hbhk0It77sX"
      },
      "source": [
        "#### Ejemplo de uso"
      ]
    },
    {
      "cell_type": "code",
      "execution_count": 117,
      "metadata": {
        "colab": {
          "base_uri": "https://localhost:8080/",
          "height": 300
        },
        "id": "xmK7bYrW77sY",
        "outputId": "047384ad-81c5-4e17-a8d8-ee9bf22dab61"
      },
      "outputs": [
        {
          "output_type": "execute_result",
          "data": {
            "text/plain": [
              "         pn         error       alfa        lambda\n",
              "0  0.000000           NaN        NaN           NaN\n",
              "1  5.000000           NaN        NaN           NaN\n",
              "2  0.834270  4.165730e+00        NaN           NaN\n",
              "3  0.471424  3.628466e-01  13.370114  1.880973e-09\n",
              "4  0.571652  1.002280e-01   0.527123  1.710288e-01\n",
              "5  0.567222  4.429144e-03   2.424533  1.170726e+00\n",
              "6  0.567143  7.923255e-05   1.289921  8.609240e-02\n",
              "7  0.567143  6.453871e-08   1.767801  1.147469e+00"
            ],
            "text/html": [
              "\n",
              "  <div id=\"df-46fbeaaa-7731-4f60-8462-891bc1bd07b3\">\n",
              "    <div class=\"colab-df-container\">\n",
              "      <div>\n",
              "<style scoped>\n",
              "    .dataframe tbody tr th:only-of-type {\n",
              "        vertical-align: middle;\n",
              "    }\n",
              "\n",
              "    .dataframe tbody tr th {\n",
              "        vertical-align: top;\n",
              "    }\n",
              "\n",
              "    .dataframe thead th {\n",
              "        text-align: right;\n",
              "    }\n",
              "</style>\n",
              "<table border=\"1\" class=\"dataframe\">\n",
              "  <thead>\n",
              "    <tr style=\"text-align: right;\">\n",
              "      <th></th>\n",
              "      <th>pn</th>\n",
              "      <th>error</th>\n",
              "      <th>alfa</th>\n",
              "      <th>lambda</th>\n",
              "    </tr>\n",
              "  </thead>\n",
              "  <tbody>\n",
              "    <tr>\n",
              "      <th>0</th>\n",
              "      <td>0.000000</td>\n",
              "      <td>NaN</td>\n",
              "      <td>NaN</td>\n",
              "      <td>NaN</td>\n",
              "    </tr>\n",
              "    <tr>\n",
              "      <th>1</th>\n",
              "      <td>5.000000</td>\n",
              "      <td>NaN</td>\n",
              "      <td>NaN</td>\n",
              "      <td>NaN</td>\n",
              "    </tr>\n",
              "    <tr>\n",
              "      <th>2</th>\n",
              "      <td>0.834270</td>\n",
              "      <td>4.165730e+00</td>\n",
              "      <td>NaN</td>\n",
              "      <td>NaN</td>\n",
              "    </tr>\n",
              "    <tr>\n",
              "      <th>3</th>\n",
              "      <td>0.471424</td>\n",
              "      <td>3.628466e-01</td>\n",
              "      <td>13.370114</td>\n",
              "      <td>1.880973e-09</td>\n",
              "    </tr>\n",
              "    <tr>\n",
              "      <th>4</th>\n",
              "      <td>0.571652</td>\n",
              "      <td>1.002280e-01</td>\n",
              "      <td>0.527123</td>\n",
              "      <td>1.710288e-01</td>\n",
              "    </tr>\n",
              "    <tr>\n",
              "      <th>5</th>\n",
              "      <td>0.567222</td>\n",
              "      <td>4.429144e-03</td>\n",
              "      <td>2.424533</td>\n",
              "      <td>1.170726e+00</td>\n",
              "    </tr>\n",
              "    <tr>\n",
              "      <th>6</th>\n",
              "      <td>0.567143</td>\n",
              "      <td>7.923255e-05</td>\n",
              "      <td>1.289921</td>\n",
              "      <td>8.609240e-02</td>\n",
              "    </tr>\n",
              "    <tr>\n",
              "      <th>7</th>\n",
              "      <td>0.567143</td>\n",
              "      <td>6.453871e-08</td>\n",
              "      <td>1.767801</td>\n",
              "      <td>1.147469e+00</td>\n",
              "    </tr>\n",
              "  </tbody>\n",
              "</table>\n",
              "</div>\n",
              "      <button class=\"colab-df-convert\" onclick=\"convertToInteractive('df-46fbeaaa-7731-4f60-8462-891bc1bd07b3')\"\n",
              "              title=\"Convert this dataframe to an interactive table.\"\n",
              "              style=\"display:none;\">\n",
              "        \n",
              "  <svg xmlns=\"http://www.w3.org/2000/svg\" height=\"24px\"viewBox=\"0 0 24 24\"\n",
              "       width=\"24px\">\n",
              "    <path d=\"M0 0h24v24H0V0z\" fill=\"none\"/>\n",
              "    <path d=\"M18.56 5.44l.94 2.06.94-2.06 2.06-.94-2.06-.94-.94-2.06-.94 2.06-2.06.94zm-11 1L8.5 8.5l.94-2.06 2.06-.94-2.06-.94L8.5 2.5l-.94 2.06-2.06.94zm10 10l.94 2.06.94-2.06 2.06-.94-2.06-.94-.94-2.06-.94 2.06-2.06.94z\"/><path d=\"M17.41 7.96l-1.37-1.37c-.4-.4-.92-.59-1.43-.59-.52 0-1.04.2-1.43.59L10.3 9.45l-7.72 7.72c-.78.78-.78 2.05 0 2.83L4 21.41c.39.39.9.59 1.41.59.51 0 1.02-.2 1.41-.59l7.78-7.78 2.81-2.81c.8-.78.8-2.07 0-2.86zM5.41 20L4 18.59l7.72-7.72 1.47 1.35L5.41 20z\"/>\n",
              "  </svg>\n",
              "      </button>\n",
              "      \n",
              "  <style>\n",
              "    .colab-df-container {\n",
              "      display:flex;\n",
              "      flex-wrap:wrap;\n",
              "      gap: 12px;\n",
              "    }\n",
              "\n",
              "    .colab-df-convert {\n",
              "      background-color: #E8F0FE;\n",
              "      border: none;\n",
              "      border-radius: 50%;\n",
              "      cursor: pointer;\n",
              "      display: none;\n",
              "      fill: #1967D2;\n",
              "      height: 32px;\n",
              "      padding: 0 0 0 0;\n",
              "      width: 32px;\n",
              "    }\n",
              "\n",
              "    .colab-df-convert:hover {\n",
              "      background-color: #E2EBFA;\n",
              "      box-shadow: 0px 1px 2px rgba(60, 64, 67, 0.3), 0px 1px 3px 1px rgba(60, 64, 67, 0.15);\n",
              "      fill: #174EA6;\n",
              "    }\n",
              "\n",
              "    [theme=dark] .colab-df-convert {\n",
              "      background-color: #3B4455;\n",
              "      fill: #D2E3FC;\n",
              "    }\n",
              "\n",
              "    [theme=dark] .colab-df-convert:hover {\n",
              "      background-color: #434B5C;\n",
              "      box-shadow: 0px 1px 3px 1px rgba(0, 0, 0, 0.15);\n",
              "      filter: drop-shadow(0px 1px 2px rgba(0, 0, 0, 0.3));\n",
              "      fill: #FFFFFF;\n",
              "    }\n",
              "  </style>\n",
              "\n",
              "      <script>\n",
              "        const buttonEl =\n",
              "          document.querySelector('#df-46fbeaaa-7731-4f60-8462-891bc1bd07b3 button.colab-df-convert');\n",
              "        buttonEl.style.display =\n",
              "          google.colab.kernel.accessAllowed ? 'block' : 'none';\n",
              "\n",
              "        async function convertToInteractive(key) {\n",
              "          const element = document.querySelector('#df-46fbeaaa-7731-4f60-8462-891bc1bd07b3');\n",
              "          const dataTable =\n",
              "            await google.colab.kernel.invokeFunction('convertToInteractive',\n",
              "                                                     [key], {});\n",
              "          if (!dataTable) return;\n",
              "\n",
              "          const docLinkHtml = 'Like what you see? Visit the ' +\n",
              "            '<a target=\"_blank\" href=https://colab.research.google.com/notebooks/data_table.ipynb>data table notebook</a>'\n",
              "            + ' to learn more about interactive tables.';\n",
              "          element.innerHTML = '';\n",
              "          dataTable['output_type'] = 'display_data';\n",
              "          await google.colab.output.renderOutput(dataTable, element);\n",
              "          const docLink = document.createElement('div');\n",
              "          docLink.innerHTML = docLinkHtml;\n",
              "          element.appendChild(docLink);\n",
              "        }\n",
              "      </script>\n",
              "    </div>\n",
              "  </div>\n",
              "  "
            ]
          },
          "metadata": {},
          "execution_count": 117
        }
      ],
      "source": [
        "f = lambda x:  x - np.e**-x\n",
        "semilla_p0 = 0\n",
        "semilla_p1 = 5\n",
        "\n",
        "lista_resultados_secante = metodo_secante(f, semilla_p0, semilla_p1, tolerancia=1e-06)[0]\n",
        "lista_pn_secante = extraer_pn(lista_resultados_secante)\n",
        "lista_alfa_secante = calcular_orden_de_convergencia_alfa(lista_pn_secante)\n",
        "lista_errores_secante = extraer_errores(lista_resultados_secante)\n",
        "lista_cte_asintotica_secante = calcular_cte_asintotica_lambda(lista_errores_secante, lista_alfa_secante)\n",
        "\n",
        "lista_resultados_a_dataframe(lista_resultados_secante,lista_alfa_secante,lista_cte_asintotica_secante,['pn', 'error','alfa','lambda'])"
      ]
    },
    {
      "cell_type": "markdown",
      "metadata": {
        "id": "ypIJyliYPBCN"
      },
      "source": [
        "## ***1.2 Planteo del problema***\n"
      ]
    },
    {
      "cell_type": "markdown",
      "metadata": {
        "id": "4SsLUDdXjgfW"
      },
      "source": [
        "###1.2.1 (Pregunta $a$) Formule el problema y grafíquelo."
      ]
    },
    {
      "cell_type": "markdown",
      "metadata": {
        "id": "fdxpNVBopEt8"
      },
      "source": [
        "____________________________________________________________________________\n",
        " **Datos del problema:**\n",
        " - $827$ $kg$ es el minimo de mercaderia para justificar el setup de las maquinas.\n",
        " - $\\$25000$ es el ingreso minimo que se desea obtener.\n",
        "____________________________________________________________________________\n",
        "\n",
        "Se tiene que la utilidad unitaria corresponde a la expresión:\n",
        "\n",
        "  $u(x) = 0,001\\frac{$}{kg^3}·x·(x−1000kg)^2$\n",
        "\n",
        "Por lo tanto para cumplir con la contribucion minima que se solicita $(\\$25000)$ se busca analizar las cantidades de producto correspondiente al proponer:\n",
        "\n",
        " $\\$25000 \\leq u(x) = 0,001\\frac{$}{kg^3}·x·(x−1000kg)^2$\n",
        "\n",
        "$⇒$ $0 \\leq 0,001\\frac{$}{kg^3}·x·(x−1000kg)^2 - \\$25000$\n",
        "\n",
        "Por lo tanto con el fin de buscar la cantidad de producto mínima para cumplir con la restricción de contribución mínima mensual y justificación del setup de las máquinas, plantearemos la siguiente función a analizar:\n",
        "\n",
        " $f(x) = 0,001\\frac{$}{kg^3}·x·(x−1000kg)^2 - \\$25000$\n",
        "\n",
        "Dado que para justificar el setup de las máquinas se necesitan al menos $827$ $kg$ $⇒$ $x \\geq 827$ $kg$ \n",
        "\n",
        "En resumen, buscamos el $x_{min}$ tal que $f(x_{min}) \\geq 0 $  ‎ ‎ $,$ ‎‎ ‎ ‎ $x_{min} \\geq 827$ $kg$\n",
        "\n",
        "A continuación realizaremos un análisis gráfico de $f(x)$\n",
        "\n",
        "\n",
        "La función anteriormente planteada es una función cubica, por lo cual tendrá un máximo de 3 raices. "
      ]
    },
    {
      "cell_type": "code",
      "execution_count": 118,
      "metadata": {
        "id": "Vn2ruWJEpIqT"
      },
      "outputs": [],
      "source": [
        "MIN_CONTRIBUCION_MENSUAL = 25000"
      ]
    },
    {
      "cell_type": "code",
      "execution_count": 119,
      "metadata": {
        "id": "lkVp7LrK2deR"
      },
      "outputs": [],
      "source": [
        "def utilidad_unitaria (x):\n",
        "  return 0.001*x*((x-1000)**2)\n",
        "\n",
        "def f(x):\n",
        "  return utilidad_unitaria(x)-MIN_CONTRIBUCION_MENSUAL"
      ]
    },
    {
      "cell_type": "code",
      "execution_count": 120,
      "metadata": {
        "colab": {
          "base_uri": "https://localhost:8080/",
          "height": 729
        },
        "id": "4w2ZjmwQ3X3h",
        "outputId": "7e5d1168-063f-4a67-8148-6abceaba6b68"
      },
      "outputs": [
        {
          "output_type": "display_data",
          "data": {
            "text/plain": [
              "<Figure size 720x720 with 1 Axes>"
            ],
            "image/png": "[encoded data removed]"
          },
          "metadata": {
            "needs_background": "light"
          }
        }
      ],
      "source": [
        "intervalo = np.linspace(-50,1400,1000)\n",
        "func = f(intervalo)\n",
        "\n",
        "fig, ax = plt.subplots(figsize=(10, 10))\n",
        "\n",
        "plt.title(\"Grafica  f(x) vs x \")\n",
        "plt.xlabel(\"Cantidad de producto (x) [kg]\")\n",
        "plt.ylabel(\"f(x) [$]\")\n",
        "\n",
        "plt.plot(intervalo, func, label = 'f(x)', color = 'blue', linewidth= 2)\n",
        "\n",
        "plt.plot([-200,1400],[0,0], label = 'ejes', color = 'black')\n",
        "plt.plot([0,0],[-50000, 130000], color = 'black')\n",
        "plt.plot([827,827],[-50000, 130000], label = 'x = 827 [kg]', color = 'red', linestyle='--')\n",
        "\n",
        "\n",
        "ax.set_xlim(-200, 1400)\n",
        "ax.set_ylim(-50000, 130000)\n",
        "\n",
        "ax.xaxis.set_major_locator(MultipleLocator(100))\n",
        "\n",
        "ax.grid()\n",
        "\n",
        "plt.legend()\n",
        "plt.show()"
      ]
    },
    {
      "cell_type": "markdown",
      "metadata": {
        "id": "WJJQDS7TqBZt"
      },
      "source": [
        "____________________________________________________________________________\n",
        "  **Información actual**:\n",
        "  - $f(x) = 0,001\\frac{$}{kg^3}·x·(x−1000kg)^2 - \\$25000$\n",
        "  - Buscamos el $x_{min}$ tal que $f(x_{min}) \\geq 0 $  ‎ ‎ $,$ ‎‎ ‎ ‎ $x_{min} \\geq 827$ $kg$\n",
        "____________________________________________________________________________\n",
        "\n",
        "Se observa que la función posee tres raices:\n",
        "- $(1)$ Acotada en intervalo $x$ $\\in$ $[0,100]$\n",
        "- $(2)$ Acotada en intervalo $x$ $\\in$ $[800,900]$\n",
        "- $(3)$ Acotada en intervalo $x$ $\\in$ $[1100,1200]$\n",
        "\n",
        "\n",
        " **Análisis de raíces**:\n",
        "\n",
        "- *Análisis raíz $(1)$*: \n",
        "\n",
        "    A partir de las tres raíces podemos descartar el análisis de la raíz $(1)$ más cercana a $x=0$ dado que la misma se puede acotar en el intervalo $[0,100]$, lo cuál implica que ésta cantidad de producto no justifica el setup de las máquinas (siempre se cumple que esa cantidad es menor a $827$ $kg$). \n",
        "\n",
        "- *Análisis raíz $(2)$*: \n",
        "\n",
        "    Dado que debe cumplirse $x \\geq 827$ $kg$, tomaremos el intervalo $[827,900]$ y verificaremos el comportamiento de la función en dicho intervalo para saber si allí existe una raíz ya que con el análisis gráfico no tenemos suficiente certeza:\n",
        "    - Tomamos un $x$ $\\in$ $[827,900]$\n",
        "    - $⇒ 827 \\leq x \\leq 900 $\n",
        "    - $⇒ -173 \\leq x - 1000 \\leq -100 $\n",
        "    - $⇒ 29929 \\leq (x - 1000)^2 \\leq 10000 $\n",
        "    - $⇒ 0.001⋅29929 \\leq 0.001⋅(x - 1000)^2 \\leq 0.001⋅10000 $\n",
        "    - $⇒ 827⋅(0.001⋅29929) \\leq x⋅(0.001⋅29929) \\leq 0.001⋅x⋅(x - 1000)^2$ $;$\n",
        "      $ 80.001⋅x⋅(x - 1000)^2  \\leq x⋅(0.001⋅10000) \\leq 900⋅(0.001⋅10000) $\n",
        "    - $⇒ 827⋅(0.001⋅29929) \\leq 0.001⋅x⋅(x - 1000)^2 \\leq 900⋅(0.001⋅10000) $\n",
        "    - $⇒ 827⋅(0.001⋅29929)-25000 \\leq 0.001⋅x⋅(x - 1000)^2 - 25000 \\leq 900⋅(0.001⋅10000) - 250000 $\n",
        "    - $⇒ 827⋅0.001⋅29929-25000 \\leq 0.001⋅x⋅(x - 1000)^2 - 25000 \\leq 900⋅0.001⋅10000 - 250000 $\n",
        "    - $⇒ -248.717 \\leq 0.001⋅x⋅(x - 1000)^2 - 25000 \\leq -16000 $\n",
        "    - $⇒ -248.717 \\leq f(x) \\leq -16000 $\n",
        "    - $⇒ f(x) \\leq 0$ $∀$ $x$ $\\in$ $[827,900]$\n",
        "\n",
        "    Teniendo esto en cuenta, determinamos que no se cumple una de las restricciones pedidas ($f(x) \\geq 0 $) y además no existe ninguna raiz dentro de ese intervalo. \n",
        "\n",
        "    Dado que la raiz $x \\in [800,900], x \\notin [800,900] ⇒ x \\in [800,827)$, lo cual conlleva que que la raiz $(2)$ tambien sea descartada siendo que la cantidad de producto no justifica el setup de las máquinas (siempre se cumple que esa cantidad es menor a $827$ $kg$). \n",
        "\n",
        "- *Análisis raíz $(3)$*: \n",
        "\n",
        "    En cuanto a la raíz restante procederemos a aplicar los métodos de búsqueda de raíces siendo que no se puede acotar visualmente para conocer su valor y asi obtener la cantidad mínima de producto a generar. \n"
      ]
    },
    {
      "cell_type": "markdown",
      "metadata": {
        "id": "iAjy2g_tYW6s"
      },
      "source": [
        "### 1.2.2 (Pregunta $b$) Hallar las cantidades a fabricar del producto “E41” utilizando los métodos vistos en clase:\n",
        "### Bisección, Punto Fijo, Newton-Raphson, Newton-Raphson modificado y Secante.\n",
        "### Use para todos los métodos como criterio de parada las siguientes cotas:\n",
        "### $1 · 10^{−5}$ y $1 · 10^{−13}$, use como semilla un valor tomado con el criterio que considere correcto, justificar."
      ]
    },
    {
      "cell_type": "markdown",
      "metadata": {
        "id": "00wzWTCOYW6t"
      },
      "source": [
        "#### **1.2.2.1 Bisección/ Busqueda Binaria / Metodo de Arranque:**\n",
        "\n"
      ]
    },
    {
      "cell_type": "markdown",
      "metadata": {
        "id": "G65pPBmDYW6t"
      },
      "source": [
        "##### *Definiciones previas*\n",
        "\n",
        "$f(x) = 0,001\\frac{$}{kg^3}·x·(x−1000kg)^2 - \\$25000$ "
      ]
    },
    {
      "cell_type": "markdown",
      "metadata": {
        "id": "Ll8RAu4gYW6t"
      },
      "source": [
        "##### *Verificación de la convergencia del método*\n",
        "\n",
        "A partir del Teorema de Bolzano o Teorema del valor medio es que demostramos la existencia de al menos una raiz dentro del intervalo $[1100,1200]$:\n",
        "\n",
        "Dado que $f(x) = 0,001\\frac{$}{kg^3}·x·(x−1100kg)^2 - \\$25000$ es un polinomio de grado 3, sabemos que $f \\in  C[1100;1200]$. \n",
        "\n",
        "A su vez, verificamos que $f(1100) ⋅ f(1200) < 0$ que junto al analisis grafico anterior nos permite confirmar la existencia de una única raiz en dicho intervalo.\n"
      ]
    },
    {
      "cell_type": "markdown",
      "metadata": {
        "id": "Gk_Aj-XQYW6u"
      },
      "source": [
        "##### *Aplicación del método* \n",
        "Tras realizar la comprobación de las hipotesis mencionadas aplicamos el metodo de bisección."
      ]
    },
    {
      "cell_type": "code",
      "execution_count": 121,
      "metadata": {
        "colab": {
          "base_uri": "https://localhost:8080/"
        },
        "outputId": "ebb55cdc-7b04-41cf-9e0b-dded2bef0c13",
        "id": "_yuMIhg4YW6u"
      },
      "outputs": [
        {
          "output_type": "execute_result",
          "data": {
            "text/plain": [
              "True"
            ]
          },
          "metadata": {},
          "execution_count": 121
        }
      ],
      "source": [
        "f(1200)*f(1100) < 0"
      ]
    },
    {
      "cell_type": "code",
      "execution_count": 122,
      "metadata": {
        "id": "caTqRSUhYW6u",
        "colab": {
          "base_uri": "https://localhost:8080/"
        },
        "outputId": "1c2186e2-a73b-4ec1-b304-47e459523097"
      },
      "outputs": [
        {
          "output_type": "execute_result",
          "data": {
            "text/plain": [
              "1147.5962936878204"
            ]
          },
          "metadata": {},
          "execution_count": 122
        }
      ],
      "source": [
        "lista_resultados_biseccion_cota_1, encontrado_biseccion_cota_1 = biseccion(f, 1100,1200, tolerancia=COTA_DE_ERROR_1)\n",
        "\n",
        "extraer_ultimo_pn_biseccion(lista_resultados_biseccion_cota_1)"
      ]
    },
    {
      "cell_type": "markdown",
      "source": [
        "Dado que el método no imprimió ningun error y además el valor está dentro del intervalo $[1100; 1200]$, junto con lo anteriormente expuesto concluimos que la cantidad de producto mínima para cumplir con la restricción de contribución mínima mensual y la justificación del setup de las máquinas con la tolerancia de $1\\cdot10^{-5}$ es: \n",
        "\n",
        "$x = [1147.59629 \\pm 0.00001]kg$\n"
      ],
      "metadata": {
        "id": "-ALvmqQO9Bvp"
      }
    },
    {
      "cell_type": "code",
      "execution_count": 123,
      "metadata": {
        "colab": {
          "base_uri": "https://localhost:8080/"
        },
        "outputId": "41daf4de-dd75-462f-80a0-60a5e1450488",
        "id": "OFceY2OWYW6v"
      },
      "outputs": [
        {
          "output_type": "stream",
          "name": "stdout",
          "text": [
            "Raíz no encontrada: Se llegó al maximo de iteraciones sin encontrar la raiz.\n"
          ]
        },
        {
          "output_type": "execute_result",
          "data": {
            "text/plain": [
              "1147.5962885655463"
            ]
          },
          "metadata": {},
          "execution_count": 123
        }
      ],
      "source": [
        "lista_resultados_biseccion_cota_2, encontrado_biseccion_cota_2 = biseccion(f, 1100,1200, tolerancia=COTA_DE_ERROR_2)\n",
        "\n",
        "extraer_ultimo_pn_biseccion(lista_resultados_biseccion_cota_2)"
      ]
    },
    {
      "cell_type": "markdown",
      "source": [
        "Si bien no se encontró un valor con tolerancia $1\\cdot10^{-13}$ se puede proponer el valor de la última iteración del método: \n",
        "\n",
        "$x = [1147.5962886 \\pm 0.0000001] kg$\n",
        "\n",
        "(Valor del error obtenido de tabla de resultados)\n"
      ],
      "metadata": {
        "id": "u6_MnWs_AYZp"
      }
    },
    {
      "cell_type": "markdown",
      "metadata": {
        "id": "oGTSCbuvYW6v"
      },
      "source": [
        "#### **1.2.2.2 Método del Punto Fijo:**\n",
        "\n",
        "\n",
        "\n"
      ]
    },
    {
      "cell_type": "markdown",
      "metadata": {
        "id": "GFuEqnqMYW6v"
      },
      "source": [
        "##### *Definiciones previas*\n",
        "\n",
        "Siendo que buscamos las raices de la funcion $f(x)$, es decir, $f(x) = 0$, propongo una función $g(x) = x - f(x)$ a la cual le aplicaré el metodo del punto fijo. Esto es porque suponiendo que la raiz de $f(x)$ sea el valor $p ⇒ g(p) = p - f(p) ⇒ g(p) = p - 0$ ⇒ $g(p) = p$\n",
        "\n",
        "Definimos $g(x) = x - f(x) = x - 0,001\\frac{$}{kg^3}·x·(x−1000kg)^2 - \\$25000$ "
      ]
    },
    {
      "cell_type": "markdown",
      "metadata": {
        "id": "-PzV11fOYW6v"
      },
      "source": [
        "##### *Verificación de la convergencia del método*\n",
        "\n",
        "Verificamos existencia y unicidad de la raiz en en intervalo cerrado $[1100,1200]$. \n",
        "Para ello se deben cumplir las siguientes condiciones:\n",
        "1.   Si $g(x) ∈ C[1100,1200]$ y $g(x) ∈ [1100,1200]$ $∀$ $x ∈ [1100,1200]$ ⇒ existe al menos un punto fijo dentro del intervalo $[1100,1200]$\n",
        "2.   Si $∃$ $g'(x)$ $∀$  $x ∈ (1100,1200)$ y $|g'(x)| ≤ k$ $∀$  $x ∈ (1100,1200)$ donde $0 < k < 1$ ⇒ el punto fijo es único dentro del intervalo $[1100,1200]$\n",
        "\n",
        "En caso de cumplir con ambas condiciones, la funcion $g(x)$ es admisible y por lo tanto (por teorema visto en clase), $∀$ $p_0 \\in [1100,1200]$ la sucesión definida como $p_n = g(p_{n-1})$ converge al único punto fijo de $g(x)$."
      ]
    },
    {
      "cell_type": "markdown",
      "metadata": {
        "id": "VfvZ7R_lYW6w"
      },
      "source": [
        "###### *Verifico condición 1:*\n",
        "\n",
        "Dado que $g(x) = x - f(x)$ y $f(x) ∈ C[1100,1200]$ por ser un polinomio de grado 3 ⇒ $g(x) ∈ C[1100,1200]$ por ser suma de funciones $∈ C[1100,1200]$.\n",
        "\n",
        "A continuacion verificaremos gráficamente si se cumple que $g(x) ∈ [1100,1200]$ $∀$ $x ∈ [1100,1200]$ (Condición 1):"
      ]
    },
    {
      "cell_type": "code",
      "execution_count": 124,
      "metadata": {
        "id": "e3mG5-OyYW6w"
      },
      "outputs": [],
      "source": [
        "def g(x,funcion):\n",
        "  return x-funcion(x)"
      ]
    },
    {
      "cell_type": "code",
      "execution_count": 125,
      "metadata": {
        "colab": {
          "base_uri": "https://localhost:8080/",
          "height": 729
        },
        "outputId": "1d460388-c9e2-468d-e061-5d09bda6bfa6",
        "id": "xsfd6eAWYW6w"
      },
      "outputs": [
        {
          "output_type": "display_data",
          "data": {
            "text/plain": [
              "<Figure size 720x720 with 1 Axes>"
            ],
            "image/png": "[encoded data removed]"
          },
          "metadata": {
            "needs_background": "light"
          }
        }
      ],
      "source": [
        "intervalo = np.linspace(-100,1400,1000)\n",
        "func = g(intervalo,f)\n",
        "\n",
        "fig, ax = plt.subplots(figsize=(10, 10))\n",
        "\n",
        "plt.title(\"Grafica función g(x)\")\n",
        "plt.xlabel(\"x\")\n",
        "plt.ylabel(\"y\")\n",
        "\n",
        "plt.plot(intervalo, func, label = 'g(x)', color = 'blue', linewidth= 2)\n",
        "\n",
        "plt.plot([-200,1400],[0,0], label = 'ejes', color = 'black')\n",
        "plt.plot([0,0],[-50000, 130000], color = 'black')\n",
        "\n",
        "plt.plot([1100,1200],[1100,1100], label = 'Condición 1', color = 'red', linestyle='--')\n",
        "plt.plot([1100,1200],[1200,1200], color = 'red', linestyle='--')\n",
        "plt.plot([1100,1100],[1100,1200], color = 'red', linestyle='--')\n",
        "plt.plot([1200,1200],[1100,1200], color = 'red', linestyle='--')\n",
        "\n",
        "ax.set_xlim(-100, 1400)\n",
        "ax.set_ylim(-100, 1400)\n",
        "\n",
        "ax.xaxis.set_major_locator(MultipleLocator(100))\n",
        "ax.yaxis.set_major_locator(MultipleLocator(100))\n",
        "\n",
        "ax.grid()\n",
        "plt.legend(loc = 'best')\n",
        "plt.show()"
      ]
    },
    {
      "cell_type": "markdown",
      "metadata": {
        "id": "_1rGYJUUYW6x"
      },
      "source": [
        "Podemos concluir al mirar el gráfico que la condición $g(x) ∈ [1100,1200]$ para cualquier $x ∈ [1100,1200]$ no se cumple, ya que la función cruza las lineas rojas tanto superiormente como inferiormente. En caso de cumplirse la condición, la función deberia cruzar por las lineas laterales. \n",
        "\n",
        "Esto implica que no se puede asegurar la existencia de un punto fijo dentro de dicho intevalo.\n",
        "\n"
      ]
    },
    {
      "cell_type": "markdown",
      "metadata": {
        "id": "ZdaE5sesYW6x"
      },
      "source": [
        "###### *Verifico condición 2:*\n",
        "\n",
        "Siendo que no podemos asegurar la existencia de un punto fijo dentro del intervalo $[1100,1200]$ mediante la condicion 1, ya no se cumple que la función $g(x)$ sea admisible.\n",
        "\n",
        "Sin embargo, verificaremos de todas formas si se cumple la segunda condición:\n",
        "\n",
        "Dado que $g(x) = x - 0,001\\frac{$}{kg^3}·x·(x−1000kg)^2 - \\$25000$, entonces \n",
        "$g'(x) = 1 - 0,001\\frac{$}{kg^3} ·(x−1000kg)^2 - 2 \\cdot 0,001\\frac{$}{kg^3} ⋅ x ⋅ (x−1000kg)$\n",
        "\n"
      ]
    },
    {
      "cell_type": "code",
      "execution_count": 126,
      "metadata": {
        "id": "8y3SNisSYW6x"
      },
      "outputs": [],
      "source": [
        "def g_derivada(x):\n",
        "  return 1-0.001*((x-1000)**2)-2*0.001*x*(x-1000)"
      ]
    },
    {
      "cell_type": "code",
      "execution_count": 127,
      "metadata": {
        "colab": {
          "base_uri": "https://localhost:8080/",
          "height": 729
        },
        "outputId": "1ce24736-d428-4395-b0b2-cc331bd66ca8",
        "id": "HWWy8l6lYW6x"
      },
      "outputs": [
        {
          "output_type": "display_data",
          "data": {
            "text/plain": [
              "<Figure size 720x720 with 1 Axes>"
            ],
            "image/png": "[encoded data removed]"
          },
          "metadata": {
            "needs_background": "light"
          }
        }
      ],
      "source": [
        "intervalo = np.linspace(950,1250,100)\n",
        "func = g_derivada(intervalo)\n",
        "\n",
        "fig, ax = plt.subplots(figsize=(10, 10))\n",
        "\n",
        "plt.title(\"Grafica función g'(x)\")\n",
        "plt.xlabel(\"x\")\n",
        "plt.ylabel(\"y\")\n",
        "\n",
        "plt.plot(intervalo, func, label = \"g'(x)\", color = 'blue', linewidth= 2)\n",
        "plt.plot([950,1250],[0,0],\"black\")\n",
        "plt.plot([950,1250],[1,1], label = 'y =  1', color = 'red', linestyle='--')\n",
        "plt.plot([950,1250],[-1,-1], label = 'y = -1', color = 'red', linestyle='--')\n",
        "\n",
        "plt.plot([1100,1100],[-10,10], label = 'x = 1100 [kg]', color = 'grey', linestyle='--', linewidth= 2)\n",
        "plt.plot([1200,1200],[-10,10], label = 'x = 1200 [kg]', color = 'grey', linestyle='--', linewidth= 2)\n",
        "\n",
        "ax.set_xlim(950, 1250)\n",
        "ax.set_ylim(-10, 10)\n",
        "\n",
        "ax.yaxis.set_major_locator(MultipleLocator(1))\n",
        "\n",
        "plt.grid()\n",
        "plt.legend()\n",
        "plt.show()"
      ]
    },
    {
      "cell_type": "markdown",
      "metadata": {
        "id": "hgASItDGYW6y"
      },
      "source": [
        "$g(x)$ tampoco cumple con la condición 2: $|g'(x)| ≤ k$ con $0 < k < 1$ en el intervalo $[1100;1200]$.\n",
        "\n"
      ]
    },
    {
      "cell_type": "markdown",
      "metadata": {
        "id": "v-NS11b6YW6y"
      },
      "source": [
        "##### *Aplicación del método* \n",
        "\n",
        "Pese a saber que el método no converge bajo estas condiciones, se muestra que al intentar obtener la raiz se llega al maximo de iteraciones permitidas:\n",
        "\n",
        "La semilla $p_0$ se obtiene a partir de la primer iteracion del método de la biseccion, en donde anteriormente se demostró que dicho método convergerá a la raiz.\n",
        "\n",
        "Tomando el intervalo $[1100, 1200]$ ⇒ $p_0 = \\frac{(a + b)}{2} = \\frac{(1100 \\cdot kg + 1200 \\cdot kg)}{2} = 1150 kg$"
      ]
    },
    {
      "cell_type": "code",
      "execution_count": 128,
      "metadata": {
        "id": "LNX0RJzbYW6y"
      },
      "outputs": [],
      "source": [
        "semilla_p0 = 1150 "
      ]
    },
    {
      "cell_type": "code",
      "execution_count": 129,
      "metadata": {
        "id": "OY66w-cfYW6y",
        "colab": {
          "base_uri": "https://localhost:8080/"
        },
        "outputId": "d85b7a9c-3acf-4361-bf1c-f9bdac7f2555"
      },
      "outputs": [
        {
          "output_type": "stream",
          "name": "stdout",
          "text": [
            "El método diverge para estos parámetros\n"
          ]
        }
      ],
      "source": [
        "lista_resultados_punto_fijo_cota_1, encontrado_punto_fijo_cota_1 = metodo_punto_fijo(f, semilla_p0, tolerancia=COTA_DE_ERROR_1)"
      ]
    },
    {
      "cell_type": "code",
      "execution_count": 130,
      "metadata": {
        "id": "bi664cbMYW6y",
        "colab": {
          "base_uri": "https://localhost:8080/"
        },
        "outputId": "e94acd09-1e0e-4a66-c3b9-d26ac7dbe5d7"
      },
      "outputs": [
        {
          "output_type": "stream",
          "name": "stdout",
          "text": [
            "El método diverge para estos parámetros\n"
          ]
        }
      ],
      "source": [
        "lista_resultados_punto_fijo_cota_2, encontrado_punto_fijo_cota_2 = metodo_punto_fijo(f, semilla_p0, tolerancia=COTA_DE_ERROR_2)"
      ]
    },
    {
      "cell_type": "markdown",
      "source": [
        "Dado que no se cumplieron las hipótesis para aplicar el método, se corrobora que diverge para ambas cotas de error y por lo tanto no se puede obtener el valor de cantidad de producto mínimo correspondiente."
      ],
      "metadata": {
        "id": "wWMVdggHCfz-"
      }
    },
    {
      "cell_type": "markdown",
      "metadata": {
        "id": "ozlygC9AYW6z"
      },
      "source": [
        "#### **1.2.2.3 Método de Newton-Raphson:**"
      ]
    },
    {
      "cell_type": "markdown",
      "metadata": {
        "id": "ebEXMpWMYW6z"
      },
      "source": [
        "##### *Definiciones previas*\n",
        "\n",
        "$f(x) = 0,001\\frac{$}{kg^3}·x·(x−1000kg)^2 - \\$25000$ "
      ]
    },
    {
      "cell_type": "markdown",
      "metadata": {
        "id": "3Bxx7uNSYW6z"
      },
      "source": [
        "##### *Verificación de la convergencia del método*\n",
        "\n",
        "A partir del teorema visto en clase que se citará a continuacion, verificarmemos si se puede asegurar la convergencia de este método:\n",
        "\n",
        "Sea $f \\in C^2[a,b]$. Si $p \\in [a,b]$ tal que $f(p) = 0$ y $f'(p) \\neq 0$ entonces $∃$ $𝛅 > 0$ tal que el método de Newton-Raphson genera una sucesión : { ${p_n}$ }$_{n \\geq 1}$ que converge a $p$ para cualquier aproximación inicial $p_0 \\in [p-𝛅, p+𝛅]$ \n",
        "\n",
        "Dado que $f$ es un polinomio de grado 3 $⇒$ $f \\in C^2[1100,1200]$\n",
        "\n",
        "Derivo $f$ para verificar que no se anule la derivada en dicho intervalo:\n",
        "\n",
        "$f'(x) = 0,001\\frac{$}{kg^3} ·(x−1000kg)^2 + 2 \\cdot 0,001\\frac{$}{kg^3} ⋅ x ⋅ (x−1000kg)$\n"
      ]
    },
    {
      "cell_type": "code",
      "execution_count": 131,
      "metadata": {
        "id": "CZzn1JE7YW60"
      },
      "outputs": [],
      "source": [
        "def f_derivada_primera(x):\n",
        "  return 0.001*((x-1000)**2)+2*0.001*x*(x-1000)"
      ]
    },
    {
      "cell_type": "code",
      "execution_count": 132,
      "metadata": {
        "colab": {
          "base_uri": "https://localhost:8080/",
          "height": 729
        },
        "outputId": "06537ec9-3553-4814-eaa2-54dda8e95245",
        "id": "9C66iJw0YW60"
      },
      "outputs": [
        {
          "output_type": "display_data",
          "data": {
            "text/plain": [
              "<Figure size 720x720 with 1 Axes>"
            ],
            "image/png": "[encoded data removed]"
          },
          "metadata": {
            "needs_background": "light"
          }
        }
      ],
      "source": [
        "intervalo = np.linspace(1050,1250,100)\n",
        "derivada = f_derivada_primera(intervalo)\n",
        "\n",
        "fig, ax = plt.subplots(figsize=(10, 10))\n",
        "\n",
        "plt.title(\"Grafica función f'(x)\")\n",
        "plt.xlabel(\"x\")\n",
        "plt.ylabel(\"y\")\n",
        "\n",
        "plt.plot(intervalo, derivada, label = \"f'(x)\", color = 'blue', linewidth= 2)\n",
        "\n",
        "plt.plot([1050,1250],[0,0], label = 'eje x', color = 'black')\n",
        "\n",
        "plt.plot([1100,1100],[-300,600], label = 'x = 1100 [kg]', color = 'grey', linestyle='--', linewidth= 2)\n",
        "plt.plot([1200,1200],[-300,600], label = 'x = 1200 [kg]', color = 'grey', linestyle='--', linewidth= 2)\n",
        "\n",
        "ax.set_xlim(1050, 1250)\n",
        "ax.set_ylim(-300, 600)\n",
        "\n",
        "plt.grid()\n",
        "plt.legend(loc = 'best')\n",
        "plt.show()"
      ]
    },
    {
      "cell_type": "markdown",
      "metadata": {
        "id": "8iPPLIn5YW60"
      },
      "source": [
        "Como podemos observar en el gráfico, $f'(x) \\neq 0$ $∀$ $x \\in [1100, 1200]$, lo cual implica que el método converge a la raiz dentro de dicho intervalo.\n"
      ]
    },
    {
      "cell_type": "markdown",
      "metadata": {
        "id": "2LrXbvx3_f_H"
      },
      "source": [
        "##### *Aplicación del método* \n",
        "\n",
        "La semilla $p_0$ se obtiene a partir de la primer iteracion del método de la biseccion, en donde anteriormente se demostró que dicho método convergerá a la raiz.\n",
        "\n",
        "Tomando el intervalo $[1100, 1200]$ ⇒ $p_0 = \\frac{(a + b)}{2} = \\frac{(1100 \\cdot kg + 1200 \\cdot kg)}{2} = 1150 kg$"
      ]
    },
    {
      "cell_type": "code",
      "execution_count": 133,
      "metadata": {
        "id": "zpS3CLg4YW61",
        "colab": {
          "base_uri": "https://localhost:8080/"
        },
        "outputId": "2348ab2d-2a02-404d-ab0c-f2d44cd68785"
      },
      "outputs": [
        {
          "output_type": "execute_result",
          "data": {
            "text/plain": [
              "1147.596288534586"
            ]
          },
          "metadata": {},
          "execution_count": 133
        }
      ],
      "source": [
        "semilla_p0 = 1150\n",
        "lista_resultados_NR_cota_1, encontrado_NR_cota_1 = metodo_newton_raphson(f, f_derivada_primera, semilla_p0, tolerancia=COTA_DE_ERROR_1)\n",
        "\n",
        "extraer_ultimo_pn(lista_resultados_NR_cota_1)"
      ]
    },
    {
      "cell_type": "markdown",
      "source": [
        "Dado que el método no imprimió ningun error y además el valor está dentro del intervalo $[1100; 1200]$, junto con lo anteriormente expuesto concluimos que la cantidad de producto mínima para cumplir con la restricción de contribución mínima mensual y la justificación del setup de las máquinas con la tolerancia de $1\\cdot10^{-5}$ es: \n",
        "\n",
        "$x = [1147.59629 \\pm 0.00001]kg$\n"
      ],
      "metadata": {
        "id": "XH4gT_bFD-L8"
      }
    },
    {
      "cell_type": "code",
      "execution_count": 134,
      "metadata": {
        "colab": {
          "base_uri": "https://localhost:8080/"
        },
        "id": "MzcucR8VYW61",
        "outputId": "92726c88-2c1d-46f2-8043-e2d1dc2c1ea5"
      },
      "outputs": [
        {
          "output_type": "stream",
          "name": "stdout",
          "text": [
            "La cota del error es un valor muy cercano a cero no representable.\n"
          ]
        },
        {
          "output_type": "execute_result",
          "data": {
            "text/plain": [
              "1147.596288534586"
            ]
          },
          "metadata": {},
          "execution_count": 134
        }
      ],
      "source": [
        "lista_resultados_NR_cota_2, encontrado_NR_cota_2 = metodo_newton_raphson(f, f_derivada_primera, semilla_p0, tolerancia=COTA_DE_ERROR_2)\n",
        "\n",
        "extraer_ultimo_pn(lista_resultados_NR_cota_2)"
      ]
    },
    {
      "cell_type": "markdown",
      "source": [
        "Dado que el error entre dos iteraciones resultó $|p_n - p_{n-1}| = 0$, no hubo diferencia entre el valor de las aproximaciones consecutivas de la raíz.\n",
        "Esto se puede explicar debido a la cantidad de digitos significativos con la que trabaja la computadora, por lo cual concluimos que:\n",
        "\n",
        "Dado que el método no imprimió ningun error y además el valor está dentro del intervalo $[1100; 1200]$, junto con lo anteriormente expuesto concluimos que la cantidad de producto mínima para cumplir con la restricción de contribución mínima mensual y la justificación del setup de las máquinas con la tolerancia de $1\\cdot10^{-12}$ es: \n",
        "\n",
        "$x = [1147.596288534586 \\pm 10^{-12}]kg$\n"
      ],
      "metadata": {
        "id": "STycKjAtH1-I"
      }
    },
    {
      "cell_type": "markdown",
      "metadata": {
        "id": "JVyylz2wYW62"
      },
      "source": [
        "#### **1.2.2.4 Método de Newton-Raphson modificado:**"
      ]
    },
    {
      "cell_type": "markdown",
      "metadata": {
        "id": "iSdrgkbWCR_e"
      },
      "source": [
        "##### *Definiciones previas*\n",
        "\n",
        "$f(x) = 0,001\\frac{$}{kg^3}·x·(x−1000kg)^2 - \\$25000$ \n",
        "\n",
        "$f'(x) = 0,001\\frac{$}{kg^3} ·(x−1000kg)^2 + 2 \\cdot 0,001\\frac{$}{kg^3} ⋅ x ⋅ (x−1000kg)$"
      ]
    },
    {
      "cell_type": "markdown",
      "metadata": {
        "id": "vr7q2QpJC0gV"
      },
      "source": [
        "##### *Verificación de la convergencia del método*\n",
        "\n",
        "A partir del analsis realizado para el método de Newton-Raphson:\n",
        "\n",
        "Dado que $f$ es un polinomio de grado 3 $⇒$ $f \\in C^2[1100,1200]$\n",
        "\n",
        "$ f(x) = 0$ $∀$ $x \\in [1100, 1200]$, \n",
        "\n",
        "$f'(x) \\neq 0$ $∀$ $x \\in [1100, 1200]$\n",
        "\n",
        "Podemos concluir que $f$ tiene un cero simple en el intervalo $[1100, 1200]$\n",
        "\n",
        "Dado que la multiplicidad de la raíz de $f$ no modifica la convergencia cuadrática que posee el método, solo resta indicar que la funcion $g$ definida de la siguiente manera, es continua:\n",
        "\n",
        "$g(x) = x - \\frac{f(x) \\cdot f'(x)}{[f'(x)]^2 - f(x) ⋅ f''(x)}$\n",
        "\n",
        "Defino: $ϕ(x) = \\frac{f(x) \\cdot f'(x)}{[f'(x)]^2 - f(x) ⋅ f''(x)}$\n",
        "\n",
        "$⇒ g(x) = x - ϕ(x)$\n",
        "\n",
        "Por lo tanto debemos verificar que la funcion $ϕ$ sea continua dentro del intervalo $[1100, 1200]$.\n",
        "\n",
        "Para verificar la continuidad de $ϕ$ debo ver en que punto se anula la expresion: $[f'(x)]^2 - f(x) ⋅ f''(x)$ ya que el numerador de $ϕ(x) = \\frac{f(x) \\cdot f'(x)}{[f'(x)]^2 - f(x) ⋅ f''(x)}$ es una funcion continua, dado que $f$ es un polinomio de grado (multiplicacion de funciones continuas da como resultado una funcion continua).\n",
        "\n",
        "Busco $f''(x)$:\n",
        "\n",
        "$f'(x) = 0,001\\frac{$}{kg^3} ·(x−1000kg)^2 + 2 \\cdot 0,001\\frac{$}{kg^3} ⋅ x ⋅ (x−1000kg)$\n",
        "\n",
        "$f''(x) = 2 ⋅ 0,001\\frac{$}{kg^3} ·(x−1000kg) + 2 \\cdot 0,001\\frac{$}{kg^3} ⋅ (x−1000kg) + 2 \\cdot 0,001\\frac{$}{kg^3} ⋅ x $\n",
        "\n",
        "$f''(x) = 2 ⋅ 0,001\\frac{$}{kg^3} · [2 \\cdot (x−1000kg) +  x ]$\n",
        "\n",
        "$f''(x) = 2 ⋅ 0,001\\frac{$}{kg^3} · (3x−2000kg)$\n",
        "\n",
        "$f''(x) = 0.006\\frac{$}{kg^3} · x − 4 \\frac{$}{kg^2} $\n",
        "\n",
        "Grafico la funcion $α(x) = [f'(x)]^2 - f(x) ⋅ f''(x)$  en el intervalo $[1100, 1200]$ para ver si posee raices:\n",
        "\n",
        "$α(x) = [0,001\\frac{$}{kg^3} ·(x−1000kg)^2 + 2 \\cdot 0,001\\frac{$}{kg^3} ⋅ x ⋅ (x−1000kg)] ^ 2 - (0,001\\frac{$}{kg^3}·x·(x−1000kg)^2 - \\$25000) ⋅ (0,001\\frac{$}{kg^3} ·(x−1000kg)^2 + 2 \\cdot 0,001\\frac{$}{kg^3} ⋅ x ⋅ (x−1000kg))$"
      ]
    },
    {
      "cell_type": "code",
      "execution_count": 135,
      "metadata": {
        "id": "eRlb3HMkYW62"
      },
      "outputs": [],
      "source": [
        "def f_derivada_segunda(x):\n",
        "  return 0.006*x - 4"
      ]
    },
    {
      "cell_type": "code",
      "execution_count": 136,
      "metadata": {
        "id": "GoF-oBqXMnKM"
      },
      "outputs": [],
      "source": [
        "def alpha(f, f_derivada_primera, f_derivada_segunda, x):\n",
        "    return ((f_derivada_primera(x)) ** 2) - (f(x) * f_derivada_segunda(x))"
      ]
    },
    {
      "cell_type": "code",
      "execution_count": 137,
      "metadata": {
        "colab": {
          "base_uri": "https://localhost:8080/",
          "height": 729
        },
        "id": "ErK39W-VNVKJ",
        "outputId": "3760d0e6-a67c-47b5-da2f-2f53c9120ba6"
      },
      "outputs": [
        {
          "output_type": "display_data",
          "data": {
            "text/plain": [
              "<Figure size 720x720 with 1 Axes>"
            ],
            "image/png": "[encoded data removed]"
          },
          "metadata": {
            "needs_background": "light"
          }
        }
      ],
      "source": [
        "intervalo = np.linspace(1050,1250,100)\n",
        "func = alpha(f, f_derivada_primera, f_derivada_segunda, intervalo)\n",
        "\n",
        "fig, ax = plt.subplots(figsize=(10, 10))\n",
        "\n",
        "plt.title(\"Grafica función f'(x)\")\n",
        "plt.xlabel(\"x\")\n",
        "plt.ylabel(\"y\")\n",
        "\n",
        "plt.plot(intervalo, func, label = \"$α(x)$\", color = 'blue', linewidth= 2)\n",
        "\n",
        "plt.plot([1050,1250],[0,0], label = 'eje x', color = 'black')\n",
        "\n",
        "plt.plot([1100,1100],[-25000,200000], label = 'x = 1100 [kg]', color = 'grey', linestyle='--', linewidth= 2)\n",
        "plt.plot([1200,1200],[-25000,200000], label = 'x = 1200 [kg]', color = 'grey', linestyle='--', linewidth= 2)\n",
        "\n",
        "ax.set_xlim(1050, 1250)\n",
        "ax.set_ylim(-25000, 200000)\n",
        "\n",
        "plt.grid()\n",
        "plt.legend(loc = 'best')\n",
        "plt.show()"
      ]
    },
    {
      "cell_type": "markdown",
      "metadata": {
        "id": "eJFVZaMnPWxW"
      },
      "source": [
        "Dado que la funcion $α$ no contiene raices en el intervalo $[1100, 1200]$ $⇒ ϕ$ es continua dentro de dicho intervalo $⇒ g$ es continua dentro de dicho intervalo.\n",
        "\n",
        "Esto implica que la convergencia de este método esta asegurada y ademas es cuadrática."
      ]
    },
    {
      "cell_type": "markdown",
      "metadata": {
        "id": "05WEzakBQDEX"
      },
      "source": [
        "##### *Aplicación del método* \n",
        "\n",
        "La semilla $p_0$ se obtiene a partir de la primer iteracion del método de la biseccion, en donde anteriormente se demostró que dicho método convergerá a la raiz.\n",
        "\n",
        "Tomando el intervalo $[1100, 1200]$ ⇒ $p_0 = \\frac{(a + b)}{2} = \\frac{(1100 \\cdot kg + 1200 \\cdot kg)}{2} = 1150 kg$"
      ]
    },
    {
      "cell_type": "code",
      "execution_count": 138,
      "metadata": {
        "id": "kinwPHXYYW64"
      },
      "outputs": [],
      "source": [
        "semilla_p0 = 1150"
      ]
    },
    {
      "cell_type": "code",
      "execution_count": 139,
      "metadata": {
        "id": "ZHxFTea_QWfy",
        "colab": {
          "base_uri": "https://localhost:8080/"
        },
        "outputId": "300266b4-9711-4e0e-c097-87e99d36a24a"
      },
      "outputs": [
        {
          "output_type": "execute_result",
          "data": {
            "text/plain": [
              "1147.596288534586"
            ]
          },
          "metadata": {},
          "execution_count": 139
        }
      ],
      "source": [
        "lista_resultados_NR_multiple_cota_1, encontrado_NR_multiple_cota_1 = metodo_newton_raphson_para_raices_multiples(f, f_derivada_primera, f_derivada_segunda, semilla_p0, tolerancia=COTA_DE_ERROR_1)\n",
        "\n",
        "extraer_ultimo_pn(lista_resultados_NR_multiple_cota_1)"
      ]
    },
    {
      "cell_type": "markdown",
      "source": [
        "Dado que el método no imprimió ningun error y además el valor está dentro del intervalo $[1100; 1200]$, junto con lo anteriormente expuesto concluimos que la cantidad de producto mínima para cumplir con la restricción de contribución mínima mensual y la justificación del setup de las máquinas con la tolerancia de $1\\cdot10^{-5}$ es: \n",
        "\n",
        "$x = [1147.59629 \\pm 0.00001]kg$\n"
      ],
      "metadata": {
        "id": "9AScImLEEuLX"
      }
    },
    {
      "cell_type": "code",
      "execution_count": 140,
      "metadata": {
        "colab": {
          "base_uri": "https://localhost:8080/"
        },
        "id": "Hvq2Shl9YW64",
        "outputId": "285a36b1-543b-4ff5-ad86-4a6fc17e0dc4"
      },
      "outputs": [
        {
          "output_type": "stream",
          "name": "stdout",
          "text": [
            "La cota del error es un valor muy cercano a cero no representable.\n"
          ]
        },
        {
          "output_type": "execute_result",
          "data": {
            "text/plain": [
              "1147.596288534586"
            ]
          },
          "metadata": {},
          "execution_count": 140
        }
      ],
      "source": [
        "lista_resultados_NR_multiple_cota_2, encontrado_NR_multiple_cota_2 = metodo_newton_raphson_para_raices_multiples(f, f_derivada_primera, f_derivada_segunda, semilla_p0, tolerancia=COTA_DE_ERROR_2)\n",
        "\n",
        "extraer_ultimo_pn(lista_resultados_NR_multiple_cota_2)"
      ]
    },
    {
      "cell_type": "markdown",
      "source": [
        "Dado que el error entre dos iteraciones resultó $|p_n - p_{n-1}| = 0$, no hubo diferencia entre el valor de las aproximaciones consecutivas de la raíz.\n",
        "Esto se puede explicar debido a la cantidad de digitos significativos con la que trabaja la computadora, por lo cual concluimos que:\n",
        "\n",
        "Dado que el método no imprimió ningun error y además el valor está dentro del intervalo $[1100; 1200]$, junto con lo anteriormente expuesto concluimos que la cantidad de producto mínima para cumplir con la restricción de contribución mínima mensual y la justificación del setup de las máquinas con la tolerancia de $1\\cdot10^{-12}$ es: \n",
        "\n",
        "$x = [1147.596288534586 \\pm 10^{-12}]kg$\n"
      ],
      "metadata": {
        "id": "vVmKDUpWEuLX"
      }
    },
    {
      "cell_type": "markdown",
      "metadata": {
        "id": "qWlJUjnQYW65"
      },
      "source": [
        "#### **1.2.2.5 Método de la Secante:**"
      ]
    },
    {
      "cell_type": "markdown",
      "source": [
        "##### *Definiciones previas*\n",
        "\n",
        "$f(x) = 0,001\\frac{$}{kg^3}·x·(x−1000kg)^2 - \\$25000$ "
      ],
      "metadata": {
        "id": "4PKkQHsERsjt"
      }
    },
    {
      "cell_type": "markdown",
      "source": [
        "Dado que el método de la Secante proviene del método de Newton-Raphson, con el objetivo de no utilizar $f'(x)$, realizando la siguiente aproximación:\n",
        "\n",
        "$f'(p_{n-1}) ≅ \\frac{f(p_{n-2}) - f(p_{n-1})}{p_{n-2} - p_{n-1}}$ \n",
        "\n",
        "Es por esto que el método de la Secante posee las mismas condiciones de convergencia que el método de Newton-Raphson.\n",
        "\n",
        "Gracias al análisis realizado en el método de Newton-Raphson en donde:\n",
        "\n",
        "Dado que $f$ es un polinomio de grado 3 $⇒$ $f \\in C^2[1100,1200]$\n",
        "\n",
        "$ f(x) = 0$ $∀$ $x \\in [1100, 1200]$, \n",
        "\n",
        "$f'(x) \\neq 0$ $∀$ $x \\in [1100, 1200]$\n",
        "\n",
        "Entonces podemos concluir que el método de la Secante convergerá a la unica raiz contenida en el intervalo $[1100, 1200]$."
      ],
      "metadata": {
        "id": "faVb5hlgSIVO"
      }
    },
    {
      "cell_type": "markdown",
      "source": [
        "##### *Aplicación del método* \n",
        "\n",
        "La semilla $p_0$ se obtiene a partir de la primer iteracion del método de la biseccion, en donde anteriormente se demostró que dicho método convergerá a la raiz.\n",
        "\n",
        "Tomando el intervalo $[1100, 1200]$ ⇒ $p_0 = \\frac{(a + b)}{2} = \\frac{(1100 \\cdot kg + 1200 \\cdot kg)}{2} = 1150 kg$\n",
        "\n",
        "La semilla $p_1$ también la voy a obtener a partir del método de la bisección, pero con la segunda iteración.\n",
        "\n",
        "Para esto verifico cual es mi nuevo intervalo:\n",
        "\n",
        "$f(1150) = 0 ⇒ x = 1150kg$ es la raíz de $f$.  \n",
        "\n",
        "$f(1100) \\cdot f(1150) < 0 ⇒$ el nuevo intervalo es $[1100, 1150]$\n",
        "\n",
        "$f(1150) \\cdot f(1200) < 0 ⇒$ el nuevo intervalo es $[1150, 1200]$"
      ],
      "metadata": {
        "id": "RpF8CWXAVbZn"
      }
    },
    {
      "cell_type": "code",
      "source": [
        "f(1100)*f(1150) < 0"
      ],
      "metadata": {
        "colab": {
          "base_uri": "https://localhost:8080/"
        },
        "id": "lb_A2rbBVzu8",
        "outputId": "af3fbd6f-41fb-4fc7-c712-71c0cd497de7"
      },
      "execution_count": 141,
      "outputs": [
        {
          "output_type": "execute_result",
          "data": {
            "text/plain": [
              "True"
            ]
          },
          "metadata": {},
          "execution_count": 141
        }
      ]
    },
    {
      "cell_type": "code",
      "source": [
        "f(1150)*f(1200) < 0"
      ],
      "metadata": {
        "colab": {
          "base_uri": "https://localhost:8080/"
        },
        "id": "fUH5zCj4Vz5e",
        "outputId": "7e4c8073-abb4-4c6b-8655-c8fbd53ddad0"
      },
      "execution_count": 142,
      "outputs": [
        {
          "output_type": "execute_result",
          "data": {
            "text/plain": [
              "False"
            ]
          },
          "metadata": {},
          "execution_count": 142
        }
      ]
    },
    {
      "cell_type": "markdown",
      "source": [
        "Observando los resultados obtenidos, el nuevo intervalo resultante será $[1100, 1150]$.\n",
        "\n",
        "Por lo tanto la segunda semilla del método de la Secante será la siguiente:\n",
        "\n",
        "$p_1 = \\frac{(a + b)}{2} = \\frac{(1100 \\cdot kg + 1150 \\cdot kg)}{2} = 1125 kg$"
      ],
      "metadata": {
        "id": "0zojCB9oWCw7"
      }
    },
    {
      "cell_type": "code",
      "execution_count": 143,
      "metadata": {
        "id": "OeUybE4tYW7A",
        "colab": {
          "base_uri": "https://localhost:8080/"
        },
        "outputId": "a416f10e-8ec0-48b9-f7a2-57694b82bee7"
      },
      "outputs": [
        {
          "output_type": "execute_result",
          "data": {
            "text/plain": [
              "1147.596288534586"
            ]
          },
          "metadata": {},
          "execution_count": 143
        }
      ],
      "source": [
        "semilla_p0 = 1150\n",
        "semilla_p1 = 1125\n",
        "\n",
        "lista_resultados_secante_cota_1, encontrado_secante_cota_1 = metodo_secante(f, semilla_p0, semilla_p1, tolerancia=COTA_DE_ERROR_1)\n",
        "\n",
        "extraer_ultimo_pn(lista_resultados_secante_cota_1)"
      ]
    },
    {
      "cell_type": "markdown",
      "source": [
        "Dado que el método no imprimió ningun error y además el valor está dentro del intervalo $[1100; 1200]$, junto con lo anteriormente expuesto concluimos que la cantidad de producto mínima para cumplir con la restricción de contribución mínima mensual y la justificación del setup de las máquinas con la tolerancia de $1\\cdot10^{-5}$ es: \n",
        "\n",
        "$x = [1147.59629 \\pm 0.00001]kg$\n"
      ],
      "metadata": {
        "id": "qxRl9a_iKT5D"
      }
    },
    {
      "cell_type": "code",
      "execution_count": 144,
      "metadata": {
        "colab": {
          "base_uri": "https://localhost:8080/"
        },
        "outputId": "f6bb23fd-65bc-4e99-ff3c-d67a65b0e3bd",
        "id": "OWpXFowDYW7A"
      },
      "outputs": [
        {
          "output_type": "stream",
          "name": "stdout",
          "text": [
            "La cota del error es un valor muy cercano a cero no representable.\n"
          ]
        },
        {
          "output_type": "execute_result",
          "data": {
            "text/plain": [
              "1147.596288534586"
            ]
          },
          "metadata": {},
          "execution_count": 144
        }
      ],
      "source": [
        "lista_resultados_secante_cota_2, encontrado_secante_cota_2 = metodo_secante(f, semilla_p0, semilla_p1, tolerancia=COTA_DE_ERROR_2)\n",
        "\n",
        "extraer_ultimo_pn(lista_resultados_secante_cota_2)"
      ]
    },
    {
      "cell_type": "markdown",
      "source": [
        "Dado que el error entre dos iteraciones resultó $|p_n - p_{n-1}| = 0$, no hubo diferencia entre el valor de las aproximaciones consecutivas de la raíz.\n",
        "Esto se puede explicar debido a la cantidad de digitos significativos con la que trabaja la computadora, por lo cual concluimos que:\n",
        "\n",
        "Dado que el método no imprimió ningun error y además el valor está dentro del intervalo $[1100; 1200]$, junto con lo anteriormente expuesto concluimos que la cantidad de producto mínima para cumplir con la restricción de contribución mínima mensual y la justificación del setup de las máquinas con la tolerancia de $1\\cdot10^{-12}$ es: \n",
        "\n",
        "$x = [1147.596288534586 \\pm 10^{-12}]kg$\n"
      ],
      "metadata": {
        "id": "kiZsSZoLKYkc"
      }
    },
    {
      "cell_type": "markdown",
      "metadata": {
        "id": "EPtoazQUkG3u"
      },
      "source": [
        "### 1.2.3 (Pregunta $c$) Realizar una tabla con los resultados de las iteraciones, convergencia $P$ y la constante asintótica $\\lambda$. \n",
        "### En caso de que se encuentren más de 12 iteraciones, solamente incluir en la tabla las primeras 5 iteraciones y luego las últimas 5."
      ]
    },
    {
      "cell_type": "markdown",
      "source": [
        "En las siguientes tablas se muestran los valores correspondientes a todos los resultados obtenidos por cada método hasta encontrar la raíz con la precisión pedida, o en su defecto hasta que el método se detenga por alguna de las siguientes causas:\n",
        "- Máxima cantidad de iteraciones (Decidida en 30 en base a los resultados generales).\n",
        "- Valor máximo de error entre iteraciones (en el caso en el que un método diverge).\n",
        "- Valor mínimo de error entre iteraciones (en el caso en el que el error actual no sea aritmeticamente operable por ser muy pequeño)."
      ],
      "metadata": {
        "id": "5UN0KUOHnBXR"
      }
    },
    {
      "cell_type": "markdown",
      "source": [
        "Siendo que la computadora trabaja con una cantidad finita de dígitos y la cota del error dada ($1\\cdot10^{-13}$) la supera, ocurre que dos aproximaciones consecutivas de la raíz poseen el mismo valor, lo cual no implica que se haya encontrado la raíz exacta sino que es una limitación de representación.\n",
        "\n",
        "Esto conlleva a que la constante asintótica y el orden de convergencia no puedan ser calculados para aproximaciones de raíz con mismo valor como sucede en la última iteración.\n",
        "\n",
        "Esto sucede en la aplicación de los métodos: \n",
        "- NR.\n",
        "- NR modificado.\n",
        "- Secante."
      ],
      "metadata": {
        "id": "CzBwfJOPLS99"
      }
    },
    {
      "cell_type": "markdown",
      "metadata": {
        "id": "e2pfQ6uREgBl"
      },
      "source": [
        "#### 1.2.3.1 Método de Bisección"
      ]
    },
    {
      "cell_type": "code",
      "execution_count": 145,
      "metadata": {
        "colab": {
          "base_uri": "https://localhost:8080/",
          "height": 363
        },
        "id": "wpkT7VPIEfD_",
        "outputId": "aefee2ee-477b-4730-a89f-1499627a5917"
      },
      "outputs": [
        {
          "output_type": "execute_result",
          "data": {
            "text/plain": [
              "             an           bn           pn      error  alfa  lambda\n",
              "0   1100.000000  1200.000000  1150.000000  50.000000   NaN     NaN\n",
              "1   1100.000000  1150.000000  1125.000000  25.000000   NaN     NaN\n",
              "2   1125.000000  1150.000000  1137.500000  12.500000   NaN     NaN\n",
              "3   1137.500000  1150.000000  1143.750000   6.250000   1.0     0.5\n",
              "4   1143.750000  1150.000000  1146.875000   3.125000   1.0     0.5\n",
              "19  1147.596169  1147.596359  1147.596264   0.000095   1.0     0.5\n",
              "20  1147.596264  1147.596359  1147.596312   0.000048   1.0     0.5\n",
              "21  1147.596264  1147.596312  1147.596288   0.000024   1.0     0.5\n",
              "22  1147.596288  1147.596312  1147.596300   0.000012   1.0     0.5\n",
              "23  1147.596288  1147.596300  1147.596294   0.000006   1.0     0.5"
            ],
            "text/html": [
              "\n",
              "  <div id=\"df-ba0ad4a2-0058-42e0-8529-f87d341c0e5c\">\n",
              "    <div class=\"colab-df-container\">\n",
              "      <div>\n",
              "<style scoped>\n",
              "    .dataframe tbody tr th:only-of-type {\n",
              "        vertical-align: middle;\n",
              "    }\n",
              "\n",
              "    .dataframe tbody tr th {\n",
              "        vertical-align: top;\n",
              "    }\n",
              "\n",
              "    .dataframe thead th {\n",
              "        text-align: right;\n",
              "    }\n",
              "</style>\n",
              "<table border=\"1\" class=\"dataframe\">\n",
              "  <thead>\n",
              "    <tr style=\"text-align: right;\">\n",
              "      <th></th>\n",
              "      <th>an</th>\n",
              "      <th>bn</th>\n",
              "      <th>pn</th>\n",
              "      <th>error</th>\n",
              "      <th>alfa</th>\n",
              "      <th>lambda</th>\n",
              "    </tr>\n",
              "  </thead>\n",
              "  <tbody>\n",
              "    <tr>\n",
              "      <th>0</th>\n",
              "      <td>1100.000000</td>\n",
              "      <td>1200.000000</td>\n",
              "      <td>1150.000000</td>\n",
              "      <td>50.000000</td>\n",
              "      <td>NaN</td>\n",
              "      <td>NaN</td>\n",
              "    </tr>\n",
              "    <tr>\n",
              "      <th>1</th>\n",
              "      <td>1100.000000</td>\n",
              "      <td>1150.000000</td>\n",
              "      <td>1125.000000</td>\n",
              "      <td>25.000000</td>\n",
              "      <td>NaN</td>\n",
              "      <td>NaN</td>\n",
              "    </tr>\n",
              "    <tr>\n",
              "      <th>2</th>\n",
              "      <td>1125.000000</td>\n",
              "      <td>1150.000000</td>\n",
              "      <td>1137.500000</td>\n",
              "      <td>12.500000</td>\n",
              "      <td>NaN</td>\n",
              "      <td>NaN</td>\n",
              "    </tr>\n",
              "    <tr>\n",
              "      <th>3</th>\n",
              "      <td>1137.500000</td>\n",
              "      <td>1150.000000</td>\n",
              "      <td>1143.750000</td>\n",
              "      <td>6.250000</td>\n",
              "      <td>1.0</td>\n",
              "      <td>0.5</td>\n",
              "    </tr>\n",
              "    <tr>\n",
              "      <th>4</th>\n",
              "      <td>1143.750000</td>\n",
              "      <td>1150.000000</td>\n",
              "      <td>1146.875000</td>\n",
              "      <td>3.125000</td>\n",
              "      <td>1.0</td>\n",
              "      <td>0.5</td>\n",
              "    </tr>\n",
              "    <tr>\n",
              "      <th>19</th>\n",
              "      <td>1147.596169</td>\n",
              "      <td>1147.596359</td>\n",
              "      <td>1147.596264</td>\n",
              "      <td>0.000095</td>\n",
              "      <td>1.0</td>\n",
              "      <td>0.5</td>\n",
              "    </tr>\n",
              "    <tr>\n",
              "      <th>20</th>\n",
              "      <td>1147.596264</td>\n",
              "      <td>1147.596359</td>\n",
              "      <td>1147.596312</td>\n",
              "      <td>0.000048</td>\n",
              "      <td>1.0</td>\n",
              "      <td>0.5</td>\n",
              "    </tr>\n",
              "    <tr>\n",
              "      <th>21</th>\n",
              "      <td>1147.596264</td>\n",
              "      <td>1147.596312</td>\n",
              "      <td>1147.596288</td>\n",
              "      <td>0.000024</td>\n",
              "      <td>1.0</td>\n",
              "      <td>0.5</td>\n",
              "    </tr>\n",
              "    <tr>\n",
              "      <th>22</th>\n",
              "      <td>1147.596288</td>\n",
              "      <td>1147.596312</td>\n",
              "      <td>1147.596300</td>\n",
              "      <td>0.000012</td>\n",
              "      <td>1.0</td>\n",
              "      <td>0.5</td>\n",
              "    </tr>\n",
              "    <tr>\n",
              "      <th>23</th>\n",
              "      <td>1147.596288</td>\n",
              "      <td>1147.596300</td>\n",
              "      <td>1147.596294</td>\n",
              "      <td>0.000006</td>\n",
              "      <td>1.0</td>\n",
              "      <td>0.5</td>\n",
              "    </tr>\n",
              "  </tbody>\n",
              "</table>\n",
              "</div>\n",
              "      <button class=\"colab-df-convert\" onclick=\"convertToInteractive('df-ba0ad4a2-0058-42e0-8529-f87d341c0e5c')\"\n",
              "              title=\"Convert this dataframe to an interactive table.\"\n",
              "              style=\"display:none;\">\n",
              "        \n",
              "  <svg xmlns=\"http://www.w3.org/2000/svg\" height=\"24px\"viewBox=\"0 0 24 24\"\n",
              "       width=\"24px\">\n",
              "    <path d=\"M0 0h24v24H0V0z\" fill=\"none\"/>\n",
              "    <path d=\"M18.56 5.44l.94 2.06.94-2.06 2.06-.94-2.06-.94-.94-2.06-.94 2.06-2.06.94zm-11 1L8.5 8.5l.94-2.06 2.06-.94-2.06-.94L8.5 2.5l-.94 2.06-2.06.94zm10 10l.94 2.06.94-2.06 2.06-.94-2.06-.94-.94-2.06-.94 2.06-2.06.94z\"/><path d=\"M17.41 7.96l-1.37-1.37c-.4-.4-.92-.59-1.43-.59-.52 0-1.04.2-1.43.59L10.3 9.45l-7.72 7.72c-.78.78-.78 2.05 0 2.83L4 21.41c.39.39.9.59 1.41.59.51 0 1.02-.2 1.41-.59l7.78-7.78 2.81-2.81c.8-.78.8-2.07 0-2.86zM5.41 20L4 18.59l7.72-7.72 1.47 1.35L5.41 20z\"/>\n",
              "  </svg>\n",
              "      </button>\n",
              "      \n",
              "  <style>\n",
              "    .colab-df-container {\n",
              "      display:flex;\n",
              "      flex-wrap:wrap;\n",
              "      gap: 12px;\n",
              "    }\n",
              "\n",
              "    .colab-df-convert {\n",
              "      background-color: #E8F0FE;\n",
              "      border: none;\n",
              "      border-radius: 50%;\n",
              "      cursor: pointer;\n",
              "      display: none;\n",
              "      fill: #1967D2;\n",
              "      height: 32px;\n",
              "      padding: 0 0 0 0;\n",
              "      width: 32px;\n",
              "    }\n",
              "\n",
              "    .colab-df-convert:hover {\n",
              "      background-color: #E2EBFA;\n",
              "      box-shadow: 0px 1px 2px rgba(60, 64, 67, 0.3), 0px 1px 3px 1px rgba(60, 64, 67, 0.15);\n",
              "      fill: #174EA6;\n",
              "    }\n",
              "\n",
              "    [theme=dark] .colab-df-convert {\n",
              "      background-color: #3B4455;\n",
              "      fill: #D2E3FC;\n",
              "    }\n",
              "\n",
              "    [theme=dark] .colab-df-convert:hover {\n",
              "      background-color: #434B5C;\n",
              "      box-shadow: 0px 1px 3px 1px rgba(0, 0, 0, 0.15);\n",
              "      filter: drop-shadow(0px 1px 2px rgba(0, 0, 0, 0.3));\n",
              "      fill: #FFFFFF;\n",
              "    }\n",
              "  </style>\n",
              "\n",
              "      <script>\n",
              "        const buttonEl =\n",
              "          document.querySelector('#df-ba0ad4a2-0058-42e0-8529-f87d341c0e5c button.colab-df-convert');\n",
              "        buttonEl.style.display =\n",
              "          google.colab.kernel.accessAllowed ? 'block' : 'none';\n",
              "\n",
              "        async function convertToInteractive(key) {\n",
              "          const element = document.querySelector('#df-ba0ad4a2-0058-42e0-8529-f87d341c0e5c');\n",
              "          const dataTable =\n",
              "            await google.colab.kernel.invokeFunction('convertToInteractive',\n",
              "                                                     [key], {});\n",
              "          if (!dataTable) return;\n",
              "\n",
              "          const docLinkHtml = 'Like what you see? Visit the ' +\n",
              "            '<a target=\"_blank\" href=https://colab.research.google.com/notebooks/data_table.ipynb>data table notebook</a>'\n",
              "            + ' to learn more about interactive tables.';\n",
              "          element.innerHTML = '';\n",
              "          dataTable['output_type'] = 'display_data';\n",
              "          await google.colab.output.renderOutput(dataTable, element);\n",
              "          const docLink = document.createElement('div');\n",
              "          docLink.innerHTML = docLinkHtml;\n",
              "          element.appendChild(docLink);\n",
              "        }\n",
              "      </script>\n",
              "    </div>\n",
              "  </div>\n",
              "  "
            ]
          },
          "metadata": {},
          "execution_count": 145
        }
      ],
      "source": [
        "lista_pn_biseccion_cota_1 = extraer_pn_biseccion(lista_resultados_biseccion_cota_1)\n",
        "lista_errores_biseccion_cota_1 = extraer_errores_biseccion(lista_resultados_biseccion_cota_1)\n",
        "lista_alfa_biseccion_cota_1 = calcular_orden_de_convergencia_alfa(lista_pn_biseccion_cota_1)\n",
        "lista_cte_asintotica_biseccion_cota_1 = calcular_cte_asintotica_lambda(lista_errores_biseccion_cota_1, lista_alfa_biseccion_cota_1)\n",
        "\n",
        "tabla_de_resultados = lista_resultados_a_dataframe(lista_resultados_biseccion_cota_1,lista_alfa_biseccion_cota_1,lista_cte_asintotica_biseccion_cota_1,['an', 'bn', 'pn', 'error','alfa','lambda'])\n",
        "tabla_de_resultados"
      ]
    },
    {
      "cell_type": "code",
      "execution_count": 146,
      "metadata": {
        "colab": {
          "base_uri": "https://localhost:8080/",
          "height": 363
        },
        "id": "elycKuaLF2M2",
        "outputId": "bb168cb0-af2e-4880-ab5d-1deac0344416"
      },
      "outputs": [
        {
          "output_type": "execute_result",
          "data": {
            "text/plain": [
              "             an           bn           pn         error  alfa  lambda\n",
              "0   1100.000000  1200.000000  1150.000000  5.000000e+01   NaN     NaN\n",
              "1   1100.000000  1150.000000  1125.000000  2.500000e+01   NaN     NaN\n",
              "2   1125.000000  1150.000000  1137.500000  1.250000e+01   NaN     NaN\n",
              "3   1137.500000  1150.000000  1143.750000  6.250000e+00   1.0     0.5\n",
              "4   1143.750000  1150.000000  1146.875000  3.125000e+00   1.0     0.5\n",
              "25  1147.596288  1147.596291  1147.596289  1.490116e-06   1.0     0.5\n",
              "26  1147.596288  1147.596289  1147.596288  7.450581e-07   1.0     0.5\n",
              "27  1147.596288  1147.596289  1147.596289  3.725290e-07   1.0     0.5\n",
              "28  1147.596288  1147.596289  1147.596289  1.862645e-07   1.0     0.5\n",
              "29  1147.596288  1147.596289  1147.596289  9.313226e-08   1.0     0.5"
            ],
            "text/html": [
              "\n",
              "  <div id=\"df-c20953d6-85c2-44f2-8f28-bcc332a0672d\">\n",
              "    <div class=\"colab-df-container\">\n",
              "      <div>\n",
              "<style scoped>\n",
              "    .dataframe tbody tr th:only-of-type {\n",
              "        vertical-align: middle;\n",
              "    }\n",
              "\n",
              "    .dataframe tbody tr th {\n",
              "        vertical-align: top;\n",
              "    }\n",
              "\n",
              "    .dataframe thead th {\n",
              "        text-align: right;\n",
              "    }\n",
              "</style>\n",
              "<table border=\"1\" class=\"dataframe\">\n",
              "  <thead>\n",
              "    <tr style=\"text-align: right;\">\n",
              "      <th></th>\n",
              "      <th>an</th>\n",
              "      <th>bn</th>\n",
              "      <th>pn</th>\n",
              "      <th>error</th>\n",
              "      <th>alfa</th>\n",
              "      <th>lambda</th>\n",
              "    </tr>\n",
              "  </thead>\n",
              "  <tbody>\n",
              "    <tr>\n",
              "      <th>0</th>\n",
              "      <td>1100.000000</td>\n",
              "      <td>1200.000000</td>\n",
              "      <td>1150.000000</td>\n",
              "      <td>5.000000e+01</td>\n",
              "      <td>NaN</td>\n",
              "      <td>NaN</td>\n",
              "    </tr>\n",
              "    <tr>\n",
              "      <th>1</th>\n",
              "      <td>1100.000000</td>\n",
              "      <td>1150.000000</td>\n",
              "      <td>1125.000000</td>\n",
              "      <td>2.500000e+01</td>\n",
              "      <td>NaN</td>\n",
              "      <td>NaN</td>\n",
              "    </tr>\n",
              "    <tr>\n",
              "      <th>2</th>\n",
              "      <td>1125.000000</td>\n",
              "      <td>1150.000000</td>\n",
              "      <td>1137.500000</td>\n",
              "      <td>1.250000e+01</td>\n",
              "      <td>NaN</td>\n",
              "      <td>NaN</td>\n",
              "    </tr>\n",
              "    <tr>\n",
              "      <th>3</th>\n",
              "      <td>1137.500000</td>\n",
              "      <td>1150.000000</td>\n",
              "      <td>1143.750000</td>\n",
              "      <td>6.250000e+00</td>\n",
              "      <td>1.0</td>\n",
              "      <td>0.5</td>\n",
              "    </tr>\n",
              "    <tr>\n",
              "      <th>4</th>\n",
              "      <td>1143.750000</td>\n",
              "      <td>1150.000000</td>\n",
              "      <td>1146.875000</td>\n",
              "      <td>3.125000e+00</td>\n",
              "      <td>1.0</td>\n",
              "      <td>0.5</td>\n",
              "    </tr>\n",
              "    <tr>\n",
              "      <th>25</th>\n",
              "      <td>1147.596288</td>\n",
              "      <td>1147.596291</td>\n",
              "      <td>1147.596289</td>\n",
              "      <td>1.490116e-06</td>\n",
              "      <td>1.0</td>\n",
              "      <td>0.5</td>\n",
              "    </tr>\n",
              "    <tr>\n",
              "      <th>26</th>\n",
              "      <td>1147.596288</td>\n",
              "      <td>1147.596289</td>\n",
              "      <td>1147.596288</td>\n",
              "      <td>7.450581e-07</td>\n",
              "      <td>1.0</td>\n",
              "      <td>0.5</td>\n",
              "    </tr>\n",
              "    <tr>\n",
              "      <th>27</th>\n",
              "      <td>1147.596288</td>\n",
              "      <td>1147.596289</td>\n",
              "      <td>1147.596289</td>\n",
              "      <td>3.725290e-07</td>\n",
              "      <td>1.0</td>\n",
              "      <td>0.5</td>\n",
              "    </tr>\n",
              "    <tr>\n",
              "      <th>28</th>\n",
              "      <td>1147.596288</td>\n",
              "      <td>1147.596289</td>\n",
              "      <td>1147.596289</td>\n",
              "      <td>1.862645e-07</td>\n",
              "      <td>1.0</td>\n",
              "      <td>0.5</td>\n",
              "    </tr>\n",
              "    <tr>\n",
              "      <th>29</th>\n",
              "      <td>1147.596288</td>\n",
              "      <td>1147.596289</td>\n",
              "      <td>1147.596289</td>\n",
              "      <td>9.313226e-08</td>\n",
              "      <td>1.0</td>\n",
              "      <td>0.5</td>\n",
              "    </tr>\n",
              "  </tbody>\n",
              "</table>\n",
              "</div>\n",
              "      <button class=\"colab-df-convert\" onclick=\"convertToInteractive('df-c20953d6-85c2-44f2-8f28-bcc332a0672d')\"\n",
              "              title=\"Convert this dataframe to an interactive table.\"\n",
              "              style=\"display:none;\">\n",
              "        \n",
              "  <svg xmlns=\"http://www.w3.org/2000/svg\" height=\"24px\"viewBox=\"0 0 24 24\"\n",
              "       width=\"24px\">\n",
              "    <path d=\"M0 0h24v24H0V0z\" fill=\"none\"/>\n",
              "    <path d=\"M18.56 5.44l.94 2.06.94-2.06 2.06-.94-2.06-.94-.94-2.06-.94 2.06-2.06.94zm-11 1L8.5 8.5l.94-2.06 2.06-.94-2.06-.94L8.5 2.5l-.94 2.06-2.06.94zm10 10l.94 2.06.94-2.06 2.06-.94-2.06-.94-.94-2.06-.94 2.06-2.06.94z\"/><path d=\"M17.41 7.96l-1.37-1.37c-.4-.4-.92-.59-1.43-.59-.52 0-1.04.2-1.43.59L10.3 9.45l-7.72 7.72c-.78.78-.78 2.05 0 2.83L4 21.41c.39.39.9.59 1.41.59.51 0 1.02-.2 1.41-.59l7.78-7.78 2.81-2.81c.8-.78.8-2.07 0-2.86zM5.41 20L4 18.59l7.72-7.72 1.47 1.35L5.41 20z\"/>\n",
              "  </svg>\n",
              "      </button>\n",
              "      \n",
              "  <style>\n",
              "    .colab-df-container {\n",
              "      display:flex;\n",
              "      flex-wrap:wrap;\n",
              "      gap: 12px;\n",
              "    }\n",
              "\n",
              "    .colab-df-convert {\n",
              "      background-color: #E8F0FE;\n",
              "      border: none;\n",
              "      border-radius: 50%;\n",
              "      cursor: pointer;\n",
              "      display: none;\n",
              "      fill: #1967D2;\n",
              "      height: 32px;\n",
              "      padding: 0 0 0 0;\n",
              "      width: 32px;\n",
              "    }\n",
              "\n",
              "    .colab-df-convert:hover {\n",
              "      background-color: #E2EBFA;\n",
              "      box-shadow: 0px 1px 2px rgba(60, 64, 67, 0.3), 0px 1px 3px 1px rgba(60, 64, 67, 0.15);\n",
              "      fill: #174EA6;\n",
              "    }\n",
              "\n",
              "    [theme=dark] .colab-df-convert {\n",
              "      background-color: #3B4455;\n",
              "      fill: #D2E3FC;\n",
              "    }\n",
              "\n",
              "    [theme=dark] .colab-df-convert:hover {\n",
              "      background-color: #434B5C;\n",
              "      box-shadow: 0px 1px 3px 1px rgba(0, 0, 0, 0.15);\n",
              "      filter: drop-shadow(0px 1px 2px rgba(0, 0, 0, 0.3));\n",
              "      fill: #FFFFFF;\n",
              "    }\n",
              "  </style>\n",
              "\n",
              "      <script>\n",
              "        const buttonEl =\n",
              "          document.querySelector('#df-c20953d6-85c2-44f2-8f28-bcc332a0672d button.colab-df-convert');\n",
              "        buttonEl.style.display =\n",
              "          google.colab.kernel.accessAllowed ? 'block' : 'none';\n",
              "\n",
              "        async function convertToInteractive(key) {\n",
              "          const element = document.querySelector('#df-c20953d6-85c2-44f2-8f28-bcc332a0672d');\n",
              "          const dataTable =\n",
              "            await google.colab.kernel.invokeFunction('convertToInteractive',\n",
              "                                                     [key], {});\n",
              "          if (!dataTable) return;\n",
              "\n",
              "          const docLinkHtml = 'Like what you see? Visit the ' +\n",
              "            '<a target=\"_blank\" href=https://colab.research.google.com/notebooks/data_table.ipynb>data table notebook</a>'\n",
              "            + ' to learn more about interactive tables.';\n",
              "          element.innerHTML = '';\n",
              "          dataTable['output_type'] = 'display_data';\n",
              "          await google.colab.output.renderOutput(dataTable, element);\n",
              "          const docLink = document.createElement('div');\n",
              "          docLink.innerHTML = docLinkHtml;\n",
              "          element.appendChild(docLink);\n",
              "        }\n",
              "      </script>\n",
              "    </div>\n",
              "  </div>\n",
              "  "
            ]
          },
          "metadata": {},
          "execution_count": 146
        }
      ],
      "source": [
        "lista_pn_biseccion_cota_2 = extraer_pn_biseccion(lista_resultados_biseccion_cota_2)\n",
        "lista_errores_biseccion_cota_2 = extraer_errores_biseccion(lista_resultados_biseccion_cota_2)\n",
        "lista_alfa_biseccion_cota_2 = calcular_orden_de_convergencia_alfa(lista_pn_biseccion_cota_2)\n",
        "lista_cte_asintotica_biseccion_cota_2 = calcular_cte_asintotica_lambda(lista_errores_biseccion_cota_2, lista_alfa_biseccion_cota_2)\n",
        "\n",
        "tabla_de_resultados = lista_resultados_a_dataframe(lista_resultados_biseccion_cota_2,lista_alfa_biseccion_cota_2,lista_cte_asintotica_biseccion_cota_2,['an', 'bn', 'pn', 'error','alfa','lambda'])\n",
        "tabla_de_resultados"
      ]
    },
    {
      "cell_type": "markdown",
      "metadata": {
        "id": "pbLH--Z4HDrw"
      },
      "source": [
        "####  1.2.3.2 Método de Punto Fijo"
      ]
    },
    {
      "cell_type": "code",
      "execution_count": 147,
      "metadata": {
        "colab": {
          "base_uri": "https://localhost:8080/",
          "height": 175
        },
        "id": "3fMaLmorHEdZ",
        "outputId": "cf11b048-fd5d-4e35-b2ae-6212b6d03581"
      },
      "outputs": [
        {
          "output_type": "execute_result",
          "data": {
            "text/plain": [
              "             pn         error      alfa    lambda\n",
              "0  1.150000e+03           NaN       NaN       NaN\n",
              "1  2.750000e+02  8.750000e+02       NaN       NaN\n",
              "2 -1.192719e+05  1.195469e+05       NaN       NaN\n",
              "3  1.725306e+12  1.725306e+12  3.352483  0.000016"
            ],
            "text/html": [
              "\n",
              "  <div id=\"df-506743c9-ca7d-4dd6-b633-92c4d5285fd6\">\n",
              "    <div class=\"colab-df-container\">\n",
              "      <div>\n",
              "<style scoped>\n",
              "    .dataframe tbody tr th:only-of-type {\n",
              "        vertical-align: middle;\n",
              "    }\n",
              "\n",
              "    .dataframe tbody tr th {\n",
              "        vertical-align: top;\n",
              "    }\n",
              "\n",
              "    .dataframe thead th {\n",
              "        text-align: right;\n",
              "    }\n",
              "</style>\n",
              "<table border=\"1\" class=\"dataframe\">\n",
              "  <thead>\n",
              "    <tr style=\"text-align: right;\">\n",
              "      <th></th>\n",
              "      <th>pn</th>\n",
              "      <th>error</th>\n",
              "      <th>alfa</th>\n",
              "      <th>lambda</th>\n",
              "    </tr>\n",
              "  </thead>\n",
              "  <tbody>\n",
              "    <tr>\n",
              "      <th>0</th>\n",
              "      <td>1.150000e+03</td>\n",
              "      <td>NaN</td>\n",
              "      <td>NaN</td>\n",
              "      <td>NaN</td>\n",
              "    </tr>\n",
              "    <tr>\n",
              "      <th>1</th>\n",
              "      <td>2.750000e+02</td>\n",
              "      <td>8.750000e+02</td>\n",
              "      <td>NaN</td>\n",
              "      <td>NaN</td>\n",
              "    </tr>\n",
              "    <tr>\n",
              "      <th>2</th>\n",
              "      <td>-1.192719e+05</td>\n",
              "      <td>1.195469e+05</td>\n",
              "      <td>NaN</td>\n",
              "      <td>NaN</td>\n",
              "    </tr>\n",
              "    <tr>\n",
              "      <th>3</th>\n",
              "      <td>1.725306e+12</td>\n",
              "      <td>1.725306e+12</td>\n",
              "      <td>3.352483</td>\n",
              "      <td>0.000016</td>\n",
              "    </tr>\n",
              "  </tbody>\n",
              "</table>\n",
              "</div>\n",
              "      <button class=\"colab-df-convert\" onclick=\"convertToInteractive('df-506743c9-ca7d-4dd6-b633-92c4d5285fd6')\"\n",
              "              title=\"Convert this dataframe to an interactive table.\"\n",
              "              style=\"display:none;\">\n",
              "        \n",
              "  <svg xmlns=\"http://www.w3.org/2000/svg\" height=\"24px\"viewBox=\"0 0 24 24\"\n",
              "       width=\"24px\">\n",
              "    <path d=\"M0 0h24v24H0V0z\" fill=\"none\"/>\n",
              "    <path d=\"M18.56 5.44l.94 2.06.94-2.06 2.06-.94-2.06-.94-.94-2.06-.94 2.06-2.06.94zm-11 1L8.5 8.5l.94-2.06 2.06-.94-2.06-.94L8.5 2.5l-.94 2.06-2.06.94zm10 10l.94 2.06.94-2.06 2.06-.94-2.06-.94-.94-2.06-.94 2.06-2.06.94z\"/><path d=\"M17.41 7.96l-1.37-1.37c-.4-.4-.92-.59-1.43-.59-.52 0-1.04.2-1.43.59L10.3 9.45l-7.72 7.72c-.78.78-.78 2.05 0 2.83L4 21.41c.39.39.9.59 1.41.59.51 0 1.02-.2 1.41-.59l7.78-7.78 2.81-2.81c.8-.78.8-2.07 0-2.86zM5.41 20L4 18.59l7.72-7.72 1.47 1.35L5.41 20z\"/>\n",
              "  </svg>\n",
              "      </button>\n",
              "      \n",
              "  <style>\n",
              "    .colab-df-container {\n",
              "      display:flex;\n",
              "      flex-wrap:wrap;\n",
              "      gap: 12px;\n",
              "    }\n",
              "\n",
              "    .colab-df-convert {\n",
              "      background-color: #E8F0FE;\n",
              "      border: none;\n",
              "      border-radius: 50%;\n",
              "      cursor: pointer;\n",
              "      display: none;\n",
              "      fill: #1967D2;\n",
              "      height: 32px;\n",
              "      padding: 0 0 0 0;\n",
              "      width: 32px;\n",
              "    }\n",
              "\n",
              "    .colab-df-convert:hover {\n",
              "      background-color: #E2EBFA;\n",
              "      box-shadow: 0px 1px 2px rgba(60, 64, 67, 0.3), 0px 1px 3px 1px rgba(60, 64, 67, 0.15);\n",
              "      fill: #174EA6;\n",
              "    }\n",
              "\n",
              "    [theme=dark] .colab-df-convert {\n",
              "      background-color: #3B4455;\n",
              "      fill: #D2E3FC;\n",
              "    }\n",
              "\n",
              "    [theme=dark] .colab-df-convert:hover {\n",
              "      background-color: #434B5C;\n",
              "      box-shadow: 0px 1px 3px 1px rgba(0, 0, 0, 0.15);\n",
              "      filter: drop-shadow(0px 1px 2px rgba(0, 0, 0, 0.3));\n",
              "      fill: #FFFFFF;\n",
              "    }\n",
              "  </style>\n",
              "\n",
              "      <script>\n",
              "        const buttonEl =\n",
              "          document.querySelector('#df-506743c9-ca7d-4dd6-b633-92c4d5285fd6 button.colab-df-convert');\n",
              "        buttonEl.style.display =\n",
              "          google.colab.kernel.accessAllowed ? 'block' : 'none';\n",
              "\n",
              "        async function convertToInteractive(key) {\n",
              "          const element = document.querySelector('#df-506743c9-ca7d-4dd6-b633-92c4d5285fd6');\n",
              "          const dataTable =\n",
              "            await google.colab.kernel.invokeFunction('convertToInteractive',\n",
              "                                                     [key], {});\n",
              "          if (!dataTable) return;\n",
              "\n",
              "          const docLinkHtml = 'Like what you see? Visit the ' +\n",
              "            '<a target=\"_blank\" href=https://colab.research.google.com/notebooks/data_table.ipynb>data table notebook</a>'\n",
              "            + ' to learn more about interactive tables.';\n",
              "          element.innerHTML = '';\n",
              "          dataTable['output_type'] = 'display_data';\n",
              "          await google.colab.output.renderOutput(dataTable, element);\n",
              "          const docLink = document.createElement('div');\n",
              "          docLink.innerHTML = docLinkHtml;\n",
              "          element.appendChild(docLink);\n",
              "        }\n",
              "      </script>\n",
              "    </div>\n",
              "  </div>\n",
              "  "
            ]
          },
          "metadata": {},
          "execution_count": 147
        }
      ],
      "source": [
        "lista_pn_punto_fijo_cota_1 = extraer_pn(lista_resultados_punto_fijo_cota_1)\n",
        "lista_alfa_punto_fijo_cota_1  = calcular_orden_de_convergencia_alfa(lista_pn_punto_fijo_cota_1)\n",
        "lista_errores_punto_fijo_cota_1  = extraer_errores(lista_resultados_punto_fijo_cota_1)\n",
        "lista_cte_asintotica_punto_fijo_cota_1  = calcular_cte_asintotica_lambda(lista_errores_punto_fijo_cota_1, lista_alfa_punto_fijo_cota_1 )\n",
        "\n",
        "tabla_de_resultados = lista_resultados_a_dataframe(lista_resultados_punto_fijo_cota_1,lista_alfa_punto_fijo_cota_1,lista_cte_asintotica_punto_fijo_cota_1,columnas=['pn', 'error','alfa','lambda'])\n",
        "tabla_de_resultados "
      ]
    },
    {
      "cell_type": "code",
      "execution_count": 148,
      "metadata": {
        "colab": {
          "base_uri": "https://localhost:8080/",
          "height": 175
        },
        "id": "hvu0H0dukSBA",
        "outputId": "30b6b993-d69b-4c77-d156-6cdd8ec02236"
      },
      "outputs": [
        {
          "output_type": "execute_result",
          "data": {
            "text/plain": [
              "             pn         error      alfa    lambda\n",
              "0  1.150000e+03           NaN       NaN       NaN\n",
              "1  2.750000e+02  8.750000e+02       NaN       NaN\n",
              "2 -1.192719e+05  1.195469e+05       NaN       NaN\n",
              "3  1.725306e+12  1.725306e+12  3.352483  0.000016"
            ],
            "text/html": [
              "\n",
              "  <div id=\"df-f7d38bb0-64a8-475b-bfca-37411a7654e8\">\n",
              "    <div class=\"colab-df-container\">\n",
              "      <div>\n",
              "<style scoped>\n",
              "    .dataframe tbody tr th:only-of-type {\n",
              "        vertical-align: middle;\n",
              "    }\n",
              "\n",
              "    .dataframe tbody tr th {\n",
              "        vertical-align: top;\n",
              "    }\n",
              "\n",
              "    .dataframe thead th {\n",
              "        text-align: right;\n",
              "    }\n",
              "</style>\n",
              "<table border=\"1\" class=\"dataframe\">\n",
              "  <thead>\n",
              "    <tr style=\"text-align: right;\">\n",
              "      <th></th>\n",
              "      <th>pn</th>\n",
              "      <th>error</th>\n",
              "      <th>alfa</th>\n",
              "      <th>lambda</th>\n",
              "    </tr>\n",
              "  </thead>\n",
              "  <tbody>\n",
              "    <tr>\n",
              "      <th>0</th>\n",
              "      <td>1.150000e+03</td>\n",
              "      <td>NaN</td>\n",
              "      <td>NaN</td>\n",
              "      <td>NaN</td>\n",
              "    </tr>\n",
              "    <tr>\n",
              "      <th>1</th>\n",
              "      <td>2.750000e+02</td>\n",
              "      <td>8.750000e+02</td>\n",
              "      <td>NaN</td>\n",
              "      <td>NaN</td>\n",
              "    </tr>\n",
              "    <tr>\n",
              "      <th>2</th>\n",
              "      <td>-1.192719e+05</td>\n",
              "      <td>1.195469e+05</td>\n",
              "      <td>NaN</td>\n",
              "      <td>NaN</td>\n",
              "    </tr>\n",
              "    <tr>\n",
              "      <th>3</th>\n",
              "      <td>1.725306e+12</td>\n",
              "      <td>1.725306e+12</td>\n",
              "      <td>3.352483</td>\n",
              "      <td>0.000016</td>\n",
              "    </tr>\n",
              "  </tbody>\n",
              "</table>\n",
              "</div>\n",
              "      <button class=\"colab-df-convert\" onclick=\"convertToInteractive('df-f7d38bb0-64a8-475b-bfca-37411a7654e8')\"\n",
              "              title=\"Convert this dataframe to an interactive table.\"\n",
              "              style=\"display:none;\">\n",
              "        \n",
              "  <svg xmlns=\"http://www.w3.org/2000/svg\" height=\"24px\"viewBox=\"0 0 24 24\"\n",
              "       width=\"24px\">\n",
              "    <path d=\"M0 0h24v24H0V0z\" fill=\"none\"/>\n",
              "    <path d=\"M18.56 5.44l.94 2.06.94-2.06 2.06-.94-2.06-.94-.94-2.06-.94 2.06-2.06.94zm-11 1L8.5 8.5l.94-2.06 2.06-.94-2.06-.94L8.5 2.5l-.94 2.06-2.06.94zm10 10l.94 2.06.94-2.06 2.06-.94-2.06-.94-.94-2.06-.94 2.06-2.06.94z\"/><path d=\"M17.41 7.96l-1.37-1.37c-.4-.4-.92-.59-1.43-.59-.52 0-1.04.2-1.43.59L10.3 9.45l-7.72 7.72c-.78.78-.78 2.05 0 2.83L4 21.41c.39.39.9.59 1.41.59.51 0 1.02-.2 1.41-.59l7.78-7.78 2.81-2.81c.8-.78.8-2.07 0-2.86zM5.41 20L4 18.59l7.72-7.72 1.47 1.35L5.41 20z\"/>\n",
              "  </svg>\n",
              "      </button>\n",
              "      \n",
              "  <style>\n",
              "    .colab-df-container {\n",
              "      display:flex;\n",
              "      flex-wrap:wrap;\n",
              "      gap: 12px;\n",
              "    }\n",
              "\n",
              "    .colab-df-convert {\n",
              "      background-color: #E8F0FE;\n",
              "      border: none;\n",
              "      border-radius: 50%;\n",
              "      cursor: pointer;\n",
              "      display: none;\n",
              "      fill: #1967D2;\n",
              "      height: 32px;\n",
              "      padding: 0 0 0 0;\n",
              "      width: 32px;\n",
              "    }\n",
              "\n",
              "    .colab-df-convert:hover {\n",
              "      background-color: #E2EBFA;\n",
              "      box-shadow: 0px 1px 2px rgba(60, 64, 67, 0.3), 0px 1px 3px 1px rgba(60, 64, 67, 0.15);\n",
              "      fill: #174EA6;\n",
              "    }\n",
              "\n",
              "    [theme=dark] .colab-df-convert {\n",
              "      background-color: #3B4455;\n",
              "      fill: #D2E3FC;\n",
              "    }\n",
              "\n",
              "    [theme=dark] .colab-df-convert:hover {\n",
              "      background-color: #434B5C;\n",
              "      box-shadow: 0px 1px 3px 1px rgba(0, 0, 0, 0.15);\n",
              "      filter: drop-shadow(0px 1px 2px rgba(0, 0, 0, 0.3));\n",
              "      fill: #FFFFFF;\n",
              "    }\n",
              "  </style>\n",
              "\n",
              "      <script>\n",
              "        const buttonEl =\n",
              "          document.querySelector('#df-f7d38bb0-64a8-475b-bfca-37411a7654e8 button.colab-df-convert');\n",
              "        buttonEl.style.display =\n",
              "          google.colab.kernel.accessAllowed ? 'block' : 'none';\n",
              "\n",
              "        async function convertToInteractive(key) {\n",
              "          const element = document.querySelector('#df-f7d38bb0-64a8-475b-bfca-37411a7654e8');\n",
              "          const dataTable =\n",
              "            await google.colab.kernel.invokeFunction('convertToInteractive',\n",
              "                                                     [key], {});\n",
              "          if (!dataTable) return;\n",
              "\n",
              "          const docLinkHtml = 'Like what you see? Visit the ' +\n",
              "            '<a target=\"_blank\" href=https://colab.research.google.com/notebooks/data_table.ipynb>data table notebook</a>'\n",
              "            + ' to learn more about interactive tables.';\n",
              "          element.innerHTML = '';\n",
              "          dataTable['output_type'] = 'display_data';\n",
              "          await google.colab.output.renderOutput(dataTable, element);\n",
              "          const docLink = document.createElement('div');\n",
              "          docLink.innerHTML = docLinkHtml;\n",
              "          element.appendChild(docLink);\n",
              "        }\n",
              "      </script>\n",
              "    </div>\n",
              "  </div>\n",
              "  "
            ]
          },
          "metadata": {},
          "execution_count": 148
        }
      ],
      "source": [
        "lista_pn_punto_fijo_cota_2 = extraer_pn(lista_resultados_punto_fijo_cota_2)\n",
        "lista_alfa_punto_fijo_cota_2  = calcular_orden_de_convergencia_alfa(lista_pn_punto_fijo_cota_2)\n",
        "lista_errores_punto_fijo_cota_2  = extraer_errores(lista_resultados_punto_fijo_cota_2)\n",
        "lista_cte_asintotica_punto_fijo_cota_2  = calcular_cte_asintotica_lambda(lista_errores_punto_fijo_cota_2, lista_alfa_punto_fijo_cota_2 )\n",
        "\n",
        "tabla_de_resultados = lista_resultados_a_dataframe(lista_resultados_punto_fijo_cota_2,lista_alfa_punto_fijo_cota_2,lista_cte_asintotica_punto_fijo_cota_2,columnas=['pn', 'error','alfa','lambda'])\n",
        "tabla_de_resultados "
      ]
    },
    {
      "cell_type": "markdown",
      "metadata": {
        "id": "lHkeFFg2PAq8"
      },
      "source": [
        "####  1.2.3.3 Método de Newton-Raphson"
      ]
    },
    {
      "cell_type": "code",
      "execution_count": 149,
      "metadata": {
        "colab": {
          "base_uri": "https://localhost:8080/",
          "height": 175
        },
        "id": "Rzk5YPt1PNHT",
        "outputId": "c47988d1-93c0-4233-d0ce-26b4975af0a1"
      },
      "outputs": [
        {
          "output_type": "execute_result",
          "data": {
            "text/plain": [
              "            pn     error      alfa    lambda\n",
              "0  1150.000000       NaN       NaN       NaN\n",
              "1  1147.619048  2.380952       NaN       NaN\n",
              "2  1147.596291  0.022757       NaN       NaN\n",
              "3  1147.596289  0.000002  2.000673  0.004012"
            ],
            "text/html": [
              "\n",
              "  <div id=\"df-24d35691-a01b-4676-937c-4053ee35116d\">\n",
              "    <div class=\"colab-df-container\">\n",
              "      <div>\n",
              "<style scoped>\n",
              "    .dataframe tbody tr th:only-of-type {\n",
              "        vertical-align: middle;\n",
              "    }\n",
              "\n",
              "    .dataframe tbody tr th {\n",
              "        vertical-align: top;\n",
              "    }\n",
              "\n",
              "    .dataframe thead th {\n",
              "        text-align: right;\n",
              "    }\n",
              "</style>\n",
              "<table border=\"1\" class=\"dataframe\">\n",
              "  <thead>\n",
              "    <tr style=\"text-align: right;\">\n",
              "      <th></th>\n",
              "      <th>pn</th>\n",
              "      <th>error</th>\n",
              "      <th>alfa</th>\n",
              "      <th>lambda</th>\n",
              "    </tr>\n",
              "  </thead>\n",
              "  <tbody>\n",
              "    <tr>\n",
              "      <th>0</th>\n",
              "      <td>1150.000000</td>\n",
              "      <td>NaN</td>\n",
              "      <td>NaN</td>\n",
              "      <td>NaN</td>\n",
              "    </tr>\n",
              "    <tr>\n",
              "      <th>1</th>\n",
              "      <td>1147.619048</td>\n",
              "      <td>2.380952</td>\n",
              "      <td>NaN</td>\n",
              "      <td>NaN</td>\n",
              "    </tr>\n",
              "    <tr>\n",
              "      <th>2</th>\n",
              "      <td>1147.596291</td>\n",
              "      <td>0.022757</td>\n",
              "      <td>NaN</td>\n",
              "      <td>NaN</td>\n",
              "    </tr>\n",
              "    <tr>\n",
              "      <th>3</th>\n",
              "      <td>1147.596289</td>\n",
              "      <td>0.000002</td>\n",
              "      <td>2.000673</td>\n",
              "      <td>0.004012</td>\n",
              "    </tr>\n",
              "  </tbody>\n",
              "</table>\n",
              "</div>\n",
              "      <button class=\"colab-df-convert\" onclick=\"convertToInteractive('df-24d35691-a01b-4676-937c-4053ee35116d')\"\n",
              "              title=\"Convert this dataframe to an interactive table.\"\n",
              "              style=\"display:none;\">\n",
              "        \n",
              "  <svg xmlns=\"http://www.w3.org/2000/svg\" height=\"24px\"viewBox=\"0 0 24 24\"\n",
              "       width=\"24px\">\n",
              "    <path d=\"M0 0h24v24H0V0z\" fill=\"none\"/>\n",
              "    <path d=\"M18.56 5.44l.94 2.06.94-2.06 2.06-.94-2.06-.94-.94-2.06-.94 2.06-2.06.94zm-11 1L8.5 8.5l.94-2.06 2.06-.94-2.06-.94L8.5 2.5l-.94 2.06-2.06.94zm10 10l.94 2.06.94-2.06 2.06-.94-2.06-.94-.94-2.06-.94 2.06-2.06.94z\"/><path d=\"M17.41 7.96l-1.37-1.37c-.4-.4-.92-.59-1.43-.59-.52 0-1.04.2-1.43.59L10.3 9.45l-7.72 7.72c-.78.78-.78 2.05 0 2.83L4 21.41c.39.39.9.59 1.41.59.51 0 1.02-.2 1.41-.59l7.78-7.78 2.81-2.81c.8-.78.8-2.07 0-2.86zM5.41 20L4 18.59l7.72-7.72 1.47 1.35L5.41 20z\"/>\n",
              "  </svg>\n",
              "      </button>\n",
              "      \n",
              "  <style>\n",
              "    .colab-df-container {\n",
              "      display:flex;\n",
              "      flex-wrap:wrap;\n",
              "      gap: 12px;\n",
              "    }\n",
              "\n",
              "    .colab-df-convert {\n",
              "      background-color: #E8F0FE;\n",
              "      border: none;\n",
              "      border-radius: 50%;\n",
              "      cursor: pointer;\n",
              "      display: none;\n",
              "      fill: #1967D2;\n",
              "      height: 32px;\n",
              "      padding: 0 0 0 0;\n",
              "      width: 32px;\n",
              "    }\n",
              "\n",
              "    .colab-df-convert:hover {\n",
              "      background-color: #E2EBFA;\n",
              "      box-shadow: 0px 1px 2px rgba(60, 64, 67, 0.3), 0px 1px 3px 1px rgba(60, 64, 67, 0.15);\n",
              "      fill: #174EA6;\n",
              "    }\n",
              "\n",
              "    [theme=dark] .colab-df-convert {\n",
              "      background-color: #3B4455;\n",
              "      fill: #D2E3FC;\n",
              "    }\n",
              "\n",
              "    [theme=dark] .colab-df-convert:hover {\n",
              "      background-color: #434B5C;\n",
              "      box-shadow: 0px 1px 3px 1px rgba(0, 0, 0, 0.15);\n",
              "      filter: drop-shadow(0px 1px 2px rgba(0, 0, 0, 0.3));\n",
              "      fill: #FFFFFF;\n",
              "    }\n",
              "  </style>\n",
              "\n",
              "      <script>\n",
              "        const buttonEl =\n",
              "          document.querySelector('#df-24d35691-a01b-4676-937c-4053ee35116d button.colab-df-convert');\n",
              "        buttonEl.style.display =\n",
              "          google.colab.kernel.accessAllowed ? 'block' : 'none';\n",
              "\n",
              "        async function convertToInteractive(key) {\n",
              "          const element = document.querySelector('#df-24d35691-a01b-4676-937c-4053ee35116d');\n",
              "          const dataTable =\n",
              "            await google.colab.kernel.invokeFunction('convertToInteractive',\n",
              "                                                     [key], {});\n",
              "          if (!dataTable) return;\n",
              "\n",
              "          const docLinkHtml = 'Like what you see? Visit the ' +\n",
              "            '<a target=\"_blank\" href=https://colab.research.google.com/notebooks/data_table.ipynb>data table notebook</a>'\n",
              "            + ' to learn more about interactive tables.';\n",
              "          element.innerHTML = '';\n",
              "          dataTable['output_type'] = 'display_data';\n",
              "          await google.colab.output.renderOutput(dataTable, element);\n",
              "          const docLink = document.createElement('div');\n",
              "          docLink.innerHTML = docLinkHtml;\n",
              "          element.appendChild(docLink);\n",
              "        }\n",
              "      </script>\n",
              "    </div>\n",
              "  </div>\n",
              "  "
            ]
          },
          "metadata": {},
          "execution_count": 149
        }
      ],
      "source": [
        "lista_pn_NR_cota_1 = extraer_pn(lista_resultados_NR_cota_1)\n",
        "lista_alfa_NR_cota_1 = calcular_orden_de_convergencia_alfa(lista_pn_NR_cota_1)\n",
        "lista_errores_NR_cota_1 = extraer_errores(lista_resultados_NR_cota_1)\n",
        "lista_cte_asintotica_NR_cota_1 = calcular_cte_asintotica_lambda(lista_errores_NR_cota_1, lista_alfa_NR_cota_1)\n",
        "\n",
        "tabla_de_resultados = lista_resultados_a_dataframe(lista_resultados_NR_cota_1,lista_alfa_NR_cota_1,lista_cte_asintotica_NR_cota_1,['pn', 'error','alfa','lambda'])\n",
        "tabla_de_resultados"
      ]
    },
    {
      "cell_type": "code",
      "execution_count": 150,
      "metadata": {
        "colab": {
          "base_uri": "https://localhost:8080/",
          "height": 206
        },
        "id": "DDUVsrpIT34z",
        "outputId": "0b284a7c-f1dd-4832-e95f-f20822cdc570"
      },
      "outputs": [
        {
          "output_type": "execute_result",
          "data": {
            "text/plain": [
              "            pn         error      alfa    lambda\n",
              "0  1150.000000           NaN       NaN       NaN\n",
              "1  1147.619048  2.380952e+00       NaN       NaN\n",
              "2  1147.596291  2.275701e-02       NaN       NaN\n",
              "3  1147.596289  2.072457e-06  2.000673  0.004012\n",
              "4  1147.596289  1.000000e-12       NaN       NaN"
            ],
            "text/html": [
              "\n",
              "  <div id=\"df-0c38c485-ffcc-4049-82f1-d4eb834ae5ad\">\n",
              "    <div class=\"colab-df-container\">\n",
              "      <div>\n",
              "<style scoped>\n",
              "    .dataframe tbody tr th:only-of-type {\n",
              "        vertical-align: middle;\n",
              "    }\n",
              "\n",
              "    .dataframe tbody tr th {\n",
              "        vertical-align: top;\n",
              "    }\n",
              "\n",
              "    .dataframe thead th {\n",
              "        text-align: right;\n",
              "    }\n",
              "</style>\n",
              "<table border=\"1\" class=\"dataframe\">\n",
              "  <thead>\n",
              "    <tr style=\"text-align: right;\">\n",
              "      <th></th>\n",
              "      <th>pn</th>\n",
              "      <th>error</th>\n",
              "      <th>alfa</th>\n",
              "      <th>lambda</th>\n",
              "    </tr>\n",
              "  </thead>\n",
              "  <tbody>\n",
              "    <tr>\n",
              "      <th>0</th>\n",
              "      <td>1150.000000</td>\n",
              "      <td>NaN</td>\n",
              "      <td>NaN</td>\n",
              "      <td>NaN</td>\n",
              "    </tr>\n",
              "    <tr>\n",
              "      <th>1</th>\n",
              "      <td>1147.619048</td>\n",
              "      <td>2.380952e+00</td>\n",
              "      <td>NaN</td>\n",
              "      <td>NaN</td>\n",
              "    </tr>\n",
              "    <tr>\n",
              "      <th>2</th>\n",
              "      <td>1147.596291</td>\n",
              "      <td>2.275701e-02</td>\n",
              "      <td>NaN</td>\n",
              "      <td>NaN</td>\n",
              "    </tr>\n",
              "    <tr>\n",
              "      <th>3</th>\n",
              "      <td>1147.596289</td>\n",
              "      <td>2.072457e-06</td>\n",
              "      <td>2.000673</td>\n",
              "      <td>0.004012</td>\n",
              "    </tr>\n",
              "    <tr>\n",
              "      <th>4</th>\n",
              "      <td>1147.596289</td>\n",
              "      <td>1.000000e-12</td>\n",
              "      <td>NaN</td>\n",
              "      <td>NaN</td>\n",
              "    </tr>\n",
              "  </tbody>\n",
              "</table>\n",
              "</div>\n",
              "      <button class=\"colab-df-convert\" onclick=\"convertToInteractive('df-0c38c485-ffcc-4049-82f1-d4eb834ae5ad')\"\n",
              "              title=\"Convert this dataframe to an interactive table.\"\n",
              "              style=\"display:none;\">\n",
              "        \n",
              "  <svg xmlns=\"http://www.w3.org/2000/svg\" height=\"24px\"viewBox=\"0 0 24 24\"\n",
              "       width=\"24px\">\n",
              "    <path d=\"M0 0h24v24H0V0z\" fill=\"none\"/>\n",
              "    <path d=\"M18.56 5.44l.94 2.06.94-2.06 2.06-.94-2.06-.94-.94-2.06-.94 2.06-2.06.94zm-11 1L8.5 8.5l.94-2.06 2.06-.94-2.06-.94L8.5 2.5l-.94 2.06-2.06.94zm10 10l.94 2.06.94-2.06 2.06-.94-2.06-.94-.94-2.06-.94 2.06-2.06.94z\"/><path d=\"M17.41 7.96l-1.37-1.37c-.4-.4-.92-.59-1.43-.59-.52 0-1.04.2-1.43.59L10.3 9.45l-7.72 7.72c-.78.78-.78 2.05 0 2.83L4 21.41c.39.39.9.59 1.41.59.51 0 1.02-.2 1.41-.59l7.78-7.78 2.81-2.81c.8-.78.8-2.07 0-2.86zM5.41 20L4 18.59l7.72-7.72 1.47 1.35L5.41 20z\"/>\n",
              "  </svg>\n",
              "      </button>\n",
              "      \n",
              "  <style>\n",
              "    .colab-df-container {\n",
              "      display:flex;\n",
              "      flex-wrap:wrap;\n",
              "      gap: 12px;\n",
              "    }\n",
              "\n",
              "    .colab-df-convert {\n",
              "      background-color: #E8F0FE;\n",
              "      border: none;\n",
              "      border-radius: 50%;\n",
              "      cursor: pointer;\n",
              "      display: none;\n",
              "      fill: #1967D2;\n",
              "      height: 32px;\n",
              "      padding: 0 0 0 0;\n",
              "      width: 32px;\n",
              "    }\n",
              "\n",
              "    .colab-df-convert:hover {\n",
              "      background-color: #E2EBFA;\n",
              "      box-shadow: 0px 1px 2px rgba(60, 64, 67, 0.3), 0px 1px 3px 1px rgba(60, 64, 67, 0.15);\n",
              "      fill: #174EA6;\n",
              "    }\n",
              "\n",
              "    [theme=dark] .colab-df-convert {\n",
              "      background-color: #3B4455;\n",
              "      fill: #D2E3FC;\n",
              "    }\n",
              "\n",
              "    [theme=dark] .colab-df-convert:hover {\n",
              "      background-color: #434B5C;\n",
              "      box-shadow: 0px 1px 3px 1px rgba(0, 0, 0, 0.15);\n",
              "      filter: drop-shadow(0px 1px 2px rgba(0, 0, 0, 0.3));\n",
              "      fill: #FFFFFF;\n",
              "    }\n",
              "  </style>\n",
              "\n",
              "      <script>\n",
              "        const buttonEl =\n",
              "          document.querySelector('#df-0c38c485-ffcc-4049-82f1-d4eb834ae5ad button.colab-df-convert');\n",
              "        buttonEl.style.display =\n",
              "          google.colab.kernel.accessAllowed ? 'block' : 'none';\n",
              "\n",
              "        async function convertToInteractive(key) {\n",
              "          const element = document.querySelector('#df-0c38c485-ffcc-4049-82f1-d4eb834ae5ad');\n",
              "          const dataTable =\n",
              "            await google.colab.kernel.invokeFunction('convertToInteractive',\n",
              "                                                     [key], {});\n",
              "          if (!dataTable) return;\n",
              "\n",
              "          const docLinkHtml = 'Like what you see? Visit the ' +\n",
              "            '<a target=\"_blank\" href=https://colab.research.google.com/notebooks/data_table.ipynb>data table notebook</a>'\n",
              "            + ' to learn more about interactive tables.';\n",
              "          element.innerHTML = '';\n",
              "          dataTable['output_type'] = 'display_data';\n",
              "          await google.colab.output.renderOutput(dataTable, element);\n",
              "          const docLink = document.createElement('div');\n",
              "          docLink.innerHTML = docLinkHtml;\n",
              "          element.appendChild(docLink);\n",
              "        }\n",
              "      </script>\n",
              "    </div>\n",
              "  </div>\n",
              "  "
            ]
          },
          "metadata": {},
          "execution_count": 150
        }
      ],
      "source": [
        "lista_pn_NR_cota_2 = extraer_pn(lista_resultados_NR_cota_2)\n",
        "lista_alfa_NR_cota_2 = calcular_orden_de_convergencia_alfa(lista_pn_NR_cota_2)\n",
        "lista_errores_NR_cota_2 = extraer_errores(lista_resultados_NR_cota_2)\n",
        "lista_cte_asintotica_NR_cota_2 = calcular_cte_asintotica_lambda(lista_errores_NR_cota_2, lista_alfa_NR_cota_2)\n",
        "\n",
        "tabla_de_resultados = lista_resultados_a_dataframe(lista_resultados_NR_cota_2,lista_alfa_NR_cota_2,lista_cte_asintotica_NR_cota_2,['pn', 'error','alfa','lambda'])\n",
        "tabla_de_resultados"
      ]
    },
    {
      "cell_type": "markdown",
      "metadata": {
        "id": "hr3Bi-xNkSBB"
      },
      "source": [
        "####  1.2.3.4 Método de Newton-Raphson Modificado"
      ]
    },
    {
      "cell_type": "code",
      "execution_count": 151,
      "metadata": {
        "colab": {
          "base_uri": "https://localhost:8080/",
          "height": 175
        },
        "id": "wXGadFNPkSBB",
        "outputId": "eea47169-7d1b-4d22-b87c-9798e88f8865"
      },
      "outputs": [
        {
          "output_type": "execute_result",
          "data": {
            "text/plain": [
              "            pn     error      alfa    lambda\n",
              "0  1150.000000       NaN       NaN       NaN\n",
              "1  1147.573457  2.426543       NaN       NaN\n",
              "2  1147.596286  0.022830       NaN       NaN\n",
              "3  1147.596289  0.000002  1.993168  0.003901"
            ],
            "text/html": [
              "\n",
              "  <div id=\"df-2c31537c-8dd4-4d7b-b5f5-89b84f83257c\">\n",
              "    <div class=\"colab-df-container\">\n",
              "      <div>\n",
              "<style scoped>\n",
              "    .dataframe tbody tr th:only-of-type {\n",
              "        vertical-align: middle;\n",
              "    }\n",
              "\n",
              "    .dataframe tbody tr th {\n",
              "        vertical-align: top;\n",
              "    }\n",
              "\n",
              "    .dataframe thead th {\n",
              "        text-align: right;\n",
              "    }\n",
              "</style>\n",
              "<table border=\"1\" class=\"dataframe\">\n",
              "  <thead>\n",
              "    <tr style=\"text-align: right;\">\n",
              "      <th></th>\n",
              "      <th>pn</th>\n",
              "      <th>error</th>\n",
              "      <th>alfa</th>\n",
              "      <th>lambda</th>\n",
              "    </tr>\n",
              "  </thead>\n",
              "  <tbody>\n",
              "    <tr>\n",
              "      <th>0</th>\n",
              "      <td>1150.000000</td>\n",
              "      <td>NaN</td>\n",
              "      <td>NaN</td>\n",
              "      <td>NaN</td>\n",
              "    </tr>\n",
              "    <tr>\n",
              "      <th>1</th>\n",
              "      <td>1147.573457</td>\n",
              "      <td>2.426543</td>\n",
              "      <td>NaN</td>\n",
              "      <td>NaN</td>\n",
              "    </tr>\n",
              "    <tr>\n",
              "      <th>2</th>\n",
              "      <td>1147.596286</td>\n",
              "      <td>0.022830</td>\n",
              "      <td>NaN</td>\n",
              "      <td>NaN</td>\n",
              "    </tr>\n",
              "    <tr>\n",
              "      <th>3</th>\n",
              "      <td>1147.596289</td>\n",
              "      <td>0.000002</td>\n",
              "      <td>1.993168</td>\n",
              "      <td>0.003901</td>\n",
              "    </tr>\n",
              "  </tbody>\n",
              "</table>\n",
              "</div>\n",
              "      <button class=\"colab-df-convert\" onclick=\"convertToInteractive('df-2c31537c-8dd4-4d7b-b5f5-89b84f83257c')\"\n",
              "              title=\"Convert this dataframe to an interactive table.\"\n",
              "              style=\"display:none;\">\n",
              "        \n",
              "  <svg xmlns=\"http://www.w3.org/2000/svg\" height=\"24px\"viewBox=\"0 0 24 24\"\n",
              "       width=\"24px\">\n",
              "    <path d=\"M0 0h24v24H0V0z\" fill=\"none\"/>\n",
              "    <path d=\"M18.56 5.44l.94 2.06.94-2.06 2.06-.94-2.06-.94-.94-2.06-.94 2.06-2.06.94zm-11 1L8.5 8.5l.94-2.06 2.06-.94-2.06-.94L8.5 2.5l-.94 2.06-2.06.94zm10 10l.94 2.06.94-2.06 2.06-.94-2.06-.94-.94-2.06-.94 2.06-2.06.94z\"/><path d=\"M17.41 7.96l-1.37-1.37c-.4-.4-.92-.59-1.43-.59-.52 0-1.04.2-1.43.59L10.3 9.45l-7.72 7.72c-.78.78-.78 2.05 0 2.83L4 21.41c.39.39.9.59 1.41.59.51 0 1.02-.2 1.41-.59l7.78-7.78 2.81-2.81c.8-.78.8-2.07 0-2.86zM5.41 20L4 18.59l7.72-7.72 1.47 1.35L5.41 20z\"/>\n",
              "  </svg>\n",
              "      </button>\n",
              "      \n",
              "  <style>\n",
              "    .colab-df-container {\n",
              "      display:flex;\n",
              "      flex-wrap:wrap;\n",
              "      gap: 12px;\n",
              "    }\n",
              "\n",
              "    .colab-df-convert {\n",
              "      background-color: #E8F0FE;\n",
              "      border: none;\n",
              "      border-radius: 50%;\n",
              "      cursor: pointer;\n",
              "      display: none;\n",
              "      fill: #1967D2;\n",
              "      height: 32px;\n",
              "      padding: 0 0 0 0;\n",
              "      width: 32px;\n",
              "    }\n",
              "\n",
              "    .colab-df-convert:hover {\n",
              "      background-color: #E2EBFA;\n",
              "      box-shadow: 0px 1px 2px rgba(60, 64, 67, 0.3), 0px 1px 3px 1px rgba(60, 64, 67, 0.15);\n",
              "      fill: #174EA6;\n",
              "    }\n",
              "\n",
              "    [theme=dark] .colab-df-convert {\n",
              "      background-color: #3B4455;\n",
              "      fill: #D2E3FC;\n",
              "    }\n",
              "\n",
              "    [theme=dark] .colab-df-convert:hover {\n",
              "      background-color: #434B5C;\n",
              "      box-shadow: 0px 1px 3px 1px rgba(0, 0, 0, 0.15);\n",
              "      filter: drop-shadow(0px 1px 2px rgba(0, 0, 0, 0.3));\n",
              "      fill: #FFFFFF;\n",
              "    }\n",
              "  </style>\n",
              "\n",
              "      <script>\n",
              "        const buttonEl =\n",
              "          document.querySelector('#df-2c31537c-8dd4-4d7b-b5f5-89b84f83257c button.colab-df-convert');\n",
              "        buttonEl.style.display =\n",
              "          google.colab.kernel.accessAllowed ? 'block' : 'none';\n",
              "\n",
              "        async function convertToInteractive(key) {\n",
              "          const element = document.querySelector('#df-2c31537c-8dd4-4d7b-b5f5-89b84f83257c');\n",
              "          const dataTable =\n",
              "            await google.colab.kernel.invokeFunction('convertToInteractive',\n",
              "                                                     [key], {});\n",
              "          if (!dataTable) return;\n",
              "\n",
              "          const docLinkHtml = 'Like what you see? Visit the ' +\n",
              "            '<a target=\"_blank\" href=https://colab.research.google.com/notebooks/data_table.ipynb>data table notebook</a>'\n",
              "            + ' to learn more about interactive tables.';\n",
              "          element.innerHTML = '';\n",
              "          dataTable['output_type'] = 'display_data';\n",
              "          await google.colab.output.renderOutput(dataTable, element);\n",
              "          const docLink = document.createElement('div');\n",
              "          docLink.innerHTML = docLinkHtml;\n",
              "          element.appendChild(docLink);\n",
              "        }\n",
              "      </script>\n",
              "    </div>\n",
              "  </div>\n",
              "  "
            ]
          },
          "metadata": {},
          "execution_count": 151
        }
      ],
      "source": [
        "lista_pn_NR_multiple_cota_1 = extraer_pn(lista_resultados_NR_multiple_cota_1)\n",
        "lista_alfa_NR_multiple_cota_1 = calcular_orden_de_convergencia_alfa(lista_pn_NR_multiple_cota_1)\n",
        "lista_errores_NR_multiple_cota_1 = extraer_errores(lista_resultados_NR_multiple_cota_1)\n",
        "lista_cte_asintotica_NR_multiple_cota_1 = calcular_cte_asintotica_lambda(lista_errores_NR_multiple_cota_1, lista_alfa_NR_multiple_cota_1)\n",
        "\n",
        "lista_resultados_a_dataframe(lista_resultados_NR_multiple_cota_1,lista_alfa_NR_multiple_cota_1,lista_cte_asintotica_NR_multiple_cota_1,['pn', 'error','alfa','lambda'])"
      ]
    },
    {
      "cell_type": "code",
      "execution_count": 152,
      "metadata": {
        "colab": {
          "base_uri": "https://localhost:8080/",
          "height": 206
        },
        "id": "HrUcnpKekSBB",
        "outputId": "0b957611-3303-4ab6-f98e-ca5647bd87bf"
      },
      "outputs": [
        {
          "output_type": "execute_result",
          "data": {
            "text/plain": [
              "            pn         error      alfa    lambda\n",
              "0  1150.000000           NaN       NaN       NaN\n",
              "1  1147.573457  2.426543e+00       NaN       NaN\n",
              "2  1147.596286  2.282986e-02       NaN       NaN\n",
              "3  1147.596289  2.086312e-06  1.993168  0.003901\n",
              "4  1147.596289  1.000000e-12       NaN       NaN"
            ],
            "text/html": [
              "\n",
              "  <div id=\"df-561273ac-dedf-4041-ade7-23725ade323f\">\n",
              "    <div class=\"colab-df-container\">\n",
              "      <div>\n",
              "<style scoped>\n",
              "    .dataframe tbody tr th:only-of-type {\n",
              "        vertical-align: middle;\n",
              "    }\n",
              "\n",
              "    .dataframe tbody tr th {\n",
              "        vertical-align: top;\n",
              "    }\n",
              "\n",
              "    .dataframe thead th {\n",
              "        text-align: right;\n",
              "    }\n",
              "</style>\n",
              "<table border=\"1\" class=\"dataframe\">\n",
              "  <thead>\n",
              "    <tr style=\"text-align: right;\">\n",
              "      <th></th>\n",
              "      <th>pn</th>\n",
              "      <th>error</th>\n",
              "      <th>alfa</th>\n",
              "      <th>lambda</th>\n",
              "    </tr>\n",
              "  </thead>\n",
              "  <tbody>\n",
              "    <tr>\n",
              "      <th>0</th>\n",
              "      <td>1150.000000</td>\n",
              "      <td>NaN</td>\n",
              "      <td>NaN</td>\n",
              "      <td>NaN</td>\n",
              "    </tr>\n",
              "    <tr>\n",
              "      <th>1</th>\n",
              "      <td>1147.573457</td>\n",
              "      <td>2.426543e+00</td>\n",
              "      <td>NaN</td>\n",
              "      <td>NaN</td>\n",
              "    </tr>\n",
              "    <tr>\n",
              "      <th>2</th>\n",
              "      <td>1147.596286</td>\n",
              "      <td>2.282986e-02</td>\n",
              "      <td>NaN</td>\n",
              "      <td>NaN</td>\n",
              "    </tr>\n",
              "    <tr>\n",
              "      <th>3</th>\n",
              "      <td>1147.596289</td>\n",
              "      <td>2.086312e-06</td>\n",
              "      <td>1.993168</td>\n",
              "      <td>0.003901</td>\n",
              "    </tr>\n",
              "    <tr>\n",
              "      <th>4</th>\n",
              "      <td>1147.596289</td>\n",
              "      <td>1.000000e-12</td>\n",
              "      <td>NaN</td>\n",
              "      <td>NaN</td>\n",
              "    </tr>\n",
              "  </tbody>\n",
              "</table>\n",
              "</div>\n",
              "      <button class=\"colab-df-convert\" onclick=\"convertToInteractive('df-561273ac-dedf-4041-ade7-23725ade323f')\"\n",
              "              title=\"Convert this dataframe to an interactive table.\"\n",
              "              style=\"display:none;\">\n",
              "        \n",
              "  <svg xmlns=\"http://www.w3.org/2000/svg\" height=\"24px\"viewBox=\"0 0 24 24\"\n",
              "       width=\"24px\">\n",
              "    <path d=\"M0 0h24v24H0V0z\" fill=\"none\"/>\n",
              "    <path d=\"M18.56 5.44l.94 2.06.94-2.06 2.06-.94-2.06-.94-.94-2.06-.94 2.06-2.06.94zm-11 1L8.5 8.5l.94-2.06 2.06-.94-2.06-.94L8.5 2.5l-.94 2.06-2.06.94zm10 10l.94 2.06.94-2.06 2.06-.94-2.06-.94-.94-2.06-.94 2.06-2.06.94z\"/><path d=\"M17.41 7.96l-1.37-1.37c-.4-.4-.92-.59-1.43-.59-.52 0-1.04.2-1.43.59L10.3 9.45l-7.72 7.72c-.78.78-.78 2.05 0 2.83L4 21.41c.39.39.9.59 1.41.59.51 0 1.02-.2 1.41-.59l7.78-7.78 2.81-2.81c.8-.78.8-2.07 0-2.86zM5.41 20L4 18.59l7.72-7.72 1.47 1.35L5.41 20z\"/>\n",
              "  </svg>\n",
              "      </button>\n",
              "      \n",
              "  <style>\n",
              "    .colab-df-container {\n",
              "      display:flex;\n",
              "      flex-wrap:wrap;\n",
              "      gap: 12px;\n",
              "    }\n",
              "\n",
              "    .colab-df-convert {\n",
              "      background-color: #E8F0FE;\n",
              "      border: none;\n",
              "      border-radius: 50%;\n",
              "      cursor: pointer;\n",
              "      display: none;\n",
              "      fill: #1967D2;\n",
              "      height: 32px;\n",
              "      padding: 0 0 0 0;\n",
              "      width: 32px;\n",
              "    }\n",
              "\n",
              "    .colab-df-convert:hover {\n",
              "      background-color: #E2EBFA;\n",
              "      box-shadow: 0px 1px 2px rgba(60, 64, 67, 0.3), 0px 1px 3px 1px rgba(60, 64, 67, 0.15);\n",
              "      fill: #174EA6;\n",
              "    }\n",
              "\n",
              "    [theme=dark] .colab-df-convert {\n",
              "      background-color: #3B4455;\n",
              "      fill: #D2E3FC;\n",
              "    }\n",
              "\n",
              "    [theme=dark] .colab-df-convert:hover {\n",
              "      background-color: #434B5C;\n",
              "      box-shadow: 0px 1px 3px 1px rgba(0, 0, 0, 0.15);\n",
              "      filter: drop-shadow(0px 1px 2px rgba(0, 0, 0, 0.3));\n",
              "      fill: #FFFFFF;\n",
              "    }\n",
              "  </style>\n",
              "\n",
              "      <script>\n",
              "        const buttonEl =\n",
              "          document.querySelector('#df-561273ac-dedf-4041-ade7-23725ade323f button.colab-df-convert');\n",
              "        buttonEl.style.display =\n",
              "          google.colab.kernel.accessAllowed ? 'block' : 'none';\n",
              "\n",
              "        async function convertToInteractive(key) {\n",
              "          const element = document.querySelector('#df-561273ac-dedf-4041-ade7-23725ade323f');\n",
              "          const dataTable =\n",
              "            await google.colab.kernel.invokeFunction('convertToInteractive',\n",
              "                                                     [key], {});\n",
              "          if (!dataTable) return;\n",
              "\n",
              "          const docLinkHtml = 'Like what you see? Visit the ' +\n",
              "            '<a target=\"_blank\" href=https://colab.research.google.com/notebooks/data_table.ipynb>data table notebook</a>'\n",
              "            + ' to learn more about interactive tables.';\n",
              "          element.innerHTML = '';\n",
              "          dataTable['output_type'] = 'display_data';\n",
              "          await google.colab.output.renderOutput(dataTable, element);\n",
              "          const docLink = document.createElement('div');\n",
              "          docLink.innerHTML = docLinkHtml;\n",
              "          element.appendChild(docLink);\n",
              "        }\n",
              "      </script>\n",
              "    </div>\n",
              "  </div>\n",
              "  "
            ]
          },
          "metadata": {},
          "execution_count": 152
        }
      ],
      "source": [
        "lista_pn_NR_multiple_cota_2 = extraer_pn(lista_resultados_NR_multiple_cota_2)\n",
        "lista_alfa_NR_multiple_cota_2 = calcular_orden_de_convergencia_alfa(lista_pn_NR_multiple_cota_2)\n",
        "lista_errores_NR_multiple_cota_2 = extraer_errores(lista_resultados_NR_multiple_cota_2)\n",
        "lista_cte_asintotica_NR_multiple_cota_2 = calcular_cte_asintotica_lambda(lista_errores_NR_multiple_cota_2, lista_alfa_NR_multiple_cota_2)\n",
        "\n",
        "lista_resultados_a_dataframe(lista_resultados_NR_multiple_cota_2,lista_alfa_NR_multiple_cota_2,lista_cte_asintotica_NR_multiple_cota_2,['pn', 'error','alfa','lambda'])"
      ]
    },
    {
      "cell_type": "markdown",
      "metadata": {
        "id": "Qtt60KuvkSBB"
      },
      "source": [
        "#### 1.2.3.5 Método de la Secante"
      ]
    },
    {
      "cell_type": "code",
      "execution_count": 153,
      "metadata": {
        "colab": {
          "base_uri": "https://localhost:8080/",
          "height": 269
        },
        "id": "3BMbBSfIkSBB",
        "outputId": "aea1c332-b15b-4f8d-daed-31c213af3052"
      },
      "outputs": [
        {
          "output_type": "execute_result",
          "data": {
            "text/plain": [
              "            pn         error       alfa        lambda\n",
              "0  1150.000000           NaN        NaN           NaN\n",
              "1  1125.000000           NaN        NaN           NaN\n",
              "2  1147.363465  2.236347e+01        NaN           NaN\n",
              "3  1147.619055  2.555901e-01  40.123110  1.819027e-55\n",
              "4  1147.596267  2.278795e-02   0.540598  4.764154e-02\n",
              "5  1147.596289  2.122418e-05   2.886990  1.169822e+00\n",
              "6  1147.596289  1.933586e-09   1.333103  3.282304e-03"
            ],
            "text/html": [
              "\n",
              "  <div id=\"df-2c63abf6-a6f9-4f02-9fbd-58572989dc88\">\n",
              "    <div class=\"colab-df-container\">\n",
              "      <div>\n",
              "<style scoped>\n",
              "    .dataframe tbody tr th:only-of-type {\n",
              "        vertical-align: middle;\n",
              "    }\n",
              "\n",
              "    .dataframe tbody tr th {\n",
              "        vertical-align: top;\n",
              "    }\n",
              "\n",
              "    .dataframe thead th {\n",
              "        text-align: right;\n",
              "    }\n",
              "</style>\n",
              "<table border=\"1\" class=\"dataframe\">\n",
              "  <thead>\n",
              "    <tr style=\"text-align: right;\">\n",
              "      <th></th>\n",
              "      <th>pn</th>\n",
              "      <th>error</th>\n",
              "      <th>alfa</th>\n",
              "      <th>lambda</th>\n",
              "    </tr>\n",
              "  </thead>\n",
              "  <tbody>\n",
              "    <tr>\n",
              "      <th>0</th>\n",
              "      <td>1150.000000</td>\n",
              "      <td>NaN</td>\n",
              "      <td>NaN</td>\n",
              "      <td>NaN</td>\n",
              "    </tr>\n",
              "    <tr>\n",
              "      <th>1</th>\n",
              "      <td>1125.000000</td>\n",
              "      <td>NaN</td>\n",
              "      <td>NaN</td>\n",
              "      <td>NaN</td>\n",
              "    </tr>\n",
              "    <tr>\n",
              "      <th>2</th>\n",
              "      <td>1147.363465</td>\n",
              "      <td>2.236347e+01</td>\n",
              "      <td>NaN</td>\n",
              "      <td>NaN</td>\n",
              "    </tr>\n",
              "    <tr>\n",
              "      <th>3</th>\n",
              "      <td>1147.619055</td>\n",
              "      <td>2.555901e-01</td>\n",
              "      <td>40.123110</td>\n",
              "      <td>1.819027e-55</td>\n",
              "    </tr>\n",
              "    <tr>\n",
              "      <th>4</th>\n",
              "      <td>1147.596267</td>\n",
              "      <td>2.278795e-02</td>\n",
              "      <td>0.540598</td>\n",
              "      <td>4.764154e-02</td>\n",
              "    </tr>\n",
              "    <tr>\n",
              "      <th>5</th>\n",
              "      <td>1147.596289</td>\n",
              "      <td>2.122418e-05</td>\n",
              "      <td>2.886990</td>\n",
              "      <td>1.169822e+00</td>\n",
              "    </tr>\n",
              "    <tr>\n",
              "      <th>6</th>\n",
              "      <td>1147.596289</td>\n",
              "      <td>1.933586e-09</td>\n",
              "      <td>1.333103</td>\n",
              "      <td>3.282304e-03</td>\n",
              "    </tr>\n",
              "  </tbody>\n",
              "</table>\n",
              "</div>\n",
              "      <button class=\"colab-df-convert\" onclick=\"convertToInteractive('df-2c63abf6-a6f9-4f02-9fbd-58572989dc88')\"\n",
              "              title=\"Convert this dataframe to an interactive table.\"\n",
              "              style=\"display:none;\">\n",
              "        \n",
              "  <svg xmlns=\"http://www.w3.org/2000/svg\" height=\"24px\"viewBox=\"0 0 24 24\"\n",
              "       width=\"24px\">\n",
              "    <path d=\"M0 0h24v24H0V0z\" fill=\"none\"/>\n",
              "    <path d=\"M18.56 5.44l.94 2.06.94-2.06 2.06-.94-2.06-.94-.94-2.06-.94 2.06-2.06.94zm-11 1L8.5 8.5l.94-2.06 2.06-.94-2.06-.94L8.5 2.5l-.94 2.06-2.06.94zm10 10l.94 2.06.94-2.06 2.06-.94-2.06-.94-.94-2.06-.94 2.06-2.06.94z\"/><path d=\"M17.41 7.96l-1.37-1.37c-.4-.4-.92-.59-1.43-.59-.52 0-1.04.2-1.43.59L10.3 9.45l-7.72 7.72c-.78.78-.78 2.05 0 2.83L4 21.41c.39.39.9.59 1.41.59.51 0 1.02-.2 1.41-.59l7.78-7.78 2.81-2.81c.8-.78.8-2.07 0-2.86zM5.41 20L4 18.59l7.72-7.72 1.47 1.35L5.41 20z\"/>\n",
              "  </svg>\n",
              "      </button>\n",
              "      \n",
              "  <style>\n",
              "    .colab-df-container {\n",
              "      display:flex;\n",
              "      flex-wrap:wrap;\n",
              "      gap: 12px;\n",
              "    }\n",
              "\n",
              "    .colab-df-convert {\n",
              "      background-color: #E8F0FE;\n",
              "      border: none;\n",
              "      border-radius: 50%;\n",
              "      cursor: pointer;\n",
              "      display: none;\n",
              "      fill: #1967D2;\n",
              "      height: 32px;\n",
              "      padding: 0 0 0 0;\n",
              "      width: 32px;\n",
              "    }\n",
              "\n",
              "    .colab-df-convert:hover {\n",
              "      background-color: #E2EBFA;\n",
              "      box-shadow: 0px 1px 2px rgba(60, 64, 67, 0.3), 0px 1px 3px 1px rgba(60, 64, 67, 0.15);\n",
              "      fill: #174EA6;\n",
              "    }\n",
              "\n",
              "    [theme=dark] .colab-df-convert {\n",
              "      background-color: #3B4455;\n",
              "      fill: #D2E3FC;\n",
              "    }\n",
              "\n",
              "    [theme=dark] .colab-df-convert:hover {\n",
              "      background-color: #434B5C;\n",
              "      box-shadow: 0px 1px 3px 1px rgba(0, 0, 0, 0.15);\n",
              "      filter: drop-shadow(0px 1px 2px rgba(0, 0, 0, 0.3));\n",
              "      fill: #FFFFFF;\n",
              "    }\n",
              "  </style>\n",
              "\n",
              "      <script>\n",
              "        const buttonEl =\n",
              "          document.querySelector('#df-2c63abf6-a6f9-4f02-9fbd-58572989dc88 button.colab-df-convert');\n",
              "        buttonEl.style.display =\n",
              "          google.colab.kernel.accessAllowed ? 'block' : 'none';\n",
              "\n",
              "        async function convertToInteractive(key) {\n",
              "          const element = document.querySelector('#df-2c63abf6-a6f9-4f02-9fbd-58572989dc88');\n",
              "          const dataTable =\n",
              "            await google.colab.kernel.invokeFunction('convertToInteractive',\n",
              "                                                     [key], {});\n",
              "          if (!dataTable) return;\n",
              "\n",
              "          const docLinkHtml = 'Like what you see? Visit the ' +\n",
              "            '<a target=\"_blank\" href=https://colab.research.google.com/notebooks/data_table.ipynb>data table notebook</a>'\n",
              "            + ' to learn more about interactive tables.';\n",
              "          element.innerHTML = '';\n",
              "          dataTable['output_type'] = 'display_data';\n",
              "          await google.colab.output.renderOutput(dataTable, element);\n",
              "          const docLink = document.createElement('div');\n",
              "          docLink.innerHTML = docLinkHtml;\n",
              "          element.appendChild(docLink);\n",
              "        }\n",
              "      </script>\n",
              "    </div>\n",
              "  </div>\n",
              "  "
            ]
          },
          "metadata": {},
          "execution_count": 153
        }
      ],
      "source": [
        "lista_pn_secante_cota_1 = extraer_pn(lista_resultados_secante_cota_1)\n",
        "lista_alfa_secante_cota_1 = calcular_orden_de_convergencia_alfa(lista_pn_secante_cota_1)\n",
        "lista_errores_secante_cota_1 = extraer_errores(lista_resultados_secante_cota_1)\n",
        "lista_cte_asintotica_secante_cota_1 = calcular_cte_asintotica_lambda(lista_errores_secante_cota_1, lista_alfa_secante_cota_1)\n",
        "\n",
        "lista_resultados_a_dataframe(lista_resultados_secante_cota_1,lista_alfa_secante_cota_1,lista_cte_asintotica_secante_cota_1,['pn', 'error','alfa','lambda'])"
      ]
    },
    {
      "cell_type": "code",
      "execution_count": 154,
      "metadata": {
        "colab": {
          "base_uri": "https://localhost:8080/",
          "height": 300
        },
        "id": "ClZdod-LkSBB",
        "outputId": "bca2b80a-8480-42da-ece2-2fe0f3033b62"
      },
      "outputs": [
        {
          "output_type": "execute_result",
          "data": {
            "text/plain": [
              "            pn         error       alfa        lambda\n",
              "0  1150.000000           NaN        NaN           NaN\n",
              "1  1125.000000           NaN        NaN           NaN\n",
              "2  1147.363465  2.236347e+01        NaN           NaN\n",
              "3  1147.619055  2.555901e-01  40.123110  1.819027e-55\n",
              "4  1147.596267  2.278795e-02   0.540598  4.764154e-02\n",
              "5  1147.596289  2.122418e-05   2.886990  1.169822e+00\n",
              "6  1147.596289  1.933586e-09   1.333103  3.282304e-03\n",
              "7  1147.596289  1.000000e-12        NaN           NaN"
            ],
            "text/html": [
              "\n",
              "  <div id=\"df-ff4db20c-188d-450e-83b1-053369ff3ee0\">\n",
              "    <div class=\"colab-df-container\">\n",
              "      <div>\n",
              "<style scoped>\n",
              "    .dataframe tbody tr th:only-of-type {\n",
              "        vertical-align: middle;\n",
              "    }\n",
              "\n",
              "    .dataframe tbody tr th {\n",
              "        vertical-align: top;\n",
              "    }\n",
              "\n",
              "    .dataframe thead th {\n",
              "        text-align: right;\n",
              "    }\n",
              "</style>\n",
              "<table border=\"1\" class=\"dataframe\">\n",
              "  <thead>\n",
              "    <tr style=\"text-align: right;\">\n",
              "      <th></th>\n",
              "      <th>pn</th>\n",
              "      <th>error</th>\n",
              "      <th>alfa</th>\n",
              "      <th>lambda</th>\n",
              "    </tr>\n",
              "  </thead>\n",
              "  <tbody>\n",
              "    <tr>\n",
              "      <th>0</th>\n",
              "      <td>1150.000000</td>\n",
              "      <td>NaN</td>\n",
              "      <td>NaN</td>\n",
              "      <td>NaN</td>\n",
              "    </tr>\n",
              "    <tr>\n",
              "      <th>1</th>\n",
              "      <td>1125.000000</td>\n",
              "      <td>NaN</td>\n",
              "      <td>NaN</td>\n",
              "      <td>NaN</td>\n",
              "    </tr>\n",
              "    <tr>\n",
              "      <th>2</th>\n",
              "      <td>1147.363465</td>\n",
              "      <td>2.236347e+01</td>\n",
              "      <td>NaN</td>\n",
              "      <td>NaN</td>\n",
              "    </tr>\n",
              "    <tr>\n",
              "      <th>3</th>\n",
              "      <td>1147.619055</td>\n",
              "      <td>2.555901e-01</td>\n",
              "      <td>40.123110</td>\n",
              "      <td>1.819027e-55</td>\n",
              "    </tr>\n",
              "    <tr>\n",
              "      <th>4</th>\n",
              "      <td>1147.596267</td>\n",
              "      <td>2.278795e-02</td>\n",
              "      <td>0.540598</td>\n",
              "      <td>4.764154e-02</td>\n",
              "    </tr>\n",
              "    <tr>\n",
              "      <th>5</th>\n",
              "      <td>1147.596289</td>\n",
              "      <td>2.122418e-05</td>\n",
              "      <td>2.886990</td>\n",
              "      <td>1.169822e+00</td>\n",
              "    </tr>\n",
              "    <tr>\n",
              "      <th>6</th>\n",
              "      <td>1147.596289</td>\n",
              "      <td>1.933586e-09</td>\n",
              "      <td>1.333103</td>\n",
              "      <td>3.282304e-03</td>\n",
              "    </tr>\n",
              "    <tr>\n",
              "      <th>7</th>\n",
              "      <td>1147.596289</td>\n",
              "      <td>1.000000e-12</td>\n",
              "      <td>NaN</td>\n",
              "      <td>NaN</td>\n",
              "    </tr>\n",
              "  </tbody>\n",
              "</table>\n",
              "</div>\n",
              "      <button class=\"colab-df-convert\" onclick=\"convertToInteractive('df-ff4db20c-188d-450e-83b1-053369ff3ee0')\"\n",
              "              title=\"Convert this dataframe to an interactive table.\"\n",
              "              style=\"display:none;\">\n",
              "        \n",
              "  <svg xmlns=\"http://www.w3.org/2000/svg\" height=\"24px\"viewBox=\"0 0 24 24\"\n",
              "       width=\"24px\">\n",
              "    <path d=\"M0 0h24v24H0V0z\" fill=\"none\"/>\n",
              "    <path d=\"M18.56 5.44l.94 2.06.94-2.06 2.06-.94-2.06-.94-.94-2.06-.94 2.06-2.06.94zm-11 1L8.5 8.5l.94-2.06 2.06-.94-2.06-.94L8.5 2.5l-.94 2.06-2.06.94zm10 10l.94 2.06.94-2.06 2.06-.94-2.06-.94-.94-2.06-.94 2.06-2.06.94z\"/><path d=\"M17.41 7.96l-1.37-1.37c-.4-.4-.92-.59-1.43-.59-.52 0-1.04.2-1.43.59L10.3 9.45l-7.72 7.72c-.78.78-.78 2.05 0 2.83L4 21.41c.39.39.9.59 1.41.59.51 0 1.02-.2 1.41-.59l7.78-7.78 2.81-2.81c.8-.78.8-2.07 0-2.86zM5.41 20L4 18.59l7.72-7.72 1.47 1.35L5.41 20z\"/>\n",
              "  </svg>\n",
              "      </button>\n",
              "      \n",
              "  <style>\n",
              "    .colab-df-container {\n",
              "      display:flex;\n",
              "      flex-wrap:wrap;\n",
              "      gap: 12px;\n",
              "    }\n",
              "\n",
              "    .colab-df-convert {\n",
              "      background-color: #E8F0FE;\n",
              "      border: none;\n",
              "      border-radius: 50%;\n",
              "      cursor: pointer;\n",
              "      display: none;\n",
              "      fill: #1967D2;\n",
              "      height: 32px;\n",
              "      padding: 0 0 0 0;\n",
              "      width: 32px;\n",
              "    }\n",
              "\n",
              "    .colab-df-convert:hover {\n",
              "      background-color: #E2EBFA;\n",
              "      box-shadow: 0px 1px 2px rgba(60, 64, 67, 0.3), 0px 1px 3px 1px rgba(60, 64, 67, 0.15);\n",
              "      fill: #174EA6;\n",
              "    }\n",
              "\n",
              "    [theme=dark] .colab-df-convert {\n",
              "      background-color: #3B4455;\n",
              "      fill: #D2E3FC;\n",
              "    }\n",
              "\n",
              "    [theme=dark] .colab-df-convert:hover {\n",
              "      background-color: #434B5C;\n",
              "      box-shadow: 0px 1px 3px 1px rgba(0, 0, 0, 0.15);\n",
              "      filter: drop-shadow(0px 1px 2px rgba(0, 0, 0, 0.3));\n",
              "      fill: #FFFFFF;\n",
              "    }\n",
              "  </style>\n",
              "\n",
              "      <script>\n",
              "        const buttonEl =\n",
              "          document.querySelector('#df-ff4db20c-188d-450e-83b1-053369ff3ee0 button.colab-df-convert');\n",
              "        buttonEl.style.display =\n",
              "          google.colab.kernel.accessAllowed ? 'block' : 'none';\n",
              "\n",
              "        async function convertToInteractive(key) {\n",
              "          const element = document.querySelector('#df-ff4db20c-188d-450e-83b1-053369ff3ee0');\n",
              "          const dataTable =\n",
              "            await google.colab.kernel.invokeFunction('convertToInteractive',\n",
              "                                                     [key], {});\n",
              "          if (!dataTable) return;\n",
              "\n",
              "          const docLinkHtml = 'Like what you see? Visit the ' +\n",
              "            '<a target=\"_blank\" href=https://colab.research.google.com/notebooks/data_table.ipynb>data table notebook</a>'\n",
              "            + ' to learn more about interactive tables.';\n",
              "          element.innerHTML = '';\n",
              "          dataTable['output_type'] = 'display_data';\n",
              "          await google.colab.output.renderOutput(dataTable, element);\n",
              "          const docLink = document.createElement('div');\n",
              "          docLink.innerHTML = docLinkHtml;\n",
              "          element.appendChild(docLink);\n",
              "        }\n",
              "      </script>\n",
              "    </div>\n",
              "  </div>\n",
              "  "
            ]
          },
          "metadata": {},
          "execution_count": 154
        }
      ],
      "source": [
        "lista_pn_secante_cota_2 = extraer_pn(lista_resultados_secante_cota_2)\n",
        "lista_alfa_secante_cota_2 = calcular_orden_de_convergencia_alfa(lista_pn_secante_cota_2)\n",
        "lista_errores_secante_cota_2 = extraer_errores(lista_resultados_secante_cota_2)\n",
        "lista_cte_asintotica_secante_cota_2 = calcular_cte_asintotica_lambda(lista_errores_secante_cota_2, lista_alfa_secante_cota_2)\n",
        "\n",
        "lista_resultados_a_dataframe(lista_resultados_secante_cota_2,lista_alfa_secante_cota_2,lista_cte_asintotica_secante_cota_2,['pn', 'error','alfa','lambda'])"
      ]
    },
    {
      "cell_type": "markdown",
      "metadata": {
        "id": "3lbYeY7mkk2Y"
      },
      "source": [
        "### 1.2.4 (Pregunta $d$) Compare los resultados obtenidos para los distintos métodos y cotas, grafique el orden de convergencia $P$ y la constante asintótica $\\lambda$ para todos los casos. Realice un gráfico $log_{10}(\\Delta x)$ vs iteraciones, para visualizar el comportamiento de la constante asintótica y el orden de convergencia. Discuta ventajas y desventajas. ¿Son las que esperaba en base a la teoría?"
      ]
    },
    {
      "cell_type": "markdown",
      "source": [
        "#### 1.2.4.1 Funciones auxiliares para plots:"
      ],
      "metadata": {
        "id": "CBQ-AL-f5cVC"
      }
    },
    {
      "cell_type": "code",
      "execution_count": 155,
      "metadata": {
        "id": "NtvwA1A_kyad"
      },
      "outputs": [],
      "source": [
        "def plotear_puntos_vs_iter_log(lista_valores_en_y,color, label):\n",
        "    label_ploteado = False\n",
        "    for x in range(len(lista_valores_en_y)):\n",
        "        if lista_valores_en_y[x] != None:\n",
        "            if label_ploteado:\n",
        "                plt.plot(x,np.log10(lista_valores_en_y[x]), marker=\"o\", markersize=5, color=color)\n",
        "            else:\n",
        "                plt.plot(x,np.log10(lista_valores_en_y[x]), marker=\"o\", markersize=5, color=color, label = label)\n",
        "                label_ploteado = True\n",
        "\n",
        "\n",
        "    \n",
        "\n",
        "def plotear_puntos_vs_iter(lista_valores_en_y,color, label):\n",
        "    label_ploteado = False\n",
        "    for x in range(len(lista_valores_en_y)):\n",
        "        if lista_valores_en_y[x] != None:\n",
        "            if label_ploteado:\n",
        "                plt.plot(x,lista_valores_en_y[x], marker=\"o\", markersize=5, color=color)\n",
        "            else:\n",
        "                plt.plot(x,lista_valores_en_y[x], marker=\"o\", markersize=5, color=color, label = label)\n",
        "                label_ploteado = True\n"
      ]
    },
    {
      "cell_type": "markdown",
      "source": [
        "####  1.2.4.2 Graficos orden de convergencia $α$ vs Iteraciones"
      ],
      "metadata": {
        "id": "-YEsYSSc5iOG"
      }
    },
    {
      "cell_type": "markdown",
      "source": [
        "##### Con cota de error 1:"
      ],
      "metadata": {
        "id": "Ti-71S53jYvu"
      }
    },
    {
      "cell_type": "code",
      "source": [
        "fig, ax = plt.subplots(figsize=(20, 10))\n",
        "\n",
        "plt.title(\"Grafica orden de convergencia alpha vs Iteraciones\")\n",
        "plt.xlabel(\"Iteraciones\")\n",
        "plt.ylabel(\"α\")\n",
        "\n",
        "plotear_puntos_vs_iter(lista_alfa_biseccion_cota_1,'red', \"biseccion\")\n",
        "plotear_puntos_vs_iter(lista_alfa_punto_fijo_cota_1,'green', \"punto fijo\")\n",
        "plotear_puntos_vs_iter(lista_alfa_NR_cota_1,'blue', \"NR\")\n",
        "plotear_puntos_vs_iter(lista_alfa_NR_multiple_cota_1,'orange', \"NR modif\")\n",
        "plotear_puntos_vs_iter(lista_alfa_secante_cota_1,'purple',\"secante\" )\n",
        "\n",
        "ax.xaxis.set_major_locator(MultipleLocator(1))\n",
        "ax.yaxis.set_major_locator(MultipleLocator(1))\n",
        "ax.set_xlim(0, 30)\n",
        "ax.set_ylim(0, 41)\n",
        "\n",
        "ax.grid()\n",
        "plt.legend()\n",
        "plt.show() "
      ],
      "metadata": {
        "colab": {
          "base_uri": "https://localhost:8080/",
          "height": 729
        },
        "id": "uiRJv0YcqyGQ",
        "outputId": "af6a75c8-470f-4027-ca74-1ea5df1e347a"
      },
      "execution_count": 156,
      "outputs": [
        {
          "output_type": "display_data",
          "data": {
            "text/plain": [
              "<Figure size 1440x720 with 1 Axes>"
            ],
            "image/png": "[encoded data removed]"
          },
          "metadata": {
            "needs_background": "light"
          }
        }
      ]
    },
    {
      "cell_type": "markdown",
      "source": [
        "Para ver con mayor precisión los valores exceptuando el primer valor del método de la secante (debido a su lejanía respecto de los demás valores en el gráfico anterior):"
      ],
      "metadata": {
        "id": "qxp7PxIojstx"
      }
    },
    {
      "cell_type": "code",
      "source": [
        "fig, ax = plt.subplots(figsize=(20, 10))\n",
        "\n",
        "plt.title(\"Grafica orden de convergencia alpha vs Iteraciones\")\n",
        "plt.xlabel(\"Iteraciones\")\n",
        "plt.ylabel(\"α\")\n",
        "\n",
        "plotear_puntos_vs_iter(lista_alfa_biseccion_cota_1,'red', \"biseccion\")\n",
        "plotear_puntos_vs_iter(lista_alfa_punto_fijo_cota_1,'green', \"punto fijo\")\n",
        "plotear_puntos_vs_iter(lista_alfa_NR_cota_1,'blue', \"NR\")\n",
        "plotear_puntos_vs_iter(lista_alfa_NR_multiple_cota_1,'orange', \"NR modif\")\n",
        "plotear_puntos_vs_iter(lista_alfa_secante_cota_1,'purple',\"secante\" )\n",
        "\n",
        "\n",
        "ax.xaxis.set_major_locator(MultipleLocator(1))\n",
        "ax.yaxis.set_major_locator(MultipleLocator(0.2))\n",
        "ax.set_xlim(0, 30)\n",
        "ax.set_ylim(0, 5)\n",
        "\n",
        "ax.grid()\n",
        "plt.legend()\n",
        "plt.show() "
      ],
      "metadata": {
        "colab": {
          "base_uri": "https://localhost:8080/",
          "height": 729
        },
        "id": "8Asp3gmokTK9",
        "outputId": "c3c485e1-2920-469b-e4cc-43d1613296ee"
      },
      "execution_count": 157,
      "outputs": [
        {
          "output_type": "display_data",
          "data": {
            "text/plain": [
              "<Figure size 1440x720 with 1 Axes>"
            ],
            "image/png": "[encoded data removed]"
          },
          "metadata": {
            "needs_background": "light"
          }
        }
      ]
    },
    {
      "cell_type": "markdown",
      "source": [
        "##### Con cota de error 2:"
      ],
      "metadata": {
        "id": "XVAVD7pajjU9"
      }
    },
    {
      "cell_type": "code",
      "source": [
        "fig, ax = plt.subplots(figsize=(20, 10))\n",
        "\n",
        "plt.title(\"Grafica orden de convergencia alpha vs Iteraciones\")\n",
        "plt.xlabel(\"Iteraciones\")\n",
        "plt.ylabel(\"α\")\n",
        "\n",
        "plotear_puntos_vs_iter(lista_alfa_biseccion_cota_2,'red', \"biseccion\")\n",
        "plotear_puntos_vs_iter(lista_alfa_punto_fijo_cota_2,'green', \"punto fijo\")\n",
        "plotear_puntos_vs_iter(lista_alfa_NR_cota_2,'blue', \"NR\")\n",
        "plotear_puntos_vs_iter(lista_alfa_NR_multiple_cota_2,'orange', \"NR modif\")\n",
        "plotear_puntos_vs_iter(lista_alfa_secante_cota_2,'purple', \"secante\")\n",
        "\n",
        "ax.xaxis.set_major_locator(MultipleLocator(1))\n",
        "ax.yaxis.set_major_locator(MultipleLocator(1))\n",
        "ax.set_xlim(0, 30)\n",
        "ax.set_ylim(0, 41)\n",
        "\n",
        "\n",
        "ax.grid()\n",
        "plt.legend()\n",
        "plt.show() "
      ],
      "metadata": {
        "colab": {
          "base_uri": "https://localhost:8080/",
          "height": 729
        },
        "outputId": "7f078321-e833-4f8c-fffb-50e1e3a7ab1c",
        "id": "BqzkwM0I3N50"
      },
      "execution_count": 158,
      "outputs": [
        {
          "output_type": "display_data",
          "data": {
            "text/plain": [
              "<Figure size 1440x720 with 1 Axes>"
            ],
            "image/png": "[encoded data removed]"
          },
          "metadata": {
            "needs_background": "light"
          }
        }
      ]
    },
    {
      "cell_type": "markdown",
      "source": [
        "Para ver con mayor precisión los valores exceptuando el primer valor del método de la secante (debido a su lejanía respecto de los demás valores en el gráfico anterior):"
      ],
      "metadata": {
        "id": "WUTUR1IXk_7t"
      }
    },
    {
      "cell_type": "code",
      "source": [
        "fig, ax = plt.subplots(figsize=(20, 10))\n",
        "\n",
        "plt.title(\"Grafica orden de convergencia alpha vs Iteraciones\")\n",
        "plt.xlabel(\"Iteraciones\")\n",
        "plt.ylabel(\"α\")\n",
        "\n",
        "plotear_puntos_vs_iter(lista_alfa_biseccion_cota_1,'red', \"biseccion\")\n",
        "plotear_puntos_vs_iter(lista_alfa_punto_fijo_cota_1,'green', \"punto fijo\")\n",
        "plotear_puntos_vs_iter(lista_alfa_NR_cota_1,'blue', \"NR\")\n",
        "plotear_puntos_vs_iter(lista_alfa_NR_multiple_cota_1,'orange', \"NR modif\")\n",
        "plotear_puntos_vs_iter(lista_alfa_secante_cota_1,'purple',\"secante\" )\n",
        "\n",
        "\n",
        "ax.xaxis.set_major_locator(MultipleLocator(1))\n",
        "ax.yaxis.set_major_locator(MultipleLocator(0.2))\n",
        "ax.set_xlim(0, 30)\n",
        "ax.set_ylim(0, 5)\n",
        "\n",
        "ax.grid()\n",
        "plt.legend()\n",
        "plt.show() "
      ],
      "metadata": {
        "colab": {
          "base_uri": "https://localhost:8080/",
          "height": 729
        },
        "outputId": "dc1915c5-5ed8-45e3-ff92-0701662d1d7a",
        "id": "GzBSfzKqk_7t"
      },
      "execution_count": 159,
      "outputs": [
        {
          "output_type": "display_data",
          "data": {
            "text/plain": [
              "<Figure size 1440x720 with 1 Axes>"
            ],
            "image/png": "[encoded data removed]"
          },
          "metadata": {
            "needs_background": "light"
          }
        }
      ]
    },
    {
      "cell_type": "markdown",
      "source": [
        "##### Conclusiones:\n",
        "- En cuanto a orden de convergencia podemos ver que la bisección siempre permanece con valor constante por como se van realizando las divisiones de subintervalos en cada iteración, y queda claro que efectivamente tiene convergencia lineal.\n",
        "- En cuanto al orden de convergencia de la secante, vemos que la estimación del valor del orden de convergencia va oscilando y tiende a converger aproximadamente en 1.5, lo cual confirma que para este caso se tiene una convergencia supralineal.\n",
        "- En cuanto al orden de convergencia de Newton-Raphson y NR modificado vemos que, como habíamos visto en el análisis gráfico, la raíz era simple y por lo tanto ambos métodos coinciden en su orden de convergencia cuadrático, lo cual se ve rapidamente en el cálculo de $\\alpha$ para los dos.\n",
        "- En cuanto al orden de convergencia del punto fijo, los valores resultantes directamente no tienen sentido ya que el método en sí diverge para cualquier semilla que se elija en el intervalo mencionado antes.\n",
        "\n"
      ],
      "metadata": {
        "id": "2O26kUK76IY6"
      }
    },
    {
      "cell_type": "markdown",
      "source": [
        "####  1.2.4.3 Graficos constante asintótica $\\lambda$ vs Iteraciones"
      ],
      "metadata": {
        "id": "U57LyxuA5qwq"
      }
    },
    {
      "cell_type": "markdown",
      "source": [
        "##### Con cota de error 1:"
      ],
      "metadata": {
        "id": "t8ulZCXmjkvi"
      }
    },
    {
      "cell_type": "code",
      "source": [
        "fig, ax = plt.subplots(figsize=(20, 10))\n",
        "\n",
        "plt.title(\"Grafica constante asintótica $\\lambda$ vs Iteraciones\")\n",
        "plt.xlabel(\"Iteraciones\")\n",
        "plt.ylabel(\"$\\lambda$\")\n",
        "\n",
        "plotear_puntos_vs_iter(lista_cte_asintotica_biseccion_cota_1,'red', \"biseccion\")\n",
        "plotear_puntos_vs_iter(lista_cte_asintotica_punto_fijo_cota_1,'green', \"punto fijo\")\n",
        "plotear_puntos_vs_iter(lista_cte_asintotica_NR_cota_1,'blue', \"NR\")\n",
        "plotear_puntos_vs_iter(lista_cte_asintotica_NR_multiple_cota_1,'orange', \"NR modif\")\n",
        "plotear_puntos_vs_iter(lista_cte_asintotica_secante_cota_1,'purple', \"secante\")\n",
        "\n",
        "\n",
        "ax.xaxis.set_major_locator(MultipleLocator(1))\n",
        "ax.yaxis.set_major_locator(MultipleLocator(0.1))\n",
        "ax.set_xlim(0, 30)\n",
        "ax.set_ylim(-0.2, 1.3)\n",
        "\n",
        "\n",
        "ax.grid()\n",
        "plt.legend()\n",
        "\n",
        "plt.show() "
      ],
      "metadata": {
        "colab": {
          "base_uri": "https://localhost:8080/",
          "height": 729
        },
        "outputId": "e8094c6f-18ec-4dea-801f-67648a7eee2b",
        "id": "h7i4rwQk4it3"
      },
      "execution_count": 160,
      "outputs": [
        {
          "output_type": "display_data",
          "data": {
            "text/plain": [
              "<Figure size 1440x720 with 1 Axes>"
            ],
            "image/png": "[encoded data removed]"
          },
          "metadata": {
            "needs_background": "light"
          }
        }
      ]
    },
    {
      "cell_type": "markdown",
      "source": [
        "##### Con cota de error 2:"
      ],
      "metadata": {
        "id": "OREKp2xCjmEA"
      }
    },
    {
      "cell_type": "code",
      "source": [
        "fig, ax = plt.subplots(figsize=(20, 10))\n",
        "\n",
        "plt.title(\"Grafica constante asintótica $\\lambda$ vs Iteraciones\")\n",
        "plt.xlabel(\"Iteraciones\")\n",
        "plt.ylabel(\"$\\lambda$\")\n",
        "\n",
        "plotear_puntos_vs_iter(lista_cte_asintotica_biseccion_cota_2,'red', \"biseccion\")\n",
        "plotear_puntos_vs_iter(lista_cte_asintotica_punto_fijo_cota_2,'green', \"punto fijo\")\n",
        "plotear_puntos_vs_iter(lista_cte_asintotica_NR_cota_2,'blue', \"NR\")\n",
        "plotear_puntos_vs_iter(lista_cte_asintotica_NR_multiple_cota_2,'orange', \"NR modif\")\n",
        "plotear_puntos_vs_iter(lista_cte_asintotica_secante_cota_2,'purple', \"secante\")\n",
        "\n",
        "ax.xaxis.set_major_locator(MultipleLocator(1))\n",
        "ax.yaxis.set_major_locator(MultipleLocator(0.1))\n",
        "ax.set_xlim(0, 30)\n",
        "ax.set_ylim(-0.2, 1.3)\n",
        "\n",
        "ax.grid()\n",
        "plt.legend()\n",
        "\n",
        "plt.show() "
      ],
      "metadata": {
        "colab": {
          "base_uri": "https://localhost:8080/",
          "height": 729
        },
        "outputId": "63bdd28a-a3d3-40cc-85b3-e1d5b3720fd1",
        "id": "K19ybiGi42GY"
      },
      "execution_count": 161,
      "outputs": [
        {
          "output_type": "display_data",
          "data": {
            "text/plain": [
              "<Figure size 1440x720 with 1 Axes>"
            ],
            "image/png": "[encoded data removed]"
          },
          "metadata": {
            "needs_background": "light"
          }
        }
      ]
    },
    {
      "cell_type": "markdown",
      "source": [
        "##### Conclusiones:\n",
        "- Se observa que para el punto fijo los valores de $λ$ son practicamente cero, pero hay que tener en claro que esos valores no tienen sentido ya que si se hubiera podido calcular una iteración más (si se hubiese podido representar), su valor sería mucho mayor a 1 de donde se nota la divergencia.\n",
        "- El método de la bisección tiene $λ$ constante $0.5$ y tiene sentido ya que siempre el error va disminuyendo en la misma razón ya que siempre se subdividen los intervalos a la mitad.\n",
        "- En los métodos de NR el $λ$ es muy cercano a cero, pero en estos casos si tiene sentido ya que se llega a la precisión deseada muy rapidamente.\n",
        "- Para el método de la secante $λ$ no toma valores tan cercanos a cero al principio (como los de NR, por lo tanto tiene que reaizar más iteraciones), pero aún así los mismos terminan siendo cercanos a cero en pocas.\n",
        "\n"
      ],
      "metadata": {
        "id": "P7_rRWNv87Js"
      }
    },
    {
      "cell_type": "markdown",
      "source": [
        "####  1.2.4.4 Graficos  $log_{10}(\\Delta x)$ vs Iteraciones"
      ],
      "metadata": {
        "id": "F-4bUfWv5vM2"
      }
    },
    {
      "cell_type": "markdown",
      "source": [
        "##### Con cota de error 1:"
      ],
      "metadata": {
        "id": "6Yvfw-Dgjnlk"
      }
    },
    {
      "cell_type": "code",
      "source": [
        "fig, ax = plt.subplots(figsize=(20, 10))\n",
        "\n",
        "plt.title(\"Grafica  $Log(\\Delta x)$ vs Iteraciones\")\n",
        "plt.xlabel(\"Iteraciones\")\n",
        "plt.ylabel(\"$Log(\\Delta x)$\")\n",
        "\n",
        "plotear_puntos_vs_iter_log(lista_errores_biseccion_cota_1,\"red\" ,\"biseccion\")\n",
        "plotear_puntos_vs_iter_log(lista_errores_punto_fijo_cota_1,\"green\" ,\"punto fijo\")\n",
        "plotear_puntos_vs_iter_log(lista_errores_NR_cota_1,\"blue\" ,\"NR\")\n",
        "plotear_puntos_vs_iter_log(lista_errores_NR_multiple_cota_1,\"orange\" ,\"NR modif\")\n",
        "plotear_puntos_vs_iter_log(lista_errores_secante_cota_1,\"purple\" ,\"secante\")\n",
        "\n",
        "ax.xaxis.set_major_locator(MultipleLocator(1))\n",
        "ax.yaxis.set_major_locator(MultipleLocator(2))\n",
        "ax.set_xlim(-1, 30)\n",
        "ax.set_ylim(-10, 35)\n",
        "\n",
        "ax.grid()\n",
        "plt.legend()\n",
        "\n",
        "plt.show()"
      ],
      "metadata": {
        "colab": {
          "base_uri": "https://localhost:8080/",
          "height": 729
        },
        "id": "qNf7o6rmq4WA",
        "outputId": "6378018c-9f5c-4103-fc45-fd23705ea6c1"
      },
      "execution_count": 162,
      "outputs": [
        {
          "output_type": "display_data",
          "data": {
            "text/plain": [
              "<Figure size 1440x720 with 1 Axes>"
            ],
            "image/png": "[encoded data removed]"
          },
          "metadata": {
            "needs_background": "light"
          }
        }
      ]
    },
    {
      "cell_type": "markdown",
      "source": [
        "##### Con cota de error 2:"
      ],
      "metadata": {
        "id": "wZDJPjoCjosO"
      }
    },
    {
      "cell_type": "code",
      "source": [
        "fig, ax = plt.subplots(figsize=(20, 10))\n",
        "\n",
        "plt.title(\"Grafica  $Log(\\Delta x)$ vs Iteraciones\")\n",
        "plt.xlabel(\"Iteraciones\")\n",
        "plt.ylabel(\"$Log(\\Delta x)$\")\n",
        "\n",
        "plotear_puntos_vs_iter_log(lista_errores_biseccion_cota_2,\"red\",\"biseccion\")\n",
        "plotear_puntos_vs_iter_log(lista_errores_punto_fijo_cota_2,\"green\",\"punto fijo\")\n",
        "plotear_puntos_vs_iter_log(lista_errores_NR_cota_2,\"blue\",\"NR\")\n",
        "plotear_puntos_vs_iter_log(lista_errores_NR_multiple_cota_2,\"orange\",\"NR modif\")\n",
        "plotear_puntos_vs_iter_log(lista_errores_secante_cota_2,\"purple\" ,\"secante\")\n",
        "\n",
        "\n",
        "\n",
        "ax.xaxis.set_major_locator(MultipleLocator(1))\n",
        "ax.yaxis.set_major_locator(MultipleLocator(2))\n",
        "ax.set_xlim(-1, 30)\n",
        "ax.set_ylim(-10, 35)\n",
        "\n",
        "ax.grid()\n",
        "plt.legend()\n",
        "\n",
        "plt.show()"
      ],
      "metadata": {
        "colab": {
          "base_uri": "https://localhost:8080/",
          "height": 729
        },
        "outputId": "03ed58fe-9387-4017-cafd-5bb9aa64add8",
        "id": "cCe1cVN_3XiV"
      },
      "execution_count": 163,
      "outputs": [
        {
          "output_type": "display_data",
          "data": {
            "text/plain": [
              "<Figure size 1440x720 with 1 Axes>"
            ],
            "image/png": "[encoded data removed]"
          },
          "metadata": {
            "needs_background": "light"
          }
        }
      ]
    },
    {
      "cell_type": "markdown",
      "source": [
        "##### Conclusiones:\n",
        "- Se puede observar a partir de los gráficos que el método de la bisección es el más lento en llegar a la cota de error dada por la tolerancia.\n",
        "- Luego, se observa que los métodos de NR y NR modificado fueron los más eficientes, ya que con muy pocas iteraciones llegaron a ambas cotas de error dadas por las tolerancias.  \n",
        "- Acá tambien se puede ver cómo diverge el método de punto fijo en pocas iteraciones.\n",
        "- A su vez el método de la secante presenta resultados esperados ya que llega a las cotas de error dadas por las tolerancias en una cantidad de iteraciones menor a la de la bisección, pero mayor a las de los métodos de NR, dado su comportamiento supralineal.\n",
        "\n",
        "\n"
      ],
      "metadata": {
        "id": "z21wq5Kr8_fM"
      }
    },
    {
      "cell_type": "markdown",
      "metadata": {
        "id": "6ZMgV0EJoWCL"
      },
      "source": [
        "___________________________________________________________________________________________________________________________________________________________________________________________________________________________________________________________________________\n"
      ]
    },
    {
      "cell_type": "markdown",
      "metadata": {
        "id": "9tY8ne-w1g4U"
      },
      "source": [
        "# ***2. Splines para aproximacion de curvas***"
      ]
    },
    {
      "cell_type": "markdown",
      "metadata": {
        "id": "7RN_CxS_cfKY"
      },
      "source": [
        "## ***2.1 Implementación del método de iterpolacion de Spline cúbica:***"
      ]
    },
    {
      "cell_type": "markdown",
      "metadata": {
        "id": "4Vi1h6kEcVKM"
      },
      "source": [
        "Dada una función $f$ definida en [a,b] y un conjunto de nodos: $x_0 < x_1 < ... < x_n$.\n",
        "\n",
        "Se define trazadror cúbico o Spline Cúbica a la funcion $S(x)$ que satisface las condiciones siguientes:\n",
        "\n",
        "1. $S(x)$ es un polinomio cúbico, denotado $S_i(x)$, en el subintervalo $[x_i,x_{i+1}]$ para cada $i=0,1,...,n-1$.\n",
        "2. $S(x_i) = f(x_i)$  $\\forall$  $i=0,1,...,n$.\n",
        "3. $S_{i+1}(x_{i+1})=S_i(x_{i+1})$  $\\forall$  $i=0,1,...,n-2$.\n",
        "4. $S'_{i+1}(x_{i+1})=S'_i(x_{i+1})$  $\\forall$  $i=0,1,...,n-2$\n",
        "5. $S''_{i+1}(x_{i+1})=S''_i(x_{i+1})$  $\\forall$  $i=0,1,...,n-2$\n",
        "6. Una de las siguientes condiciones de frontera se satisface:\n",
        "   1. $S''(x_0)=S''(x_n)$ frontera libre o natural.\n",
        "   2. $S'(x_0)=f'(x_0)$ y $S'(x_n)=f'(x_n)$  frontera ligada o condicionada.\n",
        "\n",
        "En la consigna se pide trabajar con la frontera ligada por lo tanto utilizaremos la última condición para el ejercicio."
      ]
    },
    {
      "cell_type": "markdown",
      "metadata": {
        "id": "Fll-hs0V5LVj"
      },
      "source": [
        "### **2.1.1 Definiciones de funciones de cálculo de coeficientes:**"
      ]
    },
    {
      "cell_type": "markdown",
      "metadata": {
        "id": "TEUiiupAcVKM"
      },
      "source": [
        "\n",
        "*(Notación: Denominamos **subsplines** a las particiones de las Splines según su definición en los subintervalos)*\n",
        "\n",
        "Para construir una spline definida en un intervalo que se dividió en $n$ subintervalos requiere determinar $4n$ constantes. Para construir el spline cúbico para una función dada f, las condiciones en la definición se aplican a los polinomios cúbicos.\n",
        "\n",
        "$S_i(x) = a_i + b_i (x − x_i) + c_i (x − x_i )^2 + d_i (x − x_i )^3$,\n",
        "\n",
        "para cada $i = 0,1,...,n-1$. Puesto que $S_i(x_i) = a_i = f(x_i)$, la condición **3.** se puede aplicar para obtener\n",
        "\n",
        "$a_{i+1} = S_{i+1}(x _{i+1}) = S_i (x _{i+1}) = a_i + b_i(x_{i+1} − x_i ) + c_i(x_{i+1} − x _i )^2 + d_i (x _{i+1} − x _i )^3$,\n",
        "\n",
        "para cada $i= 0,1,...,n-2$.\n",
        "\n",
        "Como los términos $x_{i+1} - x_i$ son usados muchas veces, por lo tanto es conveniente una notación mas simple\n",
        "\n",
        "$h_i = x_{i+1} - x_i$\n",
        "\n",
        "para cada  $i = 0,1,...,n-1$"
      ]
    },
    {
      "cell_type": "markdown",
      "metadata": {
        "id": "cGtudoe2cVKN"
      },
      "source": [
        "Para esta notación, creamos la siguiente función que devuelve una lista de todos los elementos $h_i$\n",
        "\n",
        "h_lista $= [h_1,h_2,...,h_{n-1}]$"
      ]
    },
    {
      "cell_type": "code",
      "execution_count": 164,
      "metadata": {
        "id": "VbJRvWWG1bgE"
      },
      "outputs": [],
      "source": [
        "def crear_lista_de_incrementos_hi(tabla_de_datos_sobre_nodos: list):\n",
        "    h_lista = []\n",
        "    # voy de i = 0 a n-1\n",
        "    for i in range(len(tabla_de_datos_sobre_nodos)-1):\n",
        "        h_i = tabla_de_datos_sobre_nodos[i+1][0] - tabla_de_datos_sobre_nodos[i][0]\n",
        "        h_lista.append(h_i)\n",
        "    return h_lista"
      ]
    },
    {
      "cell_type": "markdown",
      "metadata": {
        "id": "rULmguJgcVKN"
      },
      "source": [
        "También definimos $a_n = f(x_n)$, entonces tenemos:\n",
        "\n",
        "$a_{i+1} = a_i = b_i h_i +c_i h_i² + d_i h_i³$\n",
        "\n",
        "para cada $i = 0,1,...,n-1$\n",
        "\n",
        "Para organizar los datos, utilizamos la siguiente funcion donde a partir de los datos que tenemos, simplemente guardamos los puntos donde sabemos los valores de $f(x_n)$ en una lista *a_lista*"
      ]
    },
    {
      "cell_type": "code",
      "execution_count": 165,
      "metadata": {
        "id": "yMPsyl6P1e-k"
      },
      "outputs": [],
      "source": [
        "def crear_lista_de_coeficientes_independientes_ai(tabla_de_datos_sobre_nodos: list):\n",
        "    a_lista = []\n",
        "    for i in range(len(tabla_de_datos_sobre_nodos)):\n",
        "        a_i = tabla_de_datos_sobre_nodos[i][1] \n",
        "        a_lista.append(a_i)\n",
        "    return a_lista"
      ]
    },
    {
      "cell_type": "markdown",
      "metadata": {
        "id": "utPzuHSkcVKN"
      },
      "source": [
        "\n",
        "Apartir de:\n",
        "\n",
        "$S_i'(x) = b_i + 2c_i (x − x_i ) + 3d_i (x − x_i )^2$;\n",
        "\n",
        "$S_i'(x_i) = b_i$  $\\forall$  $ i = 0, 1,..., n-1 $\n",
        "\n",
        "y las condiciones 4. y 5. Se puede desarrollar para llegar a expresar los coeficientes lineales de la forma:\n",
        "\n",
        "$b_i = \\frac{1}{h_i} (a_{i+1} - a_i) - \\frac{h_i}{3} (2c_i +  c_{i+1})$"
      ]
    },
    {
      "cell_type": "code",
      "execution_count": 166,
      "metadata": {
        "id": "21Tr9GPp15MJ"
      },
      "outputs": [],
      "source": [
        "def crear_lista_de_coeficientes_lineales_bi(h_lista: list, a_lista: list, c_lista: list):\n",
        "    nro_sub_splines = len(h_lista)\n",
        "    lista_bi = []\n",
        "\n",
        "    for i in range(nro_sub_splines):\n",
        "        b_i = ((1/h_lista[i]) * (a_lista[i+1] - a_lista[i])) - ((h_lista[i]/3) * (2 * c_lista[i] + c_lista[i+1]))\n",
        "        lista_bi.append(b_i)\n",
        "\n",
        "    return lista_bi"
      ]
    },
    {
      "cell_type": "markdown",
      "metadata": {
        "id": "6uiW0QHWcVKO"
      },
      "source": [
        "De aquí, reduciendo en uno el indice y reemplazando los $b_i$ se llega a:\n",
        "\n",
        "$h_{i-1}c_{i-1} + 2(h_{i-1} + h_i)c_i + h_i c_{i+1} =  \\frac{3}{h_i} (a_{i+1} - a_i) - \\frac{3}{h_{i-1}} (a_i - a_{i-1})$"
      ]
    },
    {
      "cell_type": "markdown",
      "metadata": {
        "id": "jQGBvKGbcVKO"
      },
      "source": [
        "Este sistema contiene solo los $\\{c_i\\}_{i=0}^n$ como incógnitas, ya que los valores de $\\{h_i\\}_{i=0}^n$ y de $\\{a_i\\}_{i=0}^n$ son conocidos, los $h$ son el espaciado entre los nodos y los $a$ son los valores de la función en los nodos."
      ]
    },
    {
      "cell_type": "markdown",
      "metadata": {
        "id": "Dgt9dWjtcVKO"
      },
      "source": [
        "**Teorema**: Si $f$ se define en $a= x_0 < x_1 < ... < x_b = b$ y es diferenciable en $a$ y $b$, entonces $f$ tiene un único spline interpolante $S$ condicionado en los nodos $x_0, x_1,..., x_n$; es decir, un spline interpolante que satisface las condiciones de frontera condicionada $S'(a) = f'(a) y $S'(b) = f'(b)$"
      ]
    },
    {
      "cell_type": "markdown",
      "metadata": {
        "id": "nkcLDQw4cVKO"
      },
      "source": [
        "**Demostración**: Para verificar que la ecuación anterior se cumple, utilizamos que como: $f'(a) = S'(a) = S'(x_0) = b_0$, y desarrollando la ecuacion vista antes $b_i = \\frac{1}{h_i} (a_{i+1} - a_i) - \\frac{h_i}{3} (2c_i +  c_{i+1})$ con $i = 0$ llegamos a:\n",
        "\n",
        "$2h_0c_0 + h_0c_1 = \\frac{3}{h_0}(a_1-a_0)-3f'(a)$\n",
        "\n",
        "y con $i=n-1$:\n",
        "\n",
        "$h_{n-1}c_{n-1} + 2h_{n-1}c_n = 3f'(b) - \\frac{3}{h_{n-1}}(a_n-a_{n-1})$"
      ]
    },
    {
      "cell_type": "markdown",
      "metadata": {
        "id": "K_FukJZJcVKO"
      },
      "source": [
        "con todos estos datos se puede determinar el sistema lineal $Ax = b$"
      ]
    },
    {
      "cell_type": "markdown",
      "metadata": {
        "id": "dE39GMQFcVKO"
      },
      "source": [
        "$ \n",
        "A = \n",
        "\\begin{pmatrix}\n",
        "2h_0 & h_0 & 0 & ... & ... & 0 \\\\\n",
        "h_0 & 2(h_0 + h_1) & h_1 & ... & ... & ...\\\\\n",
        "0 & h_1 & 2(h_1 + h_2) & h_2 & ... & ... \\\\\n",
        "... & ... & ... & ... & ... & 0 \\\\\n",
        "... & ... & ... & h_{n-2} & 2(h_{n-2} + h_{n-1}) & h_{n-1} \\\\\n",
        "0 & ... & ... & 0 & h_{n-1} & 2h_{n-1} \\\\\n",
        "\\end{pmatrix} \n",
        ";\n",
        "$\n",
        "\n",
        "\n",
        "\n",
        "$\n",
        "b = \n",
        "\\begin{pmatrix}\n",
        "\\frac{3}{h_0} (a_1 - a_0) - 3f'(x_0) \\\\\n",
        "\\frac{3}{h_1} (a_2 - a_1) - \\frac{3}{h_0} (a_1 - a_0) \\\\\n",
        "... \\\\ \n",
        "\\frac{3}{h_{n-1}} (a_n - a_{n-1}) - \\frac{3}{h_{n-2}} (a_{n-1} - a_{n-2}) \\\\\n",
        "3f'(x_n) - \\frac{3}{h_{n-1}} (a_n - a_{n-1})\n",
        "\\end{pmatrix}\n",
        ";\n",
        "$\n",
        "\n"
      ]
    },
    {
      "cell_type": "code",
      "execution_count": 167,
      "metadata": {
        "id": "1ZbCYB0j1ifb"
      },
      "outputs": [],
      "source": [
        "def matriz_A(h_lista: list):\n",
        "    nro_sub_splines = len(h_lista)\n",
        "\n",
        "    matriz_A = [([0]*(nro_sub_splines+1)) for _ in range(nro_sub_splines+1)]\n",
        "\n",
        "    for i in range(nro_sub_splines+1):\n",
        "        for j in range(nro_sub_splines+1):\n",
        "            if i == j:\n",
        "                if i == 0:\n",
        "                    matriz_A[i][j] = 2 * h_lista[i]\n",
        "                    matriz_A[i][j+1] = h_lista[i]\n",
        "                elif i == nro_sub_splines:\n",
        "                    matriz_A[i][j] = 2 * h_lista[i-1]\n",
        "                    matriz_A[i][j-1] = h_lista[i-1]\n",
        "                else:\n",
        "                    matriz_A[i][j-1] = h_lista[i-1]\n",
        "                    matriz_A[i][j] = 2 * (h_lista[i-1] + h_lista[i])\n",
        "                    matriz_A[i][j+1] = h_lista[i]\n",
        "\n",
        "    return matriz_A"
      ]
    },
    {
      "cell_type": "code",
      "execution_count": 168,
      "metadata": {
        "id": "RV88T3O41j7-"
      },
      "outputs": [],
      "source": [
        "def matriz_b(h_lista: list, a_lista: list, derivada_f_x0, derivada_f_xn):\n",
        "    nro_sub_splines = len(h_lista)\n",
        "    b = []\n",
        "\n",
        "    for i in range(nro_sub_splines+1):\n",
        "        if i == 0:\n",
        "            b.append((3/h_lista[i] * (a_lista[i+1] - a_lista[i])) - (3 * derivada_f_x0))\n",
        "        elif i == nro_sub_splines:\n",
        "            b.append((3 * derivada_f_xn) - (3/h_lista[i-1] * (a_lista[i] - a_lista[i-1])))\n",
        "        else:\n",
        "            b.append(((3/h_lista[i]) * (a_lista[i+1] - a_lista[i])) - ((3/h_lista[i-1]) * (a_lista[i] - a_lista[i-1])))\n",
        "    \n",
        "    return b"
      ]
    },
    {
      "cell_type": "markdown",
      "metadata": {
        "id": "nqxTsLQkcVKP"
      },
      "source": [
        "y nuestra incognita $x = \\begin{pmatrix} c_0 \\\\ c_1 \\\\ ... \\\\ c_n \\end{pmatrix}$ que simplemente la obtenemos haciendo `lista_ci = np.linalg.solve(A, b)`"
      ]
    },
    {
      "cell_type": "markdown",
      "metadata": {
        "id": "SdrjrAHocVKP"
      },
      "source": [
        "Ademas, teniendo en cuenta que $S''(x_n) = 2c_n$  y la condicion 5. se puede llegar a expresar los coeficientes cúbicos de la forma:\n",
        "\n",
        "$d_i = \\frac{1}{3h_i} (c_{i+1} - c_i)$"
      ]
    },
    {
      "cell_type": "code",
      "execution_count": 169,
      "metadata": {
        "id": "1w3HjSOl2yN7"
      },
      "outputs": [],
      "source": [
        "def crear_lista_de_coeficientes_cubicos_di(h_lista: list, c_lista: list):\n",
        "    nro_sub_splines = len(h_lista)\n",
        "    lista_di =[]\n",
        "\n",
        "    for i in range(nro_sub_splines):\n",
        "        d_i = (1/(3*h_lista[i]))*(c_lista[i+1]-c_lista[i])\n",
        "        lista_di.append(d_i)\n",
        "    return lista_di"
      ]
    },
    {
      "cell_type": "markdown",
      "metadata": {
        "id": "UED0SIpWY0Ts"
      },
      "source": [
        "### **2.1.2 Definiciones de funciones auxiliares para ploteo:**"
      ]
    },
    {
      "cell_type": "markdown",
      "source": [
        "Funcion auxiliar para ploteo de subsplines:"
      ],
      "metadata": {
        "id": "JMQt1MQkXyqe"
      }
    },
    {
      "cell_type": "code",
      "execution_count": 170,
      "metadata": {
        "id": "J23v5LRSBqy4"
      },
      "outputs": [],
      "source": [
        "def generar_muestras_de_subspline_i(x,lista_ai: list, lista_bi: list, lista_ci: list, lista_di: list, i): \n",
        "    return (lista_ai[i] + lista_bi[i]*(x-x[0]) + lista_ci[i]*((x-x[0])**2)+lista_di[i]*((x-x[0])**3))"
      ]
    },
    {
      "cell_type": "markdown",
      "source": [
        "Función auxiliar para armado de las tabla con coeficientes resultantes de la interpolación:"
      ],
      "metadata": {
        "id": "hGL2K3UUL8m0"
      }
    },
    {
      "cell_type": "code",
      "execution_count": 171,
      "metadata": {
        "id": "YHd0bmjNJlSB"
      },
      "outputs": [],
      "source": [
        "def curva_dataframe(nombre,coeficientes_spline):\n",
        "    lista_nombres = [[nombre,nombre,nombre,nombre],[\"a\",\"b\",\"c\",\"d\"]]\n",
        "    tuplas = list(zip(*lista_nombres))\n",
        "    indice = pd.MultiIndex.from_tuples(tuplas, names=[\"Spline\", \"Coeficiente\"])\n",
        "    tabla_de_datos = pd.DataFrame(coeficientes_spline, index=indice)\n",
        "    return tabla_de_datos"
      ]
    },
    {
      "cell_type": "markdown",
      "metadata": {
        "id": "0qn1cY0d5Yco"
      },
      "source": [
        "### **2.1.3 Metodo de interpolación de Spline cúbica**"
      ]
    },
    {
      "cell_type": "markdown",
      "source": [
        "Esta función recibe la información acerca de los nodos a interpolar, y como se va a calcular interpolación por spline ligada se necesita el valor de la derivada en los nodos más extremos de la misma.\n",
        "Devuelve una lista cuyos elementos son listas que contienen los coeficientes respectivos a cada subspline $i$"
      ],
      "metadata": {
        "id": "vXSyx6pIVExL"
      }
    },
    {
      "cell_type": "code",
      "execution_count": 172,
      "metadata": {
        "id": "0QWHhwrwEGhy"
      },
      "outputs": [],
      "source": [
        "def interpolacion_spline(nodos: list, derivada_f_x0, derivada_f_xn):\n",
        "  lista_hi = crear_lista_de_incrementos_hi(nodos)\n",
        "  lista_ai = crear_lista_de_coeficientes_independientes_ai(nodos)\n",
        "  A = matriz_A(lista_hi)\n",
        "  b = matriz_b(lista_hi, lista_ai, derivada_f_x0, derivada_f_xn)\n",
        "  lista_ci = np.linalg.solve(A, b)\n",
        "  lista_bi = crear_lista_de_coeficientes_lineales_bi(lista_hi, lista_ai, lista_ci)\n",
        "  lista_di = crear_lista_de_coeficientes_cubicos_di(lista_hi, lista_ci)\n",
        "  return [lista_ai, lista_bi, lista_ci, lista_di]"
      ]
    },
    {
      "cell_type": "markdown",
      "metadata": {
        "id": "-5krFNoz1oDh"
      },
      "source": [
        "##### **Ejemplo** del Burden"
      ]
    },
    {
      "cell_type": "code",
      "execution_count": 173,
      "metadata": {
        "id": "zrOCmDhE1mAS"
      },
      "outputs": [],
      "source": [
        "#datos\n",
        "tabla_de_datos_sobre_nodos = [(0,1), (1,np.e), (2,np.e**2), (3,np.e**3)] # Las tuplas significan esto -> (x, f(x))\n",
        "# derivadas\n",
        "derivada_f_x0 = 1\n",
        "derivada_f_xn = np.e**3"
      ]
    },
    {
      "cell_type": "code",
      "execution_count": 174,
      "metadata": {
        "id": "YXq8biMq1qgA"
      },
      "outputs": [],
      "source": [
        "lista_hi = crear_lista_de_incrementos_hi(tabla_de_datos_sobre_nodos)\n",
        "lista_ai = crear_lista_de_coeficientes_independientes_ai(tabla_de_datos_sobre_nodos)"
      ]
    },
    {
      "cell_type": "code",
      "execution_count": 175,
      "metadata": {
        "colab": {
          "base_uri": "https://localhost:8080/"
        },
        "id": "IeFcP6ZqBqyz",
        "outputId": "49ac1f56-adaf-4fea-9f7a-1b6bc8ae49b5"
      },
      "outputs": [
        {
          "output_type": "execute_result",
          "data": {
            "text/plain": [
              "[1, 1, 1]"
            ]
          },
          "metadata": {},
          "execution_count": 175
        }
      ],
      "source": [
        "lista_hi"
      ]
    },
    {
      "cell_type": "code",
      "execution_count": 176,
      "metadata": {
        "colab": {
          "base_uri": "https://localhost:8080/"
        },
        "id": "ChZo8knYBqy0",
        "outputId": "8b209bed-b302-4f3d-8fd6-41e39d3b8959"
      },
      "outputs": [
        {
          "output_type": "execute_result",
          "data": {
            "text/plain": [
              "[1, 2.718281828459045, 7.3890560989306495, 20.085536923187664]"
            ]
          },
          "metadata": {},
          "execution_count": 176
        }
      ],
      "source": [
        "lista_ai"
      ]
    },
    {
      "cell_type": "code",
      "execution_count": 177,
      "metadata": {
        "colab": {
          "base_uri": "https://localhost:8080/"
        },
        "id": "MHv7ca1f1vwc",
        "outputId": "ea54522a-11d5-4fc7-c4de-b6a6d4e7c37d"
      },
      "outputs": [
        {
          "output_type": "stream",
          "name": "stdout",
          "text": [
            "[2, 1, 0, 0]\n",
            "[1, 4, 1, 0]\n",
            "[0, 1, 4, 1]\n",
            "[0, 0, 1, 2]\n"
          ]
        }
      ],
      "source": [
        "A = (matriz_A(lista_hi))\n",
        "for i in range(len(A)):\n",
        "    print(A[i])"
      ]
    },
    {
      "cell_type": "code",
      "execution_count": 178,
      "metadata": {
        "colab": {
          "base_uri": "https://localhost:8080/"
        },
        "id": "j9jsJn_P11h_",
        "outputId": "21ff8a78-bb43-42c5-dd53-063261fbe057"
      },
      "outputs": [
        {
          "output_type": "execute_result",
          "data": {
            "text/plain": [
              "[2.1548454853771357, 8.857477326037676, 24.077119661356235, 22.16716829679195]"
            ]
          },
          "metadata": {},
          "execution_count": 178
        }
      ],
      "source": [
        "b = (matriz_b(lista_hi, lista_ai, derivada_f_x0, derivada_f_xn))\n",
        "b"
      ]
    },
    {
      "cell_type": "code",
      "execution_count": 179,
      "metadata": {
        "colab": {
          "base_uri": "https://localhost:8080/"
        },
        "id": "bRYl6SHt13cH",
        "outputId": "98f8667e-4634-434e-c89e-580335e24f76"
      },
      "outputs": [
        {
          "output_type": "stream",
          "name": "stdout",
          "text": [
            "[0.4446825  1.26548049 3.35087286 9.40814772]\n"
          ]
        }
      ],
      "source": [
        "lista_ci = np.linalg.solve(A, b)\n",
        "print(lista_ci)"
      ]
    },
    {
      "cell_type": "code",
      "execution_count": 180,
      "metadata": {
        "colab": {
          "base_uri": "https://localhost:8080/"
        },
        "id": "rj-Buw7I16V7",
        "outputId": "eaf0c7b8-d566-4899-ba25-48a897c38169"
      },
      "outputs": [
        {
          "output_type": "execute_result",
          "data": {
            "text/plain": [
              "[0.9999999999999999, 2.7101629884113065, 7.3265163431467215]"
            ]
          },
          "metadata": {},
          "execution_count": 180
        }
      ],
      "source": [
        "lista_bi = crear_lista_de_coeficientes_lineales_bi(lista_hi, lista_ai, lista_ci)\n",
        "lista_bi"
      ]
    },
    {
      "cell_type": "code",
      "execution_count": 181,
      "metadata": {
        "colab": {
          "base_uri": "https://localhost:8080/"
        },
        "id": "3JnTu_if2Ss8",
        "outputId": "b078b717-181b-4f91-bb1b-523158285f6e"
      },
      "outputs": [
        {
          "output_type": "execute_result",
          "data": {
            "text/plain": [
              "[0.27359933149321614, 0.6951307906148199, 2.019091617820356]"
            ]
          },
          "metadata": {},
          "execution_count": 181
        }
      ],
      "source": [
        "lista_di = crear_lista_de_coeficientes_cubicos_di(lista_hi, lista_ci)\n",
        "lista_di"
      ]
    },
    {
      "cell_type": "code",
      "execution_count": 182,
      "metadata": {
        "id": "aeqz7fQhBqy5"
      },
      "outputs": [],
      "source": [
        "coeficientes_ejemplo = interpolacion_spline(tabla_de_datos_sobre_nodos,derivada_f_x0,derivada_f_xn)"
      ]
    },
    {
      "cell_type": "code",
      "execution_count": 183,
      "metadata": {
        "id": "TMNOchpNBqy5"
      },
      "outputs": [],
      "source": [
        "interval_1 = np.linspace(0,1,400) # devuelve un arreglo de 400 valores entre 0 y 1\n",
        "interval_2 = np.linspace(1,2,400) # devuelve un arreglo de 400 valores entre 1 y 2\n",
        "interval_3 = np.linspace(2,3,400) # devuelve un arreglo de 400 valores entre 2 y 3"
      ]
    },
    {
      "cell_type": "code",
      "execution_count": 184,
      "metadata": {
        "id": "7d6SiKnRBqy5"
      },
      "outputs": [],
      "source": [
        "subspline_1 = generar_muestras_de_subspline_i(interval_1,coeficientes_ejemplo[0],coeficientes_ejemplo[1],coeficientes_ejemplo[2],coeficientes_ejemplo[3],0)\n",
        "subspline_2 = generar_muestras_de_subspline_i(interval_2,coeficientes_ejemplo[0],coeficientes_ejemplo[1],coeficientes_ejemplo[2],coeficientes_ejemplo[3],1)\n",
        "subspline_3 = generar_muestras_de_subspline_i(interval_3,coeficientes_ejemplo[0],coeficientes_ejemplo[1],coeficientes_ejemplo[2],coeficientes_ejemplo[3],2)"
      ]
    },
    {
      "cell_type": "code",
      "execution_count": 185,
      "metadata": {
        "colab": {
          "base_uri": "https://localhost:8080/",
          "height": 441
        },
        "id": "yces3cxYBqy6",
        "outputId": "7e644814-d076-4625-d570-acfb68dab34f"
      },
      "outputs": [
        {
          "output_type": "display_data",
          "data": {
            "text/plain": [
              "<Figure size 432x432 with 1 Axes>"
            ],
            "image/png": "[encoded data removed]"
          },
          "metadata": {
            "needs_background": "light"
          }
        }
      ],
      "source": [
        "plt.rcParams[\"figure.figsize\"] = [6,6]\n",
        "plt.rcParams[\"figure.autolayout\"] = True\n",
        "plt.plot(interval_1,subspline_1,'b')\n",
        "plt.plot(interval_2,subspline_2,'b')\n",
        "plt.plot(interval_3,subspline_3,'b')\n",
        "plt.grid()\n",
        "plt.show()"
      ]
    },
    {
      "cell_type": "markdown",
      "metadata": {
        "id": "SZwHQNfUCqk_"
      },
      "source": [
        "## ***2.2 Planteo del problema***"
      ]
    },
    {
      "cell_type": "markdown",
      "source": [
        "### **2.2.1 Uso de datos, interpolación y tabla de coeficientes resultantes**:"
      ],
      "metadata": {
        "id": "w1BnKXEMcCcq"
      }
    },
    {
      "cell_type": "markdown",
      "source": [
        "Cargamos en una lista la información necesaria para la interpolación de la siguiente forma:\n",
        "$(x ,f(x))$"
      ],
      "metadata": {
        "id": "P4THdZ4ALf2Y"
      }
    },
    {
      "cell_type": "code",
      "execution_count": 186,
      "metadata": {
        "id": "81lvoth9Cp5P"
      },
      "outputs": [],
      "source": [
        "nodos_spline_1 = [(1,3),(2,3.7),(5,3.9),(6,4.2),(7,5.7),(8,6.6),(10,7.1),(13,6.7),(17,4.5)]\n",
        "derivadas_spline_1 = (1,-(2/3))\n",
        "nodos_spline_2 = [(17,4.5),(20,7),(23,6.1),(24,5.6),(25,5.8),(27,5.2),(27.7,4.1)]\n",
        "derivadas_spline_2 = (3,-4)\n",
        "nodos_spline_3 = [(27.7,4.1),(28,4.3),(29,4.1),(30,3)]\n",
        "derivadas_spline_3 = (1/3,-(3/2))"
      ]
    },
    {
      "cell_type": "markdown",
      "source": [
        "Calculamos los coeficientes de cada spline:"
      ],
      "metadata": {
        "id": "6oI_HUq_LyeP"
      }
    },
    {
      "cell_type": "code",
      "execution_count": 187,
      "metadata": {
        "id": "PyFXipQIGIai"
      },
      "outputs": [],
      "source": [
        "coeficientes_spline_1 = interpolacion_spline(nodos_spline_1,derivadas_spline_1[0],derivadas_spline_1[1])\n",
        "coeficientes_spline_2 = interpolacion_spline(nodos_spline_2,derivadas_spline_2[0],derivadas_spline_2[1])\n",
        "coeficientes_spline_3 = interpolacion_spline(nodos_spline_3,derivadas_spline_3[0],derivadas_spline_3[1])"
      ]
    },
    {
      "cell_type": "markdown",
      "source": [
        "Se obtiene la tabla de valores con los coeficientes:"
      ],
      "metadata": {
        "id": "1e1bCF4sMEsR"
      }
    },
    {
      "cell_type": "code",
      "execution_count": 188,
      "metadata": {
        "id": "bPh1bmf_wO1N"
      },
      "outputs": [],
      "source": [
        "df1 = curva_dataframe(\"Spline 1\",coeficientes_spline_1)\n",
        "df2 = curva_dataframe(\"Spline 2\",coeficientes_spline_2)\n",
        "df3 = curva_dataframe(\"Spline 3\",coeficientes_spline_3)\n",
        "frames = [df1,df2,df3]\n",
        "df_total = pd.concat(frames).T"
      ]
    },
    {
      "cell_type": "code",
      "execution_count": 189,
      "metadata": {
        "colab": {
          "base_uri": "https://localhost:8080/",
          "height": 363
        },
        "id": "q7DkqBklwitC",
        "outputId": "96fffb24-e609-476b-b6cf-29d1ae784300"
      },
      "outputs": [
        {
          "output_type": "execute_result",
          "data": {
            "text/plain": [
              "Spline      Spline 1                               Spline 2            \\\n",
              "Coeficiente        a         b         c         d        a         b   \n",
              "0                3.0  1.000000 -0.346810  0.046810      4.5  3.000000   \n",
              "1                3.7  0.446810 -0.206380  0.026555      7.0 -0.197875   \n",
              "2                3.9 -0.074479  0.032617  0.341862      6.1 -0.608501   \n",
              "3                4.2  1.016340  1.058202 -0.574542      5.6 -0.111371   \n",
              "4                5.7  1.409117 -0.665425  0.156308      5.8  0.153987   \n",
              "5                6.6  0.547191 -0.196501  0.023953      5.2 -0.401178   \n",
              "6                7.1  0.048621 -0.052784 -0.002623      4.1       NaN   \n",
              "7                6.7 -0.338892 -0.076387  0.005903      NaN       NaN   \n",
              "8                4.5       NaN -0.005556       NaN      NaN       NaN   \n",
              "\n",
              "Spline                          Spline 3                                \n",
              "Coeficiente         c         d        a         b         c         d  \n",
              "0           -1.100708  0.126162      4.1  0.333333  2.244224 -3.777044  \n",
              "1            0.034750 -0.022931      4.3  0.660066 -1.155116  0.295050  \n",
              "2           -0.171626  0.280127      4.1 -0.765017 -0.269967 -0.065017  \n",
              "3            0.668756 -0.357385      3.0       NaN -0.465017       NaN  \n",
              "4           -0.403398  0.088202      NaN       NaN       NaN       NaN  \n",
              "5            0.125815 -2.568002      NaN       NaN       NaN       NaN  \n",
              "6           -5.266989       NaN      NaN       NaN       NaN       NaN  \n",
              "7                 NaN       NaN      NaN       NaN       NaN       NaN  \n",
              "8                 NaN       NaN      NaN       NaN       NaN       NaN  "
            ],
            "text/html": [
              "\n",
              "  <div id=\"df-63b8d569-4de6-4280-8ac3-3384165076c4\">\n",
              "    <div class=\"colab-df-container\">\n",
              "      <div>\n",
              "<style scoped>\n",
              "    .dataframe tbody tr th:only-of-type {\n",
              "        vertical-align: middle;\n",
              "    }\n",
              "\n",
              "    .dataframe tbody tr th {\n",
              "        vertical-align: top;\n",
              "    }\n",
              "\n",
              "    .dataframe thead tr th {\n",
              "        text-align: left;\n",
              "    }\n",
              "</style>\n",
              "<table border=\"1\" class=\"dataframe\">\n",
              "  <thead>\n",
              "    <tr>\n",
              "      <th>Spline</th>\n",
              "      <th colspan=\"4\" halign=\"left\">Spline 1</th>\n",
              "      <th colspan=\"4\" halign=\"left\">Spline 2</th>\n",
              "      <th colspan=\"4\" halign=\"left\">Spline 3</th>\n",
              "    </tr>\n",
              "    <tr>\n",
              "      <th>Coeficiente</th>\n",
              "      <th>a</th>\n",
              "      <th>b</th>\n",
              "      <th>c</th>\n",
              "      <th>d</th>\n",
              "      <th>a</th>\n",
              "      <th>b</th>\n",
              "      <th>c</th>\n",
              "      <th>d</th>\n",
              "      <th>a</th>\n",
              "      <th>b</th>\n",
              "      <th>c</th>\n",
              "      <th>d</th>\n",
              "    </tr>\n",
              "  </thead>\n",
              "  <tbody>\n",
              "    <tr>\n",
              "      <th>0</th>\n",
              "      <td>3.0</td>\n",
              "      <td>1.000000</td>\n",
              "      <td>-0.346810</td>\n",
              "      <td>0.046810</td>\n",
              "      <td>4.5</td>\n",
              "      <td>3.000000</td>\n",
              "      <td>-1.100708</td>\n",
              "      <td>0.126162</td>\n",
              "      <td>4.1</td>\n",
              "      <td>0.333333</td>\n",
              "      <td>2.244224</td>\n",
              "      <td>-3.777044</td>\n",
              "    </tr>\n",
              "    <tr>\n",
              "      <th>1</th>\n",
              "      <td>3.7</td>\n",
              "      <td>0.446810</td>\n",
              "      <td>-0.206380</td>\n",
              "      <td>0.026555</td>\n",
              "      <td>7.0</td>\n",
              "      <td>-0.197875</td>\n",
              "      <td>0.034750</td>\n",
              "      <td>-0.022931</td>\n",
              "      <td>4.3</td>\n",
              "      <td>0.660066</td>\n",
              "      <td>-1.155116</td>\n",
              "      <td>0.295050</td>\n",
              "    </tr>\n",
              "    <tr>\n",
              "      <th>2</th>\n",
              "      <td>3.9</td>\n",
              "      <td>-0.074479</td>\n",
              "      <td>0.032617</td>\n",
              "      <td>0.341862</td>\n",
              "      <td>6.1</td>\n",
              "      <td>-0.608501</td>\n",
              "      <td>-0.171626</td>\n",
              "      <td>0.280127</td>\n",
              "      <td>4.1</td>\n",
              "      <td>-0.765017</td>\n",
              "      <td>-0.269967</td>\n",
              "      <td>-0.065017</td>\n",
              "    </tr>\n",
              "    <tr>\n",
              "      <th>3</th>\n",
              "      <td>4.2</td>\n",
              "      <td>1.016340</td>\n",
              "      <td>1.058202</td>\n",
              "      <td>-0.574542</td>\n",
              "      <td>5.6</td>\n",
              "      <td>-0.111371</td>\n",
              "      <td>0.668756</td>\n",
              "      <td>-0.357385</td>\n",
              "      <td>3.0</td>\n",
              "      <td>NaN</td>\n",
              "      <td>-0.465017</td>\n",
              "      <td>NaN</td>\n",
              "    </tr>\n",
              "    <tr>\n",
              "      <th>4</th>\n",
              "      <td>5.7</td>\n",
              "      <td>1.409117</td>\n",
              "      <td>-0.665425</td>\n",
              "      <td>0.156308</td>\n",
              "      <td>5.8</td>\n",
              "      <td>0.153987</td>\n",
              "      <td>-0.403398</td>\n",
              "      <td>0.088202</td>\n",
              "      <td>NaN</td>\n",
              "      <td>NaN</td>\n",
              "      <td>NaN</td>\n",
              "      <td>NaN</td>\n",
              "    </tr>\n",
              "    <tr>\n",
              "      <th>5</th>\n",
              "      <td>6.6</td>\n",
              "      <td>0.547191</td>\n",
              "      <td>-0.196501</td>\n",
              "      <td>0.023953</td>\n",
              "      <td>5.2</td>\n",
              "      <td>-0.401178</td>\n",
              "      <td>0.125815</td>\n",
              "      <td>-2.568002</td>\n",
              "      <td>NaN</td>\n",
              "      <td>NaN</td>\n",
              "      <td>NaN</td>\n",
              "      <td>NaN</td>\n",
              "    </tr>\n",
              "    <tr>\n",
              "      <th>6</th>\n",
              "      <td>7.1</td>\n",
              "      <td>0.048621</td>\n",
              "      <td>-0.052784</td>\n",
              "      <td>-0.002623</td>\n",
              "      <td>4.1</td>\n",
              "      <td>NaN</td>\n",
              "      <td>-5.266989</td>\n",
              "      <td>NaN</td>\n",
              "      <td>NaN</td>\n",
              "      <td>NaN</td>\n",
              "      <td>NaN</td>\n",
              "      <td>NaN</td>\n",
              "    </tr>\n",
              "    <tr>\n",
              "      <th>7</th>\n",
              "      <td>6.7</td>\n",
              "      <td>-0.338892</td>\n",
              "      <td>-0.076387</td>\n",
              "      <td>0.005903</td>\n",
              "      <td>NaN</td>\n",
              "      <td>NaN</td>\n",
              "      <td>NaN</td>\n",
              "      <td>NaN</td>\n",
              "      <td>NaN</td>\n",
              "      <td>NaN</td>\n",
              "      <td>NaN</td>\n",
              "      <td>NaN</td>\n",
              "    </tr>\n",
              "    <tr>\n",
              "      <th>8</th>\n",
              "      <td>4.5</td>\n",
              "      <td>NaN</td>\n",
              "      <td>-0.005556</td>\n",
              "      <td>NaN</td>\n",
              "      <td>NaN</td>\n",
              "      <td>NaN</td>\n",
              "      <td>NaN</td>\n",
              "      <td>NaN</td>\n",
              "      <td>NaN</td>\n",
              "      <td>NaN</td>\n",
              "      <td>NaN</td>\n",
              "      <td>NaN</td>\n",
              "    </tr>\n",
              "  </tbody>\n",
              "</table>\n",
              "</div>\n",
              "      <button class=\"colab-df-convert\" onclick=\"convertToInteractive('df-63b8d569-4de6-4280-8ac3-3384165076c4')\"\n",
              "              title=\"Convert this dataframe to an interactive table.\"\n",
              "              style=\"display:none;\">\n",
              "        \n",
              "  <svg xmlns=\"http://www.w3.org/2000/svg\" height=\"24px\"viewBox=\"0 0 24 24\"\n",
              "       width=\"24px\">\n",
              "    <path d=\"M0 0h24v24H0V0z\" fill=\"none\"/>\n",
              "    <path d=\"M18.56 5.44l.94 2.06.94-2.06 2.06-.94-2.06-.94-.94-2.06-.94 2.06-2.06.94zm-11 1L8.5 8.5l.94-2.06 2.06-.94-2.06-.94L8.5 2.5l-.94 2.06-2.06.94zm10 10l.94 2.06.94-2.06 2.06-.94-2.06-.94-.94-2.06-.94 2.06-2.06.94z\"/><path d=\"M17.41 7.96l-1.37-1.37c-.4-.4-.92-.59-1.43-.59-.52 0-1.04.2-1.43.59L10.3 9.45l-7.72 7.72c-.78.78-.78 2.05 0 2.83L4 21.41c.39.39.9.59 1.41.59.51 0 1.02-.2 1.41-.59l7.78-7.78 2.81-2.81c.8-.78.8-2.07 0-2.86zM5.41 20L4 18.59l7.72-7.72 1.47 1.35L5.41 20z\"/>\n",
              "  </svg>\n",
              "      </button>\n",
              "      \n",
              "  <style>\n",
              "    .colab-df-container {\n",
              "      display:flex;\n",
              "      flex-wrap:wrap;\n",
              "      gap: 12px;\n",
              "    }\n",
              "\n",
              "    .colab-df-convert {\n",
              "      background-color: #E8F0FE;\n",
              "      border: none;\n",
              "      border-radius: 50%;\n",
              "      cursor: pointer;\n",
              "      display: none;\n",
              "      fill: #1967D2;\n",
              "      height: 32px;\n",
              "      padding: 0 0 0 0;\n",
              "      width: 32px;\n",
              "    }\n",
              "\n",
              "    .colab-df-convert:hover {\n",
              "      background-color: #E2EBFA;\n",
              "      box-shadow: 0px 1px 2px rgba(60, 64, 67, 0.3), 0px 1px 3px 1px rgba(60, 64, 67, 0.15);\n",
              "      fill: #174EA6;\n",
              "    }\n",
              "\n",
              "    [theme=dark] .colab-df-convert {\n",
              "      background-color: #3B4455;\n",
              "      fill: #D2E3FC;\n",
              "    }\n",
              "\n",
              "    [theme=dark] .colab-df-convert:hover {\n",
              "      background-color: #434B5C;\n",
              "      box-shadow: 0px 1px 3px 1px rgba(0, 0, 0, 0.15);\n",
              "      filter: drop-shadow(0px 1px 2px rgba(0, 0, 0, 0.3));\n",
              "      fill: #FFFFFF;\n",
              "    }\n",
              "  </style>\n",
              "\n",
              "      <script>\n",
              "        const buttonEl =\n",
              "          document.querySelector('#df-63b8d569-4de6-4280-8ac3-3384165076c4 button.colab-df-convert');\n",
              "        buttonEl.style.display =\n",
              "          google.colab.kernel.accessAllowed ? 'block' : 'none';\n",
              "\n",
              "        async function convertToInteractive(key) {\n",
              "          const element = document.querySelector('#df-63b8d569-4de6-4280-8ac3-3384165076c4');\n",
              "          const dataTable =\n",
              "            await google.colab.kernel.invokeFunction('convertToInteractive',\n",
              "                                                     [key], {});\n",
              "          if (!dataTable) return;\n",
              "\n",
              "          const docLinkHtml = 'Like what you see? Visit the ' +\n",
              "            '<a target=\"_blank\" href=https://colab.research.google.com/notebooks/data_table.ipynb>data table notebook</a>'\n",
              "            + ' to learn more about interactive tables.';\n",
              "          element.innerHTML = '';\n",
              "          dataTable['output_type'] = 'display_data';\n",
              "          await google.colab.output.renderOutput(dataTable, element);\n",
              "          const docLink = document.createElement('div');\n",
              "          docLink.innerHTML = docLinkHtml;\n",
              "          element.appendChild(docLink);\n",
              "        }\n",
              "      </script>\n",
              "    </div>\n",
              "  </div>\n",
              "  "
            ]
          },
          "metadata": {},
          "execution_count": 189
        }
      ],
      "source": [
        "df_total"
      ]
    },
    {
      "cell_type": "markdown",
      "metadata": {
        "id": "2KWzUoC6Bqy8"
      },
      "source": [
        "### **2.2.2 Gráfico**"
      ]
    },
    {
      "cell_type": "markdown",
      "source": [
        "A continuación se asigna cada intervalo a graficar según cada curva y luego se calculan valores (muestras) de cada subspline para poder graficarlas:"
      ],
      "metadata": {
        "id": "jH24etRMMPKc"
      }
    },
    {
      "cell_type": "markdown",
      "metadata": {
        "id": "-7UlVEFQBqy8"
      },
      "source": [
        "#### Curva 1"
      ]
    },
    {
      "cell_type": "code",
      "execution_count": 190,
      "metadata": {
        "id": "K8sEtsd2Bqy8"
      },
      "outputs": [],
      "source": [
        "intervalo_1_curva_1 = np.linspace(1,2,100)\n",
        "intervalo_2_curva_1 = np.linspace(2,5,100)\n",
        "intervalo_3_curva_1 = np.linspace(5,6,100)\n",
        "intervalo_4_curva_1 = np.linspace(6,7,100)\n",
        "intervalo_5_curva_1 = np.linspace(7,8,100)\n",
        "intervalo_6_curva_1 = np.linspace(8,10,100)\n",
        "intervalo_7_curva_1 = np.linspace(10,13,100)\n",
        "intervalo_8_curva_1 = np.linspace(13,17,100)"
      ]
    },
    {
      "cell_type": "code",
      "execution_count": 191,
      "metadata": {
        "id": "C-9flDWkBqy8"
      },
      "outputs": [],
      "source": [
        "muestras_subspline_1_curva_1 = generar_muestras_de_subspline_i(intervalo_1_curva_1,coeficientes_spline_1[0],coeficientes_spline_1[1],coeficientes_spline_1[2],coeficientes_spline_1[3],0)\n",
        "muestras_subspline_2_curva_1 = generar_muestras_de_subspline_i(intervalo_2_curva_1,coeficientes_spline_1[0],coeficientes_spline_1[1],coeficientes_spline_1[2],coeficientes_spline_1[3],1)\n",
        "muestras_subspline_3_curva_1 = generar_muestras_de_subspline_i(intervalo_3_curva_1,coeficientes_spline_1[0],coeficientes_spline_1[1],coeficientes_spline_1[2],coeficientes_spline_1[3],2)\n",
        "muestras_subspline_4_curva_1 = generar_muestras_de_subspline_i(intervalo_4_curva_1,coeficientes_spline_1[0],coeficientes_spline_1[1],coeficientes_spline_1[2],coeficientes_spline_1[3],3)\n",
        "muestras_subspline_5_curva_1 = generar_muestras_de_subspline_i(intervalo_5_curva_1,coeficientes_spline_1[0],coeficientes_spline_1[1],coeficientes_spline_1[2],coeficientes_spline_1[3],4)\n",
        "muestras_subspline_6_curva_1 = generar_muestras_de_subspline_i(intervalo_6_curva_1,coeficientes_spline_1[0],coeficientes_spline_1[1],coeficientes_spline_1[2],coeficientes_spline_1[3],5)\n",
        "muestras_subspline_7_curva_1 = generar_muestras_de_subspline_i(intervalo_7_curva_1,coeficientes_spline_1[0],coeficientes_spline_1[1],coeficientes_spline_1[2],coeficientes_spline_1[3],6)\n",
        "muestras_subspline_8_curva_1 = generar_muestras_de_subspline_i(intervalo_8_curva_1,coeficientes_spline_1[0],coeficientes_spline_1[1],coeficientes_spline_1[2],coeficientes_spline_1[3],7)"
      ]
    },
    {
      "cell_type": "markdown",
      "metadata": {
        "id": "4hS1z0E7Bqy9"
      },
      "source": [
        "#### Curva 2"
      ]
    },
    {
      "cell_type": "code",
      "execution_count": 192,
      "metadata": {
        "id": "-wqpSfhzBqy9"
      },
      "outputs": [],
      "source": [
        "intervalo_1_curva_2 = np.linspace(17,20,100)\n",
        "intervalo_2_curva_2 = np.linspace(20,23,100)\n",
        "intervalo_3_curva_2 = np.linspace(23,24,100)\n",
        "intervalo_4_curva_2 = np.linspace(24,25,100)\n",
        "intervalo_5_curva_2 = np.linspace(25,27,100)\n",
        "intervalo_6_curva_2 = np.linspace(27,27.7,100)"
      ]
    },
    {
      "cell_type": "code",
      "execution_count": 193,
      "metadata": {
        "id": "DlxFZmW0Bqy9"
      },
      "outputs": [],
      "source": [
        "muestras_subspline_1_curva_2 = generar_muestras_de_subspline_i(intervalo_1_curva_2,coeficientes_spline_2[0],coeficientes_spline_2[1],coeficientes_spline_2[2],coeficientes_spline_2[3],0)\n",
        "muestras_subspline_2_curva_2 = generar_muestras_de_subspline_i(intervalo_2_curva_2,coeficientes_spline_2[0],coeficientes_spline_2[1],coeficientes_spline_2[2],coeficientes_spline_2[3],1)\n",
        "muestras_subspline_3_curva_2 = generar_muestras_de_subspline_i(intervalo_3_curva_2,coeficientes_spline_2[0],coeficientes_spline_2[1],coeficientes_spline_2[2],coeficientes_spline_2[3],2)\n",
        "muestras_subspline_4_curva_2 = generar_muestras_de_subspline_i(intervalo_4_curva_2,coeficientes_spline_2[0],coeficientes_spline_2[1],coeficientes_spline_2[2],coeficientes_spline_2[3],3)\n",
        "muestras_subspline_5_curva_2 = generar_muestras_de_subspline_i(intervalo_5_curva_2,coeficientes_spline_2[0],coeficientes_spline_2[1],coeficientes_spline_2[2],coeficientes_spline_2[3],4)\n",
        "muestras_subspline_6_curva_2 = generar_muestras_de_subspline_i(intervalo_6_curva_2,coeficientes_spline_2[0],coeficientes_spline_2[1],coeficientes_spline_2[2],coeficientes_spline_2[3],5)"
      ]
    },
    {
      "cell_type": "markdown",
      "metadata": {
        "id": "2jCbfc4uBqy9"
      },
      "source": [
        "#### Curva 3"
      ]
    },
    {
      "cell_type": "code",
      "execution_count": 194,
      "metadata": {
        "id": "Pr4xp6ZFBqy9"
      },
      "outputs": [],
      "source": [
        "intervalo_1_curva_3 = np.linspace(27.7,28,100)\n",
        "intervalo_2_curva_3 = np.linspace(28,29,100)\n",
        "intervalo_3_curva_3 = np.linspace(29,30,100)"
      ]
    },
    {
      "cell_type": "code",
      "execution_count": 195,
      "metadata": {
        "id": "gBrxVEC3Bqy-"
      },
      "outputs": [],
      "source": [
        "muestras_subspline_1_curva_3 = generar_muestras_de_subspline_i(intervalo_1_curva_3,coeficientes_spline_3[0],coeficientes_spline_3[1],coeficientes_spline_3[2],coeficientes_spline_3[3],0)\n",
        "muestras_subspline_2_curva_3 = generar_muestras_de_subspline_i(intervalo_2_curva_3,coeficientes_spline_3[0],coeficientes_spline_3[1],coeficientes_spline_3[2],coeficientes_spline_3[3],1)\n",
        "muestras_subspline_3_curva_3 = generar_muestras_de_subspline_i(intervalo_3_curva_3,coeficientes_spline_3[0],coeficientes_spline_3[1],coeficientes_spline_3[2],coeficientes_spline_3[3],2)"
      ]
    },
    {
      "cell_type": "markdown",
      "metadata": {
        "id": "H6eaHO-1cQrS"
      },
      "source": [
        "#### Ploteo"
      ]
    },
    {
      "cell_type": "code",
      "execution_count": 196,
      "metadata": {
        "colab": {
          "base_uri": "https://localhost:8080/",
          "height": 441
        },
        "id": "-XNupw5dBqy-",
        "outputId": "8d828af0-e49a-4158-b0ec-2a44cc6ff5d1"
      },
      "outputs": [
        {
          "output_type": "display_data",
          "data": {
            "text/plain": [
              "<Figure size 1440x432 with 1 Axes>"
            ],
            "image/png": "[encoded data removed]"
          },
          "metadata": {
            "needs_background": "light"
          }
        }
      ],
      "source": [
        "fig, ax = plt.subplots(figsize=(20, 6))\n",
        "\n",
        "\n",
        "plt.rcParams[\"figure.autolayout\"] = True\n",
        "\n",
        "plt.title(\"Splines halladas con los datos de la tabla\",fontsize=20)\n",
        "plt.xlabel(\"$x$\",fontsize=15)\n",
        "plt.ylabel(\"$f(x)$\", fontsize=15)\n",
        "\n",
        "\n",
        "# grafico spline 1\n",
        "plt.plot(intervalo_1_curva_1,muestras_subspline_1_curva_1,'r', label=\"Spline 1\")\n",
        "plt.plot(intervalo_2_curva_1,muestras_subspline_2_curva_1,'r')\n",
        "plt.plot(intervalo_3_curva_1,muestras_subspline_3_curva_1,'r')\n",
        "plt.plot(intervalo_4_curva_1,muestras_subspline_4_curva_1,'r')\n",
        "plt.plot(intervalo_5_curva_1,muestras_subspline_5_curva_1,'r')\n",
        "plt.plot(intervalo_6_curva_1,muestras_subspline_6_curva_1,'r')\n",
        "plt.plot(intervalo_7_curva_1,muestras_subspline_7_curva_1,'r')\n",
        "plt.plot(intervalo_8_curva_1,muestras_subspline_8_curva_1,'r')\n",
        "# grafico spline 2\n",
        "plt.plot(intervalo_1_curva_2,muestras_subspline_1_curva_2,'g', label=\"Spline 2\")\n",
        "plt.plot(intervalo_2_curva_2,muestras_subspline_2_curva_2,'g')\n",
        "plt.plot(intervalo_3_curva_2,muestras_subspline_3_curva_2,'g')\n",
        "plt.plot(intervalo_4_curva_2,muestras_subspline_4_curva_2,'g')\n",
        "plt.plot(intervalo_5_curva_2,muestras_subspline_5_curva_2,'g')\n",
        "plt.plot(intervalo_6_curva_2,muestras_subspline_6_curva_2,'g')\n",
        "# grafico spline 3\n",
        "plt.plot(intervalo_1_curva_3,muestras_subspline_1_curva_3,'b', label=\"Spline 3\")\n",
        "plt.plot(intervalo_2_curva_3,muestras_subspline_2_curva_3,'b')\n",
        "plt.plot(intervalo_3_curva_3,muestras_subspline_3_curva_3,'b')\n",
        "\n",
        "# graficamos los puntos dados por el ejercicio\n",
        "\n",
        "label_ploteado = False\n",
        "for x,y in nodos_spline_1:\n",
        "    if label_ploteado:\n",
        "        plt.plot(x,y,'ro')\n",
        "    else:\n",
        "        plt.plot(x,y,'ro', label = \"Nodos spline 1\")\n",
        "        label_ploteado = True\n",
        "\n",
        "label_ploteado = False\n",
        "for x,y in nodos_spline_2:\n",
        "    if label_ploteado:\n",
        "        plt.plot(x,y,'go')\n",
        "    else:\n",
        "        plt.plot(x,y,'go', label = \"Nodos spline 2\")\n",
        "        label_ploteado = True\n",
        "\n",
        "label_ploteado = False\n",
        "for x,y in nodos_spline_3:\n",
        "    if label_ploteado:\n",
        "        plt.plot(x,y,'bo')\n",
        "    else:\n",
        "        plt.plot(x,y,'bo', label = \"Nodos spline 1\")\n",
        "        label_ploteado = True\n",
        "\n",
        "\n",
        "\n",
        "ax.xaxis.set_major_locator(MultipleLocator(1))\n",
        "ax.yaxis.set_major_locator(MultipleLocator(1))\n",
        "ax.set_xlim(0, 32)\n",
        "ax.set_ylim(0, 8)\n",
        "\n",
        "plt.legend()\n",
        "ax.grid()\n",
        "plt.show()"
      ]
    },
    {
      "cell_type": "markdown",
      "source": [
        "### **2.2.3 Conclusiones**:"
      ],
      "metadata": {
        "id": "FPk3VbCtct6E"
      }
    },
    {
      "cell_type": "markdown",
      "source": [
        "Se puede observar que la aproximación realizada en general resulta en una buena aproximación de las funciones interpoladas, aunque hay que destacar que se nota una levemente menor precisión de dicha aproximación para la curva 2 a comparación de las demás."
      ],
      "metadata": {
        "id": "KD8smvPxczCF"
      }
    },
    {
      "cell_type": "markdown",
      "source": [
        "# ***3. Conclusiones generales***"
      ],
      "metadata": {
        "id": "4Jvm7RgqhiID"
      }
    },
    {
      "cell_type": "markdown",
      "source": [
        "A lo largo del trabajo se desarrollan y se alcanzan los objetivos propuestos al inicio del mismo, corroborando que los resultados teóricos se ven reflejados en planteo realizado y en la aplicación de métodos para estos problemas en particular."
      ],
      "metadata": {
        "id": "I0cLNwxCh8Ez"
      }
    },
    {
      "cell_type": "markdown",
      "source": [
        "# ***4. Referencias***"
      ],
      "metadata": {
        "id": "N4DpU-54jvFK"
      }
    },
    {
      "cell_type": "markdown",
      "source": [
        "- Burden, R.L., Faires, J.D., Análisis Numérico. Grupo Editorial Iberoamericano, 1985.\n",
        "\n",
        "- Apuntes del curso Análisis numérico 1 - curso Sassano - Facultad de Ingeniería - Universidad de Buenos Aires - 2022. \n",
        "\n",
        "- Material audiovisual del curso Análisis numérico 1 - curso Sassano - Facultad de Ingeniería - Universidad de Buenos Aires - 2022. \n",
        "\n",
        "- Manual de Latex,  https://manualdelatex.com/ .\n"
      ],
      "metadata": {
        "id": "2em_sHQplHUe"
      }
    }
  ],
  "metadata": {
    "colab": {
      "collapsed_sections": [
        "Hgc0T3SB6A8D",
        "Z9nB7qJ1737_",
        "LUbRkbwP88DV"
      ],
      "name": "TP1_agustina_7_2022_06_29.ipynb",
      "provenance": [],
      "toc_visible": true
    },
    "kernelspec": {
      "display_name": "Python 3.9.12 ('base')",
      "language": "python",
      "name": "python3"
    },
    "language_info": {
      "codemirror_mode": {
        "name": "ipython",
        "version": 3
      },
      "file_extension": ".py",
      "mimetype": "text/x-python",
      "name": "python",
      "nbconvert_exporter": "python",
      "pygments_lexer": "ipython3",
      "version": "3.9.12"
    },
    "vscode": {
      "interpreter": {
        "hash": "a1b517d4a62fdc2cf0e484d22342d09353ad71db632c0c4702f6ba8ab4a7ce17"
      }
    }
  },
  "nbformat": 4,
  "nbformat_minor": 0
}