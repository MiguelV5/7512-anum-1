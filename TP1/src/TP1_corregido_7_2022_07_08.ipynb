{
  "cells": [
    {
      "cell_type": "markdown",
      "metadata": {
        "id": "6HXX2GtJqhTP"
      },
      "source": [
        "<p align=\"center\">\n",
        "_____________________________________________________________________________________________________________________________\n",
        "\n",
        "<br>\n",
        "<br>\n",
        "  <img src=\"https://www.estudiaradistancia.com.ar/logos/original/logo-universidad-de-buenos-aires.webp\" height=180 />\n",
        "  <img  src=\"https://confedi.org.ar/wp-content/uploads/2020/09/fiuba_logo.jpg\" height=\"180\">\n",
        "<br>\n",
        "_____________________________________________________________________________________________________________________________\n",
        "<br>\n",
        "<br>\n",
        "<font size=\"+3\">\n",
        "[71.12] Análisis Numérico I\n",
        "<br>\n",
        "Trabajo Práctico I\n",
        "<br>\n",
        "Primer Cuatrimestre 2022\n",
        "</font>\n",
        "<br>\n",
        "<br>\n",
        "_____________________________________________________________________________________________________________________________\n",
        "<br>\n",
        "<br>\n",
        "<font size=\"+2\">\n",
        "Desarrollo de métodos numéricos de busqueda de raíces e interpolacion\n",
        "<br>\n",
        "de Spline cúbica para su aplicación en problemas de optimización industrial. \n",
        "</font>\n",
        "<br>\n",
        "<br>\n",
        "_____________________________________________________________________________________________________________________________\n",
        "<br>\n",
        "<br>\n",
        "<font size=\"+2\">\n",
        "AUTORES\n",
        "</font>\n",
        "<br>\n",
        "<font size=\"+1\">\n",
        "Gamberale Luciano Martin,\n",
        "<br>  \n",
        "Veiga Angel Martin,\n",
        "<br>\n",
        "Godoy Dupont Mateo,\n",
        "<br>\n",
        "Vasquez Jimenez Miguel Angel,\n",
        "</font>\n",
        "<br>\n",
        "<br>\n",
        "<font size=\"+2\">\n",
        "DOCENTES\n",
        "</font>\n",
        "<br>\n",
        "<font size=\"+1\">\n",
        "Sassano Myriam Patricia\n",
        "<br>\n",
        "Garcia Ezequiel\n",
        "<br>\n",
        "Husain Santiago\n",
        "<br>\n",
        "Payva Matias\n",
        "<br>\n",
        "Turano Maria Agustina\n",
        "<br>\n",
        "Vera Ramiro\n",
        "</font>\n",
        "<br>\n",
        "<br>\n",
        "<br>\n",
        "\n",
        "_____________________________________________________________________________________________________________________________\n",
        "</p>\n",
        "\n",
        "\n"
      ]
    },
    {
      "cell_type": "markdown",
      "metadata": {
        "id": "kDnTzEsMHVAf"
      },
      "source": [
        "___________________________________________________________________________________________________________________________________________________________________________________________________________________________________________________________________________\n"
      ]
    },
    {
      "cell_type": "markdown",
      "source": [
        "# Índice\n",
        "\n",
        "0. Introducción\n",
        "    - 0.1 Objetivos\n",
        "    - 0.2 Introducción\n",
        "1. Plan de producción:\n",
        "    - 1.1 Implementacion de metodos de busqueda de Raices:  \n",
        "        - 1.1.1 Criterios de paro:\n",
        "        - 1.1.2 Definiciones, funciones e imports auxiliares:\n",
        "            - 1.1.2.1 Imports\n",
        "            - 1.1.2.2 Calculo de orden de convergencia (α)\n",
        "            - 1.1.2.3 Calculo de la constante asintótica (λ)\n",
        "            - 1.1.2.4 Funciones de iteraciones funcionales\n",
        "                - 1.1.2.4.1 Para métodos de semilla única\n",
        "                - 1.1.2.4.2 Caso particular método Secante (semilla doble)\n",
        "            - 1.1.2.5 Funciones para extraccion de datos una vez completada la aplicacion de los metodos para problemas especificos\n",
        "                - 1.1.2.5.1 Extraccion de valores importantes tras biseccion\n",
        "                - 1.1.2.5.2 Extraccion de valores importantes tras metodos de iteracion funcional\n",
        "                - 1.1.2.5.3 Función auxiliar para representar los valores en tablas\n",
        "                - 1.1.2.5.4 Extracción de valor obtenido en ultima iteración: pn\n",
        "            \n",
        "        - 1.1.3 Metodo de la biseccion\n",
        "        - 1.1.4 Metodo Punto Fijo\n",
        "        - 1.1.5 Metodo Newton-Raphson\n",
        "        - 1.1.6 Metodo Newton-Raphson modificado para raices multiples\n",
        "        - 1.1.7 Metodo Secante\n",
        "    - 1.2 Planteo del problema\n",
        "        - 1.2.1 (Pregunta a) Formule el problema y grafíquelo.\n",
        "        - 1.2.2 (Pregunta b) Hallar las cantidades a fabricar del producto “E41” utilizando los métodos vistos en clase:\n",
        "            - 1.2.2.1 Bisección/ Busqueda Binaria / Metodo de Arranque:\n",
        "            - 1.2.2.2 Método del Punto Fijo:\n",
        "            - 1.2.2.3 Método de Newton-Raphson:\n",
        "            - 1.2.2.4 Método de Newton-Raphson modificado:\n",
        "            - 1.2.2.5 Método de la Secante:\n",
        "        - 1.2.3 (Pregunta c) Realizar una tabla con los resultados de las iteraciones, convergencia P y la constante asintótica λ.\n",
        "            - 1.2.3.1 Método de Bisección\n",
        "            - 1.2.3.2 Método de Punto Fijo\n",
        "            - 1.2.3.3 Método de Newton-Raphson\n",
        "            - 1.2.3.4 Método de Newton-Raphson Modificado\n",
        "            - 1.2.3.5 Método de la Secante\n",
        "        - 1.2.4 (Pregunta d) Compare los resultados obtenidos para los distintos métodos y cotas, grafique el orden de convergencia P y la constante asintótica λ para todos los casos. Realice un gráfico log10(Δx) vs iteraciones, para visualizar el comportamiento de la constante asintótica y el orden de convergencia. Discuta ventajas y desventajas. ¿Son las que esperaba en base a la teoría?\n",
        "            - 1.2.4.1 Funciones auxiliares para plots:\n",
        "            - 1.2.4.2 Graficos orden de convergencia α vs Iteraciones\n",
        "            - 1.2.4.3 Graficos constante asintótica λ vs Iteraciones\n",
        "            - 1.2.4.4 Graficos log10(Δx) vs Iteraciones\n",
        "2. Splines para aproximacion de curvas\n",
        "    - 2.1 Implementación del método de iterpolacion de Spline cúbica:\n",
        "        - 2.1.1 Definiciones de funciones de cálculo de coeficientes:\n",
        "        - 2.1.2 Definiciones de funciones auxiliares para ploteo:\n",
        "        - 2.1.3 Metodo de interpolación de Spline cúbica\n",
        "    - 2.2 Planteo del problema\n",
        "        - 2.2.1 Uso de datos, interpolación y tabla de coeficientes resultantes:\n",
        "        - 2.2.2 Gráfico\n",
        "        - 2.2.3 Conclusiones\n",
        "\n",
        "3. Conclusiones generales\n",
        "\n",
        "4. Referencias\n"
      ],
      "metadata": {
        "id": "NPDCxHa-LfPY"
      }
    },
    {
      "cell_type": "markdown",
      "source": [
        "# ***0. Introducción***"
      ],
      "metadata": {
        "id": "9WzybvgGP6zR"
      }
    },
    {
      "cell_type": "markdown",
      "source": [
        "### 0.1 Objetivos"
      ],
      "metadata": {
        "id": "Nv-vwzvOa0Rw"
      }
    },
    {
      "cell_type": "markdown",
      "source": [
        "El presente trabajo se divide en dos problemas a resolver:\n",
        "- Plan de producción:\n",
        "    - Se analiza la cantidad mínima requerida de un producto industrial a partir de dos restricciones principales relacionadas con la rentabilidad y la producción.\n",
        "    - Se desarrolla el análisis por medio del uso de métodos numéricos para la obtención de raíces de funciones, obteniendo así aproximaciones de la cantidad mencionada anteriormente.\n",
        "    - Se implementaron los algoritmos correspondientes a los siguientes métodos numéricos:\n",
        "        - Bisección\n",
        "        - Punto Fijo\n",
        "        - Newton-Raphson\n",
        "        - Newton-Raphson para raíces multiples\n",
        "        - Secante\n",
        "    - Se realizan análisis previos con el fin de garantizar el cumplimiento de las condiciones necesarias para aplicar cada uno de los métodos.\n",
        "    - Se realizan análisis posteriores a la aplicación de los métodos y la correspondiente comparativa entre lo obtenido y lo esperado según las bases teóricas. \n",
        "    - Se analizan gráficamente los resultados los métodos, incluyendo propiedades de los mismos como son: constante asintótica y orden de convergencia. \n",
        "- Spline para aproximación de curvas:\n",
        "    - Se busca realizar una aproximación de una función partida dado un conjunto de puntos de la misma y sus derivadas en los extremos. Para ello se utiliza la interpolación de Spline cúbica ligada.\n",
        "    - Se implementan las funciones necesarias para realizar el cálculo de coeficientes independientes, lineales, cuadráticos y cúbicos mediante la forma matricial tridiagonal.\n",
        "    - Se analizan gráficamente los resultados de las interpolaciones y se comparan con los puntos originales de la tabla. \n"
      ],
      "metadata": {
        "id": "TX86_o4dP_BM"
      }
    },
    {
      "cell_type": "markdown",
      "source": [
        "### 0.2 Introducción\n"
      ],
      "metadata": {
        "id": "bY0sYJfGbBHI"
      }
    },
    {
      "cell_type": "markdown",
      "source": [
        "Inicialmente se investiga el funcionamiento y el desempeño de los distintos métodos numéricos aplicados a un problema particular.\n",
        "\n",
        "Dicho problema consiste en la busqueda de la cantidad mínima requerida de producto dadas dos restricciones explicadas más adelante.\n",
        "\n",
        "En conjunto con el valor mínimo esperado como respuesta al problema planteado, se espera corroborar que el desempeño de los métodos se corresponde a las propiedades mencionadas en el objetivo del trabajo para cada uno de ellos.\n",
        "\n",
        "Posteriormente se investiga una aplicación práctica del método para interpolación de Spline cúbica ligada desarrollada por medio de su forma matricial cuya deducción se encuentra en su respectivo apartado en el cuerpo del trabajo.\n",
        "\n",
        "Se espera que la aproximación resultante cumpla con todas las condiciones planteadas en la sección respectiva del cuerpo del trabajo y que se reflejen gráficamente."
      ],
      "metadata": {
        "id": "a9h2zhi3bG5j"
      }
    },
    {
      "cell_type": "markdown",
      "metadata": {
        "id": "asv_VvKlJbVn"
      },
      "source": [
        "# ***1. Plan de producción:*** "
      ]
    },
    {
      "cell_type": "markdown",
      "metadata": {
        "id": "MTDfAlxDja5I"
      },
      "source": [
        "Se le solicita el área \"Supply Chain\" que indique qué mix de productos es más conveniente\n",
        "fabricar mensualmente dada una serie de restricciones que tiene la planta y la contribución\n",
        "marginal que ofrece cada producto.\n",
        "\n",
        " Como nuevo pasante del área le asignan el cálculo para\n",
        "el producto estrella de la empresa, acero de calidad “E41” utilizado para fabricar perfiles de\n",
        "\"Steel Frame\".\n",
        "\n",
        "Consulta con el área de Rentabilidad la utilidad unitaria del producto, y le informan que la\n",
        "misma responde a la siguiente función: $$0,001·x·(x−1000kg\n",
        ")^2$$, donde x es la cantidad de producto\n",
        "a producir (medida en kilogramos), y que para producirse debe alcanzarse los $25000\n",
        "de contribución mensual.\n",
        "\n",
        "Luego, llama al área de Producción y le consulta por las restricciones que tiene la línea donde\n",
        "se fabrica este producto.\n",
        "\n",
        "Le informan que para que se justifique hacer el set up para prender\n",
        "la máquina correspondiente, se deberán fabricar al menos $827 kg$ del mismo."
      ]
    },
    {
      "cell_type": "markdown",
      "metadata": {
        "id": "ZeJrZWqAyv1v"
      },
      "source": [
        "## ***1.1  Implementacion de metodos de busqueda de Raices:***"
      ]
    },
    {
      "cell_type": "markdown",
      "source": [
        "### **1.1.1 Criterios de paro**\n",
        "\n",
        "En general utilizamos el criterio de paro $ |p_n  - p_{n-1}| \\leq ϵ$ ; Siendo $ϵ$ una tolerancia requerida.\n",
        "\n",
        "Las cotas de error definidas anteriormente ($1 ⋅ 10^{-5}$  y $1 ⋅ 10^{-13}$) son las pedidas por el problema a resolver, sin embargo más adelante se observa que los valores aproximados resultantes de la aplicación de los métodos tienen 4 dígitos enteros, y además al conocer que el máximo de dígitos significativos representables por la computadora (debido a los bits de la mantisa) son 16, llegamos a la conclusión de la mínima precision representable para este problema en específico es $1 ⋅ 10^{-12}$.\n",
        "Por esta razon definimos la constante MIN_VALOR_DE_ERROR = $1 ⋅ 10^{-12}$\n",
        "\n",
        "Como dato adicional, en el codigo de los métodos se contemplan diversos casos de error, advertencias y otros valores constantes importantes a lo largo del desarrollo, como son:\n",
        "\n",
        "- Si el valor aproximado de una raíz devuelto por el método varias iteraciones consecutivas fue el mismo entonces el error deja de ser representable por la computadora (ERROR_FUERA_DE_RANGO).\n",
        "- Si el error entre iteraciones supera el valor de la constante MAX_VALOR_DE_ERROR de ello se concluye la divergencia del método (ERROR_DIVERGENCIA).\n",
        "- Se establece una cantidad máxima de iteraciones en caso de no llegar a cumplir con la tolerancia pedida (Definida arbitrariamente como 40) (En caso se que un método llegue a esta cantidad de iteraciones se muestra el ERROR_MAX_ITERACIONES).\n",
        "\n",
        "Todas los valores anteriores son definidos a continuacion."
      ],
      "metadata": {
        "id": "BbbG_QOXq_cf"
      }
    },
    {
      "cell_type": "markdown",
      "metadata": {
        "id": "clSFQYoobwFy"
      },
      "source": [
        "### **1.1.2 Definiciones, funciones e imports auxiliares:**"
      ]
    },
    {
      "cell_type": "markdown",
      "metadata": {
        "id": "x6QxyrI3AmRf"
      },
      "source": [
        "#### *1.1.2.1  Imports y constantes* "
      ]
    },
    {
      "cell_type": "code",
      "execution_count": 76,
      "metadata": {
        "id": "EsTgQUYSbuXh"
      },
      "outputs": [],
      "source": [
        "import matplotlib.pyplot as plt\n",
        "from matplotlib.ticker import (AutoMinorLocator, MultipleLocator) \n",
        "import numpy as np\n",
        "from math import isclose\n",
        "import pandas as pd\n",
        "\n",
        "# Definiciones constantes:\n",
        "MAX_ITERACIONES = 40\n",
        "MAX_VALOR_DE_ERROR = 1e+20\n",
        "MIN_VALOR_DE_ERROR = 1e-12\n",
        "\n",
        "ERROR_FUERA_DE_RANGO = \"La cota del error es un valor muy cercano a cero no representable.\"\n",
        "ERROR_MAX_ITERACIONES = \"Raíz no encontrada con la tolerancia pedida: Se llegó al maximo de iteraciones.\"\n",
        "ERROR_DIVERGENCIA = \"El método diverge para estos parámetros\"\n",
        "\n",
        "ERROR_EJECUCION = \"Error en los parametros al ejecutar el método.\"\n",
        "ERROR_TAMAÑO_LISTA = \"La listas recibidas deben poseer el mismo tamaño.\"\n",
        "\n",
        "\n",
        "\n",
        "# Datos de enunciado:\n",
        "COTA_DE_ERROR_1 = 1e-05\n",
        "COTA_DE_ERROR_2 = 1e-13"
      ]
    },
    {
      "cell_type": "markdown",
      "source": [
        "#### 1.1.2.2 Calculos de orden de convergencia ($\\alpha$) y constante asintótica ($\\lambda$)"
      ],
      "metadata": {
        "id": "FY4lbdKm-tK3"
      }
    },
    {
      "cell_type": "markdown",
      "source": [
        "Tener en cuenta que para los calculos de orden de convergencia y constante asintótica se hace una aproximación en base a los límites que los definen. Entre mayor sea el número de iteraciones más precisa será esa aproximación.\n",
        "Por definición se tenía:\n",
        "\n",
        "$\\displaystyle{\\lim_{n \\to \\infty}}$ $ \\frac{|p_{n+1}-p|}{|p_n-p|^{α}} = \\lambda$"
      ],
      "metadata": {
        "id": "Xi920GjywYXd"
      }
    },
    {
      "cell_type": "markdown",
      "source": [
        "De donde se estima el orden de convergencia por medio de:"
      ],
      "metadata": {
        "id": "Ji6Ty8rp9uJp"
      }
    },
    {
      "cell_type": "markdown",
      "source": [
        "$\\alpha_n \\cong \\frac{log|({x_n-x_{n-1})/(x_{n-1} - x_{n-2})|}}{log|(x_{n-1}-x_{n-2})/(x_{n-2}-x_{n-3})|}$"
      ],
      "metadata": {
        "id": "GWsBvUd3xYf-"
      }
    },
    {
      "cell_type": "code",
      "execution_count": 77,
      "metadata": {
        "id": "iC_T_0A5_GiF"
      },
      "outputs": [],
      "source": [
        "def calcular_orden_de_convergencia_alfa(lista_pn):\n",
        "    lista_orden_de_convergencia = []\n",
        "\n",
        "    for i in range(len(lista_pn)):\n",
        "        alpha_i = None\n",
        "        if ( (i > 2) and not(isclose((lista_pn[i]-lista_pn[i-1]) ,0, rel_tol = MIN_VALOR_DE_ERROR))):\n",
        "            alpha_i = ((np.log(abs((lista_pn[i]-lista_pn[i-1])/(lista_pn[i-1]-lista_pn[i-2])))) / (np.log(abs((lista_pn[i-1]-lista_pn[i-2])/(lista_pn[i-2]-lista_pn[i-3])))))\n",
        "        \n",
        "        lista_orden_de_convergencia.append(alpha_i)\n",
        "    return lista_orden_de_convergencia"
      ]
    },
    {
      "cell_type": "markdown",
      "source": [
        "y de donde se estima la constante asintótica por medio de:"
      ],
      "metadata": {
        "id": "TGWTAg329y4h"
      }
    },
    {
      "cell_type": "markdown",
      "source": [
        "$\\lambda_{n} \\cong  \\frac{\\Delta x_n}{\\Delta x_{n-1}^{\\alpha_{n}}}$ "
      ],
      "metadata": {
        "id": "rMlkqBNMzd59"
      }
    },
    {
      "cell_type": "code",
      "execution_count": 78,
      "metadata": {
        "id": "OWvnRScI-YF8"
      },
      "outputs": [],
      "source": [
        "def calcular_cte_asintotica_lambda(lista_errores, lista_alfas):\n",
        "    if(len(lista_errores) <= len(lista_alfas)-1):\n",
        "        print(ERROR_TAMAÑO_LISTA)\n",
        "        return None\n",
        "\n",
        "    lista_cte_asintotica = []\n",
        "\n",
        "    for i in range(len(lista_alfas)):\n",
        "        lambda_i = None\n",
        "        if(i > 2):\n",
        "            if ((lista_errores[i-1] != None) and (lista_alfas[i] != None)) : # Condicion necesaria por metodo Secante\n",
        "                lambda_i = lista_errores[i] / (lista_errores[i-1] ** lista_alfas[i])\n",
        "            lista_cte_asintotica.append(lambda_i)\n",
        "        else:\n",
        "            lista_cte_asintotica.append(None)\n",
        "\n",
        "    return lista_cte_asintotica"
      ]
    },
    {
      "cell_type": "markdown",
      "metadata": {
        "id": "wWYozkkL91DB"
      },
      "source": [
        "#### *1.1.2.3 Funciones de iteraciones funcionales*"
      ]
    },
    {
      "cell_type": "markdown",
      "metadata": {
        "id": "v2588TYJ_rQX"
      },
      "source": [
        "###### 1.1.2.3.1 Para métodos de semilla única\n",
        "$g(x) = x - 𝝋(x)f(x) $ ;\n",
        "\n",
        "con $𝝋(x)$ definida dependiedo del método (Punto fijo, NR, NR modificado)\n"
      ]
    },
    {
      "cell_type": "code",
      "execution_count": 79,
      "metadata": {
        "id": "RfqbviTMTITm"
      },
      "outputs": [],
      "source": [
        "def iteracion_funcional_recursiva(g, numero_iteracion, tolerancia, lista_resultados):\n",
        "    if(numero_iteracion == MAX_ITERACIONES):  \n",
        "        print(ERROR_MAX_ITERACIONES)\n",
        "        return lista_resultados, False\n",
        "\n",
        "    pn_1 = lista_resultados[numero_iteracion-1][0]\n",
        "    pn = g(pn_1)\n",
        "\n",
        "    error_actual = np.abs(pn_1 - pn)\n",
        "    if(error_actual > MAX_VALOR_DE_ERROR):\n",
        "        print(ERROR_DIVERGENCIA)\n",
        "        return lista_resultados, False\n",
        "    if (isclose(error_actual,0, rel_tol = MIN_VALOR_DE_ERROR) or error_actual == 0):             #Caso de que el error sea menor que la capacidad de la computadora\n",
        "        print(ERROR_FUERA_DE_RANGO)\n",
        "        error_actual =  MIN_VALOR_DE_ERROR\n",
        "        lista_resultados_n = [pn, error_actual]  #[pn, error]  \n",
        "        lista_resultados.append(lista_resultados_n)\n",
        "        return lista_resultados, True\n",
        "\n",
        "    lista_resultados_n = [pn, error_actual]  #[pn, error]  \n",
        "    lista_resultados.append(lista_resultados_n)\n",
        "                            \n",
        "    if(error_actual < tolerancia):\n",
        "        return lista_resultados, True\n",
        "\n",
        "    return iteracion_funcional_recursiva(g, numero_iteracion+1, tolerancia, lista_resultados)"
      ]
    },
    {
      "cell_type": "markdown",
      "metadata": {
        "id": "EX0dmNOd_5vs"
      },
      "source": [
        "###### 1.1.1.3.2 Caso particular método Secante (semilla doble)\n",
        "$g(x,y) = x - 𝝋(x,y)f(x)$ "
      ]
    },
    {
      "cell_type": "code",
      "execution_count": 80,
      "metadata": {
        "id": "gh6GGZwYYAAD"
      },
      "outputs": [],
      "source": [
        "def iteracion_funcional_recursiva_de_dos_semillas(g, numero_iteracion, tolerancia, lista_resultados):\n",
        "    if(numero_iteracion == MAX_ITERACIONES): \n",
        "        return lista_resultados, False\n",
        "\n",
        "    pn_1 = lista_resultados[numero_iteracion-1][0]\n",
        "    pn_2 = lista_resultados[numero_iteracion-2][0]\n",
        "    pn = g(pn_1,pn_2)\n",
        "    \n",
        "\n",
        "    error_actual = np.abs(pn - pn_1)\n",
        "    if(error_actual > MAX_VALOR_DE_ERROR):\n",
        "        print(ERROR_DIVERGENCIA)\n",
        "        return lista_resultados, False\n",
        "    if (isclose(error_actual,0, rel_tol = MIN_VALOR_DE_ERROR) or error_actual == 0):             #Caso de que el error sea menor que la capacidad de la computadora\n",
        "        print(ERROR_FUERA_DE_RANGO)\n",
        "        error_actual =  MIN_VALOR_DE_ERROR\n",
        "        lista_resultados_n = [pn, error_actual]  #[pn, error]  \n",
        "        lista_resultados.append(lista_resultados_n)\n",
        "        return lista_resultados, True\n",
        "\n",
        "    lista_resultados_n = [pn, error_actual]  # [pn, error]  \n",
        "    lista_resultados.append(lista_resultados_n)\n",
        "        \n",
        "    if(error_actual < tolerancia):\n",
        "        return lista_resultados, True\n",
        "\n",
        "    return iteracion_funcional_recursiva_de_dos_semillas(g, numero_iteracion+1, tolerancia, lista_resultados)"
      ]
    },
    {
      "cell_type": "markdown",
      "metadata": {
        "id": "0zpSRjSOi_e3"
      },
      "source": [
        "#### *1.1.2.4 Funciones para extraccion de datos una vez completada la aplicacion de los metodos para problemas especificos*"
      ]
    },
    {
      "cell_type": "markdown",
      "metadata": {
        "id": "Utj6sQVmkeFK"
      },
      "source": [
        "###### 1.1.2.4.1 Extraccion de valores importantes tras biseccion \n",
        "Dichos valores son:\n",
        "\n",
        "$p_n$ o de errores: $|p_n-p_{n-1}|$  de cada iteración a partir de la\n",
        "lista con resultados totales del método de biseccion (exclusivamente)"
      ]
    },
    {
      "cell_type": "code",
      "execution_count": 81,
      "metadata": {
        "id": "dFt1CBVDbPqf"
      },
      "outputs": [],
      "source": [
        "def extraer_pn_biseccion(lista_resultados):\n",
        "    lista_xi = []\n",
        "\n",
        "    for i in range(len(lista_resultados)):\n",
        "        lista_xi.append(lista_resultados[i][2])\n",
        "\n",
        "    return lista_xi\n",
        "\n",
        "\n",
        "\n",
        "def extraer_errores_biseccion(lista_resultados):\n",
        "    lista_xi = []\n",
        "\n",
        "    for i in range(len(lista_resultados)):\n",
        "        lista_xi.append(lista_resultados[i][3])\n",
        "\n",
        "    return lista_xi"
      ]
    },
    {
      "cell_type": "markdown",
      "metadata": {
        "id": "0qWHq3kLk2J4"
      },
      "source": [
        "###### 1.1.2.4.2 Extraccion de valores importantes tras metodos de iteracion funcional\n",
        "Dichos valores son:\n",
        "\n",
        "$p_n$ o de errores: $|p_n-p_{n-1}|$  de cada iteración a partir de la\n",
        "lista con resultados totales de cualquiera de los metodos con iteracion funcional"
      ]
    },
    {
      "cell_type": "code",
      "execution_count": 82,
      "metadata": {
        "id": "uH8Etsf9bKmF"
      },
      "outputs": [],
      "source": [
        "def extraer_pn(lista_resultados):\n",
        "    lista_xi = []\n",
        "\n",
        "    for i in range(len(lista_resultados)):\n",
        "        lista_xi.append(lista_resultados[i][0])\n",
        "\n",
        "    return lista_xi\n",
        "\n",
        "\n",
        "\n",
        "def extraer_errores(lista_resultados):\n",
        "    lista_xi = []\n",
        "\n",
        "    for i in range(len(lista_resultados)):\n",
        "        lista_xi.append(lista_resultados[i][1])\n",
        "\n",
        "    return lista_xi"
      ]
    },
    {
      "cell_type": "markdown",
      "metadata": {
        "id": "LXck20AWkSA1"
      },
      "source": [
        "###### *1.1.2.4.3 Función auxiliar para representar los valores en tablas*"
      ]
    },
    {
      "cell_type": "code",
      "execution_count": 83,
      "metadata": {
        "id": "Nv7xieIckcLl"
      },
      "outputs": [],
      "source": [
        "def lista_resultados_a_dataframe(lista_resultados,lista_alfa,lista_cte_asintotica,columnas):\n",
        "    lista_auxiliar = lista_resultados   \n",
        "    for i in range(len(lista_auxiliar)):\n",
        "        lista_auxiliar[i].append(lista_alfa[i])\n",
        "        lista_auxiliar[i].append(lista_cte_asintotica[i])\n",
        "    df = pd.DataFrame(lista_auxiliar, columns=columnas)\n",
        "    if len(df) > 12:\n",
        "        return pd.concat([df.head(), df.tail()])\n",
        "    else:\n",
        "        return df"
      ]
    },
    {
      "cell_type": "markdown",
      "metadata": {
        "id": "iyeFA0nb7kUZ"
      },
      "source": [
        "###### 1.1.2.4.4 Extracción de valor obtenido en ultima iteración: $p_n$ "
      ]
    },
    {
      "cell_type": "code",
      "execution_count": 84,
      "metadata": {
        "id": "IQ3vLzFY7kUZ"
      },
      "outputs": [],
      "source": [
        "def extraer_ultimo_pn_biseccion(lista_resultados):\n",
        "    posicion_ultimo_elemento = len(lista_resultados)-1\n",
        "\n",
        "    ultimo_elemento = lista_resultados[posicion_ultimo_elemento][2] \n",
        "\n",
        "    return ultimo_elemento\n",
        "\n",
        "\n",
        "def extraer_ultimo_pn(lista_resultados):\n",
        "    posicion_ultimo_elemento = len(lista_resultados)-1\n",
        "\n",
        "    ultimo_elemento = lista_resultados[posicion_ultimo_elemento][0] \n",
        "\n",
        "    return ultimo_elemento"
      ]
    },
    {
      "cell_type": "markdown",
      "metadata": {
        "id": "QfZzABwJ1yYu"
      },
      "source": [
        "### **1.1.3 Metodo de la biseccion**"
      ]
    },
    {
      "cell_type": "markdown",
      "source": [
        "Su implementación se basa en que si $f \\in C[a,b] $ y $f(a) ⋅ f(b) < 0$ ; el teoréma de Bolzano garantiza que existe $p \\in (a,b)$ tal que $f(p) = 0$\n",
        "\n",
        "Con esto se va dividiendo en subintervalos del intervalo $[a,b]$  y en cada paso se determina en qué subintervalo se encuentra la raíz usando el mismo razonamiento; repitiendo hasta que se llegue a los distintos criterios de paro.\n",
        "\n",
        "(Tener en cuenta entonces que para el correcto funcionamiento del método se debe garantizar que $f(a) ⋅ f(b) < 0$)"
      ],
      "metadata": {
        "id": "IMF36SUJY320"
      }
    },
    {
      "cell_type": "code",
      "execution_count": 85,
      "metadata": {
        "id": "2Ak2bI10U4AU"
      },
      "outputs": [],
      "source": [
        "def biseccion_recursivo(funcion, numero_iteracion, an, bn, tolerancia, lista_resultados):\n",
        "    if(MAX_ITERACIONES == numero_iteracion):\n",
        "        print(ERROR_MAX_ITERACIONES) \n",
        "        return lista_resultados,False \n",
        "\n",
        "    pn = (an+bn)/2 \n",
        "    error_actual = np.abs((bn-an)/2)\n",
        "    lista_resultados_n = [an, bn, pn, error_actual]  #[an, bn, pn, error]  \n",
        "    lista_resultados.append(lista_resultados_n)\n",
        "                            \n",
        "    if(error_actual < tolerancia):\n",
        "        return lista_resultados, True\n",
        "\n",
        "    if(funcion(an) * funcion (pn) > 0):\n",
        "        an = pn\n",
        "    elif(funcion(bn) * funcion (pn) > 0):\n",
        "        bn = pn\n",
        "\n",
        "    return biseccion_recursivo(funcion, numero_iteracion+1, an, bn, tolerancia, lista_resultados) \n",
        "\n",
        "\n",
        "def biseccion(funcion, an, bn, tolerancia): \n",
        "    lista_resultados = []\n",
        "    numero_de_iteracion = 0\n",
        "    \n",
        "    if((an >= bn) or (tolerancia <= 0) or (MAX_ITERACIONES <= 0)):\n",
        "        print(ERROR_EJECUCION)\n",
        "        return None, False\n",
        "\n",
        "    return biseccion_recursivo(funcion, numero_de_iteracion, an, bn, tolerancia, lista_resultados)"
      ]
    },
    {
      "cell_type": "markdown",
      "metadata": {
        "id": "n7s2J2WF15xU"
      },
      "source": [
        "### **1.1.4 Metodo Punto Fijo**"
      ]
    },
    {
      "cell_type": "markdown",
      "source": [
        "Su implementación se basa en el uso de una función $g(x)$ de iteración funcional, tal que \n",
        "$g(x) = x - f(x) $ ;\n",
        "\n",
        "con $𝝋(x) = 1$ para éste método\n",
        "\n",
        "Esto viene de que:\n",
        " \n",
        "Queremos analizar el valor de la raíz de una $f \\in C[a,b] $,\n",
        "estamos buscando  $p \\in (a,b)$ tal que $f(p) = 0$;\n",
        "\n",
        "A su vez, sea una función $g \\in C[a,b] $, se dice que la misma tiene punto fijo  $p \\in [a,b]$ si $g(p) = p$;\n",
        "\n",
        "Por lo tanto si se define $g(x) = x - f(x) $  y $p$ es punto fijo de $g$:\n",
        "\n",
        "$g(p) = p = p - f(p)$\n",
        "\n",
        " $⇒$ $f(p) = p - p = 0$\n",
        "\n",
        "Con lo cual hallar el punto fijo de $g$ es equivalente a hallar la raíz buscada de $f$\n",
        "\n",
        "(Tener en cuenta entonces que para el correcto funcionamiento del método se debe garantizar que:\n",
        "- Existe punto fijo para $g$ en el intervalo:\n",
        "    \n",
        "    Debe cumplirse que  $g \\in C[a,b] $  y  $g(x) \\in [a,b]$ $\\forall$ $x \\in [a,b]$\n",
        "- El punto fijo es único para $g$ en el intervalo:\n",
        "    \n",
        "    Debe cumplirse que  $∃$ $g'(x)$ $\\forall$ $x \\in (a,b)$  y que  $∃$ $0 < k < 1$ tal que $\\forall$ $x \\in (a,b)$ vale que $|g'(x)| \\leq k$\n",
        "\n",
        ")"
      ],
      "metadata": {
        "id": "p9G1WdzTbFHG"
      }
    },
    {
      "cell_type": "code",
      "execution_count": 86,
      "metadata": {
        "id": "rnisqvgWOR9w"
      },
      "outputs": [],
      "source": [
        "def metodo_punto_fijo(funcion, p0, tolerancia):\n",
        "    lista_resultados = []\n",
        "    numero_iteracion = 0\n",
        "    g = lambda x: x - funcion(x)\n",
        "\n",
        "    if((tolerancia <= 0) or (MAX_ITERACIONES <= 0)):\n",
        "        return None, False\n",
        "        \n",
        "    lista_resultados.append([p0, None])\n",
        "\n",
        "    return iteracion_funcional_recursiva(g, numero_iteracion+1, tolerancia, lista_resultados)"
      ]
    },
    {
      "cell_type": "markdown",
      "metadata": {
        "id": "eIwD2Do_IzmS"
      },
      "source": [
        "### **1.1.5 Metodo Newton-Raphson**"
      ]
    },
    {
      "cell_type": "markdown",
      "source": [
        "Su implementación se basa en el uso de una función $g(x)$ de iteración funcional, tal que \n",
        "$g(x) = x - \\frac{f(x)}{f'(x)} $ ;\n",
        "\n",
        "con $𝝋(x) = \\frac{1}{f'(x)}$ para éste método\n",
        "\n",
        "Esto viene de que:\n",
        " \n",
        "Se realiza su deducción a partir del polinomio de taylor, tomando una aproximación de la raíz $p$ de tal forma que la distancia de dicha aproximación a la raíz real sea cercana a cero.\n",
        "\n",
        "Para asegurar la convergencia del método se debe cumplir el siguiente teorema visto en clase:\n",
        "\n",
        "Sea $f \\in C^2[a,b]$. Si $p \\in [a,b]$ tal que $f(p) = 0$ y $f'(p) \\neq 0$ entonces $∃$ $𝛅 > 0$ tal que el método de Newton-Raphson genera una sucesión : { ${p_n}$ }$_{n \\geq 1}$ que converge a $p$ para cualquier aproximación inicial $p_0 \\in [p-𝛅, p+𝛅]$ "
      ],
      "metadata": {
        "id": "r56N-lxmgngQ"
      }
    },
    {
      "cell_type": "code",
      "execution_count": 87,
      "metadata": {
        "id": "w8ePkegNIyQU"
      },
      "outputs": [],
      "source": [
        "def metodo_newton_raphson(funcion, derivada_funcion, p0, tolerancia):\n",
        "    lista_resultados = []\n",
        "    numero_iteracion = 0\n",
        "    g = lambda x: x - funcion(x)/derivada_funcion(x)\n",
        "\n",
        "    if((tolerancia <= 0) or (MAX_ITERACIONES <= 0)):\n",
        "        return ERROR_EJECUCION\n",
        "\n",
        "    lista_resultados.append([p0, None])\n",
        "\n",
        "    return iteracion_funcional_recursiva(g, numero_iteracion+1, tolerancia, lista_resultados)"
      ]
    },
    {
      "cell_type": "markdown",
      "metadata": {
        "id": "LUbRkbwP88DV"
      },
      "source": [
        "### **1.1.6 Metodo Newton-Raphson modificado para raices multiples**"
      ]
    },
    {
      "cell_type": "markdown",
      "source": [
        "Su implementación se basa en el uso de una función $g(x)$ de iteración funcional, tal que \n",
        "$g(x) = x - \\frac{f(x)⋅f'(x)}{f'(x)^2 - f(x)⋅f''(x)} $ ;\n",
        "\n",
        "con $𝝋(x) = \\frac{f'(x)}{f'(x)^2 - f(x)⋅f''(x)}$ para éste método\n",
        "\n",
        "Esto viene de que:\n",
        " \n",
        "Se realiza la modificación a partir de ver que al aplicar NR sin modificar para raices de multiplicidad algebráica $m > 1,$ hace que se pierda la convergencia cuadrática del método, con lo cual se modifica teniendo en cuenta que:\n",
        "\n",
        "$f \\in C^m[a,b] $  tiene un cero de multiplicidad algebráica $m$ en $p \\in (a,b)$ $⇔$ $0 = f(p) = f'(p) = f''(p) = ⋯ = f^{(m-1)}(p)$ y $f^{(m)}(p) \\neq 0$\n",
        "\n",
        "(Tener en cuenta entonces que para el correcto funcionamiento del método se deben garantizar las mismas condiciones mencionadas para Newton-Raphson)"
      ],
      "metadata": {
        "id": "xI_rCeqmuayl"
      }
    },
    {
      "cell_type": "code",
      "execution_count": 88,
      "metadata": {
        "id": "IJozkFex2Fab"
      },
      "outputs": [],
      "source": [
        "def metodo_newton_raphson_para_raices_multiples(funcion, derivadaFuncion, derivadaSegundaFuncion, p0, tolerancia):\n",
        "    lista_resultados = []\n",
        "    numero_iteracion = 0\n",
        "    g = lambda x: x - (funcion(x)*derivadaFuncion(x))/(derivadaFuncion(x)**2 - funcion(x)*derivadaSegundaFuncion(x))\n",
        "\n",
        "    if((tolerancia <= 0) or (MAX_ITERACIONES <= 0)):\n",
        "        return None, False\n",
        "\n",
        "    lista_resultados.append([p0, None])\n",
        "\n",
        "    return iteracion_funcional_recursiva(g, numero_iteracion+1, tolerancia, lista_resultados)"
      ]
    },
    {
      "cell_type": "markdown",
      "metadata": {
        "id": "wuEH_MIUJ4Px"
      },
      "source": [
        "### **1.1.7 Metodo Secante**"
      ]
    },
    {
      "cell_type": "markdown",
      "source": [
        "Su implementación se basa en el uso de una función $g(x)$ de iteración funcional, tal que \n",
        "$g(x,y) = x - \\frac{f(x)⋅(x-y)}{f(x) - f(y)} $ ;\n",
        "\n",
        "con $𝝋(x,y) = \\frac{(x-y)}{f(x) - f(y)}$ para éste método\n",
        "\n",
        "(Para mayor claridad, se muestra la sucesión como:\n",
        "    $p_{n} = p_{n-1} - \\frac{f(p_{n-1})⋅(p_{n-1}-p_{n-2})}{f(p_{n-1}) - f(p_{n-2})}$\n",
        ")\n",
        "\n",
        "Esto viene de que:\n",
        "\n",
        "Se usa la definición de derivada con el cociente incremental para llegar a una aproximación que permite evitar la evaluación de $f'$ proveniente del método de NR.\n",
        "\n",
        "(Tener en cuenta que, a pesar de que se usa una aproximación de los valores de la derivada, para el correcto funcionamiento del método se deben garantizar las mismas condiciones mencionadas para Newton-Raphson. Además de esto ahora se debe contar con **dos semillas** o aproximaciones iniciales cercanas a la raíz buscada)"
      ],
      "metadata": {
        "id": "Q3DTqpcWzAFI"
      }
    },
    {
      "cell_type": "code",
      "execution_count": 89,
      "metadata": {
        "id": "T7YdLGQuJ90u"
      },
      "outputs": [],
      "source": [
        "def metodo_secante(funcion, p0, p1, tolerancia):\n",
        "    lista_resultados = []\n",
        "    numero_iteracion = 0\n",
        "    g = lambda x,y: x - (funcion(x)*(x-y))/(funcion(x)-funcion(y))\n",
        "\n",
        "    if((tolerancia <= 0) or (MAX_ITERACIONES <= 0)):\n",
        "        return ERROR_EJECUCION\n",
        "\n",
        "    lista_resultados.append([p0, None])\n",
        "    lista_resultados.append([p1, None])\n",
        "    \n",
        "    return iteracion_funcional_recursiva_de_dos_semillas(g, numero_iteracion+2, tolerancia, lista_resultados)"
      ]
    },
    {
      "cell_type": "markdown",
      "metadata": {
        "id": "ypIJyliYPBCN"
      },
      "source": [
        "## ***1.2 Planteo del problema***\n"
      ]
    },
    {
      "cell_type": "markdown",
      "metadata": {
        "id": "4SsLUDdXjgfW"
      },
      "source": [
        "###1.2.1 (Pregunta $a$) Formule el problema y grafíquelo."
      ]
    },
    {
      "cell_type": "markdown",
      "metadata": {
        "id": "fdxpNVBopEt8"
      },
      "source": [
        "____________________________________________________________________________\n",
        " **Datos del problema:**\n",
        " - $827$ $kg$ es el minimo de mercaderia para justificar el setup de las maquinas.\n",
        " - $\\$25000$ es el ingreso minimo que se desea obtener.\n",
        "____________________________________________________________________________\n",
        "\n",
        "Se tiene que la utilidad unitaria corresponde a la expresión:\n",
        "\n",
        "  $u(x) = 0,001\\frac{$}{kg^3}·x·(x−1000kg)^2$\n",
        "\n",
        "Por lo tanto para cumplir con la contribucion minima que se solicita $(\\$25000)$ se busca analizar las cantidades de producto correspondiente al proponer:\n",
        "\n",
        " $\\$25000 \\leq u(x) = 0,001\\frac{$}{kg^3}·x·(x−1000kg)^2$\n",
        "\n",
        "$⇒$ $0 \\leq 0,001\\frac{$}{kg^3}·x·(x−1000kg)^2 - \\$25000$\n",
        "\n",
        "Por lo tanto con el fin de buscar la cantidad de producto mínima para cumplir con la restricción de contribución mínima mensual y justificación del setup de las máquinas, plantearemos la siguiente función a analizar:\n",
        "\n",
        " $f(x) = 0,001\\frac{$}{kg^3}·x·(x−1000kg)^2 - \\$25000$\n",
        "\n",
        "Dado que para justificar el setup de las máquinas se necesitan al menos $827$ $kg$ $⇒$ $x \\geq 827$ $kg$ \n",
        "\n",
        "En resumen, buscamos el $x_{min}$ tal que $f(x_{min}) \\geq 0 $  ‎ ‎ $,$ ‎‎ ‎ ‎ $x_{min} \\geq 827$ $kg$\n",
        "\n",
        "A continuación realizaremos un análisis gráfico de $f(x)$\n",
        "\n",
        "\n",
        "La función anteriormente planteada es una función cubica, por lo cual tendrá un máximo de 3 raices. "
      ]
    },
    {
      "cell_type": "code",
      "execution_count": 90,
      "metadata": {
        "id": "Vn2ruWJEpIqT"
      },
      "outputs": [],
      "source": [
        "MIN_CONTRIBUCION_MENSUAL = 25000"
      ]
    },
    {
      "cell_type": "code",
      "execution_count": 91,
      "metadata": {
        "id": "lkVp7LrK2deR"
      },
      "outputs": [],
      "source": [
        "def utilidad_unitaria (x):\n",
        "  return 0.001*x*((x-1000)**2)\n",
        "\n",
        "def f(x):\n",
        "  return utilidad_unitaria(x)-MIN_CONTRIBUCION_MENSUAL"
      ]
    },
    {
      "cell_type": "code",
      "execution_count": 92,
      "metadata": {
        "colab": {
          "base_uri": "https://localhost:8080/",
          "height": 729
        },
        "id": "4w2ZjmwQ3X3h",
        "outputId": "10144ec8-4da3-4eb2-bf5c-274504b71237"
      },
      "outputs": [
        {
          "output_type": "display_data",
          "data": {
            "text/plain": [
              "<Figure size 720x720 with 1 Axes>"
            ],
            "image/png": "[encoded data removed]"
          },
          "metadata": {
            "needs_background": "light"
          }
        }
      ],
      "source": [
        "intervalo = np.linspace(-50,1400,1000)\n",
        "func = f(intervalo)\n",
        "\n",
        "fig, ax = plt.subplots(figsize=(10, 10))\n",
        "\n",
        "plt.title(\"Grafica  f(x) vs x \")\n",
        "plt.xlabel(\"Cantidad de producto (x) [kg]\")\n",
        "plt.ylabel(\"f(x) [$]\")\n",
        "\n",
        "plt.plot(intervalo, func, label = 'f(x)', color = 'blue', linewidth= 2)\n",
        "\n",
        "plt.plot([-200,1400],[0,0], label = 'ejes', color = 'black')\n",
        "plt.plot([0,0],[-50000, 130000], color = 'black')\n",
        "plt.plot([827,827],[-50000, 130000], label = 'x = 827 [kg]', color = 'red', linestyle='--')\n",
        "\n",
        "\n",
        "ax.set_xlim(-200, 1400)\n",
        "ax.set_ylim(-50000, 130000)\n",
        "\n",
        "ax.xaxis.set_major_locator(MultipleLocator(100))\n",
        "\n",
        "ax.grid()\n",
        "\n",
        "plt.legend()\n",
        "plt.show()"
      ]
    },
    {
      "cell_type": "markdown",
      "metadata": {
        "id": "WJJQDS7TqBZt"
      },
      "source": [
        "____________________________________________________________________________\n",
        "  **Información actual**:\n",
        "  - $f(x) = 0,001\\frac{$}{kg^3}·x·(x−1000kg)^2 - \\$25000$\n",
        "  - Buscamos el $x_{min}$ tal que $f(x_{min}) \\geq 0 $  ‎ ‎ $,$ ‎‎ ‎ ‎ $x_{min} \\geq 827$ $kg$\n",
        "____________________________________________________________________________\n",
        "\n",
        "Se observa que la función posee tres raices:\n",
        "- $(1)$ Acotada en intervalo $x$ $\\in$ $[0,100]$\n",
        "- $(2)$ Acotada en intervalo $x$ $\\in$ $[800,900]$\n",
        "- $(3)$ Acotada en intervalo $x$ $\\in$ $[1100,1200]$\n",
        "\n",
        "\n",
        " **Análisis de raíces**:\n",
        "\n",
        "- *Análisis raíz $(1)$*: \n",
        "\n",
        "    A partir de las tres raíces podemos descartar el análisis de la raíz $(1)$ más cercana a $x=0$ dado que la misma se puede acotar en el intervalo $[0,100]$, lo cuál implica que ésta cantidad de producto no justifica el setup de las máquinas (siempre se cumple que esa cantidad es menor a $827$ $kg$). \n",
        "\n",
        "- *Análisis raíz $(2)$*: \n",
        "\n",
        "    Dado que debe cumplirse $x \\geq 827$ $kg$, tomaremos el intervalo $[827,900]$ y verificaremos el comportamiento de la función en dicho intervalo para saber si allí existe una raíz ya que con el análisis gráfico no tenemos suficiente certeza:\n",
        "    - Tomamos un $x$ $\\in$ $[827,900]$\n",
        "    - $⇒ 827 \\leq x \\leq 900 $\n",
        "    - $⇒ -173 \\leq x - 1000 \\leq -100 $\n",
        "    - $⇒ 29929 \\leq (x - 1000)^2 \\leq 10000 $\n",
        "    - $⇒ 0.001⋅29929 \\leq 0.001⋅(x - 1000)^2 \\leq 0.001⋅10000 $\n",
        "    - $⇒ 827⋅(0.001⋅29929) \\leq x⋅(0.001⋅29929) \\leq 0.001⋅x⋅(x - 1000)^2$ $;$\n",
        "      $ 80.001⋅x⋅(x - 1000)^2  \\leq x⋅(0.001⋅10000) \\leq 900⋅(0.001⋅10000) $\n",
        "    - $⇒ 827⋅(0.001⋅29929) \\leq 0.001⋅x⋅(x - 1000)^2 \\leq 900⋅(0.001⋅10000) $\n",
        "    - $⇒ 827⋅(0.001⋅29929)-25000 \\leq 0.001⋅x⋅(x - 1000)^2 - 25000 \\leq 900⋅(0.001⋅10000) - 250000 $\n",
        "    - $⇒ 827⋅0.001⋅29929-25000 \\leq 0.001⋅x⋅(x - 1000)^2 - 25000 \\leq 900⋅0.001⋅10000 - 250000 $\n",
        "    - $⇒ -248.717 \\leq 0.001⋅x⋅(x - 1000)^2 - 25000 \\leq -16000 $\n",
        "    - $⇒ -248.717 \\leq f(x) \\leq -16000 $\n",
        "    - $⇒ f(x) \\leq 0$ $∀$ $x$ $\\in$ $[827,900]$\n",
        "\n",
        "    Teniendo esto en cuenta, determinamos que no se cumple una de las restricciones pedidas ($f(x) \\geq 0 $) y además no existe ninguna raiz dentro de ese intervalo. \n",
        "\n",
        "    Dado que la raiz $x \\in [800,900], x \\notin [800,900] ⇒ x \\in [800,827)$, lo cual conlleva que que la raiz $(2)$ tambien sea descartada siendo que la cantidad de producto no justifica el setup de las máquinas (siempre se cumple que esa cantidad es menor a $827$ $kg$). \n",
        "\n",
        "- *Análisis raíz $(3)$*: \n",
        "\n",
        "    En cuanto a la raíz restante procederemos a aplicar los métodos de búsqueda de raíces siendo que no se puede acotar visualmente para conocer su valor y asi obtener la cantidad mínima de producto a generar. \n"
      ]
    },
    {
      "cell_type": "markdown",
      "metadata": {
        "id": "iAjy2g_tYW6s"
      },
      "source": [
        "### 1.2.2 (Pregunta $b$) Hallar las cantidades a fabricar del producto “E41” utilizando los métodos vistos en clase:\n",
        "### Bisección, Punto Fijo, Newton-Raphson, Newton-Raphson modificado y Secante.\n",
        "### Use para todos los métodos como criterio de parada las siguientes cotas:\n",
        "### $1 · 10^{−5}$ y $1 · 10^{−13}$, use como semilla un valor tomado con el criterio que considere correcto, justificar."
      ]
    },
    {
      "cell_type": "markdown",
      "metadata": {
        "id": "00wzWTCOYW6t"
      },
      "source": [
        "#### **1.2.2.1 Bisección/ Busqueda Binaria / Metodo de Arranque:**\n",
        "\n"
      ]
    },
    {
      "cell_type": "markdown",
      "metadata": {
        "id": "G65pPBmDYW6t"
      },
      "source": [
        "##### *Definiciones previas*\n",
        "\n",
        "$f(x) = 0,001\\frac{$}{kg^3}·x·(x−1000kg)^2 - \\$25000$ "
      ]
    },
    {
      "cell_type": "markdown",
      "metadata": {
        "id": "Ll8RAu4gYW6t"
      },
      "source": [
        "##### *Verificación de la convergencia del método*\n",
        "\n",
        "A partir del Teorema de Bolzano o Teorema del valor medio es que demostramos la existencia de al menos una raiz dentro del intervalo $[1100,1200]$:\n",
        "\n",
        "Dado que $f(x) = 0,001\\frac{$}{kg^3}·x·(x−1100kg)^2 - \\$25000$ es un polinomio de grado 3, sabemos que $f \\in  C[1100;1200]$. \n",
        "\n",
        "A su vez, verificamos que $f(1100) ⋅ f(1200) < 0$ que junto al analisis grafico anterior nos permite confirmar la existencia de una única raiz en dicho intervalo.\n"
      ]
    },
    {
      "cell_type": "markdown",
      "metadata": {
        "id": "Gk_Aj-XQYW6u"
      },
      "source": [
        "##### *Aplicación del método* \n",
        "Tras realizar la comprobación de las hipotesis mencionadas aplicamos el metodo de bisección."
      ]
    },
    {
      "cell_type": "code",
      "execution_count": 93,
      "metadata": {
        "id": "caTqRSUhYW6u",
        "colab": {
          "base_uri": "https://localhost:8080/"
        },
        "outputId": "307d152a-15f5-4526-fc35-744e5c257ce6"
      },
      "outputs": [
        {
          "output_type": "execute_result",
          "data": {
            "text/plain": [
              "1147.5962936878204"
            ]
          },
          "metadata": {},
          "execution_count": 93
        }
      ],
      "source": [
        "lista_resultados_biseccion_cota_1, encontrado_biseccion_cota_1 = biseccion(f, 1100,1200, tolerancia=COTA_DE_ERROR_1)\n",
        "\n",
        "extraer_ultimo_pn_biseccion(lista_resultados_biseccion_cota_1)"
      ]
    },
    {
      "cell_type": "markdown",
      "source": [
        "De acuerdo a los resultados obtenidos por el método concluimos que que la cantidad de producto mínima para cumplir con la restricción de contribución mínima mensual y la justificación del setup de las máquinas con la tolerancia de $1\\cdot10^{-5}$ es: \n",
        "\n",
        "$x = [1147.59629 \\pm 0.00001]kg$\n",
        "\n",
        "(Valor del error obtenido de tabla de resultados del punto c)"
      ],
      "metadata": {
        "id": "-ALvmqQO9Bvp"
      }
    },
    {
      "cell_type": "code",
      "execution_count": 94,
      "metadata": {
        "colab": {
          "base_uri": "https://localhost:8080/"
        },
        "outputId": "71de83d7-3609-46d1-9dc7-bea83e619b43",
        "id": "OFceY2OWYW6v"
      },
      "outputs": [
        {
          "output_type": "stream",
          "name": "stdout",
          "text": [
            "Raíz no encontrada con la tolerancia pedida: Se llegó al maximo de iteraciones.\n"
          ]
        },
        {
          "output_type": "execute_result",
          "data": {
            "text/plain": [
              "1147.5962885345325"
            ]
          },
          "metadata": {},
          "execution_count": 94
        }
      ],
      "source": [
        "lista_resultados_biseccion_cota_2, encontrado_biseccion_cota_2 = biseccion(f, 1100,1200, tolerancia=COTA_DE_ERROR_2)\n",
        "\n",
        "extraer_ultimo_pn_biseccion(lista_resultados_biseccion_cota_2)"
      ]
    },
    {
      "cell_type": "markdown",
      "source": [
        "Si bien no se encontró un valor con tolerancia $1\\cdot10^{-13}$ se puede proponer el valor de la última iteración del método: \n",
        "\n",
        "$x = [1147.5962886 \\pm 0.0000001] kg$\n",
        "\n",
        "(Valor del error obtenido de tabla de resultados del punto c)\n"
      ],
      "metadata": {
        "id": "u6_MnWs_AYZp"
      }
    },
    {
      "cell_type": "markdown",
      "metadata": {
        "id": "oGTSCbuvYW6v"
      },
      "source": [
        "#### **1.2.2.2 Método del Punto Fijo:**\n",
        "\n",
        "\n",
        "\n"
      ]
    },
    {
      "cell_type": "markdown",
      "metadata": {
        "id": "GFuEqnqMYW6v"
      },
      "source": [
        "##### *Definiciones previas*\n",
        "\n",
        "Siendo que buscamos las raices de la funcion $f(x)$, es decir, $f(x) = 0$, proponemos una función $g(x) = x - \\frac{f(x)}{1000}$ a la cual le aplicaremos el metodo del punto fijo. \n",
        "\n",
        "Esto es porque suponiendo que la raiz de $f(x)$ sea el valor $p ⇒ g(p) = p - \\frac{f(p)}{1000} ⇒ g(p) = p - 0$ ⇒ $g(p) = p$\n",
        "\n",
        "Decidimos definir $𝜑(x)$ como $\\frac{1}{1000}$ dado que con esta modificación podemos asegurar las hipótesis para la aplicación de punto fijo, lo cual se mostrará en el siguiente apartado.\n",
        "\n",
        "Definimos entonces:\n",
        "\n",
        " $g(x) = x - \\frac{f(x)}{1000} = x - \\frac{0,001\\frac{$}{kg^3}·x·(x−1000kg)^2 - \\$25000}{1000}$ \n",
        "\n",
        " "
      ]
    },
    {
      "cell_type": "markdown",
      "metadata": {
        "id": "-PzV11fOYW6v"
      },
      "source": [
        "##### *Verificación de la convergencia del método*\n",
        "\n",
        "Verificamos existencia y unicidad de la raiz en en intervalo cerrado $[1100,1200]$. \n",
        "Para ello se deben cumplir las siguientes condiciones:\n",
        "1.   Si $g(x) ∈ C[1100,1200]$ y $g(x) ∈ [1100,1200]$ $∀$ $x ∈ [1100,1200]$ ⇒ existe al menos un punto fijo dentro del intervalo $[1100,1200]$\n",
        "2.   Si $∃$ $g'(x)$ $∀$  $x ∈ (1100,1200)$ y $|g'(x)| ≤ k$ $∀$  $x ∈ (1100,1200)$ donde $0 < k < 1$ ⇒ el punto fijo es único dentro del intervalo $[1100,1200]$\n",
        "\n",
        "En caso de cumplir con ambas condiciones, la funcion $g(x)$ es admisible y por lo tanto (por teorema visto en clase), $∀$ $p_0 \\in [1100,1200]$ la sucesión definida como $p_n = g(p_{n-1})$ converge al único punto fijo de $g(x)$."
      ]
    },
    {
      "cell_type": "markdown",
      "source": [
        "###### *Verifico condición 1:*\n",
        "\n",
        "Dado que $g(x) = x - \\frac{f(x)}{1000}$ y $f(x) ∈ C[1100,1200]$ por ser un polinomio de grado 3 ⇒ $g(x) ∈ C[1100,1200]$ por ser suma de funciones $∈ C[1100,1200]$.\n",
        "\n",
        "A continuacion verificaremos gráficamente si se cumple que $g(x) ∈ [1100,1200]$ $∀$ $x ∈ [1100,1200]$ (Condición 1):"
      ],
      "metadata": {
        "id": "cwtXvLD6dFhz"
      }
    },
    {
      "cell_type": "code",
      "source": [
        "def g(x,funcion):\n",
        "  return x-(funcion(x)/1000)"
      ],
      "metadata": {
        "id": "QLQzM1UCdXIZ"
      },
      "execution_count": 95,
      "outputs": []
    },
    {
      "cell_type": "code",
      "source": [
        "intervalo = np.linspace(-100,1400,1000)\n",
        "func = g(intervalo,f)\n",
        "\n",
        "fig, ax = plt.subplots(figsize=(10, 10))\n",
        "\n",
        "plt.title(\"Grafica función g(x)\")\n",
        "plt.xlabel(\"x\")\n",
        "plt.ylabel(\"y\")\n",
        "\n",
        "plt.plot(intervalo, func, label = 'g(x)', color = 'blue', linewidth= 2)\n",
        "\n",
        "plt.plot([-200,1400],[0,0], label = 'ejes', color = 'black')\n",
        "plt.plot([0,0],[-50000, 130000], color = 'black')\n",
        "\n",
        "plt.plot([1100,1200],[1100,1100], label = 'Condición 1', color = 'red', linestyle='--')\n",
        "plt.plot([1100,1200],[1200,1200], color = 'red', linestyle='--')\n",
        "plt.plot([1100,1100],[1100,1200], color = 'red', linestyle='--')\n",
        "plt.plot([1200,1200],[1100,1200], color = 'red', linestyle='--')\n",
        "\n",
        "ax.set_xlim(-100, 1400)\n",
        "ax.set_ylim(-100, 1400)\n",
        "\n",
        "ax.xaxis.set_major_locator(MultipleLocator(100))\n",
        "ax.yaxis.set_major_locator(MultipleLocator(100))\n",
        "\n",
        "ax.grid()\n",
        "plt.legend(loc = 'best')\n",
        "plt.show()"
      ],
      "metadata": {
        "colab": {
          "base_uri": "https://localhost:8080/",
          "height": 729
        },
        "id": "zzezF-GpdXUz",
        "outputId": "acea0ed9-9c53-4e61-d7ed-48cab6a08d7b"
      },
      "execution_count": 96,
      "outputs": [
        {
          "output_type": "display_data",
          "data": {
            "text/plain": [
              "<Figure size 720x720 with 1 Axes>"
            ],
            "image/png": "[encoded data removed]"
          },
          "metadata": {
            "needs_background": "light"
          }
        }
      ]
    },
    {
      "cell_type": "markdown",
      "source": [
        "Podemos concluir al analizar el gráfico que la condición $g(x) ∈ [1100,1200]$ para cualquier $x ∈ [1100,1200]$ se cumple, ya que la misma atraviesa los límites laterales de la zona indicada. \n",
        "\n",
        "Esto implica que existe al menos un punto fijo dentro del intervalo $[1100,1200]$\n",
        "\n",
        "Ahora procedemos a verificar si el punto fijo es único."
      ],
      "metadata": {
        "id": "umcr0WS_fgpa"
      }
    },
    {
      "cell_type": "markdown",
      "metadata": {
        "id": "xFqI7xlAgFiE"
      },
      "source": [
        "###### *Verifico condición 2:*\n",
        "\n",
        "Dado que $g(x) = x - \\frac{f(x)}{1000} = x - 10^{-6} \\frac{$}{kg^3}·x·(x−1000kg)^2 + \\$25$, entonces \n",
        "$g'(x) = 1 - 10^{-6} \\frac{$}{kg^3} ·(x−1000kg)^2 - 2 \\cdot 10^{-6}\\frac{$}{kg^3} ⋅ x ⋅ (x−1000kg)$\n",
        "\n"
      ]
    },
    {
      "cell_type": "code",
      "execution_count": 97,
      "metadata": {
        "id": "5B_6040PgFiE"
      },
      "outputs": [],
      "source": [
        "def g_derivada(x):\n",
        "  return 1-(10**(-6))*((x-1000)**2)-2*(10**(-6))*x*(x-1000)"
      ]
    },
    {
      "cell_type": "code",
      "execution_count": 98,
      "metadata": {
        "colab": {
          "base_uri": "https://localhost:8080/",
          "height": 729
        },
        "outputId": "a9b4491f-0011-47cd-ace2-ced07d19d34f",
        "id": "i0J4disZgFiF"
      },
      "outputs": [
        {
          "output_type": "display_data",
          "data": {
            "text/plain": [
              "<Figure size 720x720 with 1 Axes>"
            ],
            "image/png": "[encoded data removed]"
          },
          "metadata": {
            "needs_background": "light"
          }
        }
      ],
      "source": [
        "intervalo = np.linspace(1050,1250,100)\n",
        "func = g_derivada(intervalo)\n",
        "\n",
        "fig, ax = plt.subplots(figsize=(10, 10))\n",
        "\n",
        "plt.title(\"Grafica función g'(x)\")\n",
        "plt.xlabel(\"x\")\n",
        "plt.ylabel(\"y\")\n",
        "\n",
        "plt.plot(intervalo, func, label = \"g'(x)\", color = 'blue', linewidth= 2)\n",
        "plt.plot([1050,1250],[0,0],\"black\")\n",
        "plt.plot([1050,1250],[1,1], label = 'y =  1', color = 'red', linestyle='--')\n",
        "plt.plot([1050,1250],[-1,-1], label = 'y = -1', color = 'red', linestyle='--')\n",
        "\n",
        "plt.plot([1100,1100],[-10,10], label = 'x = 1100 [kg]', color = 'grey', linestyle='--', linewidth= 2)\n",
        "plt.plot([1200,1200],[-10,10], label = 'x = 1200 [kg]', color = 'grey', linestyle='--', linewidth= 2)\n",
        "\n",
        "ax.set_xlim(1050, 1250)\n",
        "ax.set_ylim(-10, 10)\n",
        "\n",
        "ax.yaxis.set_major_locator(MultipleLocator(1))\n",
        "\n",
        "plt.grid()\n",
        "plt.legend()\n",
        "plt.show()"
      ]
    },
    {
      "cell_type": "markdown",
      "source": [
        "Como podemos ver $g(x)$ también cumple con la condición 2:\n",
        "\n",
        " $|g'(x)| ≤ k$ con $0 < k < 1$ en el intervalo $[1100;1200]$.\n",
        "\n",
        "Dado que la funcion cumple con ambas condiciones, la función $g(x)$ es admisible y por lo tanto (por teorema visto en clase), $∀$ $p_0 \\in [1100,1200]$ la sucesión definida como $p_n = g(p_{n-1})$ converge al único punto fijo de $g(x)$."
      ],
      "metadata": {
        "id": "BoTzVjXBhGp5"
      }
    },
    {
      "cell_type": "markdown",
      "source": [
        "##### *Aplicación del método* \n",
        "\n",
        "La semilla $p_0$ se obtiene a partir de uno de los extremos del intervalo estudiado. En este caso tomamos:\n",
        "\n",
        " $p_0 = 1100 kg$"
      ],
      "metadata": {
        "id": "d3C33z1Epovo"
      }
    },
    {
      "cell_type": "code",
      "execution_count": 99,
      "metadata": {
        "colab": {
          "base_uri": "https://localhost:8080/"
        },
        "outputId": "2dff2305-6830-41f6-8488-d71d39f0924e",
        "id": "DJdk1HWFqQaX"
      },
      "outputs": [
        {
          "output_type": "execute_result",
          "data": {
            "text/plain": [
              "1147.5962721753374"
            ]
          },
          "metadata": {},
          "execution_count": 99
        }
      ],
      "source": [
        "semilla_p0 = 1100\n",
        "\n",
        "def f_aux(x):\n",
        "    return (f(x) / 1000) \n",
        "\n",
        "lista_resultados_punto_fijo_cota_1, encontrado_punto_fijo_cota_1 = metodo_punto_fijo(f_aux,  semilla_p0, tolerancia=COTA_DE_ERROR_1)\n",
        "\n",
        "extraer_ultimo_pn(lista_resultados_punto_fijo_cota_1)"
      ]
    },
    {
      "cell_type": "markdown",
      "source": [
        "De acuerdo a los resultados obtenidos por el método concluimos que que la cantidad de producto mínima para cumplir con la restricción de contribución mínima mensual y la justificación del setup de las máquinas con la tolerancia de $1\\cdot10^{-5}$ es: \n",
        "\n",
        "$x = [1147.59627 \\pm 0.00001]kg$\n",
        "\n",
        "(Valor del error obtenido de tabla de resultados del punto c)"
      ],
      "metadata": {
        "id": "KgIyASbVqQaX"
      }
    },
    {
      "cell_type": "code",
      "execution_count": 100,
      "metadata": {
        "colab": {
          "base_uri": "https://localhost:8080/"
        },
        "outputId": "ae4a595b-214f-4f2b-c98e-ea02ec64fb56",
        "id": "T0UAXbFQqQaY"
      },
      "outputs": [
        {
          "output_type": "stream",
          "name": "stdout",
          "text": [
            "Raíz no encontrada con la tolerancia pedida: Se llegó al maximo de iteraciones.\n"
          ]
        },
        {
          "output_type": "execute_result",
          "data": {
            "text/plain": [
              "1147.5962867855126"
            ]
          },
          "metadata": {},
          "execution_count": 100
        }
      ],
      "source": [
        "lista_resultados_punto_fijo_cota_2, encontrado_punto_fijo_cota_2 = metodo_punto_fijo(f_aux,  semilla_p0, tolerancia=COTA_DE_ERROR_2)\n",
        "\n",
        "extraer_ultimo_pn(lista_resultados_punto_fijo_cota_2)"
      ]
    },
    {
      "cell_type": "markdown",
      "source": [
        "Si bien no se encontró un valor con tolerancia $1\\cdot10^{-13}$ se puede proponer el valor de la última iteración del método: \n",
        "\n",
        "$x = [1147.596287 \\pm 0.000001] kg$\n",
        "\n",
        "(Valor del error obtenido de tabla de resultados del punto c)\n"
      ],
      "metadata": {
        "id": "PfjeV9G20f_Q"
      }
    },
    {
      "cell_type": "markdown",
      "metadata": {
        "id": "ozlygC9AYW6z"
      },
      "source": [
        "#### **1.2.2.3 Método de Newton-Raphson:**"
      ]
    },
    {
      "cell_type": "markdown",
      "metadata": {
        "id": "ebEXMpWMYW6z"
      },
      "source": [
        "##### *Definiciones previas*\n",
        "\n",
        "$f(x) = 0,001\\frac{$}{kg^3}·x·(x−1000kg)^2 - \\$25000$ "
      ]
    },
    {
      "cell_type": "markdown",
      "metadata": {
        "id": "3Bxx7uNSYW6z"
      },
      "source": [
        "##### *Verificación de la convergencia del método*\n",
        "\n",
        "A partir del teorema y la demostración expuesta anteriormente, verificarmemos si se puede asegurar la convergencia de este método:\n",
        "\n",
        "Dado que $f$ es un polinomio de grado 3 $⇒$ $f \\in C^2[1100,1200]$\n",
        "\n",
        "Derivo $f$ para verificar que no se anule la derivada en dicho intervalo:\n",
        "\n",
        "$f'(x) = 0,001\\frac{$}{kg^3} ·(x−1000kg)^2 + 2 \\cdot 0,001\\frac{$}{kg^3} ⋅ x ⋅ (x−1000kg)$\n"
      ]
    },
    {
      "cell_type": "code",
      "execution_count": 101,
      "metadata": {
        "id": "CZzn1JE7YW60"
      },
      "outputs": [],
      "source": [
        "def f_derivada_primera(x):\n",
        "  return 0.001*((x-1000)**2)+2*0.001*x*(x-1000)"
      ]
    },
    {
      "cell_type": "code",
      "execution_count": 102,
      "metadata": {
        "colab": {
          "base_uri": "https://localhost:8080/",
          "height": 729
        },
        "outputId": "a3527134-9c70-4b9f-e703-d664028bc32d",
        "id": "9C66iJw0YW60"
      },
      "outputs": [
        {
          "output_type": "display_data",
          "data": {
            "text/plain": [
              "<Figure size 720x720 with 1 Axes>"
            ],
            "image/png": "[encoded data removed]"
          },
          "metadata": {
            "needs_background": "light"
          }
        }
      ],
      "source": [
        "intervalo = np.linspace(1050,1250,100)\n",
        "derivada = f_derivada_primera(intervalo)\n",
        "\n",
        "fig, ax = plt.subplots(figsize=(10, 10))\n",
        "\n",
        "plt.title(\"Grafica función f'(x)\")\n",
        "plt.xlabel(\"x\")\n",
        "plt.ylabel(\"y\")\n",
        "\n",
        "plt.plot(intervalo, derivada, label = \"f'(x)\", color = 'blue', linewidth= 2)\n",
        "\n",
        "plt.plot([1050,1250],[0,0], label = 'eje x', color = 'black')\n",
        "\n",
        "plt.plot([1100,1100],[-300,600], label = 'x = 1100 [kg]', color = 'grey', linestyle='--', linewidth= 2)\n",
        "plt.plot([1200,1200],[-300,600], label = 'x = 1200 [kg]', color = 'grey', linestyle='--', linewidth= 2)\n",
        "\n",
        "ax.set_xlim(1050, 1250)\n",
        "ax.set_ylim(-300, 600)\n",
        "\n",
        "plt.grid()\n",
        "plt.legend(loc = 'best')\n",
        "plt.show()"
      ]
    },
    {
      "cell_type": "markdown",
      "metadata": {
        "id": "8iPPLIn5YW60"
      },
      "source": [
        "Como podemos observar en el gráfico, $f'(x) \\neq 0$ $∀$ $x \\in [1100, 1200]$, lo cual implica que el método converge a la raiz dentro de dicho intervalo.\n"
      ]
    },
    {
      "cell_type": "markdown",
      "metadata": {
        "id": "2LrXbvx3_f_H"
      },
      "source": [
        "##### *Aplicación del método* \n",
        "\n",
        "La semilla $p_0$ se obtiene a partir de uno de los extremos del intervalo estudiado. En este caso tomamos:\n",
        "\n",
        " $p_0 = 1100 kg$"
      ]
    },
    {
      "cell_type": "code",
      "execution_count": 103,
      "metadata": {
        "id": "zpS3CLg4YW61",
        "colab": {
          "base_uri": "https://localhost:8080/"
        },
        "outputId": "86eabd69-f6a0-4539-8a20-3fa76b2faf2e"
      },
      "outputs": [
        {
          "output_type": "execute_result",
          "data": {
            "text/plain": [
              "1147.596288534586"
            ]
          },
          "metadata": {},
          "execution_count": 103
        }
      ],
      "source": [
        "semilla_p0 = 1100\n",
        "lista_resultados_NR_cota_1, encontrado_NR_cota_1 = metodo_newton_raphson(f, f_derivada_primera, semilla_p0, tolerancia=COTA_DE_ERROR_1)\n",
        "\n",
        "extraer_ultimo_pn(lista_resultados_NR_cota_1)"
      ]
    },
    {
      "cell_type": "markdown",
      "source": [
        "De acuerdo a los resultados obtenidos por el método concluimos que la cantidad de producto mínima para cumplir con la restricción de contribución mínima mensual y la justificación del setup de las máquinas con la tolerancia de $1\\cdot10^{-5}$ es: \n",
        "\n",
        "$x = [1147.59629 \\pm 0.00001]kg$\n",
        "\n",
        "(Valor del error obtenido de tabla de resultados del punto c)"
      ],
      "metadata": {
        "id": "XH4gT_bFD-L8"
      }
    },
    {
      "cell_type": "code",
      "execution_count": 104,
      "metadata": {
        "colab": {
          "base_uri": "https://localhost:8080/"
        },
        "id": "MzcucR8VYW61",
        "outputId": "8466c774-b179-4275-97d5-40927455637f"
      },
      "outputs": [
        {
          "output_type": "stream",
          "name": "stdout",
          "text": [
            "La cota del error es un valor muy cercano a cero no representable.\n"
          ]
        },
        {
          "output_type": "execute_result",
          "data": {
            "text/plain": [
              "1147.596288534586"
            ]
          },
          "metadata": {},
          "execution_count": 104
        }
      ],
      "source": [
        "lista_resultados_NR_cota_2, encontrado_NR_cota_2 = metodo_newton_raphson(f, f_derivada_primera, semilla_p0, tolerancia=COTA_DE_ERROR_2)\n",
        "\n",
        "extraer_ultimo_pn(lista_resultados_NR_cota_2)"
      ]
    },
    {
      "cell_type": "markdown",
      "source": [
        "Dado que el error entre dos iteraciones resultó $|p_n - p_{n-1}| = 0$, no hubo diferencia entre el valor de las aproximaciones consecutivas de la raíz.\n",
        "Esto se puede explicar debido a la cantidad de digitos significativos con la que trabaja la computadora, por lo cual concluimos que:\n",
        "\n",
        "La cantidad de producto mínima para cumplir con la restricción de contribución mínima mensual y la justificación del setup de las máquinas con la tolerancia de $1\\cdot10^{-12}$ es: \n",
        "\n",
        "$x = [1147.596288534586 \\pm 10^{-12}]kg$\n",
        "\n",
        "(Valor del error obtenido de tabla de resultados del punto c)\n"
      ],
      "metadata": {
        "id": "STycKjAtH1-I"
      }
    },
    {
      "cell_type": "markdown",
      "metadata": {
        "id": "JVyylz2wYW62"
      },
      "source": [
        "#### **1.2.2.4 Método de Newton-Raphson modificado:**"
      ]
    },
    {
      "cell_type": "markdown",
      "metadata": {
        "id": "iSdrgkbWCR_e"
      },
      "source": [
        "##### *Definiciones previas*\n",
        "\n",
        "$f(x) = 0,001\\frac{$}{kg^3}·x·(x−1000kg)^2 - \\$25000$ \n",
        "\n",
        "$f'(x) = 0,001\\frac{$}{kg^3} ·(x−1000kg)^2 + 2 \\cdot 0,001\\frac{$}{kg^3} ⋅ x ⋅ (x−1000kg)$"
      ]
    },
    {
      "cell_type": "markdown",
      "metadata": {
        "id": "vr7q2QpJC0gV"
      },
      "source": [
        "##### *Verificación de la convergencia del método*\n",
        "\n",
        "A partir del analsis realizado para el método de Newton-Raphson:\n",
        "\n",
        "Dado que $f$ es un polinomio de grado 3 $⇒$ $f \\in C^2[1100,1200]$\n",
        "\n",
        "$ f(x) = 0$ $∀$ $x \\in [1100, 1200]$, \n",
        "\n",
        "$f'(x) \\neq 0$ $∀$ $x \\in [1100, 1200]$\n",
        "\n",
        "Podemos concluir que $f$ tiene un cero simple en el intervalo $[1100, 1200]$\n",
        "\n",
        "Dado que la multiplicidad de la raíz de $f$ no modifica la convergencia cuadrática que posee el método, solo resta indicar que la funcion $g$ definida de la siguiente manera, es continua:\n",
        "\n",
        "$g(x) = x - \\frac{f(x) \\cdot f'(x)}{[f'(x)]^2 - f(x) ⋅ f''(x)}$\n",
        "\n",
        "Defino: $w(x) = \\frac{f(x) \\cdot f'(x)}{[f'(x)]^2 - f(x) ⋅ f''(x)}$\n",
        "\n",
        "$⇒ g(x) = x - w(x)$\n",
        "\n",
        "Por lo tanto debemos verificar que la funcion $w$ sea continua dentro del intervalo $[1100, 1200]$.\n",
        "\n",
        "Para verificar la continuidad de $w$ debo ver en que punto se anula la expresion: $[f'(x)]^2 - f(x) ⋅ f''(x)$ ya que el numerador de $w(x) = \\frac{f(x) \\cdot f'(x)}{[f'(x)]^2 - f(x) ⋅ f''(x)}$ es una funcion continua, dado que $f$ es un polinomio de grado (multiplicacion de funciones continuas da como resultado una funcion continua).\n",
        "\n",
        "Mostramos el valor de las derivadas de interés de $f$:\n",
        "\n",
        "$f'(x) = 0,001\\frac{$}{kg^3} ·(x−1000kg)^2 + 2 \\cdot 0,001\\frac{$}{kg^3} ⋅ x ⋅ (x−1000kg)$\n",
        "\n",
        "$f''(x) = 0.006\\frac{$}{kg^3} · x − 4 \\frac{$}{kg^2} $\n",
        "\n",
        "Grafico la funcion $α(x) = [f'(x)]^2 - f(x) ⋅ f''(x)$  en el intervalo $[1100, 1200]$ para ver si posee raices:\n",
        "\n",
        "$α(x) = [0,001\\frac{$}{kg^3} ·(x−1000kg)^2 + 2 \\cdot 0,001\\frac{$}{kg^3} ⋅ x ⋅ (x−1000kg)] ^ 2 - (0,001\\frac{$}{kg^3}·x·(x−1000kg)^2 - \\$25000) ⋅ (0,001\\frac{$}{kg^3} ·(x−1000kg)^2 + 2 \\cdot 0,001\\frac{$}{kg^3} ⋅ x ⋅ (x−1000kg))$"
      ]
    },
    {
      "cell_type": "code",
      "execution_count": 105,
      "metadata": {
        "id": "eRlb3HMkYW62"
      },
      "outputs": [],
      "source": [
        "def f_derivada_segunda(x):\n",
        "  return 0.006*x - 4"
      ]
    },
    {
      "cell_type": "code",
      "execution_count": 106,
      "metadata": {
        "id": "GoF-oBqXMnKM"
      },
      "outputs": [],
      "source": [
        "def alpha(f, f_derivada_primera, f_derivada_segunda, x):\n",
        "    return ((f_derivada_primera(x)) ** 2) - (f(x) * f_derivada_segunda(x))"
      ]
    },
    {
      "cell_type": "code",
      "execution_count": 107,
      "metadata": {
        "colab": {
          "base_uri": "https://localhost:8080/",
          "height": 729
        },
        "id": "ErK39W-VNVKJ",
        "outputId": "fcb302d7-61ce-4e61-b2e5-94db3991b92c"
      },
      "outputs": [
        {
          "output_type": "display_data",
          "data": {
            "text/plain": [
              "<Figure size 720x720 with 1 Axes>"
            ],
            "image/png": "[encoded data removed]"
          },
          "metadata": {
            "needs_background": "light"
          }
        }
      ],
      "source": [
        "intervalo = np.linspace(1050,1250,100)\n",
        "func = alpha(f, f_derivada_primera, f_derivada_segunda, intervalo)\n",
        "\n",
        "fig, ax = plt.subplots(figsize=(10, 10))\n",
        "\n",
        "plt.title(\"Grafica función f'(x)\")\n",
        "plt.xlabel(\"x\")\n",
        "plt.ylabel(\"y\")\n",
        "\n",
        "plt.plot(intervalo, func, label = \"$α(x)$\", color = 'blue', linewidth= 2)\n",
        "\n",
        "plt.plot([1050,1250],[0,0], label = 'eje x', color = 'black')\n",
        "\n",
        "plt.plot([1100,1100],[-25000,200000], label = 'x = 1100 [kg]', color = 'grey', linestyle='--', linewidth= 2)\n",
        "plt.plot([1200,1200],[-25000,200000], label = 'x = 1200 [kg]', color = 'grey', linestyle='--', linewidth= 2)\n",
        "\n",
        "ax.set_xlim(1050, 1250)\n",
        "ax.set_ylim(-25000, 200000)\n",
        "\n",
        "plt.grid()\n",
        "plt.legend(loc = 'best')\n",
        "plt.show()"
      ]
    },
    {
      "cell_type": "markdown",
      "metadata": {
        "id": "eJFVZaMnPWxW"
      },
      "source": [
        "Dado que la funcion $α$ no contiene raices en el intervalo $[1100, 1200]$ $⇒ w$ es continua dentro de dicho intervalo $⇒ g$ es continua dentro de dicho intervalo.\n",
        "\n",
        "Esto implica que la convergencia de este método esta asegurada y ademas es cuadrática."
      ]
    },
    {
      "cell_type": "markdown",
      "metadata": {
        "id": "05WEzakBQDEX"
      },
      "source": [
        "##### *Aplicación del método* \n",
        "\n",
        "La semilla $p_0$ se obtiene a partir de uno de los extremos del intervalo estudiado. En este caso tomamos:\n",
        "\n",
        " $p_0 = 1100 kg$"
      ]
    },
    {
      "cell_type": "code",
      "execution_count": 108,
      "metadata": {
        "id": "kinwPHXYYW64"
      },
      "outputs": [],
      "source": [
        "semilla_p0 = 1100"
      ]
    },
    {
      "cell_type": "code",
      "execution_count": 109,
      "metadata": {
        "id": "ZHxFTea_QWfy",
        "colab": {
          "base_uri": "https://localhost:8080/"
        },
        "outputId": "4e4f6a36-ed82-4b8c-fe31-04c01805a7ce"
      },
      "outputs": [
        {
          "output_type": "execute_result",
          "data": {
            "text/plain": [
              "1147.596288534586"
            ]
          },
          "metadata": {},
          "execution_count": 109
        }
      ],
      "source": [
        "lista_resultados_NR_multiple_cota_1, encontrado_NR_multiple_cota_1 = metodo_newton_raphson_para_raices_multiples(f, f_derivada_primera, f_derivada_segunda, semilla_p0, tolerancia=COTA_DE_ERROR_1)\n",
        "\n",
        "extraer_ultimo_pn(lista_resultados_NR_multiple_cota_1)"
      ]
    },
    {
      "cell_type": "markdown",
      "source": [
        "De acuerdo a los resultados obtenidos por el método concluimos que que la cantidad de producto mínima para cumplir con la restricción de contribución mínima mensual y la justificación del setup de las máquinas con la tolerancia de $1\\cdot10^{-5}$ es: \n",
        "\n",
        "$x = [1147.59629 \\pm 0.00001]kg$\n",
        "\n",
        "(Valor del error obtenido de tabla de resultados del punto c)\n"
      ],
      "metadata": {
        "id": "9AScImLEEuLX"
      }
    },
    {
      "cell_type": "code",
      "execution_count": 110,
      "metadata": {
        "colab": {
          "base_uri": "https://localhost:8080/"
        },
        "id": "Hvq2Shl9YW64",
        "outputId": "9fd1803b-946b-4b0f-e8fd-d7b41679517e"
      },
      "outputs": [
        {
          "output_type": "stream",
          "name": "stdout",
          "text": [
            "La cota del error es un valor muy cercano a cero no representable.\n"
          ]
        },
        {
          "output_type": "execute_result",
          "data": {
            "text/plain": [
              "1147.596288534586"
            ]
          },
          "metadata": {},
          "execution_count": 110
        }
      ],
      "source": [
        "lista_resultados_NR_multiple_cota_2, encontrado_NR_multiple_cota_2 = metodo_newton_raphson_para_raices_multiples(f, f_derivada_primera, f_derivada_segunda, semilla_p0, tolerancia=COTA_DE_ERROR_2)\n",
        "\n",
        "extraer_ultimo_pn(lista_resultados_NR_multiple_cota_2)"
      ]
    },
    {
      "cell_type": "markdown",
      "source": [
        "Dado que el error entre dos iteraciones resultó $|p_n - p_{n-1}| = 0$, no hubo diferencia entre el valor de las aproximaciones consecutivas de la raíz.\n",
        "Esto se puede explicar debido a la cantidad de digitos significativos con la que trabaja la computadora, por lo cual concluimos que:\n",
        "\n",
        "La cantidad de producto mínima para cumplir con la restricción de contribución mínima mensual y la justificación del setup de las máquinas con la tolerancia de $1\\cdot10^{-12}$ es: \n",
        "\n",
        "$x = [1147.596288534586 \\pm 10^{-12}]kg$\n",
        "\n",
        "(Valor del error obtenido de tabla de resultados del punto c)"
      ],
      "metadata": {
        "id": "vVmKDUpWEuLX"
      }
    },
    {
      "cell_type": "markdown",
      "metadata": {
        "id": "qWlJUjnQYW65"
      },
      "source": [
        "#### **1.2.2.5 Método de la Secante:**"
      ]
    },
    {
      "cell_type": "markdown",
      "source": [
        "##### *Definiciones previas*\n",
        "\n",
        "$f(x) = 0,001\\frac{$}{kg^3}·x·(x−1000kg)^2 - \\$25000$ "
      ],
      "metadata": {
        "id": "4PKkQHsERsjt"
      }
    },
    {
      "cell_type": "markdown",
      "source": [
        "Dado que el método de la Secante proviene del método de Newton-Raphson, con el objetivo de no utilizar $f'(x)$, realizando la siguiente aproximación:\n",
        "\n",
        "$f'(p_{n-1}) ≅ \\frac{f(p_{n-2}) - f(p_{n-1})}{p_{n-2} - p_{n-1}}$ \n",
        "\n",
        "Es por esto que el método de la Secante posee las mismas condiciones de convergencia que el método de Newton-Raphson.\n",
        "\n",
        "Gracias al análisis realizado en el método de Newton-Raphson en donde:\n",
        "\n",
        "Dado que $f$ es un polinomio de grado 3 $⇒$ $f \\in C^2[1100,1200]$\n",
        "\n",
        "$ f(x) = 0$ $∀$ $x \\in [1100, 1200]$, \n",
        "\n",
        "$f'(x) \\neq 0$ $∀$ $x \\in [1100, 1200]$\n",
        "\n",
        "Entonces podemos concluir que el método de la Secante convergerá a la unica raiz contenida en el intervalo $[1100, 1200]$."
      ],
      "metadata": {
        "id": "faVb5hlgSIVO"
      }
    },
    {
      "cell_type": "markdown",
      "source": [
        "##### *Aplicación del método* \n",
        "\n",
        "La semilla $p_0$ y$p_1$ se obtienen a partir de los extremos del intervalo estudiado. En este caso tomamos:\n",
        "\n",
        " $p_0 = 1100 kg$\n",
        " \n",
        " $p_1 = 1200 kg$"
      ],
      "metadata": {
        "id": "RpF8CWXAVbZn"
      }
    },
    {
      "cell_type": "code",
      "execution_count": 111,
      "metadata": {
        "id": "OeUybE4tYW7A",
        "colab": {
          "base_uri": "https://localhost:8080/"
        },
        "outputId": "588d14e5-765f-44e9-b92c-b329c0cb93ed"
      },
      "outputs": [
        {
          "output_type": "execute_result",
          "data": {
            "text/plain": [
              "1147.5962885345864"
            ]
          },
          "metadata": {},
          "execution_count": 111
        }
      ],
      "source": [
        "semilla_p0 = 1100\n",
        "semilla_p1 = 1200\n",
        "\n",
        "lista_resultados_secante_cota_1, encontrado_secante_cota_1 = metodo_secante(f, semilla_p0, semilla_p1, tolerancia=COTA_DE_ERROR_1)\n",
        "\n",
        "extraer_ultimo_pn(lista_resultados_secante_cota_1)"
      ]
    },
    {
      "cell_type": "markdown",
      "source": [
        "De acuerdo a los resultados obtenidos por el método concluimos que que la cantidad de producto mínima para cumplir con la restricción de contribución mínima mensual y la justificación del setup de las máquinas con la tolerancia de $1\\cdot10^{-5}$ es: \n",
        "\n",
        "$x = [1147.59629 \\pm 0.00001]kg$\n",
        "\n",
        "(Valor del error obtenido de tabla de resultados del punto c)"
      ],
      "metadata": {
        "id": "qxRl9a_iKT5D"
      }
    },
    {
      "cell_type": "code",
      "execution_count": 112,
      "metadata": {
        "colab": {
          "base_uri": "https://localhost:8080/"
        },
        "outputId": "c070788d-4c3a-454d-edd9-48c0b81cc0da",
        "id": "OWpXFowDYW7A"
      },
      "outputs": [
        {
          "output_type": "stream",
          "name": "stdout",
          "text": [
            "La cota del error es un valor muy cercano a cero no representable.\n"
          ]
        },
        {
          "output_type": "execute_result",
          "data": {
            "text/plain": [
              "1147.596288534586"
            ]
          },
          "metadata": {},
          "execution_count": 112
        }
      ],
      "source": [
        "lista_resultados_secante_cota_2, encontrado_secante_cota_2 = metodo_secante(f, semilla_p0, semilla_p1, tolerancia=COTA_DE_ERROR_2)\n",
        "\n",
        "extraer_ultimo_pn(lista_resultados_secante_cota_2)"
      ]
    },
    {
      "cell_type": "markdown",
      "source": [
        "Dado que el error entre dos iteraciones resultó $|p_n - p_{n-1}| = 0$, no hubo diferencia entre el valor de las aproximaciones consecutivas de la raíz.\n",
        "Esto se puede explicar debido a la cantidad de digitos significativos con la que trabaja la computadora, por lo cual concluimos que:\n",
        "\n",
        "La cantidad de producto mínima para cumplir con la restricción de contribución mínima mensual y la justificación del setup de las máquinas con la tolerancia de $1\\cdot10^{-12}$ es: \n",
        "\n",
        "$x = [1147.596288534586 \\pm 10^{-12}]kg$\n",
        "\n",
        "(Valor del error obtenido de tabla de resultados del punto c)"
      ],
      "metadata": {
        "id": "kiZsSZoLKYkc"
      }
    },
    {
      "cell_type": "markdown",
      "metadata": {
        "id": "EPtoazQUkG3u"
      },
      "source": [
        "### 1.2.3 (Pregunta $c$) Realizar una tabla con los resultados de las iteraciones, convergencia $P$ y la constante asintótica $\\lambda$. En caso de que se encuentren más de 12 iteraciones, solamente incluir en la tabla las primeras 5 iteraciones y luego las últimas 5."
      ]
    },
    {
      "cell_type": "markdown",
      "source": [
        "En las siguientes tablas se muestran los valores correspondientes a todos los resultados obtenidos por cada método hasta encontrar la raíz con la precisión pedida, o en su defecto hasta que el método se detenga por alguna de las razones explicadas en la sección ***1.1.1 Criterios de paro***  (Donde se explica por qué cuando se pide una tolerancia de $10^{-13}$ se detiene el método al alcanzar $10^{-12}$)"
      ],
      "metadata": {
        "id": "5UN0KUOHnBXR"
      }
    },
    {
      "cell_type": "markdown",
      "source": [
        "Como se mencionó anteriormente, siendo que la computadora trabaja con una cantidad finita de dígitos y la cota del error dada ($1\\cdot10^{-13}$) la supera, ocurre que si dos aproximaciones consecutivas de la raíz poseen el mismo valor esto conlleva a que la constante asintótica y el orden de convergencia no puedan ser calculados para aproximaciones de raíz con mismo valor como sucede en la última iteración."
      ],
      "metadata": {
        "id": "CzBwfJOPLS99"
      }
    },
    {
      "cell_type": "markdown",
      "metadata": {
        "id": "e2pfQ6uREgBl"
      },
      "source": [
        "#### 1.2.3.1 Método de Bisección"
      ]
    },
    {
      "cell_type": "markdown",
      "source": [
        "Tolerancia pedida: $1 ⋅ 10^{-5}$\n",
        "\n",
        "Valor obtenido: $x = [1147.59629 \\pm 0.00001]kg$\n",
        "\n",
        "Iteraciones: 24."
      ],
      "metadata": {
        "id": "A6up82j9mlxI"
      }
    },
    {
      "cell_type": "code",
      "execution_count": 113,
      "metadata": {
        "colab": {
          "base_uri": "https://localhost:8080/",
          "height": 363
        },
        "id": "wpkT7VPIEfD_",
        "outputId": "cf7817ef-a0d8-42db-842d-eac0f5bc0c35"
      },
      "outputs": [
        {
          "output_type": "execute_result",
          "data": {
            "text/plain": [
              "             an           bn           pn      error  alfa  lambda\n",
              "0   1100.000000  1200.000000  1150.000000  50.000000   NaN     NaN\n",
              "1   1100.000000  1150.000000  1125.000000  25.000000   NaN     NaN\n",
              "2   1125.000000  1150.000000  1137.500000  12.500000   NaN     NaN\n",
              "3   1137.500000  1150.000000  1143.750000   6.250000   1.0     0.5\n",
              "4   1143.750000  1150.000000  1146.875000   3.125000   1.0     0.5\n",
              "19  1147.596169  1147.596359  1147.596264   0.000095   1.0     0.5\n",
              "20  1147.596264  1147.596359  1147.596312   0.000048   1.0     0.5\n",
              "21  1147.596264  1147.596312  1147.596288   0.000024   1.0     0.5\n",
              "22  1147.596288  1147.596312  1147.596300   0.000012   1.0     0.5\n",
              "23  1147.596288  1147.596300  1147.596294   0.000006   1.0     0.5"
            ],
            "text/html": [
              "\n",
              "  <div id=\"df-b3340dde-a9e8-43f3-9532-c7b208ef7fd1\">\n",
              "    <div class=\"colab-df-container\">\n",
              "      <div>\n",
              "<style scoped>\n",
              "    .dataframe tbody tr th:only-of-type {\n",
              "        vertical-align: middle;\n",
              "    }\n",
              "\n",
              "    .dataframe tbody tr th {\n",
              "        vertical-align: top;\n",
              "    }\n",
              "\n",
              "    .dataframe thead th {\n",
              "        text-align: right;\n",
              "    }\n",
              "</style>\n",
              "<table border=\"1\" class=\"dataframe\">\n",
              "  <thead>\n",
              "    <tr style=\"text-align: right;\">\n",
              "      <th></th>\n",
              "      <th>an</th>\n",
              "      <th>bn</th>\n",
              "      <th>pn</th>\n",
              "      <th>error</th>\n",
              "      <th>alfa</th>\n",
              "      <th>lambda</th>\n",
              "    </tr>\n",
              "  </thead>\n",
              "  <tbody>\n",
              "    <tr>\n",
              "      <th>0</th>\n",
              "      <td>1100.000000</td>\n",
              "      <td>1200.000000</td>\n",
              "      <td>1150.000000</td>\n",
              "      <td>50.000000</td>\n",
              "      <td>NaN</td>\n",
              "      <td>NaN</td>\n",
              "    </tr>\n",
              "    <tr>\n",
              "      <th>1</th>\n",
              "      <td>1100.000000</td>\n",
              "      <td>1150.000000</td>\n",
              "      <td>1125.000000</td>\n",
              "      <td>25.000000</td>\n",
              "      <td>NaN</td>\n",
              "      <td>NaN</td>\n",
              "    </tr>\n",
              "    <tr>\n",
              "      <th>2</th>\n",
              "      <td>1125.000000</td>\n",
              "      <td>1150.000000</td>\n",
              "      <td>1137.500000</td>\n",
              "      <td>12.500000</td>\n",
              "      <td>NaN</td>\n",
              "      <td>NaN</td>\n",
              "    </tr>\n",
              "    <tr>\n",
              "      <th>3</th>\n",
              "      <td>1137.500000</td>\n",
              "      <td>1150.000000</td>\n",
              "      <td>1143.750000</td>\n",
              "      <td>6.250000</td>\n",
              "      <td>1.0</td>\n",
              "      <td>0.5</td>\n",
              "    </tr>\n",
              "    <tr>\n",
              "      <th>4</th>\n",
              "      <td>1143.750000</td>\n",
              "      <td>1150.000000</td>\n",
              "      <td>1146.875000</td>\n",
              "      <td>3.125000</td>\n",
              "      <td>1.0</td>\n",
              "      <td>0.5</td>\n",
              "    </tr>\n",
              "    <tr>\n",
              "      <th>19</th>\n",
              "      <td>1147.596169</td>\n",
              "      <td>1147.596359</td>\n",
              "      <td>1147.596264</td>\n",
              "      <td>0.000095</td>\n",
              "      <td>1.0</td>\n",
              "      <td>0.5</td>\n",
              "    </tr>\n",
              "    <tr>\n",
              "      <th>20</th>\n",
              "      <td>1147.596264</td>\n",
              "      <td>1147.596359</td>\n",
              "      <td>1147.596312</td>\n",
              "      <td>0.000048</td>\n",
              "      <td>1.0</td>\n",
              "      <td>0.5</td>\n",
              "    </tr>\n",
              "    <tr>\n",
              "      <th>21</th>\n",
              "      <td>1147.596264</td>\n",
              "      <td>1147.596312</td>\n",
              "      <td>1147.596288</td>\n",
              "      <td>0.000024</td>\n",
              "      <td>1.0</td>\n",
              "      <td>0.5</td>\n",
              "    </tr>\n",
              "    <tr>\n",
              "      <th>22</th>\n",
              "      <td>1147.596288</td>\n",
              "      <td>1147.596312</td>\n",
              "      <td>1147.596300</td>\n",
              "      <td>0.000012</td>\n",
              "      <td>1.0</td>\n",
              "      <td>0.5</td>\n",
              "    </tr>\n",
              "    <tr>\n",
              "      <th>23</th>\n",
              "      <td>1147.596288</td>\n",
              "      <td>1147.596300</td>\n",
              "      <td>1147.596294</td>\n",
              "      <td>0.000006</td>\n",
              "      <td>1.0</td>\n",
              "      <td>0.5</td>\n",
              "    </tr>\n",
              "  </tbody>\n",
              "</table>\n",
              "</div>\n",
              "      <button class=\"colab-df-convert\" onclick=\"convertToInteractive('df-b3340dde-a9e8-43f3-9532-c7b208ef7fd1')\"\n",
              "              title=\"Convert this dataframe to an interactive table.\"\n",
              "              style=\"display:none;\">\n",
              "        \n",
              "  <svg xmlns=\"http://www.w3.org/2000/svg\" height=\"24px\"viewBox=\"0 0 24 24\"\n",
              "       width=\"24px\">\n",
              "    <path d=\"M0 0h24v24H0V0z\" fill=\"none\"/>\n",
              "    <path d=\"M18.56 5.44l.94 2.06.94-2.06 2.06-.94-2.06-.94-.94-2.06-.94 2.06-2.06.94zm-11 1L8.5 8.5l.94-2.06 2.06-.94-2.06-.94L8.5 2.5l-.94 2.06-2.06.94zm10 10l.94 2.06.94-2.06 2.06-.94-2.06-.94-.94-2.06-.94 2.06-2.06.94z\"/><path d=\"M17.41 7.96l-1.37-1.37c-.4-.4-.92-.59-1.43-.59-.52 0-1.04.2-1.43.59L10.3 9.45l-7.72 7.72c-.78.78-.78 2.05 0 2.83L4 21.41c.39.39.9.59 1.41.59.51 0 1.02-.2 1.41-.59l7.78-7.78 2.81-2.81c.8-.78.8-2.07 0-2.86zM5.41 20L4 18.59l7.72-7.72 1.47 1.35L5.41 20z\"/>\n",
              "  </svg>\n",
              "      </button>\n",
              "      \n",
              "  <style>\n",
              "    .colab-df-container {\n",
              "      display:flex;\n",
              "      flex-wrap:wrap;\n",
              "      gap: 12px;\n",
              "    }\n",
              "\n",
              "    .colab-df-convert {\n",
              "      background-color: #E8F0FE;\n",
              "      border: none;\n",
              "      border-radius: 50%;\n",
              "      cursor: pointer;\n",
              "      display: none;\n",
              "      fill: #1967D2;\n",
              "      height: 32px;\n",
              "      padding: 0 0 0 0;\n",
              "      width: 32px;\n",
              "    }\n",
              "\n",
              "    .colab-df-convert:hover {\n",
              "      background-color: #E2EBFA;\n",
              "      box-shadow: 0px 1px 2px rgba(60, 64, 67, 0.3), 0px 1px 3px 1px rgba(60, 64, 67, 0.15);\n",
              "      fill: #174EA6;\n",
              "    }\n",
              "\n",
              "    [theme=dark] .colab-df-convert {\n",
              "      background-color: #3B4455;\n",
              "      fill: #D2E3FC;\n",
              "    }\n",
              "\n",
              "    [theme=dark] .colab-df-convert:hover {\n",
              "      background-color: #434B5C;\n",
              "      box-shadow: 0px 1px 3px 1px rgba(0, 0, 0, 0.15);\n",
              "      filter: drop-shadow(0px 1px 2px rgba(0, 0, 0, 0.3));\n",
              "      fill: #FFFFFF;\n",
              "    }\n",
              "  </style>\n",
              "\n",
              "      <script>\n",
              "        const buttonEl =\n",
              "          document.querySelector('#df-b3340dde-a9e8-43f3-9532-c7b208ef7fd1 button.colab-df-convert');\n",
              "        buttonEl.style.display =\n",
              "          google.colab.kernel.accessAllowed ? 'block' : 'none';\n",
              "\n",
              "        async function convertToInteractive(key) {\n",
              "          const element = document.querySelector('#df-b3340dde-a9e8-43f3-9532-c7b208ef7fd1');\n",
              "          const dataTable =\n",
              "            await google.colab.kernel.invokeFunction('convertToInteractive',\n",
              "                                                     [key], {});\n",
              "          if (!dataTable) return;\n",
              "\n",
              "          const docLinkHtml = 'Like what you see? Visit the ' +\n",
              "            '<a target=\"_blank\" href=https://colab.research.google.com/notebooks/data_table.ipynb>data table notebook</a>'\n",
              "            + ' to learn more about interactive tables.';\n",
              "          element.innerHTML = '';\n",
              "          dataTable['output_type'] = 'display_data';\n",
              "          await google.colab.output.renderOutput(dataTable, element);\n",
              "          const docLink = document.createElement('div');\n",
              "          docLink.innerHTML = docLinkHtml;\n",
              "          element.appendChild(docLink);\n",
              "        }\n",
              "      </script>\n",
              "    </div>\n",
              "  </div>\n",
              "  "
            ]
          },
          "metadata": {},
          "execution_count": 113
        }
      ],
      "source": [
        "lista_pn_biseccion_cota_1 = extraer_pn_biseccion(lista_resultados_biseccion_cota_1)\n",
        "lista_errores_biseccion_cota_1 = extraer_errores_biseccion(lista_resultados_biseccion_cota_1)\n",
        "lista_alfa_biseccion_cota_1 = calcular_orden_de_convergencia_alfa(lista_pn_biseccion_cota_1)\n",
        "lista_cte_asintotica_biseccion_cota_1 = calcular_cte_asintotica_lambda(lista_errores_biseccion_cota_1, lista_alfa_biseccion_cota_1)\n",
        "\n",
        "tabla_de_resultados = lista_resultados_a_dataframe(lista_resultados_biseccion_cota_1,lista_alfa_biseccion_cota_1,lista_cte_asintotica_biseccion_cota_1,['an', 'bn', 'pn', 'error','alfa','lambda'])\n",
        "tabla_de_resultados"
      ]
    },
    {
      "cell_type": "markdown",
      "source": [
        "---\n",
        "\n",
        "Tolerancia pedida: $1 ⋅ 10^{-13}$\n",
        "\n",
        "Valor obtenido: $x = [1147.5962886 \\pm 0.0000001] kg$\n",
        "\n",
        "Iteraciones: 40 (MAXIMO ALCANZADO).\n",
        "\n"
      ],
      "metadata": {
        "id": "7prOaCunnZ1j"
      }
    },
    {
      "cell_type": "code",
      "execution_count": 114,
      "metadata": {
        "colab": {
          "base_uri": "https://localhost:8080/",
          "height": 363
        },
        "id": "elycKuaLF2M2",
        "outputId": "b9e99c5b-4d5b-4f61-8f86-aabd23ca1587"
      },
      "outputs": [
        {
          "output_type": "execute_result",
          "data": {
            "text/plain": [
              "             an           bn           pn         error  alfa  lambda\n",
              "0   1100.000000  1200.000000  1150.000000  5.000000e+01   NaN     NaN\n",
              "1   1100.000000  1150.000000  1125.000000  2.500000e+01   NaN     NaN\n",
              "2   1125.000000  1150.000000  1137.500000  1.250000e+01   NaN     NaN\n",
              "3   1137.500000  1150.000000  1143.750000  6.250000e+00   1.0     0.5\n",
              "4   1143.750000  1150.000000  1146.875000  3.125000e+00   1.0     0.5\n",
              "35  1147.596289  1147.596289  1147.596289  1.455192e-09   1.0     0.5\n",
              "36  1147.596289  1147.596289  1147.596289  7.275958e-10   1.0     0.5\n",
              "37  1147.596289  1147.596289  1147.596289  3.637979e-10   1.0     0.5\n",
              "38  1147.596289  1147.596289  1147.596289  1.818989e-10   1.0     0.5\n",
              "39  1147.596289  1147.596289  1147.596289  9.094947e-11   1.0     0.5"
            ],
            "text/html": [
              "\n",
              "  <div id=\"df-03d2c05d-f43f-46e3-b2a3-1e90f295d4c5\">\n",
              "    <div class=\"colab-df-container\">\n",
              "      <div>\n",
              "<style scoped>\n",
              "    .dataframe tbody tr th:only-of-type {\n",
              "        vertical-align: middle;\n",
              "    }\n",
              "\n",
              "    .dataframe tbody tr th {\n",
              "        vertical-align: top;\n",
              "    }\n",
              "\n",
              "    .dataframe thead th {\n",
              "        text-align: right;\n",
              "    }\n",
              "</style>\n",
              "<table border=\"1\" class=\"dataframe\">\n",
              "  <thead>\n",
              "    <tr style=\"text-align: right;\">\n",
              "      <th></th>\n",
              "      <th>an</th>\n",
              "      <th>bn</th>\n",
              "      <th>pn</th>\n",
              "      <th>error</th>\n",
              "      <th>alfa</th>\n",
              "      <th>lambda</th>\n",
              "    </tr>\n",
              "  </thead>\n",
              "  <tbody>\n",
              "    <tr>\n",
              "      <th>0</th>\n",
              "      <td>1100.000000</td>\n",
              "      <td>1200.000000</td>\n",
              "      <td>1150.000000</td>\n",
              "      <td>5.000000e+01</td>\n",
              "      <td>NaN</td>\n",
              "      <td>NaN</td>\n",
              "    </tr>\n",
              "    <tr>\n",
              "      <th>1</th>\n",
              "      <td>1100.000000</td>\n",
              "      <td>1150.000000</td>\n",
              "      <td>1125.000000</td>\n",
              "      <td>2.500000e+01</td>\n",
              "      <td>NaN</td>\n",
              "      <td>NaN</td>\n",
              "    </tr>\n",
              "    <tr>\n",
              "      <th>2</th>\n",
              "      <td>1125.000000</td>\n",
              "      <td>1150.000000</td>\n",
              "      <td>1137.500000</td>\n",
              "      <td>1.250000e+01</td>\n",
              "      <td>NaN</td>\n",
              "      <td>NaN</td>\n",
              "    </tr>\n",
              "    <tr>\n",
              "      <th>3</th>\n",
              "      <td>1137.500000</td>\n",
              "      <td>1150.000000</td>\n",
              "      <td>1143.750000</td>\n",
              "      <td>6.250000e+00</td>\n",
              "      <td>1.0</td>\n",
              "      <td>0.5</td>\n",
              "    </tr>\n",
              "    <tr>\n",
              "      <th>4</th>\n",
              "      <td>1143.750000</td>\n",
              "      <td>1150.000000</td>\n",
              "      <td>1146.875000</td>\n",
              "      <td>3.125000e+00</td>\n",
              "      <td>1.0</td>\n",
              "      <td>0.5</td>\n",
              "    </tr>\n",
              "    <tr>\n",
              "      <th>35</th>\n",
              "      <td>1147.596289</td>\n",
              "      <td>1147.596289</td>\n",
              "      <td>1147.596289</td>\n",
              "      <td>1.455192e-09</td>\n",
              "      <td>1.0</td>\n",
              "      <td>0.5</td>\n",
              "    </tr>\n",
              "    <tr>\n",
              "      <th>36</th>\n",
              "      <td>1147.596289</td>\n",
              "      <td>1147.596289</td>\n",
              "      <td>1147.596289</td>\n",
              "      <td>7.275958e-10</td>\n",
              "      <td>1.0</td>\n",
              "      <td>0.5</td>\n",
              "    </tr>\n",
              "    <tr>\n",
              "      <th>37</th>\n",
              "      <td>1147.596289</td>\n",
              "      <td>1147.596289</td>\n",
              "      <td>1147.596289</td>\n",
              "      <td>3.637979e-10</td>\n",
              "      <td>1.0</td>\n",
              "      <td>0.5</td>\n",
              "    </tr>\n",
              "    <tr>\n",
              "      <th>38</th>\n",
              "      <td>1147.596289</td>\n",
              "      <td>1147.596289</td>\n",
              "      <td>1147.596289</td>\n",
              "      <td>1.818989e-10</td>\n",
              "      <td>1.0</td>\n",
              "      <td>0.5</td>\n",
              "    </tr>\n",
              "    <tr>\n",
              "      <th>39</th>\n",
              "      <td>1147.596289</td>\n",
              "      <td>1147.596289</td>\n",
              "      <td>1147.596289</td>\n",
              "      <td>9.094947e-11</td>\n",
              "      <td>1.0</td>\n",
              "      <td>0.5</td>\n",
              "    </tr>\n",
              "  </tbody>\n",
              "</table>\n",
              "</div>\n",
              "      <button class=\"colab-df-convert\" onclick=\"convertToInteractive('df-03d2c05d-f43f-46e3-b2a3-1e90f295d4c5')\"\n",
              "              title=\"Convert this dataframe to an interactive table.\"\n",
              "              style=\"display:none;\">\n",
              "        \n",
              "  <svg xmlns=\"http://www.w3.org/2000/svg\" height=\"24px\"viewBox=\"0 0 24 24\"\n",
              "       width=\"24px\">\n",
              "    <path d=\"M0 0h24v24H0V0z\" fill=\"none\"/>\n",
              "    <path d=\"M18.56 5.44l.94 2.06.94-2.06 2.06-.94-2.06-.94-.94-2.06-.94 2.06-2.06.94zm-11 1L8.5 8.5l.94-2.06 2.06-.94-2.06-.94L8.5 2.5l-.94 2.06-2.06.94zm10 10l.94 2.06.94-2.06 2.06-.94-2.06-.94-.94-2.06-.94 2.06-2.06.94z\"/><path d=\"M17.41 7.96l-1.37-1.37c-.4-.4-.92-.59-1.43-.59-.52 0-1.04.2-1.43.59L10.3 9.45l-7.72 7.72c-.78.78-.78 2.05 0 2.83L4 21.41c.39.39.9.59 1.41.59.51 0 1.02-.2 1.41-.59l7.78-7.78 2.81-2.81c.8-.78.8-2.07 0-2.86zM5.41 20L4 18.59l7.72-7.72 1.47 1.35L5.41 20z\"/>\n",
              "  </svg>\n",
              "      </button>\n",
              "      \n",
              "  <style>\n",
              "    .colab-df-container {\n",
              "      display:flex;\n",
              "      flex-wrap:wrap;\n",
              "      gap: 12px;\n",
              "    }\n",
              "\n",
              "    .colab-df-convert {\n",
              "      background-color: #E8F0FE;\n",
              "      border: none;\n",
              "      border-radius: 50%;\n",
              "      cursor: pointer;\n",
              "      display: none;\n",
              "      fill: #1967D2;\n",
              "      height: 32px;\n",
              "      padding: 0 0 0 0;\n",
              "      width: 32px;\n",
              "    }\n",
              "\n",
              "    .colab-df-convert:hover {\n",
              "      background-color: #E2EBFA;\n",
              "      box-shadow: 0px 1px 2px rgba(60, 64, 67, 0.3), 0px 1px 3px 1px rgba(60, 64, 67, 0.15);\n",
              "      fill: #174EA6;\n",
              "    }\n",
              "\n",
              "    [theme=dark] .colab-df-convert {\n",
              "      background-color: #3B4455;\n",
              "      fill: #D2E3FC;\n",
              "    }\n",
              "\n",
              "    [theme=dark] .colab-df-convert:hover {\n",
              "      background-color: #434B5C;\n",
              "      box-shadow: 0px 1px 3px 1px rgba(0, 0, 0, 0.15);\n",
              "      filter: drop-shadow(0px 1px 2px rgba(0, 0, 0, 0.3));\n",
              "      fill: #FFFFFF;\n",
              "    }\n",
              "  </style>\n",
              "\n",
              "      <script>\n",
              "        const buttonEl =\n",
              "          document.querySelector('#df-03d2c05d-f43f-46e3-b2a3-1e90f295d4c5 button.colab-df-convert');\n",
              "        buttonEl.style.display =\n",
              "          google.colab.kernel.accessAllowed ? 'block' : 'none';\n",
              "\n",
              "        async function convertToInteractive(key) {\n",
              "          const element = document.querySelector('#df-03d2c05d-f43f-46e3-b2a3-1e90f295d4c5');\n",
              "          const dataTable =\n",
              "            await google.colab.kernel.invokeFunction('convertToInteractive',\n",
              "                                                     [key], {});\n",
              "          if (!dataTable) return;\n",
              "\n",
              "          const docLinkHtml = 'Like what you see? Visit the ' +\n",
              "            '<a target=\"_blank\" href=https://colab.research.google.com/notebooks/data_table.ipynb>data table notebook</a>'\n",
              "            + ' to learn more about interactive tables.';\n",
              "          element.innerHTML = '';\n",
              "          dataTable['output_type'] = 'display_data';\n",
              "          await google.colab.output.renderOutput(dataTable, element);\n",
              "          const docLink = document.createElement('div');\n",
              "          docLink.innerHTML = docLinkHtml;\n",
              "          element.appendChild(docLink);\n",
              "        }\n",
              "      </script>\n",
              "    </div>\n",
              "  </div>\n",
              "  "
            ]
          },
          "metadata": {},
          "execution_count": 114
        }
      ],
      "source": [
        "lista_pn_biseccion_cota_2 = extraer_pn_biseccion(lista_resultados_biseccion_cota_2)\n",
        "lista_errores_biseccion_cota_2 = extraer_errores_biseccion(lista_resultados_biseccion_cota_2)\n",
        "lista_alfa_biseccion_cota_2 = calcular_orden_de_convergencia_alfa(lista_pn_biseccion_cota_2)\n",
        "lista_cte_asintotica_biseccion_cota_2 = calcular_cte_asintotica_lambda(lista_errores_biseccion_cota_2, lista_alfa_biseccion_cota_2)\n",
        "\n",
        "tabla_de_resultados = lista_resultados_a_dataframe(lista_resultados_biseccion_cota_2,lista_alfa_biseccion_cota_2,lista_cte_asintotica_biseccion_cota_2,['an', 'bn', 'pn', 'error','alfa','lambda'])\n",
        "tabla_de_resultados"
      ]
    },
    {
      "cell_type": "markdown",
      "metadata": {
        "id": "pbLH--Z4HDrw"
      },
      "source": [
        "####  1.2.3.2 Método de Punto Fijo"
      ]
    },
    {
      "cell_type": "markdown",
      "source": [
        "Tolerancia pedida: $1 ⋅ 10^{-5}$\n",
        "\n",
        "Valor obtenido: $x = [1147.59627 \\pm 0.00001]kg$\n",
        "\n",
        "Iteraciones: 35."
      ],
      "metadata": {
        "id": "V-8Fxp90niDE"
      }
    },
    {
      "cell_type": "code",
      "execution_count": 115,
      "metadata": {
        "colab": {
          "base_uri": "https://localhost:8080/",
          "height": 363
        },
        "outputId": "d74cfb86-0b25-4bdc-86d9-ad858c8238c8",
        "id": "XJRNNBvtrqpT"
      },
      "outputs": [
        {
          "output_type": "execute_result",
          "data": {
            "text/plain": [
              "             pn      error      alfa    lambda\n",
              "0   1100.000000        NaN       NaN       NaN\n",
              "1   1114.000000  14.000000       NaN       NaN\n",
              "2   1124.522456  10.522456       NaN       NaN\n",
              "3   1132.085788   7.563332  1.156381  0.497457\n",
              "4   1137.334678   5.248889  1.106286  0.559705\n",
              "30  1147.596191   0.000055  1.000001  0.639461\n",
              "31  1147.596226   0.000035  1.000001  0.639458\n",
              "32  1147.596249   0.000023  1.000000  0.639457\n",
              "33  1147.596263   0.000014  1.000000  0.639455\n",
              "34  1147.596272   0.000009  1.000000  0.639455"
            ],
            "text/html": [
              "\n",
              "  <div id=\"df-7c9b9f0a-d71c-47e3-9fd8-213dbbeb24ca\">\n",
              "    <div class=\"colab-df-container\">\n",
              "      <div>\n",
              "<style scoped>\n",
              "    .dataframe tbody tr th:only-of-type {\n",
              "        vertical-align: middle;\n",
              "    }\n",
              "\n",
              "    .dataframe tbody tr th {\n",
              "        vertical-align: top;\n",
              "    }\n",
              "\n",
              "    .dataframe thead th {\n",
              "        text-align: right;\n",
              "    }\n",
              "</style>\n",
              "<table border=\"1\" class=\"dataframe\">\n",
              "  <thead>\n",
              "    <tr style=\"text-align: right;\">\n",
              "      <th></th>\n",
              "      <th>pn</th>\n",
              "      <th>error</th>\n",
              "      <th>alfa</th>\n",
              "      <th>lambda</th>\n",
              "    </tr>\n",
              "  </thead>\n",
              "  <tbody>\n",
              "    <tr>\n",
              "      <th>0</th>\n",
              "      <td>1100.000000</td>\n",
              "      <td>NaN</td>\n",
              "      <td>NaN</td>\n",
              "      <td>NaN</td>\n",
              "    </tr>\n",
              "    <tr>\n",
              "      <th>1</th>\n",
              "      <td>1114.000000</td>\n",
              "      <td>14.000000</td>\n",
              "      <td>NaN</td>\n",
              "      <td>NaN</td>\n",
              "    </tr>\n",
              "    <tr>\n",
              "      <th>2</th>\n",
              "      <td>1124.522456</td>\n",
              "      <td>10.522456</td>\n",
              "      <td>NaN</td>\n",
              "      <td>NaN</td>\n",
              "    </tr>\n",
              "    <tr>\n",
              "      <th>3</th>\n",
              "      <td>1132.085788</td>\n",
              "      <td>7.563332</td>\n",
              "      <td>1.156381</td>\n",
              "      <td>0.497457</td>\n",
              "    </tr>\n",
              "    <tr>\n",
              "      <th>4</th>\n",
              "      <td>1137.334678</td>\n",
              "      <td>5.248889</td>\n",
              "      <td>1.106286</td>\n",
              "      <td>0.559705</td>\n",
              "    </tr>\n",
              "    <tr>\n",
              "      <th>30</th>\n",
              "      <td>1147.596191</td>\n",
              "      <td>0.000055</td>\n",
              "      <td>1.000001</td>\n",
              "      <td>0.639461</td>\n",
              "    </tr>\n",
              "    <tr>\n",
              "      <th>31</th>\n",
              "      <td>1147.596226</td>\n",
              "      <td>0.000035</td>\n",
              "      <td>1.000001</td>\n",
              "      <td>0.639458</td>\n",
              "    </tr>\n",
              "    <tr>\n",
              "      <th>32</th>\n",
              "      <td>1147.596249</td>\n",
              "      <td>0.000023</td>\n",
              "      <td>1.000000</td>\n",
              "      <td>0.639457</td>\n",
              "    </tr>\n",
              "    <tr>\n",
              "      <th>33</th>\n",
              "      <td>1147.596263</td>\n",
              "      <td>0.000014</td>\n",
              "      <td>1.000000</td>\n",
              "      <td>0.639455</td>\n",
              "    </tr>\n",
              "    <tr>\n",
              "      <th>34</th>\n",
              "      <td>1147.596272</td>\n",
              "      <td>0.000009</td>\n",
              "      <td>1.000000</td>\n",
              "      <td>0.639455</td>\n",
              "    </tr>\n",
              "  </tbody>\n",
              "</table>\n",
              "</div>\n",
              "      <button class=\"colab-df-convert\" onclick=\"convertToInteractive('df-7c9b9f0a-d71c-47e3-9fd8-213dbbeb24ca')\"\n",
              "              title=\"Convert this dataframe to an interactive table.\"\n",
              "              style=\"display:none;\">\n",
              "        \n",
              "  <svg xmlns=\"http://www.w3.org/2000/svg\" height=\"24px\"viewBox=\"0 0 24 24\"\n",
              "       width=\"24px\">\n",
              "    <path d=\"M0 0h24v24H0V0z\" fill=\"none\"/>\n",
              "    <path d=\"M18.56 5.44l.94 2.06.94-2.06 2.06-.94-2.06-.94-.94-2.06-.94 2.06-2.06.94zm-11 1L8.5 8.5l.94-2.06 2.06-.94-2.06-.94L8.5 2.5l-.94 2.06-2.06.94zm10 10l.94 2.06.94-2.06 2.06-.94-2.06-.94-.94-2.06-.94 2.06-2.06.94z\"/><path d=\"M17.41 7.96l-1.37-1.37c-.4-.4-.92-.59-1.43-.59-.52 0-1.04.2-1.43.59L10.3 9.45l-7.72 7.72c-.78.78-.78 2.05 0 2.83L4 21.41c.39.39.9.59 1.41.59.51 0 1.02-.2 1.41-.59l7.78-7.78 2.81-2.81c.8-.78.8-2.07 0-2.86zM5.41 20L4 18.59l7.72-7.72 1.47 1.35L5.41 20z\"/>\n",
              "  </svg>\n",
              "      </button>\n",
              "      \n",
              "  <style>\n",
              "    .colab-df-container {\n",
              "      display:flex;\n",
              "      flex-wrap:wrap;\n",
              "      gap: 12px;\n",
              "    }\n",
              "\n",
              "    .colab-df-convert {\n",
              "      background-color: #E8F0FE;\n",
              "      border: none;\n",
              "      border-radius: 50%;\n",
              "      cursor: pointer;\n",
              "      display: none;\n",
              "      fill: #1967D2;\n",
              "      height: 32px;\n",
              "      padding: 0 0 0 0;\n",
              "      width: 32px;\n",
              "    }\n",
              "\n",
              "    .colab-df-convert:hover {\n",
              "      background-color: #E2EBFA;\n",
              "      box-shadow: 0px 1px 2px rgba(60, 64, 67, 0.3), 0px 1px 3px 1px rgba(60, 64, 67, 0.15);\n",
              "      fill: #174EA6;\n",
              "    }\n",
              "\n",
              "    [theme=dark] .colab-df-convert {\n",
              "      background-color: #3B4455;\n",
              "      fill: #D2E3FC;\n",
              "    }\n",
              "\n",
              "    [theme=dark] .colab-df-convert:hover {\n",
              "      background-color: #434B5C;\n",
              "      box-shadow: 0px 1px 3px 1px rgba(0, 0, 0, 0.15);\n",
              "      filter: drop-shadow(0px 1px 2px rgba(0, 0, 0, 0.3));\n",
              "      fill: #FFFFFF;\n",
              "    }\n",
              "  </style>\n",
              "\n",
              "      <script>\n",
              "        const buttonEl =\n",
              "          document.querySelector('#df-7c9b9f0a-d71c-47e3-9fd8-213dbbeb24ca button.colab-df-convert');\n",
              "        buttonEl.style.display =\n",
              "          google.colab.kernel.accessAllowed ? 'block' : 'none';\n",
              "\n",
              "        async function convertToInteractive(key) {\n",
              "          const element = document.querySelector('#df-7c9b9f0a-d71c-47e3-9fd8-213dbbeb24ca');\n",
              "          const dataTable =\n",
              "            await google.colab.kernel.invokeFunction('convertToInteractive',\n",
              "                                                     [key], {});\n",
              "          if (!dataTable) return;\n",
              "\n",
              "          const docLinkHtml = 'Like what you see? Visit the ' +\n",
              "            '<a target=\"_blank\" href=https://colab.research.google.com/notebooks/data_table.ipynb>data table notebook</a>'\n",
              "            + ' to learn more about interactive tables.';\n",
              "          element.innerHTML = '';\n",
              "          dataTable['output_type'] = 'display_data';\n",
              "          await google.colab.output.renderOutput(dataTable, element);\n",
              "          const docLink = document.createElement('div');\n",
              "          docLink.innerHTML = docLinkHtml;\n",
              "          element.appendChild(docLink);\n",
              "        }\n",
              "      </script>\n",
              "    </div>\n",
              "  </div>\n",
              "  "
            ]
          },
          "metadata": {},
          "execution_count": 115
        }
      ],
      "source": [
        "lista_pn_punto_fijo_cota_1 = extraer_pn(lista_resultados_punto_fijo_cota_1)\n",
        "lista_alfa_punto_fijo_cota_1 = calcular_orden_de_convergencia_alfa(lista_pn_punto_fijo_cota_1)\n",
        "lista_errores_punto_fijo_cota_1 = extraer_errores(lista_resultados_punto_fijo_cota_1)\n",
        "lista_cte_asintotica_punto_fijo_cota_1 = calcular_cte_asintotica_lambda(lista_errores_punto_fijo_cota_1, lista_alfa_punto_fijo_cota_1)\n",
        "\n",
        "tabla_de_resultados = lista_resultados_a_dataframe(lista_resultados_punto_fijo_cota_1,lista_alfa_punto_fijo_cota_1,lista_cte_asintotica_punto_fijo_cota_1,['pn', 'error','alfa','lambda'])\n",
        "tabla_de_resultados"
      ]
    },
    {
      "cell_type": "markdown",
      "source": [
        "\n",
        "---\n",
        "\n",
        "Tolerancia pedida: $1 ⋅ 10^{-13}$\n",
        "\n",
        "Valor obtenido: $x = [1147.596287 \\pm 0.000001] kg$\n",
        "\n",
        "Iteraciones: 40 (MAX ALCANZADO)."
      ],
      "metadata": {
        "id": "YUxzAVOgnjRB"
      }
    },
    {
      "cell_type": "code",
      "execution_count": 116,
      "metadata": {
        "colab": {
          "base_uri": "https://localhost:8080/",
          "height": 363
        },
        "outputId": "7e5ad93a-78eb-4230-c908-faafe03d8597",
        "id": "DmmuRFsxrqpU"
      },
      "outputs": [
        {
          "output_type": "execute_result",
          "data": {
            "text/plain": [
              "             pn         error      alfa    lambda\n",
              "0   1100.000000           NaN       NaN       NaN\n",
              "1   1114.000000  1.400000e+01       NaN       NaN\n",
              "2   1124.522456  1.052246e+01       NaN       NaN\n",
              "3   1132.085788  7.563332e+00  1.156381  0.497457\n",
              "4   1137.334678  5.248889e+00  1.106286  0.559705\n",
              "35  1147.596278  5.898271e-06  1.000000  0.639455\n",
              "36  1147.596282  3.771670e-06  1.000000  0.639454\n",
              "37  1147.596284  2.411807e-06  1.000000  0.639454\n",
              "38  1147.596286  1.542238e-06  1.000000  0.639454\n",
              "39  1147.596287  9.861897e-07  1.000000  0.639452"
            ],
            "text/html": [
              "\n",
              "  <div id=\"df-a595defd-e336-4781-a7c6-62561a365a2d\">\n",
              "    <div class=\"colab-df-container\">\n",
              "      <div>\n",
              "<style scoped>\n",
              "    .dataframe tbody tr th:only-of-type {\n",
              "        vertical-align: middle;\n",
              "    }\n",
              "\n",
              "    .dataframe tbody tr th {\n",
              "        vertical-align: top;\n",
              "    }\n",
              "\n",
              "    .dataframe thead th {\n",
              "        text-align: right;\n",
              "    }\n",
              "</style>\n",
              "<table border=\"1\" class=\"dataframe\">\n",
              "  <thead>\n",
              "    <tr style=\"text-align: right;\">\n",
              "      <th></th>\n",
              "      <th>pn</th>\n",
              "      <th>error</th>\n",
              "      <th>alfa</th>\n",
              "      <th>lambda</th>\n",
              "    </tr>\n",
              "  </thead>\n",
              "  <tbody>\n",
              "    <tr>\n",
              "      <th>0</th>\n",
              "      <td>1100.000000</td>\n",
              "      <td>NaN</td>\n",
              "      <td>NaN</td>\n",
              "      <td>NaN</td>\n",
              "    </tr>\n",
              "    <tr>\n",
              "      <th>1</th>\n",
              "      <td>1114.000000</td>\n",
              "      <td>1.400000e+01</td>\n",
              "      <td>NaN</td>\n",
              "      <td>NaN</td>\n",
              "    </tr>\n",
              "    <tr>\n",
              "      <th>2</th>\n",
              "      <td>1124.522456</td>\n",
              "      <td>1.052246e+01</td>\n",
              "      <td>NaN</td>\n",
              "      <td>NaN</td>\n",
              "    </tr>\n",
              "    <tr>\n",
              "      <th>3</th>\n",
              "      <td>1132.085788</td>\n",
              "      <td>7.563332e+00</td>\n",
              "      <td>1.156381</td>\n",
              "      <td>0.497457</td>\n",
              "    </tr>\n",
              "    <tr>\n",
              "      <th>4</th>\n",
              "      <td>1137.334678</td>\n",
              "      <td>5.248889e+00</td>\n",
              "      <td>1.106286</td>\n",
              "      <td>0.559705</td>\n",
              "    </tr>\n",
              "    <tr>\n",
              "      <th>35</th>\n",
              "      <td>1147.596278</td>\n",
              "      <td>5.898271e-06</td>\n",
              "      <td>1.000000</td>\n",
              "      <td>0.639455</td>\n",
              "    </tr>\n",
              "    <tr>\n",
              "      <th>36</th>\n",
              "      <td>1147.596282</td>\n",
              "      <td>3.771670e-06</td>\n",
              "      <td>1.000000</td>\n",
              "      <td>0.639454</td>\n",
              "    </tr>\n",
              "    <tr>\n",
              "      <th>37</th>\n",
              "      <td>1147.596284</td>\n",
              "      <td>2.411807e-06</td>\n",
              "      <td>1.000000</td>\n",
              "      <td>0.639454</td>\n",
              "    </tr>\n",
              "    <tr>\n",
              "      <th>38</th>\n",
              "      <td>1147.596286</td>\n",
              "      <td>1.542238e-06</td>\n",
              "      <td>1.000000</td>\n",
              "      <td>0.639454</td>\n",
              "    </tr>\n",
              "    <tr>\n",
              "      <th>39</th>\n",
              "      <td>1147.596287</td>\n",
              "      <td>9.861897e-07</td>\n",
              "      <td>1.000000</td>\n",
              "      <td>0.639452</td>\n",
              "    </tr>\n",
              "  </tbody>\n",
              "</table>\n",
              "</div>\n",
              "      <button class=\"colab-df-convert\" onclick=\"convertToInteractive('df-a595defd-e336-4781-a7c6-62561a365a2d')\"\n",
              "              title=\"Convert this dataframe to an interactive table.\"\n",
              "              style=\"display:none;\">\n",
              "        \n",
              "  <svg xmlns=\"http://www.w3.org/2000/svg\" height=\"24px\"viewBox=\"0 0 24 24\"\n",
              "       width=\"24px\">\n",
              "    <path d=\"M0 0h24v24H0V0z\" fill=\"none\"/>\n",
              "    <path d=\"M18.56 5.44l.94 2.06.94-2.06 2.06-.94-2.06-.94-.94-2.06-.94 2.06-2.06.94zm-11 1L8.5 8.5l.94-2.06 2.06-.94-2.06-.94L8.5 2.5l-.94 2.06-2.06.94zm10 10l.94 2.06.94-2.06 2.06-.94-2.06-.94-.94-2.06-.94 2.06-2.06.94z\"/><path d=\"M17.41 7.96l-1.37-1.37c-.4-.4-.92-.59-1.43-.59-.52 0-1.04.2-1.43.59L10.3 9.45l-7.72 7.72c-.78.78-.78 2.05 0 2.83L4 21.41c.39.39.9.59 1.41.59.51 0 1.02-.2 1.41-.59l7.78-7.78 2.81-2.81c.8-.78.8-2.07 0-2.86zM5.41 20L4 18.59l7.72-7.72 1.47 1.35L5.41 20z\"/>\n",
              "  </svg>\n",
              "      </button>\n",
              "      \n",
              "  <style>\n",
              "    .colab-df-container {\n",
              "      display:flex;\n",
              "      flex-wrap:wrap;\n",
              "      gap: 12px;\n",
              "    }\n",
              "\n",
              "    .colab-df-convert {\n",
              "      background-color: #E8F0FE;\n",
              "      border: none;\n",
              "      border-radius: 50%;\n",
              "      cursor: pointer;\n",
              "      display: none;\n",
              "      fill: #1967D2;\n",
              "      height: 32px;\n",
              "      padding: 0 0 0 0;\n",
              "      width: 32px;\n",
              "    }\n",
              "\n",
              "    .colab-df-convert:hover {\n",
              "      background-color: #E2EBFA;\n",
              "      box-shadow: 0px 1px 2px rgba(60, 64, 67, 0.3), 0px 1px 3px 1px rgba(60, 64, 67, 0.15);\n",
              "      fill: #174EA6;\n",
              "    }\n",
              "\n",
              "    [theme=dark] .colab-df-convert {\n",
              "      background-color: #3B4455;\n",
              "      fill: #D2E3FC;\n",
              "    }\n",
              "\n",
              "    [theme=dark] .colab-df-convert:hover {\n",
              "      background-color: #434B5C;\n",
              "      box-shadow: 0px 1px 3px 1px rgba(0, 0, 0, 0.15);\n",
              "      filter: drop-shadow(0px 1px 2px rgba(0, 0, 0, 0.3));\n",
              "      fill: #FFFFFF;\n",
              "    }\n",
              "  </style>\n",
              "\n",
              "      <script>\n",
              "        const buttonEl =\n",
              "          document.querySelector('#df-a595defd-e336-4781-a7c6-62561a365a2d button.colab-df-convert');\n",
              "        buttonEl.style.display =\n",
              "          google.colab.kernel.accessAllowed ? 'block' : 'none';\n",
              "\n",
              "        async function convertToInteractive(key) {\n",
              "          const element = document.querySelector('#df-a595defd-e336-4781-a7c6-62561a365a2d');\n",
              "          const dataTable =\n",
              "            await google.colab.kernel.invokeFunction('convertToInteractive',\n",
              "                                                     [key], {});\n",
              "          if (!dataTable) return;\n",
              "\n",
              "          const docLinkHtml = 'Like what you see? Visit the ' +\n",
              "            '<a target=\"_blank\" href=https://colab.research.google.com/notebooks/data_table.ipynb>data table notebook</a>'\n",
              "            + ' to learn more about interactive tables.';\n",
              "          element.innerHTML = '';\n",
              "          dataTable['output_type'] = 'display_data';\n",
              "          await google.colab.output.renderOutput(dataTable, element);\n",
              "          const docLink = document.createElement('div');\n",
              "          docLink.innerHTML = docLinkHtml;\n",
              "          element.appendChild(docLink);\n",
              "        }\n",
              "      </script>\n",
              "    </div>\n",
              "  </div>\n",
              "  "
            ]
          },
          "metadata": {},
          "execution_count": 116
        }
      ],
      "source": [
        "lista_pn_punto_fijo_cota_2 = extraer_pn(lista_resultados_punto_fijo_cota_2)\n",
        "lista_alfa_punto_fijo_cota_2 = calcular_orden_de_convergencia_alfa(lista_pn_punto_fijo_cota_2)\n",
        "lista_errores_punto_fijo_cota_2 = extraer_errores(lista_resultados_punto_fijo_cota_2)\n",
        "lista_cte_asintotica_punto_fijo_cota_2 = calcular_cte_asintotica_lambda(lista_errores_punto_fijo_cota_2, lista_alfa_punto_fijo_cota_2)\n",
        "\n",
        "tabla_de_resultados = lista_resultados_a_dataframe(lista_resultados_punto_fijo_cota_2,lista_alfa_punto_fijo_cota_2,lista_cte_asintotica_punto_fijo_cota_2,['pn', 'error','alfa','lambda'])\n",
        "tabla_de_resultados"
      ]
    },
    {
      "cell_type": "markdown",
      "metadata": {
        "id": "lHkeFFg2PAq8"
      },
      "source": [
        "####  1.2.3.3 Método de Newton-Raphson"
      ]
    },
    {
      "cell_type": "markdown",
      "source": [
        "\n",
        "\n",
        "Tolerancia pedida: $1 ⋅ 10^{-5}$\n",
        "\n",
        "Valor obtenido: $x = [1147.59629 \\pm 0.00001]kg$\n",
        "\n",
        "Iteraciones: 6."
      ],
      "metadata": {
        "id": "CVgPGfCEnr71"
      }
    },
    {
      "cell_type": "code",
      "execution_count": 117,
      "metadata": {
        "colab": {
          "base_uri": "https://localhost:8080/",
          "height": 238
        },
        "id": "Rzk5YPt1PNHT",
        "outputId": "5dde3ff2-31a8-428f-b148-a87dc046f586"
      },
      "outputs": [
        {
          "output_type": "execute_result",
          "data": {
            "text/plain": [
              "            pn         error      alfa    lambda\n",
              "0  1100.000000           NaN       NaN       NaN\n",
              "1  1160.869565  6.086957e+01       NaN       NaN\n",
              "2  1148.244468  1.262510e+01       NaN       NaN\n",
              "3  1147.597963  6.465051e-01  1.889239  0.005371\n",
              "4  1147.596289  1.674056e-03  2.004243  0.004013\n",
              "5  1147.596289  1.121452e-08  2.000149  0.004005"
            ],
            "text/html": [
              "\n",
              "  <div id=\"df-23dc77ec-b1ee-463a-a1f8-20d8303d9d1e\">\n",
              "    <div class=\"colab-df-container\">\n",
              "      <div>\n",
              "<style scoped>\n",
              "    .dataframe tbody tr th:only-of-type {\n",
              "        vertical-align: middle;\n",
              "    }\n",
              "\n",
              "    .dataframe tbody tr th {\n",
              "        vertical-align: top;\n",
              "    }\n",
              "\n",
              "    .dataframe thead th {\n",
              "        text-align: right;\n",
              "    }\n",
              "</style>\n",
              "<table border=\"1\" class=\"dataframe\">\n",
              "  <thead>\n",
              "    <tr style=\"text-align: right;\">\n",
              "      <th></th>\n",
              "      <th>pn</th>\n",
              "      <th>error</th>\n",
              "      <th>alfa</th>\n",
              "      <th>lambda</th>\n",
              "    </tr>\n",
              "  </thead>\n",
              "  <tbody>\n",
              "    <tr>\n",
              "      <th>0</th>\n",
              "      <td>1100.000000</td>\n",
              "      <td>NaN</td>\n",
              "      <td>NaN</td>\n",
              "      <td>NaN</td>\n",
              "    </tr>\n",
              "    <tr>\n",
              "      <th>1</th>\n",
              "      <td>1160.869565</td>\n",
              "      <td>6.086957e+01</td>\n",
              "      <td>NaN</td>\n",
              "      <td>NaN</td>\n",
              "    </tr>\n",
              "    <tr>\n",
              "      <th>2</th>\n",
              "      <td>1148.244468</td>\n",
              "      <td>1.262510e+01</td>\n",
              "      <td>NaN</td>\n",
              "      <td>NaN</td>\n",
              "    </tr>\n",
              "    <tr>\n",
              "      <th>3</th>\n",
              "      <td>1147.597963</td>\n",
              "      <td>6.465051e-01</td>\n",
              "      <td>1.889239</td>\n",
              "      <td>0.005371</td>\n",
              "    </tr>\n",
              "    <tr>\n",
              "      <th>4</th>\n",
              "      <td>1147.596289</td>\n",
              "      <td>1.674056e-03</td>\n",
              "      <td>2.004243</td>\n",
              "      <td>0.004013</td>\n",
              "    </tr>\n",
              "    <tr>\n",
              "      <th>5</th>\n",
              "      <td>1147.596289</td>\n",
              "      <td>1.121452e-08</td>\n",
              "      <td>2.000149</td>\n",
              "      <td>0.004005</td>\n",
              "    </tr>\n",
              "  </tbody>\n",
              "</table>\n",
              "</div>\n",
              "      <button class=\"colab-df-convert\" onclick=\"convertToInteractive('df-23dc77ec-b1ee-463a-a1f8-20d8303d9d1e')\"\n",
              "              title=\"Convert this dataframe to an interactive table.\"\n",
              "              style=\"display:none;\">\n",
              "        \n",
              "  <svg xmlns=\"http://www.w3.org/2000/svg\" height=\"24px\"viewBox=\"0 0 24 24\"\n",
              "       width=\"24px\">\n",
              "    <path d=\"M0 0h24v24H0V0z\" fill=\"none\"/>\n",
              "    <path d=\"M18.56 5.44l.94 2.06.94-2.06 2.06-.94-2.06-.94-.94-2.06-.94 2.06-2.06.94zm-11 1L8.5 8.5l.94-2.06 2.06-.94-2.06-.94L8.5 2.5l-.94 2.06-2.06.94zm10 10l.94 2.06.94-2.06 2.06-.94-2.06-.94-.94-2.06-.94 2.06-2.06.94z\"/><path d=\"M17.41 7.96l-1.37-1.37c-.4-.4-.92-.59-1.43-.59-.52 0-1.04.2-1.43.59L10.3 9.45l-7.72 7.72c-.78.78-.78 2.05 0 2.83L4 21.41c.39.39.9.59 1.41.59.51 0 1.02-.2 1.41-.59l7.78-7.78 2.81-2.81c.8-.78.8-2.07 0-2.86zM5.41 20L4 18.59l7.72-7.72 1.47 1.35L5.41 20z\"/>\n",
              "  </svg>\n",
              "      </button>\n",
              "      \n",
              "  <style>\n",
              "    .colab-df-container {\n",
              "      display:flex;\n",
              "      flex-wrap:wrap;\n",
              "      gap: 12px;\n",
              "    }\n",
              "\n",
              "    .colab-df-convert {\n",
              "      background-color: #E8F0FE;\n",
              "      border: none;\n",
              "      border-radius: 50%;\n",
              "      cursor: pointer;\n",
              "      display: none;\n",
              "      fill: #1967D2;\n",
              "      height: 32px;\n",
              "      padding: 0 0 0 0;\n",
              "      width: 32px;\n",
              "    }\n",
              "\n",
              "    .colab-df-convert:hover {\n",
              "      background-color: #E2EBFA;\n",
              "      box-shadow: 0px 1px 2px rgba(60, 64, 67, 0.3), 0px 1px 3px 1px rgba(60, 64, 67, 0.15);\n",
              "      fill: #174EA6;\n",
              "    }\n",
              "\n",
              "    [theme=dark] .colab-df-convert {\n",
              "      background-color: #3B4455;\n",
              "      fill: #D2E3FC;\n",
              "    }\n",
              "\n",
              "    [theme=dark] .colab-df-convert:hover {\n",
              "      background-color: #434B5C;\n",
              "      box-shadow: 0px 1px 3px 1px rgba(0, 0, 0, 0.15);\n",
              "      filter: drop-shadow(0px 1px 2px rgba(0, 0, 0, 0.3));\n",
              "      fill: #FFFFFF;\n",
              "    }\n",
              "  </style>\n",
              "\n",
              "      <script>\n",
              "        const buttonEl =\n",
              "          document.querySelector('#df-23dc77ec-b1ee-463a-a1f8-20d8303d9d1e button.colab-df-convert');\n",
              "        buttonEl.style.display =\n",
              "          google.colab.kernel.accessAllowed ? 'block' : 'none';\n",
              "\n",
              "        async function convertToInteractive(key) {\n",
              "          const element = document.querySelector('#df-23dc77ec-b1ee-463a-a1f8-20d8303d9d1e');\n",
              "          const dataTable =\n",
              "            await google.colab.kernel.invokeFunction('convertToInteractive',\n",
              "                                                     [key], {});\n",
              "          if (!dataTable) return;\n",
              "\n",
              "          const docLinkHtml = 'Like what you see? Visit the ' +\n",
              "            '<a target=\"_blank\" href=https://colab.research.google.com/notebooks/data_table.ipynb>data table notebook</a>'\n",
              "            + ' to learn more about interactive tables.';\n",
              "          element.innerHTML = '';\n",
              "          dataTable['output_type'] = 'display_data';\n",
              "          await google.colab.output.renderOutput(dataTable, element);\n",
              "          const docLink = document.createElement('div');\n",
              "          docLink.innerHTML = docLinkHtml;\n",
              "          element.appendChild(docLink);\n",
              "        }\n",
              "      </script>\n",
              "    </div>\n",
              "  </div>\n",
              "  "
            ]
          },
          "metadata": {},
          "execution_count": 117
        }
      ],
      "source": [
        "lista_pn_NR_cota_1 = extraer_pn(lista_resultados_NR_cota_1)\n",
        "lista_alfa_NR_cota_1 = calcular_orden_de_convergencia_alfa(lista_pn_NR_cota_1)\n",
        "lista_errores_NR_cota_1 = extraer_errores(lista_resultados_NR_cota_1)\n",
        "lista_cte_asintotica_NR_cota_1 = calcular_cte_asintotica_lambda(lista_errores_NR_cota_1, lista_alfa_NR_cota_1)\n",
        "\n",
        "tabla_de_resultados = lista_resultados_a_dataframe(lista_resultados_NR_cota_1,lista_alfa_NR_cota_1,lista_cte_asintotica_NR_cota_1,['pn', 'error','alfa','lambda'])\n",
        "tabla_de_resultados"
      ]
    },
    {
      "cell_type": "markdown",
      "source": [
        "---\n",
        "\n",
        "Tolerancia pedida: $1 ⋅ 10^{-13}$\n",
        "\n",
        "Valor obtenido: $x = [1147.596288534586 \\pm 10^{-12}]kg$\n",
        "\n",
        "Iteraciones: 7."
      ],
      "metadata": {
        "id": "cMbQzZSwntbt"
      }
    },
    {
      "cell_type": "code",
      "execution_count": 118,
      "metadata": {
        "colab": {
          "base_uri": "https://localhost:8080/",
          "height": 269
        },
        "id": "DDUVsrpIT34z",
        "outputId": "660b84b4-4e85-45be-e495-986f89f6a933"
      },
      "outputs": [
        {
          "output_type": "execute_result",
          "data": {
            "text/plain": [
              "            pn         error      alfa    lambda\n",
              "0  1100.000000           NaN       NaN       NaN\n",
              "1  1160.869565  6.086957e+01       NaN       NaN\n",
              "2  1148.244468  1.262510e+01       NaN       NaN\n",
              "3  1147.597963  6.465051e-01  1.889239  0.005371\n",
              "4  1147.596289  1.674056e-03  2.004243  0.004013\n",
              "5  1147.596289  1.121452e-08  2.000149  0.004005\n",
              "6  1147.596289  1.000000e-12       NaN       NaN"
            ],
            "text/html": [
              "\n",
              "  <div id=\"df-79de0742-6c09-40c5-b828-a4835aee6f97\">\n",
              "    <div class=\"colab-df-container\">\n",
              "      <div>\n",
              "<style scoped>\n",
              "    .dataframe tbody tr th:only-of-type {\n",
              "        vertical-align: middle;\n",
              "    }\n",
              "\n",
              "    .dataframe tbody tr th {\n",
              "        vertical-align: top;\n",
              "    }\n",
              "\n",
              "    .dataframe thead th {\n",
              "        text-align: right;\n",
              "    }\n",
              "</style>\n",
              "<table border=\"1\" class=\"dataframe\">\n",
              "  <thead>\n",
              "    <tr style=\"text-align: right;\">\n",
              "      <th></th>\n",
              "      <th>pn</th>\n",
              "      <th>error</th>\n",
              "      <th>alfa</th>\n",
              "      <th>lambda</th>\n",
              "    </tr>\n",
              "  </thead>\n",
              "  <tbody>\n",
              "    <tr>\n",
              "      <th>0</th>\n",
              "      <td>1100.000000</td>\n",
              "      <td>NaN</td>\n",
              "      <td>NaN</td>\n",
              "      <td>NaN</td>\n",
              "    </tr>\n",
              "    <tr>\n",
              "      <th>1</th>\n",
              "      <td>1160.869565</td>\n",
              "      <td>6.086957e+01</td>\n",
              "      <td>NaN</td>\n",
              "      <td>NaN</td>\n",
              "    </tr>\n",
              "    <tr>\n",
              "      <th>2</th>\n",
              "      <td>1148.244468</td>\n",
              "      <td>1.262510e+01</td>\n",
              "      <td>NaN</td>\n",
              "      <td>NaN</td>\n",
              "    </tr>\n",
              "    <tr>\n",
              "      <th>3</th>\n",
              "      <td>1147.597963</td>\n",
              "      <td>6.465051e-01</td>\n",
              "      <td>1.889239</td>\n",
              "      <td>0.005371</td>\n",
              "    </tr>\n",
              "    <tr>\n",
              "      <th>4</th>\n",
              "      <td>1147.596289</td>\n",
              "      <td>1.674056e-03</td>\n",
              "      <td>2.004243</td>\n",
              "      <td>0.004013</td>\n",
              "    </tr>\n",
              "    <tr>\n",
              "      <th>5</th>\n",
              "      <td>1147.596289</td>\n",
              "      <td>1.121452e-08</td>\n",
              "      <td>2.000149</td>\n",
              "      <td>0.004005</td>\n",
              "    </tr>\n",
              "    <tr>\n",
              "      <th>6</th>\n",
              "      <td>1147.596289</td>\n",
              "      <td>1.000000e-12</td>\n",
              "      <td>NaN</td>\n",
              "      <td>NaN</td>\n",
              "    </tr>\n",
              "  </tbody>\n",
              "</table>\n",
              "</div>\n",
              "      <button class=\"colab-df-convert\" onclick=\"convertToInteractive('df-79de0742-6c09-40c5-b828-a4835aee6f97')\"\n",
              "              title=\"Convert this dataframe to an interactive table.\"\n",
              "              style=\"display:none;\">\n",
              "        \n",
              "  <svg xmlns=\"http://www.w3.org/2000/svg\" height=\"24px\"viewBox=\"0 0 24 24\"\n",
              "       width=\"24px\">\n",
              "    <path d=\"M0 0h24v24H0V0z\" fill=\"none\"/>\n",
              "    <path d=\"M18.56 5.44l.94 2.06.94-2.06 2.06-.94-2.06-.94-.94-2.06-.94 2.06-2.06.94zm-11 1L8.5 8.5l.94-2.06 2.06-.94-2.06-.94L8.5 2.5l-.94 2.06-2.06.94zm10 10l.94 2.06.94-2.06 2.06-.94-2.06-.94-.94-2.06-.94 2.06-2.06.94z\"/><path d=\"M17.41 7.96l-1.37-1.37c-.4-.4-.92-.59-1.43-.59-.52 0-1.04.2-1.43.59L10.3 9.45l-7.72 7.72c-.78.78-.78 2.05 0 2.83L4 21.41c.39.39.9.59 1.41.59.51 0 1.02-.2 1.41-.59l7.78-7.78 2.81-2.81c.8-.78.8-2.07 0-2.86zM5.41 20L4 18.59l7.72-7.72 1.47 1.35L5.41 20z\"/>\n",
              "  </svg>\n",
              "      </button>\n",
              "      \n",
              "  <style>\n",
              "    .colab-df-container {\n",
              "      display:flex;\n",
              "      flex-wrap:wrap;\n",
              "      gap: 12px;\n",
              "    }\n",
              "\n",
              "    .colab-df-convert {\n",
              "      background-color: #E8F0FE;\n",
              "      border: none;\n",
              "      border-radius: 50%;\n",
              "      cursor: pointer;\n",
              "      display: none;\n",
              "      fill: #1967D2;\n",
              "      height: 32px;\n",
              "      padding: 0 0 0 0;\n",
              "      width: 32px;\n",
              "    }\n",
              "\n",
              "    .colab-df-convert:hover {\n",
              "      background-color: #E2EBFA;\n",
              "      box-shadow: 0px 1px 2px rgba(60, 64, 67, 0.3), 0px 1px 3px 1px rgba(60, 64, 67, 0.15);\n",
              "      fill: #174EA6;\n",
              "    }\n",
              "\n",
              "    [theme=dark] .colab-df-convert {\n",
              "      background-color: #3B4455;\n",
              "      fill: #D2E3FC;\n",
              "    }\n",
              "\n",
              "    [theme=dark] .colab-df-convert:hover {\n",
              "      background-color: #434B5C;\n",
              "      box-shadow: 0px 1px 3px 1px rgba(0, 0, 0, 0.15);\n",
              "      filter: drop-shadow(0px 1px 2px rgba(0, 0, 0, 0.3));\n",
              "      fill: #FFFFFF;\n",
              "    }\n",
              "  </style>\n",
              "\n",
              "      <script>\n",
              "        const buttonEl =\n",
              "          document.querySelector('#df-79de0742-6c09-40c5-b828-a4835aee6f97 button.colab-df-convert');\n",
              "        buttonEl.style.display =\n",
              "          google.colab.kernel.accessAllowed ? 'block' : 'none';\n",
              "\n",
              "        async function convertToInteractive(key) {\n",
              "          const element = document.querySelector('#df-79de0742-6c09-40c5-b828-a4835aee6f97');\n",
              "          const dataTable =\n",
              "            await google.colab.kernel.invokeFunction('convertToInteractive',\n",
              "                                                     [key], {});\n",
              "          if (!dataTable) return;\n",
              "\n",
              "          const docLinkHtml = 'Like what you see? Visit the ' +\n",
              "            '<a target=\"_blank\" href=https://colab.research.google.com/notebooks/data_table.ipynb>data table notebook</a>'\n",
              "            + ' to learn more about interactive tables.';\n",
              "          element.innerHTML = '';\n",
              "          dataTable['output_type'] = 'display_data';\n",
              "          await google.colab.output.renderOutput(dataTable, element);\n",
              "          const docLink = document.createElement('div');\n",
              "          docLink.innerHTML = docLinkHtml;\n",
              "          element.appendChild(docLink);\n",
              "        }\n",
              "      </script>\n",
              "    </div>\n",
              "  </div>\n",
              "  "
            ]
          },
          "metadata": {},
          "execution_count": 118
        }
      ],
      "source": [
        "lista_pn_NR_cota_2 = extraer_pn(lista_resultados_NR_cota_2)\n",
        "lista_alfa_NR_cota_2 = calcular_orden_de_convergencia_alfa(lista_pn_NR_cota_2)\n",
        "lista_errores_NR_cota_2 = extraer_errores(lista_resultados_NR_cota_2)\n",
        "lista_cte_asintotica_NR_cota_2 = calcular_cte_asintotica_lambda(lista_errores_NR_cota_2, lista_alfa_NR_cota_2)\n",
        "\n",
        "tabla_de_resultados = lista_resultados_a_dataframe(lista_resultados_NR_cota_2,lista_alfa_NR_cota_2,lista_cte_asintotica_NR_cota_2,['pn', 'error','alfa','lambda'])\n",
        "tabla_de_resultados"
      ]
    },
    {
      "cell_type": "markdown",
      "metadata": {
        "id": "hr3Bi-xNkSBB"
      },
      "source": [
        "####  1.2.3.4 Método de Newton-Raphson Modificado"
      ]
    },
    {
      "cell_type": "markdown",
      "source": [
        "\n",
        "\n",
        "Tolerancia pedida: $1 ⋅ 10^{-5}$\n",
        "\n",
        "Valor obtenido: $x = [1147.59629 \\pm 0.00001]kg$\n",
        "\n",
        "Iteraciones: 6."
      ],
      "metadata": {
        "id": "NWYAprXRnzMP"
      }
    },
    {
      "cell_type": "code",
      "execution_count": 119,
      "metadata": {
        "colab": {
          "base_uri": "https://localhost:8080/",
          "height": 238
        },
        "id": "wXGadFNPkSBB",
        "outputId": "513d11b0-e9c6-49ca-f2d2-f54023f71c1b"
      },
      "outputs": [
        {
          "output_type": "execute_result",
          "data": {
            "text/plain": [
              "            pn         error      alfa    lambda\n",
              "0  1100.000000           NaN       NaN       NaN\n",
              "1  1136.058231  3.605823e+01       NaN       NaN\n",
              "2  1147.030534  1.097230e+01       NaN       NaN\n",
              "3  1147.595004  5.644703e-01  2.493981  0.001436\n",
              "4  1147.596289  1.284639e-03  2.050864  0.004151\n",
              "5  1147.596289  6.604068e-09  2.001229  0.004035"
            ],
            "text/html": [
              "\n",
              "  <div id=\"df-16a90a56-7c74-44f6-a1c5-ca77c30c16ce\">\n",
              "    <div class=\"colab-df-container\">\n",
              "      <div>\n",
              "<style scoped>\n",
              "    .dataframe tbody tr th:only-of-type {\n",
              "        vertical-align: middle;\n",
              "    }\n",
              "\n",
              "    .dataframe tbody tr th {\n",
              "        vertical-align: top;\n",
              "    }\n",
              "\n",
              "    .dataframe thead th {\n",
              "        text-align: right;\n",
              "    }\n",
              "</style>\n",
              "<table border=\"1\" class=\"dataframe\">\n",
              "  <thead>\n",
              "    <tr style=\"text-align: right;\">\n",
              "      <th></th>\n",
              "      <th>pn</th>\n",
              "      <th>error</th>\n",
              "      <th>alfa</th>\n",
              "      <th>lambda</th>\n",
              "    </tr>\n",
              "  </thead>\n",
              "  <tbody>\n",
              "    <tr>\n",
              "      <th>0</th>\n",
              "      <td>1100.000000</td>\n",
              "      <td>NaN</td>\n",
              "      <td>NaN</td>\n",
              "      <td>NaN</td>\n",
              "    </tr>\n",
              "    <tr>\n",
              "      <th>1</th>\n",
              "      <td>1136.058231</td>\n",
              "      <td>3.605823e+01</td>\n",
              "      <td>NaN</td>\n",
              "      <td>NaN</td>\n",
              "    </tr>\n",
              "    <tr>\n",
              "      <th>2</th>\n",
              "      <td>1147.030534</td>\n",
              "      <td>1.097230e+01</td>\n",
              "      <td>NaN</td>\n",
              "      <td>NaN</td>\n",
              "    </tr>\n",
              "    <tr>\n",
              "      <th>3</th>\n",
              "      <td>1147.595004</td>\n",
              "      <td>5.644703e-01</td>\n",
              "      <td>2.493981</td>\n",
              "      <td>0.001436</td>\n",
              "    </tr>\n",
              "    <tr>\n",
              "      <th>4</th>\n",
              "      <td>1147.596289</td>\n",
              "      <td>1.284639e-03</td>\n",
              "      <td>2.050864</td>\n",
              "      <td>0.004151</td>\n",
              "    </tr>\n",
              "    <tr>\n",
              "      <th>5</th>\n",
              "      <td>1147.596289</td>\n",
              "      <td>6.604068e-09</td>\n",
              "      <td>2.001229</td>\n",
              "      <td>0.004035</td>\n",
              "    </tr>\n",
              "  </tbody>\n",
              "</table>\n",
              "</div>\n",
              "      <button class=\"colab-df-convert\" onclick=\"convertToInteractive('df-16a90a56-7c74-44f6-a1c5-ca77c30c16ce')\"\n",
              "              title=\"Convert this dataframe to an interactive table.\"\n",
              "              style=\"display:none;\">\n",
              "        \n",
              "  <svg xmlns=\"http://www.w3.org/2000/svg\" height=\"24px\"viewBox=\"0 0 24 24\"\n",
              "       width=\"24px\">\n",
              "    <path d=\"M0 0h24v24H0V0z\" fill=\"none\"/>\n",
              "    <path d=\"M18.56 5.44l.94 2.06.94-2.06 2.06-.94-2.06-.94-.94-2.06-.94 2.06-2.06.94zm-11 1L8.5 8.5l.94-2.06 2.06-.94-2.06-.94L8.5 2.5l-.94 2.06-2.06.94zm10 10l.94 2.06.94-2.06 2.06-.94-2.06-.94-.94-2.06-.94 2.06-2.06.94z\"/><path d=\"M17.41 7.96l-1.37-1.37c-.4-.4-.92-.59-1.43-.59-.52 0-1.04.2-1.43.59L10.3 9.45l-7.72 7.72c-.78.78-.78 2.05 0 2.83L4 21.41c.39.39.9.59 1.41.59.51 0 1.02-.2 1.41-.59l7.78-7.78 2.81-2.81c.8-.78.8-2.07 0-2.86zM5.41 20L4 18.59l7.72-7.72 1.47 1.35L5.41 20z\"/>\n",
              "  </svg>\n",
              "      </button>\n",
              "      \n",
              "  <style>\n",
              "    .colab-df-container {\n",
              "      display:flex;\n",
              "      flex-wrap:wrap;\n",
              "      gap: 12px;\n",
              "    }\n",
              "\n",
              "    .colab-df-convert {\n",
              "      background-color: #E8F0FE;\n",
              "      border: none;\n",
              "      border-radius: 50%;\n",
              "      cursor: pointer;\n",
              "      display: none;\n",
              "      fill: #1967D2;\n",
              "      height: 32px;\n",
              "      padding: 0 0 0 0;\n",
              "      width: 32px;\n",
              "    }\n",
              "\n",
              "    .colab-df-convert:hover {\n",
              "      background-color: #E2EBFA;\n",
              "      box-shadow: 0px 1px 2px rgba(60, 64, 67, 0.3), 0px 1px 3px 1px rgba(60, 64, 67, 0.15);\n",
              "      fill: #174EA6;\n",
              "    }\n",
              "\n",
              "    [theme=dark] .colab-df-convert {\n",
              "      background-color: #3B4455;\n",
              "      fill: #D2E3FC;\n",
              "    }\n",
              "\n",
              "    [theme=dark] .colab-df-convert:hover {\n",
              "      background-color: #434B5C;\n",
              "      box-shadow: 0px 1px 3px 1px rgba(0, 0, 0, 0.15);\n",
              "      filter: drop-shadow(0px 1px 2px rgba(0, 0, 0, 0.3));\n",
              "      fill: #FFFFFF;\n",
              "    }\n",
              "  </style>\n",
              "\n",
              "      <script>\n",
              "        const buttonEl =\n",
              "          document.querySelector('#df-16a90a56-7c74-44f6-a1c5-ca77c30c16ce button.colab-df-convert');\n",
              "        buttonEl.style.display =\n",
              "          google.colab.kernel.accessAllowed ? 'block' : 'none';\n",
              "\n",
              "        async function convertToInteractive(key) {\n",
              "          const element = document.querySelector('#df-16a90a56-7c74-44f6-a1c5-ca77c30c16ce');\n",
              "          const dataTable =\n",
              "            await google.colab.kernel.invokeFunction('convertToInteractive',\n",
              "                                                     [key], {});\n",
              "          if (!dataTable) return;\n",
              "\n",
              "          const docLinkHtml = 'Like what you see? Visit the ' +\n",
              "            '<a target=\"_blank\" href=https://colab.research.google.com/notebooks/data_table.ipynb>data table notebook</a>'\n",
              "            + ' to learn more about interactive tables.';\n",
              "          element.innerHTML = '';\n",
              "          dataTable['output_type'] = 'display_data';\n",
              "          await google.colab.output.renderOutput(dataTable, element);\n",
              "          const docLink = document.createElement('div');\n",
              "          docLink.innerHTML = docLinkHtml;\n",
              "          element.appendChild(docLink);\n",
              "        }\n",
              "      </script>\n",
              "    </div>\n",
              "  </div>\n",
              "  "
            ]
          },
          "metadata": {},
          "execution_count": 119
        }
      ],
      "source": [
        "lista_pn_NR_multiple_cota_1 = extraer_pn(lista_resultados_NR_multiple_cota_1)\n",
        "lista_alfa_NR_multiple_cota_1 = calcular_orden_de_convergencia_alfa(lista_pn_NR_multiple_cota_1)\n",
        "lista_errores_NR_multiple_cota_1 = extraer_errores(lista_resultados_NR_multiple_cota_1)\n",
        "lista_cte_asintotica_NR_multiple_cota_1 = calcular_cte_asintotica_lambda(lista_errores_NR_multiple_cota_1, lista_alfa_NR_multiple_cota_1)\n",
        "\n",
        "lista_resultados_a_dataframe(lista_resultados_NR_multiple_cota_1,lista_alfa_NR_multiple_cota_1,lista_cte_asintotica_NR_multiple_cota_1,['pn', 'error','alfa','lambda'])"
      ]
    },
    {
      "cell_type": "markdown",
      "source": [
        "---\n",
        "\n",
        "Tolerancia pedida: $1 ⋅ 10^{-13}$\n",
        "\n",
        "Valor obtenido: $x = [1147.596288534586 \\pm 10^{-12}]kg$\n",
        "\n",
        "Iteraciones: 7."
      ],
      "metadata": {
        "id": "TVRo2yuln0Re"
      }
    },
    {
      "cell_type": "code",
      "execution_count": 120,
      "metadata": {
        "colab": {
          "base_uri": "https://localhost:8080/",
          "height": 269
        },
        "id": "HrUcnpKekSBB",
        "outputId": "9fcf6b4d-b8fc-4241-a7d2-bad80f82e83e"
      },
      "outputs": [
        {
          "output_type": "execute_result",
          "data": {
            "text/plain": [
              "            pn         error      alfa    lambda\n",
              "0  1100.000000           NaN       NaN       NaN\n",
              "1  1136.058231  3.605823e+01       NaN       NaN\n",
              "2  1147.030534  1.097230e+01       NaN       NaN\n",
              "3  1147.595004  5.644703e-01  2.493981  0.001436\n",
              "4  1147.596289  1.284639e-03  2.050864  0.004151\n",
              "5  1147.596289  6.604068e-09  2.001229  0.004035\n",
              "6  1147.596289  1.000000e-12       NaN       NaN"
            ],
            "text/html": [
              "\n",
              "  <div id=\"df-5d004700-72d9-4873-aadb-c724fe1984d2\">\n",
              "    <div class=\"colab-df-container\">\n",
              "      <div>\n",
              "<style scoped>\n",
              "    .dataframe tbody tr th:only-of-type {\n",
              "        vertical-align: middle;\n",
              "    }\n",
              "\n",
              "    .dataframe tbody tr th {\n",
              "        vertical-align: top;\n",
              "    }\n",
              "\n",
              "    .dataframe thead th {\n",
              "        text-align: right;\n",
              "    }\n",
              "</style>\n",
              "<table border=\"1\" class=\"dataframe\">\n",
              "  <thead>\n",
              "    <tr style=\"text-align: right;\">\n",
              "      <th></th>\n",
              "      <th>pn</th>\n",
              "      <th>error</th>\n",
              "      <th>alfa</th>\n",
              "      <th>lambda</th>\n",
              "    </tr>\n",
              "  </thead>\n",
              "  <tbody>\n",
              "    <tr>\n",
              "      <th>0</th>\n",
              "      <td>1100.000000</td>\n",
              "      <td>NaN</td>\n",
              "      <td>NaN</td>\n",
              "      <td>NaN</td>\n",
              "    </tr>\n",
              "    <tr>\n",
              "      <th>1</th>\n",
              "      <td>1136.058231</td>\n",
              "      <td>3.605823e+01</td>\n",
              "      <td>NaN</td>\n",
              "      <td>NaN</td>\n",
              "    </tr>\n",
              "    <tr>\n",
              "      <th>2</th>\n",
              "      <td>1147.030534</td>\n",
              "      <td>1.097230e+01</td>\n",
              "      <td>NaN</td>\n",
              "      <td>NaN</td>\n",
              "    </tr>\n",
              "    <tr>\n",
              "      <th>3</th>\n",
              "      <td>1147.595004</td>\n",
              "      <td>5.644703e-01</td>\n",
              "      <td>2.493981</td>\n",
              "      <td>0.001436</td>\n",
              "    </tr>\n",
              "    <tr>\n",
              "      <th>4</th>\n",
              "      <td>1147.596289</td>\n",
              "      <td>1.284639e-03</td>\n",
              "      <td>2.050864</td>\n",
              "      <td>0.004151</td>\n",
              "    </tr>\n",
              "    <tr>\n",
              "      <th>5</th>\n",
              "      <td>1147.596289</td>\n",
              "      <td>6.604068e-09</td>\n",
              "      <td>2.001229</td>\n",
              "      <td>0.004035</td>\n",
              "    </tr>\n",
              "    <tr>\n",
              "      <th>6</th>\n",
              "      <td>1147.596289</td>\n",
              "      <td>1.000000e-12</td>\n",
              "      <td>NaN</td>\n",
              "      <td>NaN</td>\n",
              "    </tr>\n",
              "  </tbody>\n",
              "</table>\n",
              "</div>\n",
              "      <button class=\"colab-df-convert\" onclick=\"convertToInteractive('df-5d004700-72d9-4873-aadb-c724fe1984d2')\"\n",
              "              title=\"Convert this dataframe to an interactive table.\"\n",
              "              style=\"display:none;\">\n",
              "        \n",
              "  <svg xmlns=\"http://www.w3.org/2000/svg\" height=\"24px\"viewBox=\"0 0 24 24\"\n",
              "       width=\"24px\">\n",
              "    <path d=\"M0 0h24v24H0V0z\" fill=\"none\"/>\n",
              "    <path d=\"M18.56 5.44l.94 2.06.94-2.06 2.06-.94-2.06-.94-.94-2.06-.94 2.06-2.06.94zm-11 1L8.5 8.5l.94-2.06 2.06-.94-2.06-.94L8.5 2.5l-.94 2.06-2.06.94zm10 10l.94 2.06.94-2.06 2.06-.94-2.06-.94-.94-2.06-.94 2.06-2.06.94z\"/><path d=\"M17.41 7.96l-1.37-1.37c-.4-.4-.92-.59-1.43-.59-.52 0-1.04.2-1.43.59L10.3 9.45l-7.72 7.72c-.78.78-.78 2.05 0 2.83L4 21.41c.39.39.9.59 1.41.59.51 0 1.02-.2 1.41-.59l7.78-7.78 2.81-2.81c.8-.78.8-2.07 0-2.86zM5.41 20L4 18.59l7.72-7.72 1.47 1.35L5.41 20z\"/>\n",
              "  </svg>\n",
              "      </button>\n",
              "      \n",
              "  <style>\n",
              "    .colab-df-container {\n",
              "      display:flex;\n",
              "      flex-wrap:wrap;\n",
              "      gap: 12px;\n",
              "    }\n",
              "\n",
              "    .colab-df-convert {\n",
              "      background-color: #E8F0FE;\n",
              "      border: none;\n",
              "      border-radius: 50%;\n",
              "      cursor: pointer;\n",
              "      display: none;\n",
              "      fill: #1967D2;\n",
              "      height: 32px;\n",
              "      padding: 0 0 0 0;\n",
              "      width: 32px;\n",
              "    }\n",
              "\n",
              "    .colab-df-convert:hover {\n",
              "      background-color: #E2EBFA;\n",
              "      box-shadow: 0px 1px 2px rgba(60, 64, 67, 0.3), 0px 1px 3px 1px rgba(60, 64, 67, 0.15);\n",
              "      fill: #174EA6;\n",
              "    }\n",
              "\n",
              "    [theme=dark] .colab-df-convert {\n",
              "      background-color: #3B4455;\n",
              "      fill: #D2E3FC;\n",
              "    }\n",
              "\n",
              "    [theme=dark] .colab-df-convert:hover {\n",
              "      background-color: #434B5C;\n",
              "      box-shadow: 0px 1px 3px 1px rgba(0, 0, 0, 0.15);\n",
              "      filter: drop-shadow(0px 1px 2px rgba(0, 0, 0, 0.3));\n",
              "      fill: #FFFFFF;\n",
              "    }\n",
              "  </style>\n",
              "\n",
              "      <script>\n",
              "        const buttonEl =\n",
              "          document.querySelector('#df-5d004700-72d9-4873-aadb-c724fe1984d2 button.colab-df-convert');\n",
              "        buttonEl.style.display =\n",
              "          google.colab.kernel.accessAllowed ? 'block' : 'none';\n",
              "\n",
              "        async function convertToInteractive(key) {\n",
              "          const element = document.querySelector('#df-5d004700-72d9-4873-aadb-c724fe1984d2');\n",
              "          const dataTable =\n",
              "            await google.colab.kernel.invokeFunction('convertToInteractive',\n",
              "                                                     [key], {});\n",
              "          if (!dataTable) return;\n",
              "\n",
              "          const docLinkHtml = 'Like what you see? Visit the ' +\n",
              "            '<a target=\"_blank\" href=https://colab.research.google.com/notebooks/data_table.ipynb>data table notebook</a>'\n",
              "            + ' to learn more about interactive tables.';\n",
              "          element.innerHTML = '';\n",
              "          dataTable['output_type'] = 'display_data';\n",
              "          await google.colab.output.renderOutput(dataTable, element);\n",
              "          const docLink = document.createElement('div');\n",
              "          docLink.innerHTML = docLinkHtml;\n",
              "          element.appendChild(docLink);\n",
              "        }\n",
              "      </script>\n",
              "    </div>\n",
              "  </div>\n",
              "  "
            ]
          },
          "metadata": {},
          "execution_count": 120
        }
      ],
      "source": [
        "lista_pn_NR_multiple_cota_2 = extraer_pn(lista_resultados_NR_multiple_cota_2)\n",
        "lista_alfa_NR_multiple_cota_2 = calcular_orden_de_convergencia_alfa(lista_pn_NR_multiple_cota_2)\n",
        "lista_errores_NR_multiple_cota_2 = extraer_errores(lista_resultados_NR_multiple_cota_2)\n",
        "lista_cte_asintotica_NR_multiple_cota_2 = calcular_cte_asintotica_lambda(lista_errores_NR_multiple_cota_2, lista_alfa_NR_multiple_cota_2)\n",
        "\n",
        "lista_resultados_a_dataframe(lista_resultados_NR_multiple_cota_2,lista_alfa_NR_multiple_cota_2,lista_cte_asintotica_NR_multiple_cota_2,['pn', 'error','alfa','lambda'])"
      ]
    },
    {
      "cell_type": "markdown",
      "metadata": {
        "id": "Qtt60KuvkSBB"
      },
      "source": [
        "#### 1.2.3.5 Método de la Secante"
      ]
    },
    {
      "cell_type": "markdown",
      "source": [
        "Tolerancia pedida: $1 ⋅ 10^{-5}$\n",
        "\n",
        "Valor obtenido: $x = [1147.59629 \\pm 0.00001]kg$\n",
        "\n",
        "Iteraciones: 8."
      ],
      "metadata": {
        "id": "UORP_WTUn-cx"
      }
    },
    {
      "cell_type": "code",
      "execution_count": 121,
      "metadata": {
        "colab": {
          "base_uri": "https://localhost:8080/",
          "height": 300
        },
        "id": "3BMbBSfIkSBB",
        "outputId": "4f51b1eb-355f-4dde-8158-d6ed625605d8"
      },
      "outputs": [
        {
          "output_type": "execute_result",
          "data": {
            "text/plain": [
              "            pn         error      alfa        lambda\n",
              "0  1100.000000           NaN       NaN           NaN\n",
              "1  1200.000000           NaN       NaN           NaN\n",
              "2  1137.837838  6.216216e+01       NaN           NaN\n",
              "3  1145.806441  7.968603e+00  4.320856  1.418450e-07\n",
              "4  1147.668958  1.862517e+00  0.707601  4.288263e-01\n",
              "5  1147.595765  7.319265e-02  2.226633  1.832539e-02\n",
              "6  1147.596288  5.233055e-04  1.526510  2.832414e-02\n",
              "7  1147.596289  1.521846e-07  1.648117  3.892653e-02"
            ],
            "text/html": [
              "\n",
              "  <div id=\"df-bd0686c1-f1de-457f-9317-9a58f36efd9d\">\n",
              "    <div class=\"colab-df-container\">\n",
              "      <div>\n",
              "<style scoped>\n",
              "    .dataframe tbody tr th:only-of-type {\n",
              "        vertical-align: middle;\n",
              "    }\n",
              "\n",
              "    .dataframe tbody tr th {\n",
              "        vertical-align: top;\n",
              "    }\n",
              "\n",
              "    .dataframe thead th {\n",
              "        text-align: right;\n",
              "    }\n",
              "</style>\n",
              "<table border=\"1\" class=\"dataframe\">\n",
              "  <thead>\n",
              "    <tr style=\"text-align: right;\">\n",
              "      <th></th>\n",
              "      <th>pn</th>\n",
              "      <th>error</th>\n",
              "      <th>alfa</th>\n",
              "      <th>lambda</th>\n",
              "    </tr>\n",
              "  </thead>\n",
              "  <tbody>\n",
              "    <tr>\n",
              "      <th>0</th>\n",
              "      <td>1100.000000</td>\n",
              "      <td>NaN</td>\n",
              "      <td>NaN</td>\n",
              "      <td>NaN</td>\n",
              "    </tr>\n",
              "    <tr>\n",
              "      <th>1</th>\n",
              "      <td>1200.000000</td>\n",
              "      <td>NaN</td>\n",
              "      <td>NaN</td>\n",
              "      <td>NaN</td>\n",
              "    </tr>\n",
              "    <tr>\n",
              "      <th>2</th>\n",
              "      <td>1137.837838</td>\n",
              "      <td>6.216216e+01</td>\n",
              "      <td>NaN</td>\n",
              "      <td>NaN</td>\n",
              "    </tr>\n",
              "    <tr>\n",
              "      <th>3</th>\n",
              "      <td>1145.806441</td>\n",
              "      <td>7.968603e+00</td>\n",
              "      <td>4.320856</td>\n",
              "      <td>1.418450e-07</td>\n",
              "    </tr>\n",
              "    <tr>\n",
              "      <th>4</th>\n",
              "      <td>1147.668958</td>\n",
              "      <td>1.862517e+00</td>\n",
              "      <td>0.707601</td>\n",
              "      <td>4.288263e-01</td>\n",
              "    </tr>\n",
              "    <tr>\n",
              "      <th>5</th>\n",
              "      <td>1147.595765</td>\n",
              "      <td>7.319265e-02</td>\n",
              "      <td>2.226633</td>\n",
              "      <td>1.832539e-02</td>\n",
              "    </tr>\n",
              "    <tr>\n",
              "      <th>6</th>\n",
              "      <td>1147.596288</td>\n",
              "      <td>5.233055e-04</td>\n",
              "      <td>1.526510</td>\n",
              "      <td>2.832414e-02</td>\n",
              "    </tr>\n",
              "    <tr>\n",
              "      <th>7</th>\n",
              "      <td>1147.596289</td>\n",
              "      <td>1.521846e-07</td>\n",
              "      <td>1.648117</td>\n",
              "      <td>3.892653e-02</td>\n",
              "    </tr>\n",
              "  </tbody>\n",
              "</table>\n",
              "</div>\n",
              "      <button class=\"colab-df-convert\" onclick=\"convertToInteractive('df-bd0686c1-f1de-457f-9317-9a58f36efd9d')\"\n",
              "              title=\"Convert this dataframe to an interactive table.\"\n",
              "              style=\"display:none;\">\n",
              "        \n",
              "  <svg xmlns=\"http://www.w3.org/2000/svg\" height=\"24px\"viewBox=\"0 0 24 24\"\n",
              "       width=\"24px\">\n",
              "    <path d=\"M0 0h24v24H0V0z\" fill=\"none\"/>\n",
              "    <path d=\"M18.56 5.44l.94 2.06.94-2.06 2.06-.94-2.06-.94-.94-2.06-.94 2.06-2.06.94zm-11 1L8.5 8.5l.94-2.06 2.06-.94-2.06-.94L8.5 2.5l-.94 2.06-2.06.94zm10 10l.94 2.06.94-2.06 2.06-.94-2.06-.94-.94-2.06-.94 2.06-2.06.94z\"/><path d=\"M17.41 7.96l-1.37-1.37c-.4-.4-.92-.59-1.43-.59-.52 0-1.04.2-1.43.59L10.3 9.45l-7.72 7.72c-.78.78-.78 2.05 0 2.83L4 21.41c.39.39.9.59 1.41.59.51 0 1.02-.2 1.41-.59l7.78-7.78 2.81-2.81c.8-.78.8-2.07 0-2.86zM5.41 20L4 18.59l7.72-7.72 1.47 1.35L5.41 20z\"/>\n",
              "  </svg>\n",
              "      </button>\n",
              "      \n",
              "  <style>\n",
              "    .colab-df-container {\n",
              "      display:flex;\n",
              "      flex-wrap:wrap;\n",
              "      gap: 12px;\n",
              "    }\n",
              "\n",
              "    .colab-df-convert {\n",
              "      background-color: #E8F0FE;\n",
              "      border: none;\n",
              "      border-radius: 50%;\n",
              "      cursor: pointer;\n",
              "      display: none;\n",
              "      fill: #1967D2;\n",
              "      height: 32px;\n",
              "      padding: 0 0 0 0;\n",
              "      width: 32px;\n",
              "    }\n",
              "\n",
              "    .colab-df-convert:hover {\n",
              "      background-color: #E2EBFA;\n",
              "      box-shadow: 0px 1px 2px rgba(60, 64, 67, 0.3), 0px 1px 3px 1px rgba(60, 64, 67, 0.15);\n",
              "      fill: #174EA6;\n",
              "    }\n",
              "\n",
              "    [theme=dark] .colab-df-convert {\n",
              "      background-color: #3B4455;\n",
              "      fill: #D2E3FC;\n",
              "    }\n",
              "\n",
              "    [theme=dark] .colab-df-convert:hover {\n",
              "      background-color: #434B5C;\n",
              "      box-shadow: 0px 1px 3px 1px rgba(0, 0, 0, 0.15);\n",
              "      filter: drop-shadow(0px 1px 2px rgba(0, 0, 0, 0.3));\n",
              "      fill: #FFFFFF;\n",
              "    }\n",
              "  </style>\n",
              "\n",
              "      <script>\n",
              "        const buttonEl =\n",
              "          document.querySelector('#df-bd0686c1-f1de-457f-9317-9a58f36efd9d button.colab-df-convert');\n",
              "        buttonEl.style.display =\n",
              "          google.colab.kernel.accessAllowed ? 'block' : 'none';\n",
              "\n",
              "        async function convertToInteractive(key) {\n",
              "          const element = document.querySelector('#df-bd0686c1-f1de-457f-9317-9a58f36efd9d');\n",
              "          const dataTable =\n",
              "            await google.colab.kernel.invokeFunction('convertToInteractive',\n",
              "                                                     [key], {});\n",
              "          if (!dataTable) return;\n",
              "\n",
              "          const docLinkHtml = 'Like what you see? Visit the ' +\n",
              "            '<a target=\"_blank\" href=https://colab.research.google.com/notebooks/data_table.ipynb>data table notebook</a>'\n",
              "            + ' to learn more about interactive tables.';\n",
              "          element.innerHTML = '';\n",
              "          dataTable['output_type'] = 'display_data';\n",
              "          await google.colab.output.renderOutput(dataTable, element);\n",
              "          const docLink = document.createElement('div');\n",
              "          docLink.innerHTML = docLinkHtml;\n",
              "          element.appendChild(docLink);\n",
              "        }\n",
              "      </script>\n",
              "    </div>\n",
              "  </div>\n",
              "  "
            ]
          },
          "metadata": {},
          "execution_count": 121
        }
      ],
      "source": [
        "lista_pn_secante_cota_1 = extraer_pn(lista_resultados_secante_cota_1)\n",
        "lista_alfa_secante_cota_1 = calcular_orden_de_convergencia_alfa(lista_pn_secante_cota_1)\n",
        "lista_errores_secante_cota_1 = extraer_errores(lista_resultados_secante_cota_1)\n",
        "lista_cte_asintotica_secante_cota_1 = calcular_cte_asintotica_lambda(lista_errores_secante_cota_1, lista_alfa_secante_cota_1)\n",
        "\n",
        "lista_resultados_a_dataframe(lista_resultados_secante_cota_1,lista_alfa_secante_cota_1,lista_cte_asintotica_secante_cota_1,['pn', 'error','alfa','lambda'])"
      ]
    },
    {
      "cell_type": "markdown",
      "source": [
        "---\n",
        "\n",
        "Tolerancia pedida: $1 ⋅ 10^{-13}$\n",
        "\n",
        "Valor obtenido: $x = [1147.596288534586 \\pm 10^{-12}]kg$\n",
        "\n",
        "Iteraciones: 10."
      ],
      "metadata": {
        "id": "T3q66W-wn_ih"
      }
    },
    {
      "cell_type": "code",
      "execution_count": 122,
      "metadata": {
        "colab": {
          "base_uri": "https://localhost:8080/",
          "height": 363
        },
        "id": "ClZdod-LkSBB",
        "outputId": "47fbc6c1-8251-470e-d883-0768e71453e1"
      },
      "outputs": [
        {
          "output_type": "execute_result",
          "data": {
            "text/plain": [
              "            pn         error      alfa        lambda\n",
              "0  1100.000000           NaN       NaN           NaN\n",
              "1  1200.000000           NaN       NaN           NaN\n",
              "2  1137.837838  6.216216e+01       NaN           NaN\n",
              "3  1145.806441  7.968603e+00  4.320856  1.418450e-07\n",
              "4  1147.668958  1.862517e+00  0.707601  4.288263e-01\n",
              "5  1147.595765  7.319265e-02  2.226633  1.832539e-02\n",
              "6  1147.596288  5.233055e-04  1.526510  2.832414e-02\n",
              "7  1147.596289  1.521846e-07  1.648117  3.892653e-02\n",
              "8  1147.596289  4.547474e-13  1.562217  2.034171e-02\n",
              "9  1147.596289  1.000000e-12       NaN           NaN"
            ],
            "text/html": [
              "\n",
              "  <div id=\"df-65642e81-f719-412a-86bb-7c8cf36a4476\">\n",
              "    <div class=\"colab-df-container\">\n",
              "      <div>\n",
              "<style scoped>\n",
              "    .dataframe tbody tr th:only-of-type {\n",
              "        vertical-align: middle;\n",
              "    }\n",
              "\n",
              "    .dataframe tbody tr th {\n",
              "        vertical-align: top;\n",
              "    }\n",
              "\n",
              "    .dataframe thead th {\n",
              "        text-align: right;\n",
              "    }\n",
              "</style>\n",
              "<table border=\"1\" class=\"dataframe\">\n",
              "  <thead>\n",
              "    <tr style=\"text-align: right;\">\n",
              "      <th></th>\n",
              "      <th>pn</th>\n",
              "      <th>error</th>\n",
              "      <th>alfa</th>\n",
              "      <th>lambda</th>\n",
              "    </tr>\n",
              "  </thead>\n",
              "  <tbody>\n",
              "    <tr>\n",
              "      <th>0</th>\n",
              "      <td>1100.000000</td>\n",
              "      <td>NaN</td>\n",
              "      <td>NaN</td>\n",
              "      <td>NaN</td>\n",
              "    </tr>\n",
              "    <tr>\n",
              "      <th>1</th>\n",
              "      <td>1200.000000</td>\n",
              "      <td>NaN</td>\n",
              "      <td>NaN</td>\n",
              "      <td>NaN</td>\n",
              "    </tr>\n",
              "    <tr>\n",
              "      <th>2</th>\n",
              "      <td>1137.837838</td>\n",
              "      <td>6.216216e+01</td>\n",
              "      <td>NaN</td>\n",
              "      <td>NaN</td>\n",
              "    </tr>\n",
              "    <tr>\n",
              "      <th>3</th>\n",
              "      <td>1145.806441</td>\n",
              "      <td>7.968603e+00</td>\n",
              "      <td>4.320856</td>\n",
              "      <td>1.418450e-07</td>\n",
              "    </tr>\n",
              "    <tr>\n",
              "      <th>4</th>\n",
              "      <td>1147.668958</td>\n",
              "      <td>1.862517e+00</td>\n",
              "      <td>0.707601</td>\n",
              "      <td>4.288263e-01</td>\n",
              "    </tr>\n",
              "    <tr>\n",
              "      <th>5</th>\n",
              "      <td>1147.595765</td>\n",
              "      <td>7.319265e-02</td>\n",
              "      <td>2.226633</td>\n",
              "      <td>1.832539e-02</td>\n",
              "    </tr>\n",
              "    <tr>\n",
              "      <th>6</th>\n",
              "      <td>1147.596288</td>\n",
              "      <td>5.233055e-04</td>\n",
              "      <td>1.526510</td>\n",
              "      <td>2.832414e-02</td>\n",
              "    </tr>\n",
              "    <tr>\n",
              "      <th>7</th>\n",
              "      <td>1147.596289</td>\n",
              "      <td>1.521846e-07</td>\n",
              "      <td>1.648117</td>\n",
              "      <td>3.892653e-02</td>\n",
              "    </tr>\n",
              "    <tr>\n",
              "      <th>8</th>\n",
              "      <td>1147.596289</td>\n",
              "      <td>4.547474e-13</td>\n",
              "      <td>1.562217</td>\n",
              "      <td>2.034171e-02</td>\n",
              "    </tr>\n",
              "    <tr>\n",
              "      <th>9</th>\n",
              "      <td>1147.596289</td>\n",
              "      <td>1.000000e-12</td>\n",
              "      <td>NaN</td>\n",
              "      <td>NaN</td>\n",
              "    </tr>\n",
              "  </tbody>\n",
              "</table>\n",
              "</div>\n",
              "      <button class=\"colab-df-convert\" onclick=\"convertToInteractive('df-65642e81-f719-412a-86bb-7c8cf36a4476')\"\n",
              "              title=\"Convert this dataframe to an interactive table.\"\n",
              "              style=\"display:none;\">\n",
              "        \n",
              "  <svg xmlns=\"http://www.w3.org/2000/svg\" height=\"24px\"viewBox=\"0 0 24 24\"\n",
              "       width=\"24px\">\n",
              "    <path d=\"M0 0h24v24H0V0z\" fill=\"none\"/>\n",
              "    <path d=\"M18.56 5.44l.94 2.06.94-2.06 2.06-.94-2.06-.94-.94-2.06-.94 2.06-2.06.94zm-11 1L8.5 8.5l.94-2.06 2.06-.94-2.06-.94L8.5 2.5l-.94 2.06-2.06.94zm10 10l.94 2.06.94-2.06 2.06-.94-2.06-.94-.94-2.06-.94 2.06-2.06.94z\"/><path d=\"M17.41 7.96l-1.37-1.37c-.4-.4-.92-.59-1.43-.59-.52 0-1.04.2-1.43.59L10.3 9.45l-7.72 7.72c-.78.78-.78 2.05 0 2.83L4 21.41c.39.39.9.59 1.41.59.51 0 1.02-.2 1.41-.59l7.78-7.78 2.81-2.81c.8-.78.8-2.07 0-2.86zM5.41 20L4 18.59l7.72-7.72 1.47 1.35L5.41 20z\"/>\n",
              "  </svg>\n",
              "      </button>\n",
              "      \n",
              "  <style>\n",
              "    .colab-df-container {\n",
              "      display:flex;\n",
              "      flex-wrap:wrap;\n",
              "      gap: 12px;\n",
              "    }\n",
              "\n",
              "    .colab-df-convert {\n",
              "      background-color: #E8F0FE;\n",
              "      border: none;\n",
              "      border-radius: 50%;\n",
              "      cursor: pointer;\n",
              "      display: none;\n",
              "      fill: #1967D2;\n",
              "      height: 32px;\n",
              "      padding: 0 0 0 0;\n",
              "      width: 32px;\n",
              "    }\n",
              "\n",
              "    .colab-df-convert:hover {\n",
              "      background-color: #E2EBFA;\n",
              "      box-shadow: 0px 1px 2px rgba(60, 64, 67, 0.3), 0px 1px 3px 1px rgba(60, 64, 67, 0.15);\n",
              "      fill: #174EA6;\n",
              "    }\n",
              "\n",
              "    [theme=dark] .colab-df-convert {\n",
              "      background-color: #3B4455;\n",
              "      fill: #D2E3FC;\n",
              "    }\n",
              "\n",
              "    [theme=dark] .colab-df-convert:hover {\n",
              "      background-color: #434B5C;\n",
              "      box-shadow: 0px 1px 3px 1px rgba(0, 0, 0, 0.15);\n",
              "      filter: drop-shadow(0px 1px 2px rgba(0, 0, 0, 0.3));\n",
              "      fill: #FFFFFF;\n",
              "    }\n",
              "  </style>\n",
              "\n",
              "      <script>\n",
              "        const buttonEl =\n",
              "          document.querySelector('#df-65642e81-f719-412a-86bb-7c8cf36a4476 button.colab-df-convert');\n",
              "        buttonEl.style.display =\n",
              "          google.colab.kernel.accessAllowed ? 'block' : 'none';\n",
              "\n",
              "        async function convertToInteractive(key) {\n",
              "          const element = document.querySelector('#df-65642e81-f719-412a-86bb-7c8cf36a4476');\n",
              "          const dataTable =\n",
              "            await google.colab.kernel.invokeFunction('convertToInteractive',\n",
              "                                                     [key], {});\n",
              "          if (!dataTable) return;\n",
              "\n",
              "          const docLinkHtml = 'Like what you see? Visit the ' +\n",
              "            '<a target=\"_blank\" href=https://colab.research.google.com/notebooks/data_table.ipynb>data table notebook</a>'\n",
              "            + ' to learn more about interactive tables.';\n",
              "          element.innerHTML = '';\n",
              "          dataTable['output_type'] = 'display_data';\n",
              "          await google.colab.output.renderOutput(dataTable, element);\n",
              "          const docLink = document.createElement('div');\n",
              "          docLink.innerHTML = docLinkHtml;\n",
              "          element.appendChild(docLink);\n",
              "        }\n",
              "      </script>\n",
              "    </div>\n",
              "  </div>\n",
              "  "
            ]
          },
          "metadata": {},
          "execution_count": 122
        }
      ],
      "source": [
        "lista_pn_secante_cota_2 = extraer_pn(lista_resultados_secante_cota_2)\n",
        "lista_alfa_secante_cota_2 = calcular_orden_de_convergencia_alfa(lista_pn_secante_cota_2)\n",
        "lista_errores_secante_cota_2 = extraer_errores(lista_resultados_secante_cota_2)\n",
        "lista_cte_asintotica_secante_cota_2 = calcular_cte_asintotica_lambda(lista_errores_secante_cota_2, lista_alfa_secante_cota_2)\n",
        "\n",
        "lista_resultados_a_dataframe(lista_resultados_secante_cota_2,lista_alfa_secante_cota_2,lista_cte_asintotica_secante_cota_2,['pn', 'error','alfa','lambda'])"
      ]
    },
    {
      "cell_type": "markdown",
      "metadata": {
        "id": "3lbYeY7mkk2Y"
      },
      "source": [
        "### 1.2.4 (Pregunta $d$) Compare los resultados obtenidos para los distintos métodos y cotas, grafique el orden de convergencia $P$ y la constante asintótica $\\lambda$ para todos los casos. Realice un gráfico $log_{10}(\\Delta x)$ vs iteraciones, para visualizar el comportamiento de la constante asintótica y el orden de convergencia. Discuta ventajas y desventajas. ¿Son las que esperaba en base a la teoría?"
      ]
    },
    {
      "cell_type": "markdown",
      "source": [
        "#### 1.2.4.1 Funciones auxiliares para plots:"
      ],
      "metadata": {
        "id": "CBQ-AL-f5cVC"
      }
    },
    {
      "cell_type": "code",
      "execution_count": 123,
      "metadata": {
        "id": "NtvwA1A_kyad"
      },
      "outputs": [],
      "source": [
        "def plotear_puntos_vs_iter_log(lista_valores_en_y,color, label):\n",
        "    label_ploteado = False\n",
        "    for x in range(len(lista_valores_en_y)):\n",
        "        if lista_valores_en_y[x] != None:\n",
        "            if label_ploteado:\n",
        "                plt.plot(x,np.log10(lista_valores_en_y[x]), marker=\"o\", markersize=5, color=color)\n",
        "            else:\n",
        "                plt.plot(x,np.log10(lista_valores_en_y[x]), marker=\"o\", markersize=5, color=color, label = label)\n",
        "                label_ploteado = True\n",
        "\n",
        "\n",
        "    \n",
        "\n",
        "def plotear_puntos_vs_iter(lista_valores_en_y,color, label):\n",
        "    label_ploteado = False\n",
        "    for x in range(len(lista_valores_en_y)):\n",
        "        if lista_valores_en_y[x] != None:\n",
        "            if label_ploteado:\n",
        "                plt.plot(x,lista_valores_en_y[x], marker=\"o\", markersize=5, color=color)\n",
        "            else:\n",
        "                plt.plot(x,lista_valores_en_y[x], marker=\"o\", markersize=5, color=color, label = label)\n",
        "                label_ploteado = True\n"
      ]
    },
    {
      "cell_type": "markdown",
      "source": [
        "####  1.2.4.2 Graficos orden de convergencia $α$ vs Iteraciones"
      ],
      "metadata": {
        "id": "-YEsYSSc5iOG"
      }
    },
    {
      "cell_type": "markdown",
      "source": [
        "##### Con cota de error 1:"
      ],
      "metadata": {
        "id": "Ti-71S53jYvu"
      }
    },
    {
      "cell_type": "code",
      "source": [
        "fig, ax = plt.subplots(figsize=(20, 10))\n",
        "\n",
        "plt.title(\"Grafica orden de convergencia alpha vs Iteraciones\")\n",
        "plt.xlabel(\"Iteraciones\")\n",
        "plt.ylabel(\"α\")\n",
        "\n",
        "plotear_puntos_vs_iter(lista_alfa_biseccion_cota_1,'red', \"biseccion\")\n",
        "plotear_puntos_vs_iter(lista_alfa_punto_fijo_cota_1,'green', \"punto fijo\")\n",
        "plotear_puntos_vs_iter(lista_alfa_NR_cota_1,'blue', \"NR\")\n",
        "plotear_puntos_vs_iter(lista_alfa_NR_multiple_cota_1,'orange', \"NR modif\")\n",
        "plotear_puntos_vs_iter(lista_alfa_secante_cota_1,'purple',\"secante\" )\n",
        "\n",
        "\n",
        "ax.xaxis.set_major_locator(MultipleLocator(1))\n",
        "ax.yaxis.set_major_locator(MultipleLocator(0.2))\n",
        "ax.set_xlim(0, 41)\n",
        "ax.set_ylim(0, 5)\n",
        "\n",
        "ax.grid()\n",
        "plt.legend()\n",
        "plt.show() "
      ],
      "metadata": {
        "colab": {
          "base_uri": "https://localhost:8080/",
          "height": 729
        },
        "id": "8Asp3gmokTK9",
        "outputId": "cef3b530-5463-4a3f-ebf1-d6b626f2ee74"
      },
      "execution_count": 124,
      "outputs": [
        {
          "output_type": "display_data",
          "data": {
            "text/plain": [
              "<Figure size 1440x720 with 1 Axes>"
            ],
            "image/png": "[encoded data removed]"
          },
          "metadata": {
            "needs_background": "light"
          }
        }
      ]
    },
    {
      "cell_type": "markdown",
      "source": [
        "##### Con cota de error 2:"
      ],
      "metadata": {
        "id": "XVAVD7pajjU9"
      }
    },
    {
      "cell_type": "code",
      "source": [
        "fig, ax = plt.subplots(figsize=(20, 10))\n",
        "\n",
        "plt.title(\"Grafica orden de convergencia alpha vs Iteraciones\")\n",
        "plt.xlabel(\"Iteraciones\")\n",
        "plt.ylabel(\"α\")\n",
        "\n",
        "plotear_puntos_vs_iter(lista_alfa_biseccion_cota_2,'red', \"biseccion\")\n",
        "plotear_puntos_vs_iter(lista_alfa_punto_fijo_cota_2,'green', \"punto fijo\")\n",
        "plotear_puntos_vs_iter(lista_alfa_NR_cota_2,'blue', \"NR\")\n",
        "plotear_puntos_vs_iter(lista_alfa_NR_multiple_cota_2,'orange', \"NR modif\")\n",
        "plotear_puntos_vs_iter(lista_alfa_secante_cota_2,'purple', \"secante\")\n",
        "\n",
        "ax.xaxis.set_major_locator(MultipleLocator(1))\n",
        "ax.yaxis.set_major_locator(MultipleLocator(0.2))\n",
        "ax.set_xlim(0, 41)\n",
        "ax.set_ylim(0, 5)\n",
        "\n",
        "ax.grid()\n",
        "plt.legend()\n",
        "plt.show() "
      ],
      "metadata": {
        "colab": {
          "base_uri": "https://localhost:8080/",
          "height": 729
        },
        "outputId": "eb597aaf-f735-4a33-ac6b-2aa0ebc2ee03",
        "id": "BqzkwM0I3N50"
      },
      "execution_count": 125,
      "outputs": [
        {
          "output_type": "display_data",
          "data": {
            "text/plain": [
              "<Figure size 1440x720 with 1 Axes>"
            ],
            "image/png": "[encoded data removed]"
          },
          "metadata": {
            "needs_background": "light"
          }
        }
      ]
    },
    {
      "cell_type": "markdown",
      "source": [
        "##### Conclusiones:\n",
        "- En cuanto al orden de convergencia de la bisección se observa que siempre permanece con valor constante por como se van realizando las divisiones de subintervalos en cada iteración, y queda claro que efectivamente tiene convergencia lineal.\n",
        "- En cuanto al orden de convergencia de punto fijo se observa que el mismo tiende a ser lineal para la función $g(x)$ planteada, y dado que punto fijo tiene a lo sumo orden de convergencia supralineal, es razonable que se presente lo observado. \n",
        "- En cuanto al orden de convergencia de la secante, vemos que la estimación del valor del orden de convergencia va oscilando y tiende a converger aproximadamente en 1.5, lo cual confirma que para este caso se tiene una convergencia supralineal.\n",
        "- En cuanto al orden de convergencia de Newton-Raphson y NR modificado vemos que, como habíamos visto en el análisis gráfico, la raíz era simple y por lo tanto ambos métodos coinciden en su orden de convergencia cuadrático, lo cual se ve rapidamente en el cálculo de $\\alpha$ para los dos.\n",
        "\n",
        "\n",
        "\n"
      ],
      "metadata": {
        "id": "2O26kUK76IY6"
      }
    },
    {
      "cell_type": "markdown",
      "source": [
        "####  1.2.4.3 Graficos constante asintótica $\\lambda$ vs Iteraciones"
      ],
      "metadata": {
        "id": "U57LyxuA5qwq"
      }
    },
    {
      "cell_type": "markdown",
      "source": [
        "##### Con cota de error 1:"
      ],
      "metadata": {
        "id": "t8ulZCXmjkvi"
      }
    },
    {
      "cell_type": "code",
      "source": [
        "fig, ax = plt.subplots(figsize=(20, 10))\n",
        "\n",
        "plt.title(\"Grafica constante asintótica $\\lambda$ vs Iteraciones\")\n",
        "plt.xlabel(\"Iteraciones\")\n",
        "plt.ylabel(\"$\\lambda$\")\n",
        "\n",
        "plotear_puntos_vs_iter(lista_cte_asintotica_biseccion_cota_1,'red', \"biseccion\")\n",
        "plotear_puntos_vs_iter(lista_cte_asintotica_punto_fijo_cota_1,'green', \"punto fijo\")\n",
        "plotear_puntos_vs_iter(lista_cte_asintotica_NR_cota_1,'blue', \"NR\")\n",
        "plotear_puntos_vs_iter(lista_cte_asintotica_NR_multiple_cota_1,'orange', \"NR modif\")\n",
        "plotear_puntos_vs_iter(lista_cte_asintotica_secante_cota_1,'purple', \"secante\")\n",
        "\n",
        "\n",
        "ax.xaxis.set_major_locator(MultipleLocator(1))\n",
        "ax.yaxis.set_major_locator(MultipleLocator(0.1))\n",
        "ax.set_xlim(0, 41)\n",
        "ax.set_ylim(-0.2, 1.3)\n",
        "\n",
        "\n",
        "ax.grid()\n",
        "plt.legend()\n",
        "\n",
        "plt.show() "
      ],
      "metadata": {
        "colab": {
          "base_uri": "https://localhost:8080/",
          "height": 729
        },
        "outputId": "cabb9a8f-379d-4f70-b99a-01920815ea95",
        "id": "h7i4rwQk4it3"
      },
      "execution_count": 126,
      "outputs": [
        {
          "output_type": "display_data",
          "data": {
            "text/plain": [
              "<Figure size 1440x720 with 1 Axes>"
            ],
            "image/png": "[encoded data removed]"
          },
          "metadata": {
            "needs_background": "light"
          }
        }
      ]
    },
    {
      "cell_type": "markdown",
      "source": [
        "##### Con cota de error 2:"
      ],
      "metadata": {
        "id": "OREKp2xCjmEA"
      }
    },
    {
      "cell_type": "code",
      "source": [
        "fig, ax = plt.subplots(figsize=(20, 10))\n",
        "\n",
        "plt.title(\"Grafica constante asintótica $\\lambda$ vs Iteraciones\")\n",
        "plt.xlabel(\"Iteraciones\")\n",
        "plt.ylabel(\"$\\lambda$\")\n",
        "\n",
        "plotear_puntos_vs_iter(lista_cte_asintotica_biseccion_cota_2,'red', \"biseccion\")\n",
        "plotear_puntos_vs_iter(lista_cte_asintotica_punto_fijo_cota_2,'green', \"punto fijo\")\n",
        "plotear_puntos_vs_iter(lista_cte_asintotica_NR_cota_2,'blue', \"NR\")\n",
        "plotear_puntos_vs_iter(lista_cte_asintotica_NR_multiple_cota_2,'orange', \"NR modif\")\n",
        "plotear_puntos_vs_iter(lista_cte_asintotica_secante_cota_2,'purple', \"secante\")\n",
        "\n",
        "ax.xaxis.set_major_locator(MultipleLocator(1))\n",
        "ax.yaxis.set_major_locator(MultipleLocator(0.1))\n",
        "ax.set_xlim(0, 41)\n",
        "ax.set_ylim(-0.2, 1.3)\n",
        "\n",
        "ax.grid()\n",
        "plt.legend()\n",
        "\n",
        "plt.show() "
      ],
      "metadata": {
        "colab": {
          "base_uri": "https://localhost:8080/",
          "height": 729
        },
        "outputId": "1e11bf49-43be-4b2a-f18a-ba27e2180716",
        "id": "K19ybiGi42GY"
      },
      "execution_count": 127,
      "outputs": [
        {
          "output_type": "display_data",
          "data": {
            "text/plain": [
              "<Figure size 1440x720 with 1 Axes>"
            ],
            "image/png": "[encoded data removed]"
          },
          "metadata": {
            "needs_background": "light"
          }
        }
      ]
    },
    {
      "cell_type": "markdown",
      "source": [
        "##### Conclusiones:\n",
        "\n",
        "- El método de la bisección tiene $λ$ constante $0.5$ y es razonable ya que siempre el error va disminuyendo en la misma razón debido a que siempre se subdividen los intervalos a la mitad.\n",
        "- En cuanto al $λ$ de punto fijo se observa que se tiende a un valor levemente mayor que el valor constante de bisección, lo cuál indica que puede llegar a ser incluso menos eficaz para la $g(x)$ planteada. \n",
        "- En los métodos de NR el $λ$ es muy cercano a cero, lo cuál es razonable ya que se llega a la precisión deseada muy rapidamente.\n",
        "- Para el método de la secante $λ$ no toma valores tan cercanos a cero al principio (como los de NR, por lo tanto tiene que reaizar más iteraciones), pero aún así los mismos terminan siendo cercanos a cero en pocas.\n",
        "\n"
      ],
      "metadata": {
        "id": "P7_rRWNv87Js"
      }
    },
    {
      "cell_type": "markdown",
      "source": [
        "####  1.2.4.4 Graficos  $log_{10}(\\Delta x)$ vs Iteraciones"
      ],
      "metadata": {
        "id": "F-4bUfWv5vM2"
      }
    },
    {
      "cell_type": "markdown",
      "source": [
        "##### Con cota de error 1:"
      ],
      "metadata": {
        "id": "6Yvfw-Dgjnlk"
      }
    },
    {
      "cell_type": "code",
      "source": [
        "fig, ax = plt.subplots(figsize=(20, 10))\n",
        "\n",
        "plt.title(\"Grafica  $Log(\\Delta x)$ vs Iteraciones\")\n",
        "plt.xlabel(\"Iteraciones\")\n",
        "plt.ylabel(\"$Log(\\Delta x)$\")\n",
        "\n",
        "plotear_puntos_vs_iter_log(lista_errores_biseccion_cota_1,\"red\" ,\"biseccion\")\n",
        "plotear_puntos_vs_iter_log(lista_errores_punto_fijo_cota_1,\"green\" ,\"punto fijo\")\n",
        "plotear_puntos_vs_iter_log(lista_errores_NR_cota_1,\"blue\" ,\"NR\")\n",
        "plotear_puntos_vs_iter_log(lista_errores_NR_multiple_cota_1,\"orange\" ,\"NR modif\")\n",
        "plotear_puntos_vs_iter_log(lista_errores_secante_cota_1,\"purple\" ,\"secante\")\n",
        "\n",
        "ax.xaxis.set_major_locator(MultipleLocator(1))\n",
        "ax.yaxis.set_major_locator(MultipleLocator(1))\n",
        "ax.set_xlim(-1, 41)\n",
        "ax.set_ylim(-15, 10)\n",
        "\n",
        "ax.grid()\n",
        "plt.legend()\n",
        "\n",
        "plt.show()"
      ],
      "metadata": {
        "colab": {
          "base_uri": "https://localhost:8080/",
          "height": 729
        },
        "id": "qNf7o6rmq4WA",
        "outputId": "9940aa37-9c29-4ac8-9c79-17d9e3a87470"
      },
      "execution_count": 128,
      "outputs": [
        {
          "output_type": "display_data",
          "data": {
            "text/plain": [
              "<Figure size 1440x720 with 1 Axes>"
            ],
            "image/png": "[encoded data removed]"
          },
          "metadata": {
            "needs_background": "light"
          }
        }
      ]
    },
    {
      "cell_type": "markdown",
      "source": [
        "##### Con cota de error 2:"
      ],
      "metadata": {
        "id": "wZDJPjoCjosO"
      }
    },
    {
      "cell_type": "code",
      "source": [
        "fig, ax = plt.subplots(figsize=(20, 10))\n",
        "\n",
        "plt.title(\"Grafica  $Log(\\Delta x)$ vs Iteraciones\")\n",
        "plt.xlabel(\"Iteraciones\")\n",
        "plt.ylabel(\"$Log(\\Delta x)$\")\n",
        "\n",
        "plotear_puntos_vs_iter_log(lista_errores_biseccion_cota_2,\"red\",\"biseccion\")\n",
        "plotear_puntos_vs_iter_log(lista_errores_punto_fijo_cota_2,\"green\",\"punto fijo\")\n",
        "plotear_puntos_vs_iter_log(lista_errores_NR_cota_2,\"blue\",\"NR\")\n",
        "plotear_puntos_vs_iter_log(lista_errores_NR_multiple_cota_2,\"orange\",\"NR modif\")\n",
        "plotear_puntos_vs_iter_log(lista_errores_secante_cota_2,\"purple\" ,\"secante\")\n",
        "\n",
        "\n",
        "\n",
        "ax.xaxis.set_major_locator(MultipleLocator(1))\n",
        "ax.yaxis.set_major_locator(MultipleLocator(1))\n",
        "ax.set_xlim(-1, 41)\n",
        "ax.set_ylim(-15, 10)\n",
        "\n",
        "ax.grid()\n",
        "plt.legend()\n",
        "\n",
        "plt.show()"
      ],
      "metadata": {
        "colab": {
          "base_uri": "https://localhost:8080/",
          "height": 729
        },
        "outputId": "02dffd1f-51d1-469b-9221-b9b0a275d389",
        "id": "cCe1cVN_3XiV"
      },
      "execution_count": 129,
      "outputs": [
        {
          "output_type": "display_data",
          "data": {
            "text/plain": [
              "<Figure size 1440x720 with 1 Axes>"
            ],
            "image/png": "[encoded data removed]"
          },
          "metadata": {
            "needs_background": "light"
          }
        }
      ]
    },
    {
      "cell_type": "markdown",
      "source": [
        "##### Conclusiones:\n",
        "- Se puede observar a partir de los gráficos que el método de la bisección es el segundo más lento en llegar a la cota de error dada por la tolerancia.\n",
        "- El método más lento resulta ser el método de punto fijo para esta $g(x)$ planteada en llegar a la cota de error dada por la tolerancia.\n",
        "- Luego, se observa que los métodos de NR y NR modificado fueron los más eficientes, ya que con muy pocas iteraciones llegaron a ambas cotas de error dadas por las tolerancias.  \n",
        "- A su vez el método de la secante presenta resultados esperados ya que llega a las cotas de error dadas por las tolerancias en una cantidad de iteraciones mucho menor a las de bisección y punto fijo, pero mayor a las de los métodos de NR, dado su comportamiento supralineal.\n",
        "\n",
        "\n"
      ],
      "metadata": {
        "id": "z21wq5Kr8_fM"
      }
    },
    {
      "cell_type": "markdown",
      "metadata": {
        "id": "6ZMgV0EJoWCL"
      },
      "source": [
        "___________________________________________________________________________________________________________________________________________________________________________________________________________________________________________________________________________\n"
      ]
    },
    {
      "cell_type": "markdown",
      "metadata": {
        "id": "9tY8ne-w1g4U"
      },
      "source": [
        "# ***2. Splines para aproximacion de curvas***"
      ]
    },
    {
      "cell_type": "markdown",
      "metadata": {
        "id": "7RN_CxS_cfKY"
      },
      "source": [
        "## ***2.1 Implementación del método de iterpolacion de Spline cúbica:***"
      ]
    },
    {
      "cell_type": "markdown",
      "metadata": {
        "id": "4Vi1h6kEcVKM"
      },
      "source": [
        "Dada una función $f$ definida en [a,b] y un conjunto de nodos: $x_0 < x_1 < ... < x_n$.\n",
        "\n",
        "Se define trazadror cúbico o Spline Cúbica a la funcion $S(x)$ que satisface las condiciones siguientes:\n",
        "\n",
        "1. $S(x)$ es un polinomio cúbico, denotado $S_i(x)$, en el subintervalo $[x_i,x_{i+1}]$ para cada $i=0,1,...,n-1$.\n",
        "2. $S(x_i) = f(x_i)$  $\\forall$  $i=0,1,...,n$.\n",
        "3. $S_{i+1}(x_{i+1})=S_i(x_{i+1})$  $\\forall$  $i=0,1,...,n-2$.\n",
        "4. $S'_{i+1}(x_{i+1})=S'_i(x_{i+1})$  $\\forall$  $i=0,1,...,n-2$\n",
        "5. $S''_{i+1}(x_{i+1})=S''_i(x_{i+1})$  $\\forall$  $i=0,1,...,n-2$\n",
        "6. Una de las siguientes condiciones de frontera se satisface:\n",
        "   1. $S''(x_0)=S''(x_n)$ frontera libre o natural.\n",
        "   2. $S'(x_0)=f'(x_0)$ y $S'(x_n)=f'(x_n)$  frontera ligada o condicionada.\n",
        "\n",
        "En la consigna se pide trabajar con la frontera ligada por lo tanto utilizaremos la última condición para el ejercicio."
      ]
    },
    {
      "cell_type": "markdown",
      "metadata": {
        "id": "Fll-hs0V5LVj"
      },
      "source": [
        "### **2.1.1 Definiciones de funciones de cálculo de coeficientes:**"
      ]
    },
    {
      "cell_type": "markdown",
      "metadata": {
        "id": "TEUiiupAcVKM"
      },
      "source": [
        "\n",
        "*(Notación: Denominamos **subsplines** a las particiones de las Splines según su definición en los subintervalos)*\n",
        "\n",
        "Para construir una spline definida en un intervalo que se dividió en $n$ subintervalos requiere determinar $4n$ constantes. Para construir el spline cúbico para una función dada f, las condiciones en la definición se aplican a los polinomios cúbicos.\n",
        "\n",
        "$S_i(x) = a_i + b_i (x − x_i) + c_i (x − x_i )^2 + d_i (x − x_i )^3$,\n",
        "\n",
        "para cada $i = 0,1,...,n-1$. Puesto que $S_i(x_i) = a_i = f(x_i)$, la condición **3.** se puede aplicar para obtener\n",
        "\n",
        "$a_{i+1} = S_{i+1}(x _{i+1}) = S_i (x _{i+1}) = a_i + b_i(x_{i+1} − x_i ) + c_i(x_{i+1} − x _i )^2 + d_i (x _{i+1} − x _i )^3$,\n",
        "\n",
        "para cada $i= 0,1,...,n-2$.\n",
        "\n",
        "Como los términos $x_{i+1} - x_i$ son usados muchas veces, por lo tanto es conveniente una notación mas simple\n",
        "\n",
        "$h_i = x_{i+1} - x_i$\n",
        "\n",
        "para cada  $i = 0,1,...,n-1$"
      ]
    },
    {
      "cell_type": "markdown",
      "metadata": {
        "id": "cGtudoe2cVKN"
      },
      "source": [
        "Para esta notación, creamos la siguiente función que devuelve una lista de todos los elementos $h_i$\n",
        "\n",
        "h_lista $= [h_1,h_2,...,h_{n-1}]$"
      ]
    },
    {
      "cell_type": "code",
      "execution_count": 130,
      "metadata": {
        "id": "VbJRvWWG1bgE"
      },
      "outputs": [],
      "source": [
        "def crear_lista_de_incrementos_hi(tabla_de_datos_sobre_nodos: list):\n",
        "    h_lista = []\n",
        "    # voy de i = 0 a n-1\n",
        "    for i in range(len(tabla_de_datos_sobre_nodos)-1):\n",
        "        h_i = tabla_de_datos_sobre_nodos[i+1][0] - tabla_de_datos_sobre_nodos[i][0]\n",
        "        h_lista.append(h_i)\n",
        "    return h_lista"
      ]
    },
    {
      "cell_type": "markdown",
      "metadata": {
        "id": "rULmguJgcVKN"
      },
      "source": [
        "También definimos $a_n = f(x_n)$, entonces tenemos:\n",
        "\n",
        "$a_{i+1} = a_i = b_i h_i +c_i h_i² + d_i h_i³$\n",
        "\n",
        "para cada $i = 0,1,...,n-1$\n",
        "\n",
        "Para organizar los datos, utilizamos la siguiente funcion donde a partir de los datos que tenemos, simplemente guardamos los puntos donde sabemos los valores de $f(x_n)$ en una lista *a_lista*"
      ]
    },
    {
      "cell_type": "code",
      "execution_count": 131,
      "metadata": {
        "id": "yMPsyl6P1e-k"
      },
      "outputs": [],
      "source": [
        "def crear_lista_de_coeficientes_independientes_ai(tabla_de_datos_sobre_nodos: list):\n",
        "    a_lista = []\n",
        "    for i in range(len(tabla_de_datos_sobre_nodos)):\n",
        "        a_i = tabla_de_datos_sobre_nodos[i][1] \n",
        "        a_lista.append(a_i)\n",
        "    return a_lista"
      ]
    },
    {
      "cell_type": "markdown",
      "metadata": {
        "id": "utPzuHSkcVKN"
      },
      "source": [
        "\n",
        "Apartir de:\n",
        "\n",
        "$S_i'(x) = b_i + 2c_i (x − x_i ) + 3d_i (x − x_i )^2$;\n",
        "\n",
        "$S_i'(x_i) = b_i$  $\\forall$  $ i = 0, 1,..., n-1 $\n",
        "\n",
        "y las condiciones 4. y 5. Se puede desarrollar para llegar a expresar los coeficientes lineales de la forma:\n",
        "\n",
        "$b_i = \\frac{1}{h_i} (a_{i+1} - a_i) - \\frac{h_i}{3} (2c_i +  c_{i+1})$"
      ]
    },
    {
      "cell_type": "code",
      "execution_count": 132,
      "metadata": {
        "id": "21Tr9GPp15MJ"
      },
      "outputs": [],
      "source": [
        "def crear_lista_de_coeficientes_lineales_bi(h_lista: list, a_lista: list, c_lista: list):\n",
        "    nro_sub_splines = len(h_lista)\n",
        "    lista_bi = []\n",
        "\n",
        "    for i in range(nro_sub_splines):\n",
        "        b_i = ((1/h_lista[i]) * (a_lista[i+1] - a_lista[i])) - ((h_lista[i]/3) * (2 * c_lista[i] + c_lista[i+1]))\n",
        "        lista_bi.append(b_i)\n",
        "\n",
        "    return lista_bi"
      ]
    },
    {
      "cell_type": "markdown",
      "metadata": {
        "id": "6uiW0QHWcVKO"
      },
      "source": [
        "De aquí, reduciendo en uno el indice y reemplazando los $b_i$ se llega a:\n",
        "\n",
        "$h_{i-1}c_{i-1} + 2(h_{i-1} + h_i)c_i + h_i c_{i+1} =  \\frac{3}{h_i} (a_{i+1} - a_i) - \\frac{3}{h_{i-1}} (a_i - a_{i-1})$"
      ]
    },
    {
      "cell_type": "markdown",
      "metadata": {
        "id": "jQGBvKGbcVKO"
      },
      "source": [
        "Este sistema contiene solo los $\\{c_i\\}_{i=0}^n$ como incógnitas, ya que los valores de $\\{h_i\\}_{i=0}^n$ y de $\\{a_i\\}_{i=0}^n$ son conocidos, los $h$ son el espaciado entre los nodos y los $a$ son los valores de la función en los nodos."
      ]
    },
    {
      "cell_type": "markdown",
      "metadata": {
        "id": "Dgt9dWjtcVKO"
      },
      "source": [
        "**Teorema**: Si $f$ se define en $a= x_0 < x_1 < ... < x_b = b$ y es diferenciable en $a$ y $b$, entonces $f$ tiene un único spline interpolante $S$ condicionado en los nodos $x_0, x_1,..., x_n$; es decir, un spline interpolante que satisface las condiciones de frontera condicionada $S'(a) = f'(a) y $S'(b) = f'(b)$"
      ]
    },
    {
      "cell_type": "markdown",
      "metadata": {
        "id": "nkcLDQw4cVKO"
      },
      "source": [
        "**Demostración**: Para verificar que la ecuación anterior se cumple, utilizamos que como: $f'(a) = S'(a) = S'(x_0) = b_0$, y desarrollando la ecuacion vista antes $b_i = \\frac{1}{h_i} (a_{i+1} - a_i) - \\frac{h_i}{3} (2c_i +  c_{i+1})$ con $i = 0$ llegamos a:\n",
        "\n",
        "$2h_0c_0 + h_0c_1 = \\frac{3}{h_0}(a_1-a_0)-3f'(a)$\n",
        "\n",
        "y con $i=n-1$:\n",
        "\n",
        "$h_{n-1}c_{n-1} + 2h_{n-1}c_n = 3f'(b) - \\frac{3}{h_{n-1}}(a_n-a_{n-1})$"
      ]
    },
    {
      "cell_type": "markdown",
      "metadata": {
        "id": "K_FukJZJcVKO"
      },
      "source": [
        "con todos estos datos se puede determinar el sistema lineal $Ax = b$"
      ]
    },
    {
      "cell_type": "markdown",
      "metadata": {
        "id": "dE39GMQFcVKO"
      },
      "source": [
        "$ \n",
        "A = \n",
        "\\begin{pmatrix}\n",
        "2h_0 & h_0 & 0 & ... & ... & 0 \\\\\n",
        "h_0 & 2(h_0 + h_1) & h_1 & ... & ... & ...\\\\\n",
        "0 & h_1 & 2(h_1 + h_2) & h_2 & ... & ... \\\\\n",
        "... & ... & ... & ... & ... & 0 \\\\\n",
        "... & ... & ... & h_{n-2} & 2(h_{n-2} + h_{n-1}) & h_{n-1} \\\\\n",
        "0 & ... & ... & 0 & h_{n-1} & 2h_{n-1} \\\\\n",
        "\\end{pmatrix} \n",
        ";\n",
        "$\n",
        "\n",
        "\n",
        "\n",
        "$\n",
        "b = \n",
        "\\begin{pmatrix}\n",
        "\\frac{3}{h_0} (a_1 - a_0) - 3f'(x_0) \\\\\n",
        "\\frac{3}{h_1} (a_2 - a_1) - \\frac{3}{h_0} (a_1 - a_0) \\\\\n",
        "... \\\\ \n",
        "\\frac{3}{h_{n-1}} (a_n - a_{n-1}) - \\frac{3}{h_{n-2}} (a_{n-1} - a_{n-2}) \\\\\n",
        "3f'(x_n) - \\frac{3}{h_{n-1}} (a_n - a_{n-1})\n",
        "\\end{pmatrix}\n",
        ";\n",
        "$\n",
        "\n"
      ]
    },
    {
      "cell_type": "code",
      "execution_count": 133,
      "metadata": {
        "id": "1ZbCYB0j1ifb"
      },
      "outputs": [],
      "source": [
        "def matriz_A(h_lista: list):\n",
        "    nro_sub_splines = len(h_lista)\n",
        "\n",
        "    matriz_A = [([0]*(nro_sub_splines+1)) for _ in range(nro_sub_splines+1)]\n",
        "\n",
        "    for i in range(nro_sub_splines+1):\n",
        "        for j in range(nro_sub_splines+1):\n",
        "            if i == j:\n",
        "                if i == 0:\n",
        "                    matriz_A[i][j] = 2 * h_lista[i]\n",
        "                    matriz_A[i][j+1] = h_lista[i]\n",
        "                elif i == nro_sub_splines:\n",
        "                    matriz_A[i][j] = 2 * h_lista[i-1]\n",
        "                    matriz_A[i][j-1] = h_lista[i-1]\n",
        "                else:\n",
        "                    matriz_A[i][j-1] = h_lista[i-1]\n",
        "                    matriz_A[i][j] = 2 * (h_lista[i-1] + h_lista[i])\n",
        "                    matriz_A[i][j+1] = h_lista[i]\n",
        "\n",
        "    return matriz_A"
      ]
    },
    {
      "cell_type": "code",
      "execution_count": 134,
      "metadata": {
        "id": "RV88T3O41j7-"
      },
      "outputs": [],
      "source": [
        "def matriz_b(h_lista: list, a_lista: list, derivada_f_x0, derivada_f_xn):\n",
        "    nro_sub_splines = len(h_lista)\n",
        "    b = []\n",
        "\n",
        "    for i in range(nro_sub_splines+1):\n",
        "        if i == 0:\n",
        "            b.append((3/h_lista[i] * (a_lista[i+1] - a_lista[i])) - (3 * derivada_f_x0))\n",
        "        elif i == nro_sub_splines:\n",
        "            b.append((3 * derivada_f_xn) - (3/h_lista[i-1] * (a_lista[i] - a_lista[i-1])))\n",
        "        else:\n",
        "            b.append(((3/h_lista[i]) * (a_lista[i+1] - a_lista[i])) - ((3/h_lista[i-1]) * (a_lista[i] - a_lista[i-1])))\n",
        "    \n",
        "    return b"
      ]
    },
    {
      "cell_type": "markdown",
      "metadata": {
        "id": "nqxTsLQkcVKP"
      },
      "source": [
        "y nuestra incognita $x = \\begin{pmatrix} c_0 \\\\ c_1 \\\\ ... \\\\ c_n \\end{pmatrix}$ que simplemente la obtenemos haciendo `lista_ci = np.linalg.solve(A, b)`"
      ]
    },
    {
      "cell_type": "markdown",
      "metadata": {
        "id": "SdrjrAHocVKP"
      },
      "source": [
        "Ademas, teniendo en cuenta que $S''(x_n) = 2c_n$  y la condicion 5. se puede llegar a expresar los coeficientes cúbicos de la forma:\n",
        "\n",
        "$d_i = \\frac{1}{3h_i} (c_{i+1} - c_i)$"
      ]
    },
    {
      "cell_type": "code",
      "execution_count": 135,
      "metadata": {
        "id": "1w3HjSOl2yN7"
      },
      "outputs": [],
      "source": [
        "def crear_lista_de_coeficientes_cubicos_di(h_lista: list, c_lista: list):\n",
        "    nro_sub_splines = len(h_lista)\n",
        "    lista_di =[]\n",
        "\n",
        "    for i in range(nro_sub_splines):\n",
        "        d_i = (1/(3*h_lista[i]))*(c_lista[i+1]-c_lista[i])\n",
        "        lista_di.append(d_i)\n",
        "    return lista_di"
      ]
    },
    {
      "cell_type": "markdown",
      "metadata": {
        "id": "UED0SIpWY0Ts"
      },
      "source": [
        "### **2.1.2 Definiciones de funciones auxiliares para ploteo:**"
      ]
    },
    {
      "cell_type": "markdown",
      "source": [
        "Funcion auxiliar para ploteo de subsplines:"
      ],
      "metadata": {
        "id": "JMQt1MQkXyqe"
      }
    },
    {
      "cell_type": "code",
      "execution_count": 136,
      "metadata": {
        "id": "J23v5LRSBqy4"
      },
      "outputs": [],
      "source": [
        "def generar_muestras_de_subspline_i(x,lista_ai: list, lista_bi: list, lista_ci: list, lista_di: list, i): \n",
        "    return (lista_ai[i] + lista_bi[i]*(x-x[0]) + lista_ci[i]*((x-x[0])**2)+lista_di[i]*((x-x[0])**3))"
      ]
    },
    {
      "cell_type": "markdown",
      "source": [
        "Función auxiliar para armado de las tabla con coeficientes resultantes de la interpolación:"
      ],
      "metadata": {
        "id": "hGL2K3UUL8m0"
      }
    },
    {
      "cell_type": "code",
      "execution_count": 137,
      "metadata": {
        "id": "YHd0bmjNJlSB"
      },
      "outputs": [],
      "source": [
        "def curva_dataframe(nombre, coeficientes_spline):\n",
        "    subspline = []\n",
        "    spline_name = []\n",
        "    for i in range(len(coeficientes_spline[0])):\n",
        "        subspline.append(\"Subspline {}\".format(i))\n",
        "        spline_name.append(nombre)\n",
        "    df = pd.DataFrame({\"Spline\": pd.Series(spline_name), \"Subspline\": pd.Series(subspline) ,'ai': pd.Series(coeficientes_spline[0]),'bi': pd.Series(coeficientes_spline[1]),'ci': pd.Series(coeficientes_spline[2]), 'di': pd.Series(coeficientes_spline[3])})\n",
        "    return df.set_index([\"Spline\", \"Subspline\"])"
      ]
    },
    {
      "cell_type": "markdown",
      "metadata": {
        "id": "0qn1cY0d5Yco"
      },
      "source": [
        "### **2.1.3 Metodo de interpolación de Spline cúbica**"
      ]
    },
    {
      "cell_type": "markdown",
      "source": [
        "Esta función recibe la información acerca de los nodos a interpolar, y como se va a calcular interpolación por spline ligada se necesita el valor de la derivada en los nodos más extremos de la misma.\n",
        "Devuelve una lista cuyos elementos son listas que contienen los coeficientes respectivos a cada subspline $i$"
      ],
      "metadata": {
        "id": "vXSyx6pIVExL"
      }
    },
    {
      "cell_type": "code",
      "execution_count": 138,
      "metadata": {
        "id": "0QWHhwrwEGhy"
      },
      "outputs": [],
      "source": [
        "def interpolacion_spline(nodos: list, derivada_f_x0, derivada_f_xn):\n",
        "  lista_hi = crear_lista_de_incrementos_hi(nodos)\n",
        "  lista_ai = crear_lista_de_coeficientes_independientes_ai(nodos)\n",
        "  A = matriz_A(lista_hi)\n",
        "  b = matriz_b(lista_hi, lista_ai, derivada_f_x0, derivada_f_xn)\n",
        "  lista_ci = np.linalg.solve(A, b)\n",
        "  lista_bi = crear_lista_de_coeficientes_lineales_bi(lista_hi, lista_ai, lista_ci)\n",
        "  lista_di = crear_lista_de_coeficientes_cubicos_di(lista_hi, lista_ci)\n",
        "  return [lista_ai, lista_bi, lista_ci, lista_di]"
      ]
    },
    {
      "cell_type": "markdown",
      "metadata": {
        "id": "SZwHQNfUCqk_"
      },
      "source": [
        "## ***2.2 Planteo del problema***"
      ]
    },
    {
      "cell_type": "markdown",
      "source": [
        "### **2.2.1 Uso de datos, interpolación y tabla de coeficientes resultantes**:"
      ],
      "metadata": {
        "id": "w1BnKXEMcCcq"
      }
    },
    {
      "cell_type": "markdown",
      "source": [
        "Cargamos en una lista la información necesaria para la interpolación de la siguiente forma:\n",
        "$(x ,f(x))$"
      ],
      "metadata": {
        "id": "P4THdZ4ALf2Y"
      }
    },
    {
      "cell_type": "code",
      "execution_count": 139,
      "metadata": {
        "id": "81lvoth9Cp5P"
      },
      "outputs": [],
      "source": [
        "nodos_spline_1 = [(1,3),(2,3.7),(5,3.9),(6,4.2),(7,5.7),(8,6.6),(10,7.1),(13,6.7),(17,4.5)]\n",
        "derivadas_spline_1 = (1,-(2/3))\n",
        "nodos_spline_2 = [(17,4.5),(20,7),(23,6.1),(24,5.6),(25,5.8),(27,5.2),(27.7,4.1)]\n",
        "derivadas_spline_2 = (3,-4)\n",
        "nodos_spline_3 = [(27.7,4.1),(28,4.3),(29,4.1),(30,3)]\n",
        "derivadas_spline_3 = (1/3,-(3/2))"
      ]
    },
    {
      "cell_type": "markdown",
      "source": [
        "Calculamos los coeficientes de cada spline:"
      ],
      "metadata": {
        "id": "6oI_HUq_LyeP"
      }
    },
    {
      "cell_type": "code",
      "execution_count": 140,
      "metadata": {
        "id": "PyFXipQIGIai"
      },
      "outputs": [],
      "source": [
        "coeficientes_spline_1 = interpolacion_spline(nodos_spline_1,derivadas_spline_1[0],derivadas_spline_1[1])\n",
        "coeficientes_spline_2 = interpolacion_spline(nodos_spline_2,derivadas_spline_2[0],derivadas_spline_2[1])\n",
        "coeficientes_spline_3 = interpolacion_spline(nodos_spline_3,derivadas_spline_3[0],derivadas_spline_3[1])"
      ]
    },
    {
      "cell_type": "markdown",
      "source": [
        "Se obtiene la tabla de valores con los coeficientes:"
      ],
      "metadata": {
        "id": "1e1bCF4sMEsR"
      }
    },
    {
      "cell_type": "code",
      "execution_count": 141,
      "metadata": {
        "id": "bPh1bmf_wO1N"
      },
      "outputs": [],
      "source": [
        "df1 = curva_dataframe(\"Spline 1\",coeficientes_spline_1)\n",
        "df2 = curva_dataframe(\"Spline 2\",coeficientes_spline_2)\n",
        "df3 = curva_dataframe(\"Spline 3\",coeficientes_spline_3)\n",
        "frames = [df1,df2,df3]\n",
        "df_total = pd.concat(frames)"
      ]
    },
    {
      "cell_type": "code",
      "execution_count": 142,
      "metadata": {
        "colab": {
          "base_uri": "https://localhost:8080/",
          "height": 708
        },
        "id": "q7DkqBklwitC",
        "outputId": "699aa916-071f-470d-c0a2-1c3876e542c1"
      },
      "outputs": [
        {
          "output_type": "execute_result",
          "data": {
            "text/plain": [
              "                       ai        bi        ci        di\n",
              "Spline   Subspline                                     \n",
              "Spline 1 Subspline 0  3.0  1.000000 -0.346810  0.046810\n",
              "         Subspline 1  3.7  0.446810 -0.206380  0.026555\n",
              "         Subspline 2  3.9 -0.074479  0.032617  0.341862\n",
              "         Subspline 3  4.2  1.016340  1.058202 -0.574542\n",
              "         Subspline 4  5.7  1.409117 -0.665425  0.156308\n",
              "         Subspline 5  6.6  0.547191 -0.196501  0.023953\n",
              "         Subspline 6  7.1  0.048621 -0.052784 -0.002623\n",
              "         Subspline 7  6.7 -0.338892 -0.076387  0.005903\n",
              "         Subspline 8  4.5       NaN -0.005556       NaN\n",
              "Spline 2 Subspline 0  4.5  3.000000 -1.100708  0.126162\n",
              "         Subspline 1  7.0 -0.197875  0.034750 -0.022931\n",
              "         Subspline 2  6.1 -0.608501 -0.171626  0.280127\n",
              "         Subspline 3  5.6 -0.111371  0.668756 -0.357385\n",
              "         Subspline 4  5.8  0.153987 -0.403398  0.088202\n",
              "         Subspline 5  5.2 -0.401178  0.125815 -2.568002\n",
              "         Subspline 6  4.1       NaN -5.266989       NaN\n",
              "Spline 3 Subspline 0  4.1  0.333333  2.244224 -3.777044\n",
              "         Subspline 1  4.3  0.660066 -1.155116  0.295050\n",
              "         Subspline 2  4.1 -0.765017 -0.269967 -0.065017\n",
              "         Subspline 3  3.0       NaN -0.465017       NaN"
            ],
            "text/html": [
              "\n",
              "  <div id=\"df-5840f2ad-9d13-49d9-a037-badd98fda5e7\">\n",
              "    <div class=\"colab-df-container\">\n",
              "      <div>\n",
              "<style scoped>\n",
              "    .dataframe tbody tr th:only-of-type {\n",
              "        vertical-align: middle;\n",
              "    }\n",
              "\n",
              "    .dataframe tbody tr th {\n",
              "        vertical-align: top;\n",
              "    }\n",
              "\n",
              "    .dataframe thead th {\n",
              "        text-align: right;\n",
              "    }\n",
              "</style>\n",
              "<table border=\"1\" class=\"dataframe\">\n",
              "  <thead>\n",
              "    <tr style=\"text-align: right;\">\n",
              "      <th></th>\n",
              "      <th></th>\n",
              "      <th>ai</th>\n",
              "      <th>bi</th>\n",
              "      <th>ci</th>\n",
              "      <th>di</th>\n",
              "    </tr>\n",
              "    <tr>\n",
              "      <th>Spline</th>\n",
              "      <th>Subspline</th>\n",
              "      <th></th>\n",
              "      <th></th>\n",
              "      <th></th>\n",
              "      <th></th>\n",
              "    </tr>\n",
              "  </thead>\n",
              "  <tbody>\n",
              "    <tr>\n",
              "      <th rowspan=\"9\" valign=\"top\">Spline 1</th>\n",
              "      <th>Subspline 0</th>\n",
              "      <td>3.0</td>\n",
              "      <td>1.000000</td>\n",
              "      <td>-0.346810</td>\n",
              "      <td>0.046810</td>\n",
              "    </tr>\n",
              "    <tr>\n",
              "      <th>Subspline 1</th>\n",
              "      <td>3.7</td>\n",
              "      <td>0.446810</td>\n",
              "      <td>-0.206380</td>\n",
              "      <td>0.026555</td>\n",
              "    </tr>\n",
              "    <tr>\n",
              "      <th>Subspline 2</th>\n",
              "      <td>3.9</td>\n",
              "      <td>-0.074479</td>\n",
              "      <td>0.032617</td>\n",
              "      <td>0.341862</td>\n",
              "    </tr>\n",
              "    <tr>\n",
              "      <th>Subspline 3</th>\n",
              "      <td>4.2</td>\n",
              "      <td>1.016340</td>\n",
              "      <td>1.058202</td>\n",
              "      <td>-0.574542</td>\n",
              "    </tr>\n",
              "    <tr>\n",
              "      <th>Subspline 4</th>\n",
              "      <td>5.7</td>\n",
              "      <td>1.409117</td>\n",
              "      <td>-0.665425</td>\n",
              "      <td>0.156308</td>\n",
              "    </tr>\n",
              "    <tr>\n",
              "      <th>Subspline 5</th>\n",
              "      <td>6.6</td>\n",
              "      <td>0.547191</td>\n",
              "      <td>-0.196501</td>\n",
              "      <td>0.023953</td>\n",
              "    </tr>\n",
              "    <tr>\n",
              "      <th>Subspline 6</th>\n",
              "      <td>7.1</td>\n",
              "      <td>0.048621</td>\n",
              "      <td>-0.052784</td>\n",
              "      <td>-0.002623</td>\n",
              "    </tr>\n",
              "    <tr>\n",
              "      <th>Subspline 7</th>\n",
              "      <td>6.7</td>\n",
              "      <td>-0.338892</td>\n",
              "      <td>-0.076387</td>\n",
              "      <td>0.005903</td>\n",
              "    </tr>\n",
              "    <tr>\n",
              "      <th>Subspline 8</th>\n",
              "      <td>4.5</td>\n",
              "      <td>NaN</td>\n",
              "      <td>-0.005556</td>\n",
              "      <td>NaN</td>\n",
              "    </tr>\n",
              "    <tr>\n",
              "      <th rowspan=\"7\" valign=\"top\">Spline 2</th>\n",
              "      <th>Subspline 0</th>\n",
              "      <td>4.5</td>\n",
              "      <td>3.000000</td>\n",
              "      <td>-1.100708</td>\n",
              "      <td>0.126162</td>\n",
              "    </tr>\n",
              "    <tr>\n",
              "      <th>Subspline 1</th>\n",
              "      <td>7.0</td>\n",
              "      <td>-0.197875</td>\n",
              "      <td>0.034750</td>\n",
              "      <td>-0.022931</td>\n",
              "    </tr>\n",
              "    <tr>\n",
              "      <th>Subspline 2</th>\n",
              "      <td>6.1</td>\n",
              "      <td>-0.608501</td>\n",
              "      <td>-0.171626</td>\n",
              "      <td>0.280127</td>\n",
              "    </tr>\n",
              "    <tr>\n",
              "      <th>Subspline 3</th>\n",
              "      <td>5.6</td>\n",
              "      <td>-0.111371</td>\n",
              "      <td>0.668756</td>\n",
              "      <td>-0.357385</td>\n",
              "    </tr>\n",
              "    <tr>\n",
              "      <th>Subspline 4</th>\n",
              "      <td>5.8</td>\n",
              "      <td>0.153987</td>\n",
              "      <td>-0.403398</td>\n",
              "      <td>0.088202</td>\n",
              "    </tr>\n",
              "    <tr>\n",
              "      <th>Subspline 5</th>\n",
              "      <td>5.2</td>\n",
              "      <td>-0.401178</td>\n",
              "      <td>0.125815</td>\n",
              "      <td>-2.568002</td>\n",
              "    </tr>\n",
              "    <tr>\n",
              "      <th>Subspline 6</th>\n",
              "      <td>4.1</td>\n",
              "      <td>NaN</td>\n",
              "      <td>-5.266989</td>\n",
              "      <td>NaN</td>\n",
              "    </tr>\n",
              "    <tr>\n",
              "      <th rowspan=\"4\" valign=\"top\">Spline 3</th>\n",
              "      <th>Subspline 0</th>\n",
              "      <td>4.1</td>\n",
              "      <td>0.333333</td>\n",
              "      <td>2.244224</td>\n",
              "      <td>-3.777044</td>\n",
              "    </tr>\n",
              "    <tr>\n",
              "      <th>Subspline 1</th>\n",
              "      <td>4.3</td>\n",
              "      <td>0.660066</td>\n",
              "      <td>-1.155116</td>\n",
              "      <td>0.295050</td>\n",
              "    </tr>\n",
              "    <tr>\n",
              "      <th>Subspline 2</th>\n",
              "      <td>4.1</td>\n",
              "      <td>-0.765017</td>\n",
              "      <td>-0.269967</td>\n",
              "      <td>-0.065017</td>\n",
              "    </tr>\n",
              "    <tr>\n",
              "      <th>Subspline 3</th>\n",
              "      <td>3.0</td>\n",
              "      <td>NaN</td>\n",
              "      <td>-0.465017</td>\n",
              "      <td>NaN</td>\n",
              "    </tr>\n",
              "  </tbody>\n",
              "</table>\n",
              "</div>\n",
              "      <button class=\"colab-df-convert\" onclick=\"convertToInteractive('df-5840f2ad-9d13-49d9-a037-badd98fda5e7')\"\n",
              "              title=\"Convert this dataframe to an interactive table.\"\n",
              "              style=\"display:none;\">\n",
              "        \n",
              "  <svg xmlns=\"http://www.w3.org/2000/svg\" height=\"24px\"viewBox=\"0 0 24 24\"\n",
              "       width=\"24px\">\n",
              "    <path d=\"M0 0h24v24H0V0z\" fill=\"none\"/>\n",
              "    <path d=\"M18.56 5.44l.94 2.06.94-2.06 2.06-.94-2.06-.94-.94-2.06-.94 2.06-2.06.94zm-11 1L8.5 8.5l.94-2.06 2.06-.94-2.06-.94L8.5 2.5l-.94 2.06-2.06.94zm10 10l.94 2.06.94-2.06 2.06-.94-2.06-.94-.94-2.06-.94 2.06-2.06.94z\"/><path d=\"M17.41 7.96l-1.37-1.37c-.4-.4-.92-.59-1.43-.59-.52 0-1.04.2-1.43.59L10.3 9.45l-7.72 7.72c-.78.78-.78 2.05 0 2.83L4 21.41c.39.39.9.59 1.41.59.51 0 1.02-.2 1.41-.59l7.78-7.78 2.81-2.81c.8-.78.8-2.07 0-2.86zM5.41 20L4 18.59l7.72-7.72 1.47 1.35L5.41 20z\"/>\n",
              "  </svg>\n",
              "      </button>\n",
              "      \n",
              "  <style>\n",
              "    .colab-df-container {\n",
              "      display:flex;\n",
              "      flex-wrap:wrap;\n",
              "      gap: 12px;\n",
              "    }\n",
              "\n",
              "    .colab-df-convert {\n",
              "      background-color: #E8F0FE;\n",
              "      border: none;\n",
              "      border-radius: 50%;\n",
              "      cursor: pointer;\n",
              "      display: none;\n",
              "      fill: #1967D2;\n",
              "      height: 32px;\n",
              "      padding: 0 0 0 0;\n",
              "      width: 32px;\n",
              "    }\n",
              "\n",
              "    .colab-df-convert:hover {\n",
              "      background-color: #E2EBFA;\n",
              "      box-shadow: 0px 1px 2px rgba(60, 64, 67, 0.3), 0px 1px 3px 1px rgba(60, 64, 67, 0.15);\n",
              "      fill: #174EA6;\n",
              "    }\n",
              "\n",
              "    [theme=dark] .colab-df-convert {\n",
              "      background-color: #3B4455;\n",
              "      fill: #D2E3FC;\n",
              "    }\n",
              "\n",
              "    [theme=dark] .colab-df-convert:hover {\n",
              "      background-color: #434B5C;\n",
              "      box-shadow: 0px 1px 3px 1px rgba(0, 0, 0, 0.15);\n",
              "      filter: drop-shadow(0px 1px 2px rgba(0, 0, 0, 0.3));\n",
              "      fill: #FFFFFF;\n",
              "    }\n",
              "  </style>\n",
              "\n",
              "      <script>\n",
              "        const buttonEl =\n",
              "          document.querySelector('#df-5840f2ad-9d13-49d9-a037-badd98fda5e7 button.colab-df-convert');\n",
              "        buttonEl.style.display =\n",
              "          google.colab.kernel.accessAllowed ? 'block' : 'none';\n",
              "\n",
              "        async function convertToInteractive(key) {\n",
              "          const element = document.querySelector('#df-5840f2ad-9d13-49d9-a037-badd98fda5e7');\n",
              "          const dataTable =\n",
              "            await google.colab.kernel.invokeFunction('convertToInteractive',\n",
              "                                                     [key], {});\n",
              "          if (!dataTable) return;\n",
              "\n",
              "          const docLinkHtml = 'Like what you see? Visit the ' +\n",
              "            '<a target=\"_blank\" href=https://colab.research.google.com/notebooks/data_table.ipynb>data table notebook</a>'\n",
              "            + ' to learn more about interactive tables.';\n",
              "          element.innerHTML = '';\n",
              "          dataTable['output_type'] = 'display_data';\n",
              "          await google.colab.output.renderOutput(dataTable, element);\n",
              "          const docLink = document.createElement('div');\n",
              "          docLink.innerHTML = docLinkHtml;\n",
              "          element.appendChild(docLink);\n",
              "        }\n",
              "      </script>\n",
              "    </div>\n",
              "  </div>\n",
              "  "
            ]
          },
          "metadata": {},
          "execution_count": 142
        }
      ],
      "source": [
        "df_total"
      ]
    },
    {
      "cell_type": "markdown",
      "metadata": {
        "id": "2KWzUoC6Bqy8"
      },
      "source": [
        "### **2.2.2 Gráfico**"
      ]
    },
    {
      "cell_type": "markdown",
      "source": [
        "A continuación se asigna cada intervalo a graficar según cada curva y luego se calculan valores (muestras) de cada subspline para poder graficarlas:"
      ],
      "metadata": {
        "id": "jH24etRMMPKc"
      }
    },
    {
      "cell_type": "markdown",
      "metadata": {
        "id": "-7UlVEFQBqy8"
      },
      "source": [
        "#### Curva 1"
      ]
    },
    {
      "cell_type": "code",
      "execution_count": 143,
      "metadata": {
        "id": "K8sEtsd2Bqy8"
      },
      "outputs": [],
      "source": [
        "intervalo_1_curva_1 = np.linspace(1,2,100)\n",
        "intervalo_2_curva_1 = np.linspace(2,5,100)\n",
        "intervalo_3_curva_1 = np.linspace(5,6,100)\n",
        "intervalo_4_curva_1 = np.linspace(6,7,100)\n",
        "intervalo_5_curva_1 = np.linspace(7,8,100)\n",
        "intervalo_6_curva_1 = np.linspace(8,10,100)\n",
        "intervalo_7_curva_1 = np.linspace(10,13,100)\n",
        "intervalo_8_curva_1 = np.linspace(13,17,100)"
      ]
    },
    {
      "cell_type": "code",
      "execution_count": 144,
      "metadata": {
        "id": "C-9flDWkBqy8"
      },
      "outputs": [],
      "source": [
        "muestras_subspline_1_curva_1 = generar_muestras_de_subspline_i(intervalo_1_curva_1,coeficientes_spline_1[0],coeficientes_spline_1[1],coeficientes_spline_1[2],coeficientes_spline_1[3],0)\n",
        "muestras_subspline_2_curva_1 = generar_muestras_de_subspline_i(intervalo_2_curva_1,coeficientes_spline_1[0],coeficientes_spline_1[1],coeficientes_spline_1[2],coeficientes_spline_1[3],1)\n",
        "muestras_subspline_3_curva_1 = generar_muestras_de_subspline_i(intervalo_3_curva_1,coeficientes_spline_1[0],coeficientes_spline_1[1],coeficientes_spline_1[2],coeficientes_spline_1[3],2)\n",
        "muestras_subspline_4_curva_1 = generar_muestras_de_subspline_i(intervalo_4_curva_1,coeficientes_spline_1[0],coeficientes_spline_1[1],coeficientes_spline_1[2],coeficientes_spline_1[3],3)\n",
        "muestras_subspline_5_curva_1 = generar_muestras_de_subspline_i(intervalo_5_curva_1,coeficientes_spline_1[0],coeficientes_spline_1[1],coeficientes_spline_1[2],coeficientes_spline_1[3],4)\n",
        "muestras_subspline_6_curva_1 = generar_muestras_de_subspline_i(intervalo_6_curva_1,coeficientes_spline_1[0],coeficientes_spline_1[1],coeficientes_spline_1[2],coeficientes_spline_1[3],5)\n",
        "muestras_subspline_7_curva_1 = generar_muestras_de_subspline_i(intervalo_7_curva_1,coeficientes_spline_1[0],coeficientes_spline_1[1],coeficientes_spline_1[2],coeficientes_spline_1[3],6)\n",
        "muestras_subspline_8_curva_1 = generar_muestras_de_subspline_i(intervalo_8_curva_1,coeficientes_spline_1[0],coeficientes_spline_1[1],coeficientes_spline_1[2],coeficientes_spline_1[3],7)"
      ]
    },
    {
      "cell_type": "markdown",
      "metadata": {
        "id": "4hS1z0E7Bqy9"
      },
      "source": [
        "#### Curva 2"
      ]
    },
    {
      "cell_type": "code",
      "execution_count": 145,
      "metadata": {
        "id": "-wqpSfhzBqy9"
      },
      "outputs": [],
      "source": [
        "intervalo_1_curva_2 = np.linspace(17,20,100)\n",
        "intervalo_2_curva_2 = np.linspace(20,23,100)\n",
        "intervalo_3_curva_2 = np.linspace(23,24,100)\n",
        "intervalo_4_curva_2 = np.linspace(24,25,100)\n",
        "intervalo_5_curva_2 = np.linspace(25,27,100)\n",
        "intervalo_6_curva_2 = np.linspace(27,27.7,100)"
      ]
    },
    {
      "cell_type": "code",
      "execution_count": 146,
      "metadata": {
        "id": "DlxFZmW0Bqy9"
      },
      "outputs": [],
      "source": [
        "muestras_subspline_1_curva_2 = generar_muestras_de_subspline_i(intervalo_1_curva_2,coeficientes_spline_2[0],coeficientes_spline_2[1],coeficientes_spline_2[2],coeficientes_spline_2[3],0)\n",
        "muestras_subspline_2_curva_2 = generar_muestras_de_subspline_i(intervalo_2_curva_2,coeficientes_spline_2[0],coeficientes_spline_2[1],coeficientes_spline_2[2],coeficientes_spline_2[3],1)\n",
        "muestras_subspline_3_curva_2 = generar_muestras_de_subspline_i(intervalo_3_curva_2,coeficientes_spline_2[0],coeficientes_spline_2[1],coeficientes_spline_2[2],coeficientes_spline_2[3],2)\n",
        "muestras_subspline_4_curva_2 = generar_muestras_de_subspline_i(intervalo_4_curva_2,coeficientes_spline_2[0],coeficientes_spline_2[1],coeficientes_spline_2[2],coeficientes_spline_2[3],3)\n",
        "muestras_subspline_5_curva_2 = generar_muestras_de_subspline_i(intervalo_5_curva_2,coeficientes_spline_2[0],coeficientes_spline_2[1],coeficientes_spline_2[2],coeficientes_spline_2[3],4)\n",
        "muestras_subspline_6_curva_2 = generar_muestras_de_subspline_i(intervalo_6_curva_2,coeficientes_spline_2[0],coeficientes_spline_2[1],coeficientes_spline_2[2],coeficientes_spline_2[3],5)"
      ]
    },
    {
      "cell_type": "markdown",
      "metadata": {
        "id": "2jCbfc4uBqy9"
      },
      "source": [
        "#### Curva 3"
      ]
    },
    {
      "cell_type": "code",
      "execution_count": 147,
      "metadata": {
        "id": "Pr4xp6ZFBqy9"
      },
      "outputs": [],
      "source": [
        "intervalo_1_curva_3 = np.linspace(27.7,28,100)\n",
        "intervalo_2_curva_3 = np.linspace(28,29,100)\n",
        "intervalo_3_curva_3 = np.linspace(29,30,100)"
      ]
    },
    {
      "cell_type": "code",
      "execution_count": 148,
      "metadata": {
        "id": "gBrxVEC3Bqy-"
      },
      "outputs": [],
      "source": [
        "muestras_subspline_1_curva_3 = generar_muestras_de_subspline_i(intervalo_1_curva_3,coeficientes_spline_3[0],coeficientes_spline_3[1],coeficientes_spline_3[2],coeficientes_spline_3[3],0)\n",
        "muestras_subspline_2_curva_3 = generar_muestras_de_subspline_i(intervalo_2_curva_3,coeficientes_spline_3[0],coeficientes_spline_3[1],coeficientes_spline_3[2],coeficientes_spline_3[3],1)\n",
        "muestras_subspline_3_curva_3 = generar_muestras_de_subspline_i(intervalo_3_curva_3,coeficientes_spline_3[0],coeficientes_spline_3[1],coeficientes_spline_3[2],coeficientes_spline_3[3],2)"
      ]
    },
    {
      "cell_type": "markdown",
      "metadata": {
        "id": "H6eaHO-1cQrS"
      },
      "source": [
        "#### Ploteo"
      ]
    },
    {
      "cell_type": "code",
      "execution_count": 149,
      "metadata": {
        "colab": {
          "base_uri": "https://localhost:8080/",
          "height": 441
        },
        "id": "-XNupw5dBqy-",
        "outputId": "5ce63a72-36c5-40d5-c3de-7bd41d9ee706"
      },
      "outputs": [
        {
          "output_type": "display_data",
          "data": {
            "text/plain": [
              "<Figure size 1440x432 with 1 Axes>"
            ],
            "image/png": "[encoded data removed]"
          },
          "metadata": {
            "needs_background": "light"
          }
        }
      ],
      "source": [
        "fig, ax = plt.subplots(figsize=(20, 6))\n",
        "\n",
        "\n",
        "plt.rcParams[\"figure.autolayout\"] = True\n",
        "\n",
        "plt.title(\"Splines halladas con los datos de la tabla\",fontsize=20)\n",
        "plt.xlabel(\"$x$\",fontsize=15)\n",
        "plt.ylabel(\"$f(x)$\", fontsize=15)\n",
        "\n",
        "\n",
        "# grafico spline 1\n",
        "plt.plot(intervalo_1_curva_1,muestras_subspline_1_curva_1,'r', label=\"Spline 1\")\n",
        "plt.plot(intervalo_2_curva_1,muestras_subspline_2_curva_1,'r')\n",
        "plt.plot(intervalo_3_curva_1,muestras_subspline_3_curva_1,'r')\n",
        "plt.plot(intervalo_4_curva_1,muestras_subspline_4_curva_1,'r')\n",
        "plt.plot(intervalo_5_curva_1,muestras_subspline_5_curva_1,'r')\n",
        "plt.plot(intervalo_6_curva_1,muestras_subspline_6_curva_1,'r')\n",
        "plt.plot(intervalo_7_curva_1,muestras_subspline_7_curva_1,'r')\n",
        "plt.plot(intervalo_8_curva_1,muestras_subspline_8_curva_1,'r')\n",
        "# grafico spline 2\n",
        "plt.plot(intervalo_1_curva_2,muestras_subspline_1_curva_2,'g', label=\"Spline 2\")\n",
        "plt.plot(intervalo_2_curva_2,muestras_subspline_2_curva_2,'g')\n",
        "plt.plot(intervalo_3_curva_2,muestras_subspline_3_curva_2,'g')\n",
        "plt.plot(intervalo_4_curva_2,muestras_subspline_4_curva_2,'g')\n",
        "plt.plot(intervalo_5_curva_2,muestras_subspline_5_curva_2,'g')\n",
        "plt.plot(intervalo_6_curva_2,muestras_subspline_6_curva_2,'g')\n",
        "# grafico spline 3\n",
        "plt.plot(intervalo_1_curva_3,muestras_subspline_1_curva_3,'b', label=\"Spline 3\")\n",
        "plt.plot(intervalo_2_curva_3,muestras_subspline_2_curva_3,'b')\n",
        "plt.plot(intervalo_3_curva_3,muestras_subspline_3_curva_3,'b')\n",
        "\n",
        "# graficamos los puntos dados por el ejercicio\n",
        "\n",
        "label_ploteado = False\n",
        "for x,y in nodos_spline_1:\n",
        "    if label_ploteado:\n",
        "        plt.plot(x,y,'ro')\n",
        "    else:\n",
        "        plt.plot(x,y,'ro', label = \"Nodos spline 1\")\n",
        "        label_ploteado = True\n",
        "\n",
        "label_ploteado = False\n",
        "for x,y in nodos_spline_2:\n",
        "    if label_ploteado:\n",
        "        plt.plot(x,y,'go')\n",
        "    else:\n",
        "        plt.plot(x,y,'go', label = \"Nodos spline 2\")\n",
        "        label_ploteado = True\n",
        "\n",
        "label_ploteado = False\n",
        "for x,y in nodos_spline_3:\n",
        "    if label_ploteado:\n",
        "        plt.plot(x,y,'bo')\n",
        "    else:\n",
        "        plt.plot(x,y,'bo', label = \"Nodos spline 1\")\n",
        "        label_ploteado = True\n",
        "\n",
        "\n",
        "\n",
        "ax.xaxis.set_major_locator(MultipleLocator(1))\n",
        "ax.yaxis.set_major_locator(MultipleLocator(1))\n",
        "ax.set_xlim(0, 32)\n",
        "ax.set_ylim(0, 8)\n",
        "\n",
        "plt.legend()\n",
        "ax.grid()\n",
        "plt.show()"
      ]
    },
    {
      "cell_type": "markdown",
      "source": [
        "### **2.2.3 Conclusiones**:"
      ],
      "metadata": {
        "id": "FPk3VbCtct6E"
      }
    },
    {
      "cell_type": "markdown",
      "source": [
        "Se puede observar que la aproximación realizada en general resulta en una buena aproximación de las funciones interpoladas, aunque hay que destacar que se nota una levemente menor precisión de dicha aproximación para la curva 2 a comparación de las demás.\n",
        "Se realizan comparaciones de cada curva enfrentandolas contra el grafico brindado en el enunciado. Las mayores diferencias se pueden observar en los siguientes intervalos de $x$:\n",
        "\n",
        "$[19,20)$; $(20,23)$; $(25,27)$ "
      ],
      "metadata": {
        "id": "KD8smvPxczCF"
      }
    },
    {
      "cell_type": "markdown",
      "source": [
        "# ***3. Conclusiones generales***"
      ],
      "metadata": {
        "id": "4Jvm7RgqhiID"
      }
    },
    {
      "cell_type": "markdown",
      "source": [
        "A lo largo del trabajo se desarrollan y se alcanzan los objetivos propuestos al inicio del mismo, corroborando que los resultados teóricos se ven reflejados en planteo realizado y en la aplicación de métodos para estos problemas en particular."
      ],
      "metadata": {
        "id": "I0cLNwxCh8Ez"
      }
    },
    {
      "cell_type": "markdown",
      "source": [
        "# ***4. Referencias***"
      ],
      "metadata": {
        "id": "N4DpU-54jvFK"
      }
    },
    {
      "cell_type": "markdown",
      "source": [
        "- Burden, R.L., Faires, J.D., Análisis Numérico. Grupo Editorial Iberoamericano, 1985.\n",
        "\n",
        "- Apuntes del curso Análisis numérico 1 - curso Sassano - Facultad de Ingeniería - Universidad de Buenos Aires - 2022. \n",
        "\n",
        "- Material audiovisual del curso Análisis numérico 1 - curso Sassano - Facultad de Ingeniería - Universidad de Buenos Aires - 2022. \n",
        "\n",
        "- Manual de Latex,  https://manualdelatex.com/ .\n"
      ],
      "metadata": {
        "id": "2em_sHQplHUe"
      }
    }
  ],
  "metadata": {
    "colab": {
      "collapsed_sections": [
        "CBQ-AL-f5cVC"
      ],
      "name": "TP1_agustina_7_2022_07_08.ipynb",
      "provenance": [],
      "toc_visible": true
    },
    "kernelspec": {
      "display_name": "Python 3.9.12 ('base')",
      "language": "python",
      "name": "python3"
    },
    "language_info": {
      "codemirror_mode": {
        "name": "ipython",
        "version": 3
      },
      "file_extension": ".py",
      "mimetype": "text/x-python",
      "name": "python",
      "nbconvert_exporter": "python",
      "pygments_lexer": "ipython3",
      "version": "3.9.12"
    },
    "vscode": {
      "interpreter": {
        "hash": "a1b517d4a62fdc2cf0e484d22342d09353ad71db632c0c4702f6ba8ab4a7ce17"
      }
    }
  },
  "nbformat": 4,
  "nbformat_minor": 0
}