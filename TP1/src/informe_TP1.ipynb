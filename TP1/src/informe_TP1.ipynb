{
  "nbformat": 4,
  "nbformat_minor": 0,
  "metadata": {
    "colab": {
      "name": "informe_TP1.ipynb",
      "provenance": [],
      "collapsed_sections": []
    },
    "kernelspec": {
      "name": "python3",
      "display_name": "Python 3"
    },
    "language_info": {
      "name": "python"
    }
  },
  "cells": [
    {
      "cell_type": "markdown",
      "source": [
        "<p align=\"center\">\n",
        "_____________________________________________________________________________________________________________________________\n",
        "\n",
        "<br>\n",
        "<br>\n",
        "  <img src=\"https://www.estudiaradistancia.com.ar/logos/original/logo-universidad-de-buenos-aires.webp\" height=180 />\n",
        "  <img  src=\"https://confedi.org.ar/wp-content/uploads/2020/09/fiuba_logo.jpg\" height=\"180\">\n",
        "<br>\n",
        "_____________________________________________________________________________________________________________________________\n",
        "<br>\n",
        "<br>\n",
        "<font size=\"+3\">\n",
        "[71.12] Análisis Numérico I\n",
        "<br>\n",
        "Trabajo Práctico I\n",
        "<br>\n",
        "Primer Cuatrimestre 2022\n",
        "</font>\n",
        "<br>\n",
        "<br>\n",
        "_____________________________________________________________________________________________________________________________\n",
        "<br>\n",
        "<br>\n",
        "<font size=\"+2\">\n",
        "Desarrollo de métodos numéricos de busqueda de raíces e interpolacion\n",
        "<br>\n",
        "de Spline cúbica para su aplicación en problemas de optimización industrial. \n",
        "</font>\n",
        "<br>\n",
        "<br>\n",
        "_____________________________________________________________________________________________________________________________\n",
        "<br>\n",
        "<br>\n",
        "<font size=\"+2\">\n",
        "AUTORES\n",
        "</font>\n",
        "<br>\n",
        "<font size=\"+1\">\n",
        "Gamberale Luciano Martin,\n",
        "<br>  \n",
        "Veiga Martin,\n",
        "<br>\n",
        "Godoy Dupont Mateo,\n",
        "<br>\n",
        "Vasquez Jimenez Miguel Angel,\n",
        "</font>\n",
        "<br>\n",
        "<br>\n",
        "<font size=\"+2\">\n",
        "DOCENTES\n",
        "</font>\n",
        "<br>\n",
        "<font size=\"+1\">\n",
        "Sassano Myriam Patricia\n",
        "<br>\n",
        "Garcia Ezequiel\n",
        "<br>\n",
        "Husain Santiago\n",
        "<br>\n",
        "Payva Matias\n",
        "<br>\n",
        "Turano Maria Agustina\n",
        "<br>\n",
        "Vera Ramiro\n",
        "</font>\n",
        "<br>\n",
        "<br>\n",
        "<br>\n",
        "\n",
        "_____________________________________________________________________________________________________________________________\n",
        "</p>\n",
        "\n",
        "\n"
      ],
      "metadata": {
        "id": "6HXX2GtJqhTP"
      }
    },
    {
      "cell_type": "markdown",
      "source": [
        "___________________________________________________________________________________________________________________________________________________________________________________________________________________________________________________________________________\n"
      ],
      "metadata": {
        "id": "kDnTzEsMHVAf"
      }
    },
    {
      "cell_type": "markdown",
      "source": [
        "# ***1. Plan de producción:***"
      ],
      "metadata": {
        "id": "asv_VvKlJbVn"
      }
    },
    {
      "cell_type": "markdown",
      "source": [
        "Se le solicita el área \"Supply Chain\"que indique qué mix de productos es más conveniente\n",
        "fabricar mensualmente dada una serie de restricciones que tiene la planta y la contribución\n",
        "marginal que ofrece cada producto.\n",
        "\n",
        " Como nuevo pasante del área le asignan el cálculo para\n",
        "el producto estrella de la empresa, acero de calidad “E41” utilizado para fabricar perfiles de\n",
        "\"Steel Frame\".\n",
        "\n",
        "Consulta con el área de Rentabilidad la utilidad unitaria del producto, y le informan que la\n",
        "misma responde a la siguiente función: $$0,001·x·(x−1000kg\n",
        ")^2$$, donde x es la cantidad de producto\n",
        "a producir (medida en kilogramos), y que para producirse debe alcanzarse los $25000\n",
        "de contribución mensual.\n",
        "\n",
        "Luego, llama al área de Producción y le consulta por las restricciones que tiene la línea donde\n",
        "se fabrica este producto.\n",
        "\n",
        "Le informan que para que se justifique hacer el set up para prender\n",
        "la máquina correspondiente, se deberán fabricar al menos $827 kg$ del mismo."
      ],
      "metadata": {
        "id": "MTDfAlxDja5I"
      }
    },
    {
      "cell_type": "markdown",
      "source": [
        "## ***Implementacion de metodos de busqueda de Raices:***"
      ],
      "metadata": {
        "id": "ZeJrZWqAyv1v"
      }
    },
    {
      "cell_type": "markdown",
      "source": [
        "### **Definiciones, funciones e imports auxiliares:**"
      ],
      "metadata": {
        "id": "clSFQYoobwFy"
      }
    },
    {
      "cell_type": "markdown",
      "source": [
        "#### *Imports* "
      ],
      "metadata": {
        "id": "x6QxyrI3AmRf"
      }
    },
    {
      "cell_type": "code",
      "source": [
        "import matplotlib.pyplot as plt\n",
        "import numpy as np\n",
        "from math import isclose\n",
        "\n",
        "MAX_ITERACIONES = 30"
      ],
      "metadata": {
        "id": "EsTgQUYSbuXh"
      },
      "execution_count": 56,
      "outputs": []
    },
    {
      "cell_type": "markdown",
      "source": [
        "#### *Calculo de orden de convergencia ($\\alpha$)*\n",
        "\n"
      ],
      "metadata": {
        "id": "hR_G8N3X-Y2b"
      }
    },
    {
      "cell_type": "code",
      "source": [
        "def calcular_orden_de_convergencia_alfa(lista_pn):\n",
        "    lista_orden_de_convergencia = []\n",
        "\n",
        "    for i in range(len(lista_pn) - 1):\n",
        "        alpha_i = None\n",
        "        if(i >= 2):\n",
        "            alpha_i = ((np.log(abs((lista_pn[i+1]-lista_pn[i])/(lista_pn[i]-lista_pn[i-1])))) / (np.log(abs((lista_pn[i]-lista_pn[i-1])/(lista_pn[i-1]-lista_pn[i-2])))))\n",
        "            lista_orden_de_convergencia.append(alpha_i)\n",
        "        else:\n",
        "            lista_orden_de_convergencia.append(None)\n",
        "\n",
        "    return lista_orden_de_convergencia"
      ],
      "metadata": {
        "id": "iC_T_0A5_GiF"
      },
      "execution_count": 57,
      "outputs": []
    },
    {
      "cell_type": "markdown",
      "source": [
        "#### *Calculo de la constante asintótica ($\\lambda$)*"
      ],
      "metadata": {
        "id": "mtfGnGus-nXZ"
      }
    },
    {
      "cell_type": "code",
      "source": [
        "def calcular_cte_asintotica_lambda(lista_errores, lista_alfas):\n",
        "    if(len(lista_errores) != len(lista_alfas)+1):\n",
        "        print(\"La listas recibidas deben poseer el mismo tamaño.\")\n",
        "        return None\n",
        "\n",
        "    lista_cte_asintotica = []\n",
        "\n",
        "    for i in range(len(lista_alfas)):\n",
        "        lambda_i = None\n",
        "        if(i >= 2):\n",
        "            if (lista_errores[i-1] != None) : # Condicion necesaria por metodo Secante\n",
        "                lambda_i = lista_errores[i] / (lista_errores[i-1] ** lista_alfas[i])\n",
        "                lista_cte_asintotica.append(lambda_i)\n",
        "        else:\n",
        "            lista_cte_asintotica.append(None)\n",
        "\n",
        "    return lista_cte_asintotica"
      ],
      "metadata": {
        "id": "OWvnRScI-YF8"
      },
      "execution_count": 58,
      "outputs": []
    },
    {
      "cell_type": "markdown",
      "source": [
        "#### *Funciones de iteraciones funcionales*"
      ],
      "metadata": {
        "id": "wWYozkkL91DB"
      }
    },
    {
      "cell_type": "markdown",
      "source": [
        "###### Para métodos de semilla única\n",
        "$g(x) = x - 𝝋(x)f(x) $ ;\n",
        "\n",
        "con $𝝋(x)$ definida dependiedo del método (Punto fijo, NR, NR modificado)\n"
      ],
      "metadata": {
        "id": "v2588TYJ_rQX"
      }
    },
    {
      "cell_type": "code",
      "source": [
        "def iteracion_funcional_recursiva(g, numero_iteracion, tolerancia, lista_resultados):\n",
        "    if(numero_iteracion == MAX_ITERACIONES): \n",
        "        return \"Se llegó al maximo de iteraciones sin encontrar la raiz.\"  \n",
        "\n",
        "    pn_1 = lista_resultados[numero_iteracion-1][0]\n",
        "    pn = g(pn_1)\n",
        "\n",
        "    error_actual = np.abs(pn_1 - pn)\n",
        "\n",
        "    lista_resultados_n = [pn, error_actual]  #[pn, error]  \n",
        "    lista_resultados.append(lista_resultados_n)\n",
        "                            \n",
        "    if((g(pn) == 0) or (error_actual < tolerancia)):\n",
        "        return lista_resultados  \n",
        "\n",
        "    return iteracion_funcional_recursiva(g, numero_iteracion+1, tolerancia, lista_resultados)\n"
      ],
      "metadata": {
        "id": "RfqbviTMTITm"
      },
      "execution_count": 59,
      "outputs": []
    },
    {
      "cell_type": "markdown",
      "source": [
        "###### Caso particular método Secante (semilla doble)\n",
        "$g(x,y) = x - 𝝋(x,y)f(x)$ "
      ],
      "metadata": {
        "id": "EX0dmNOd_5vs"
      }
    },
    {
      "cell_type": "code",
      "source": [
        "def iteracion_funcional_recursiva_de_dos_semillas(g, numero_iteracion, tolerancia, lista_resultados):\n",
        "    if(numero_iteracion == MAX_ITERACIONES): \n",
        "        return \"Se llegó al maximo de iteraciones sin encontrar la raiz.\"  \n",
        "\n",
        "    pn_1 = lista_resultados[numero_iteracion-1][0]\n",
        "    pn_2 = lista_resultados[numero_iteracion-2][0]\n",
        "    pn = g(pn_1,pn_2)\n",
        "\n",
        "    error_actual = np.abs(pn - pn_1)\n",
        "\n",
        "    lista_resultados_n = [pn, error_actual]  # [pn, error]  \n",
        "    lista_resultados.append(lista_resultados_n)\n",
        "        \n",
        "    if(error_actual < tolerancia):\n",
        "        return lista_resultados  \n",
        "\n",
        "    return iteracion_funcional_recursiva_de_dos_semillas(g, numero_iteracion+1, tolerancia, lista_resultados)"
      ],
      "metadata": {
        "id": "gh6GGZwYYAAD"
      },
      "execution_count": 60,
      "outputs": []
    },
    {
      "cell_type": "markdown",
      "source": [
        "#### *Funciones para extraccion de datos una vez completada la aplicacion de los metodos para problemas especificos*"
      ],
      "metadata": {
        "id": "0zpSRjSOi_e3"
      }
    },
    {
      "cell_type": "markdown",
      "source": [
        "###### Extraccion de valores importantes tras biseccion \n",
        "Dichos valores son:\n",
        "\n",
        "$p_n$ o de errores: $|p_n-p_{n-1}|$  de cada iteración a partir de la\n",
        "lista con resultados totales del método de biseccion (exclusivamente)"
      ],
      "metadata": {
        "id": "Utj6sQVmkeFK"
      }
    },
    {
      "cell_type": "code",
      "source": [
        "def extraer_pn_biseccion(lista_resultados):\n",
        "    lista_xi = []\n",
        "\n",
        "    for i in range(len(lista_resultados)):\n",
        "        lista_xi.append(lista_resultados[i][2])\n",
        "\n",
        "    return lista_xi\n",
        "\n",
        "\n",
        "\n",
        "def extraer_errores_biseccion(lista_resultados):\n",
        "    lista_xi = []\n",
        "\n",
        "    for i in range(len(lista_resultados)):\n",
        "        lista_xi.append(lista_resultados[i][3])\n",
        "\n",
        "    return lista_xi"
      ],
      "metadata": {
        "id": "dFt1CBVDbPqf"
      },
      "execution_count": 61,
      "outputs": []
    },
    {
      "cell_type": "markdown",
      "source": [
        "###### Extraccion de valores importantes tras metodos de iteracion funcional\n",
        "Dichos valores son:\n",
        "\n",
        "$p_n$ o de errores: $|p_n-p_{n-1}|$  de cada iteración a partir de la\n",
        "lista con resultados totales de cualquiera de los metodos con iteracion funcional"
      ],
      "metadata": {
        "id": "0qWHq3kLk2J4"
      }
    },
    {
      "cell_type": "code",
      "source": [
        "# Extrae los valores de pn cada iteración a partir de la lista con resultados totales \n",
        "def extraer_pn(lista_resultados):\n",
        "    lista_xi = []\n",
        "\n",
        "    for i in range(len(lista_resultados)):\n",
        "        lista_xi.append(lista_resultados[i][0])\n",
        "\n",
        "    return lista_xi\n",
        "\n",
        "\n",
        "\n",
        "def extraer_errores(lista_resultados):\n",
        "    lista_xi = []\n",
        "\n",
        "    for i in range(len(lista_resultados)):\n",
        "        lista_xi.append(lista_resultados[i][1])\n",
        "\n",
        "    return lista_xi"
      ],
      "metadata": {
        "id": "uH8Etsf9bKmF"
      },
      "execution_count": 62,
      "outputs": []
    },
    {
      "cell_type": "markdown",
      "source": [
        "### **Metodo de la biseccion**"
      ],
      "metadata": {
        "id": "hYf0jklr0N29"
      }
    },
    {
      "cell_type": "code",
      "execution_count": 63,
      "metadata": {
        "id": "2Ak2bI10U4AU"
      },
      "outputs": [],
      "source": [
        "def biseccion_recursivo(funcion, numero_iteracion, an, bn, tolerancia, lista_resultados):\n",
        "    if(MAX_ITERACIONES == numero_iteracion): \n",
        "        print(\"Se llegó al maximo de iteraciones sin encontrar la raiz.\")\n",
        "        return None\n",
        "\n",
        "    pn = (an+bn)/2 \n",
        "    error_actual = np.abs((bn-an)/2)\n",
        "    lista_resultados_n = [an, bn, pn, error_actual]  #[an, bn, pn, error]  \n",
        "    lista_resultados.append(lista_resultados_n)\n",
        "                            \n",
        "    if((error_actual < tolerancia) or (isclose(funcion(pn), 0))):\n",
        "        return lista_resultados\n",
        "\n",
        "    if(funcion(an) * funcion (pn) > 0):\n",
        "        an = pn\n",
        "    elif(funcion(bn) * funcion (pn) > 0):\n",
        "        bn = pn\n",
        "\n",
        "    return biseccion_recursivo(funcion, numero_iteracion+1, an, bn, tolerancia, lista_resultados) \n",
        "\n",
        "\n",
        "def biseccion(funcion, an, bn, tolerancia): \n",
        "    lista_resultados = []\n",
        "    numero_de_iteracion = 0\n",
        "    \n",
        "    if((an >= bn) or (tolerancia <= 0) or (MAX_ITERACIONES <= 0)):\n",
        "        print(\"Error en los parametros al ejecutar el método\")\n",
        "        return None \n",
        "\n",
        "    return biseccion_recursivo(funcion, numero_de_iteracion, an, bn, tolerancia, lista_resultados)\n",
        "\n"
      ]
    },
    {
      "cell_type": "markdown",
      "source": [
        "#### Ejemplo de uso"
      ],
      "metadata": {
        "id": "Hgc0T3SB6A8D"
      }
    },
    {
      "cell_type": "code",
      "source": [
        "\n",
        "f = lambda x:  x - np.e**-x\n",
        "a0 = 0.1\n",
        "b0 = 1\n",
        "\n",
        "lista_resultados_biseccion = biseccion(f, a0, b0, tolerancia=1e-06)\n",
        "lista_pn_biseccion = extraer_pn_biseccion(lista_resultados_biseccion)\n",
        "lista_errores_biseccion = extraer_errores_biseccion(lista_resultados_biseccion)\n",
        "lista_alfa_biseccion = calcular_orden_de_convergencia_alfa(lista_pn_biseccion)\n",
        "lista_cte_asintotica_biseccion = calcular_cte_asintotica_lambda(lista_errores_biseccion, lista_alfa_biseccion)\n",
        "\n",
        "\n",
        "# FALTA CAMBIAR TODOS LOS PRINTS A QUE SE MUESTREN EN TABLAS:\n",
        "print(lista_resultados_biseccion)\n",
        "print(lista_pn_biseccion)\n",
        "print(lista_errores_biseccion)\n",
        "print(lista_alfa_biseccion)\n",
        "print(lista_cte_asintotica_biseccion)"
      ],
      "metadata": {
        "colab": {
          "base_uri": "https://localhost:8080/"
        },
        "id": "6eug3U_X6DKe",
        "outputId": "dea3f212-ee60-49e5-dde9-4adcb2889bf8"
      },
      "execution_count": 64,
      "outputs": [
        {
          "output_type": "stream",
          "name": "stdout",
          "text": [
            "[[0.1, 1, 0.55, 0.45], [0.55, 1, 0.775, 0.22499999999999998], [0.55, 0.775, 0.6625000000000001, 0.11249999999999999], [0.55, 0.6625000000000001, 0.6062500000000001, 0.05625000000000002], [0.55, 0.6062500000000001, 0.578125, 0.02812500000000001], [0.55, 0.578125, 0.5640625, 0.014062499999999978], [0.5640625, 0.578125, 0.57109375, 0.007031249999999989], [0.5640625, 0.57109375, 0.567578125, 0.0035156249999999667], [0.5640625, 0.567578125, 0.5658203125000001, 0.001757812500000011], [0.5658203125000001, 0.567578125, 0.5666992187500001, 0.0008789062499999778], [0.5666992187500001, 0.567578125, 0.567138671875, 0.0004394531249999889], [0.567138671875, 0.567578125, 0.5673583984375, 0.0002197265625000222], [0.567138671875, 0.5673583984375, 0.56724853515625, 0.0001098632812500111], [0.567138671875, 0.56724853515625, 0.567193603515625, 5.4931640624977796e-05], [0.567138671875, 0.567193603515625, 0.5671661376953125, 2.7465820312488898e-05], [0.567138671875, 0.5671661376953125, 0.5671524047851563, 1.3732910156272204e-05], [0.567138671875, 0.5671524047851563, 0.5671455383300781, 6.866455078136102e-06], [0.567138671875, 0.5671455383300781, 0.567142105102539, 3.4332275390402955e-06], [0.567142105102539, 0.5671455383300781, 0.5671438217163085, 1.7166137695201478e-06], [0.567142105102539, 0.5671438217163085, 0.5671429634094238, 8.583068847323183e-07]]\n",
            "[0.55, 0.775, 0.6625000000000001, 0.6062500000000001, 0.578125, 0.5640625, 0.57109375, 0.567578125, 0.5658203125000001, 0.5666992187500001, 0.567138671875, 0.5673583984375, 0.56724853515625, 0.567193603515625, 0.5671661376953125, 0.5671524047851563, 0.5671455383300781, 0.567142105102539, 0.5671438217163085, 0.5671429634094238]\n",
            "[0.45, 0.22499999999999998, 0.11249999999999999, 0.05625000000000002, 0.02812500000000001, 0.014062499999999978, 0.007031249999999989, 0.0035156249999999667, 0.001757812500000011, 0.0008789062499999778, 0.0004394531249999889, 0.0002197265625000222, 0.0001098632812500111, 5.4931640624977796e-05, 2.7465820312488898e-05, 1.3732910156272204e-05, 6.866455078136102e-06, 3.4332275390402955e-06, 1.7166137695201478e-06, 8.583068847323183e-07]\n",
            "[None, None, 0.9999999999999981, 0.9999999999999984, 1.0000000000000087, 1.0000000000000056, 1.0000000000000113, 0.9999999999999772, 1.0, 1.0000000000001823, 0.9999999999994532, 0.9999999999996354, 1.000000000002187, 1.000000000001458, 0.9999999999912528, 0.9999999999941681, 1.00000000003499, 1.0000000000233265, 1.0000000000466533]\n",
            "[None, None, 0.49999999999999856, 0.4999999999999985, 0.5000000000000124, 0.500000000000009, 0.5000000000000241, 0.4999999999999396, 0.5000000000000079, 0.5000000000005624, 0.49999999999807615, 0.49999999999865397, 0.5000000000092103, 0.5000000000063929, 0.49999999995709743, 0.4999999999703857, 0.5000000001958691, 0.5000000001346203, 0.5000000002934964]\n"
          ]
        }
      ]
    },
    {
      "cell_type": "markdown",
      "source": [
        "### **Metodo Punto Fijo**"
      ],
      "metadata": {
        "id": "xHqIFFJHOSUr"
      }
    },
    {
      "cell_type": "code",
      "source": [
        "def metodo_punto_fijo(funcion, p0, tolerancia):\n",
        "    lista_resultados = []\n",
        "    numero_iteracion = 0\n",
        "    g = lambda x: x - funcion(x)\n",
        "\n",
        "    if((tolerancia <= 0) or (MAX_ITERACIONES <= 0)):\n",
        "        return \"Error en los parametros al ejecutar el método\"\n",
        "\n",
        "    lista_resultados.append([p0, None])\n",
        "\n",
        "    return iteracion_funcional_recursiva(g, numero_iteracion+1, tolerancia, lista_resultados)\n",
        "\n",
        "\n"
      ],
      "metadata": {
        "id": "rnisqvgWOR9w"
      },
      "execution_count": 65,
      "outputs": []
    },
    {
      "cell_type": "markdown",
      "source": [
        "#### Ejemplo de uso"
      ],
      "metadata": {
        "id": "hPJg-0d-7T24"
      }
    },
    {
      "cell_type": "code",
      "source": [
        "\n",
        "f = lambda x:  x - np.e**-x\n",
        "semilla_p0 = 0.55\n",
        "\n",
        "\n",
        "lista_resultados_punto_fijo = metodo_punto_fijo(f, semilla_p0, tolerancia=1e-06)\n",
        "lista_pn_punto_fijo = extraer_pn(lista_resultados_punto_fijo)\n",
        "lista_alfa_punto_fijo = calcular_orden_de_convergencia_alfa(lista_pn_punto_fijo)\n",
        "lista_errores_punto_fijo = extraer_errores(lista_resultados_punto_fijo)\n",
        "lista_cte_asintotica_punto_fijo = calcular_cte_asintotica_lambda(lista_errores_punto_fijo, lista_alfa_punto_fijo)\n",
        "\n",
        "\n",
        "\n",
        "# FALTA CAMBIAR TODOS LOS PRINTS A QUE SE MUESTREN EN TABLAS:\n",
        "print(lista_resultados_punto_fijo)\n",
        "print(lista_pn_punto_fijo)\n",
        "print(lista_errores_punto_fijo)\n",
        "print(lista_alfa_punto_fijo)\n",
        "print(lista_cte_asintotica_punto_fijo)\n"
      ],
      "metadata": {
        "colab": {
          "base_uri": "https://localhost:8080/"
        },
        "id": "F-mkEVl-7T25",
        "outputId": "5de09787-ec25-47dd-a6c2-0d6d88416943"
      },
      "execution_count": 66,
      "outputs": [
        {
          "output_type": "stream",
          "name": "stdout",
          "text": [
            "[[0.55, None], [0.5769498103804866, 0.026949810380486605], [0.5616087699523267, 0.01534104042815998], [0.5702908586588951, 0.008682088706568392], [0.5653609746479221, 0.00492988401097294], [0.5681550201786464, 0.002794045530724265], [0.5665697848249219, 0.0015852353537244568], [0.5674686435412523, 0.0008988587163303308], [0.5669587985783827, 0.0005098449628695434], [0.567247933366687, 0.0002891347883042794], [0.567083945963931, 0.0001639874027560273], [0.5671769482127644, 9.300224883346253e-05], [0.5671242019338935, 5.274627887097427e-05], [0.5671541164141349, 2.991448024147747e-05], [0.5671371505472894, 1.6965866845519706e-05], [0.5671467726022917, 9.622055002322938e-06], [0.5671413155111056, 5.4570911861562266e-06], [0.5671444104614245, 3.0949503189159344e-06], [0.5671426551803668, 1.7552810577248223e-06], [0.5671436506760001, 9.954956333713127e-07]]\n",
            "[0.55, 0.5769498103804866, 0.5616087699523267, 0.5702908586588951, 0.5653609746479221, 0.5681550201786464, 0.5665697848249219, 0.5674686435412523, 0.5669587985783827, 0.567247933366687, 0.567083945963931, 0.5671769482127644, 0.5671242019338935, 0.5671541164141349, 0.5671371505472894, 0.5671467726022917, 0.5671413155111056, 0.5671444104614245, 0.5671426551803668, 0.5671436506760001]\n",
            "[None, 0.026949810380486605, 0.01534104042815998, 0.008682088706568392, 0.00492988401097294, 0.002794045530724265, 0.0015852353537244568, 0.0008988587163303308, 0.0005098449628695434, 0.0002891347883042794, 0.0001639874027560273, 9.300224883346253e-05, 5.274627887097427e-05, 2.991448024147747e-05, 1.6965866845519706e-05, 9.622055002322938e-06, 5.4570911861562266e-06, 3.0949503189159344e-06, 1.7552810577248223e-06, 9.954956333713127e-07]\n",
            "[None, None, 1.01033791147751, 0.994163027174004, 1.0033187410670188, 0.9981204912728003, 1.001066815130689, 0.9993952413168254, 1.000343074303451, 0.999805456502144, 1.0001103432977525, 0.9999374225175779, 1.0000354913586529, 0.9999798716225768, 1.0000114157773796, 0.9999935256325322, 1.00000367189037, 0.9999979175800434, 1.000001180987362]\n",
            "[None, None, 0.5909134520027995, 0.5523066701893353, 0.5768377246490283, 0.5611260666331762, 0.5709323705227674, 0.5648126529239499, 0.5685803008469492, 0.5662675422029093, 0.5676761296547158, 0.5668212127432528, 0.5673374601629879, 0.5670267264184243, 0.5672130824466688, 0.5671016298760378, 0.5671681003606059, 0.5671285507517227, 0.5671520296408985]\n"
          ]
        }
      ]
    },
    {
      "cell_type": "markdown",
      "source": [
        "### **Metodo Newton-Raphson**"
      ],
      "metadata": {
        "id": "eIwD2Do_IzmS"
      }
    },
    {
      "cell_type": "code",
      "source": [
        "\n",
        "def metodo_newton_raphson(funcion, derivada_funcion, p0, tolerancia):\n",
        "    lista_resultados = []\n",
        "    numero_iteracion = 0\n",
        "    g = lambda x: x - funcion(x)/derivada_funcion(x)\n",
        "\n",
        "    if((tolerancia <= 0) or (MAX_ITERACIONES <= 0)):\n",
        "        return \"Error en los parametros al ejecutar el método\"\n",
        "\n",
        "    lista_resultados.append([p0, None])\n",
        "\n",
        "    return iteracion_funcional_recursiva(g, numero_iteracion+1, tolerancia, lista_resultados)\n",
        "\n"
      ],
      "metadata": {
        "id": "w8ePkegNIyQU"
      },
      "execution_count": 67,
      "outputs": []
    },
    {
      "cell_type": "markdown",
      "source": [
        "#### Ejemplo de uso"
      ],
      "metadata": {
        "id": "Z9nB7qJ1737_"
      }
    },
    {
      "cell_type": "code",
      "source": [
        "\n",
        "f = lambda x:  x - np.e**-x\n",
        "derivada_f = lambda x:  1 + np.e**-x\n",
        "semilla_p0 = 0.55\n",
        "\n",
        "\n",
        "lista_resultados_NR = metodo_newton_raphson(f, derivada_f, semilla_p0, tolerancia=1e-06)\n",
        "lista_pn_NR = extraer_pn(lista_resultados_NR)\n",
        "lista_alfa_NR = calcular_orden_de_convergencia_alfa(lista_pn_NR)\n",
        "lista_errores_NR = extraer_errores(lista_resultados_NR)\n",
        "lista_cte_asintotica_NR = calcular_cte_asintotica_lambda(lista_errores_NR, lista_alfa_NR)\n",
        "\n",
        "\n",
        "# FALTA CAMBIAR TODOS LOS PRINTS A QUE SE MUESTREN EN TABLAS:\n",
        "print(lista_resultados_NR)\n",
        "print(lista_pn_NR)\n",
        "print(lista_errores_NR)\n",
        "print(lista_alfa_NR)\n",
        "print(lista_cte_asintotica_NR)\n"
      ],
      "metadata": {
        "colab": {
          "base_uri": "https://localhost:8080/"
        },
        "id": "s93-R-04738A",
        "outputId": "266c36fa-12d7-4b36-8735-8cc8b2f8b4b1"
      },
      "execution_count": 68,
      "outputs": [
        {
          "output_type": "stream",
          "name": "stdout",
          "text": [
            "[[0.55, None], [0.567089833933259, 0.017089833933258913], [0.567143289892699, 5.3455959440062983e-05], [0.567143290409784, 5.170849304292346e-10]]\n",
            "[0.55, 0.567089833933259, 0.567143289892699, 0.567143290409784]\n",
            "[None, 0.017089833933258913, 5.3455959440062983e-05, 5.170849304292346e-10]\n",
            "[None, None, 2.0019765790438386]\n",
            "[None, None, 0.18450730991414008]\n"
          ]
        }
      ]
    },
    {
      "cell_type": "markdown",
      "source": [
        "### **Metodo Newton-Raphson modificado para raices multiples**"
      ],
      "metadata": {
        "id": "LUbRkbwP88DV"
      }
    },
    {
      "cell_type": "code",
      "source": [
        "\n",
        "def metodo_newton_raphson_para_raices_multiples(funcion, derivadaFuncion, derivadaSegundaFuncion, p0, tolerancia):\n",
        "    lista_resultados = []\n",
        "    numero_iteracion = 0\n",
        "    g = lambda x: x - (funcion(x)*derivadaFuncion(x))/(derivadaFuncion(x)**2 - funcion(x)*derivadaSegundaFuncion(x))\n",
        "\n",
        "    if((tolerancia <= 0) or (MAX_ITERACIONES <= 0)):\n",
        "        return \"Error por tolerancia o por max. iteraciones al ejecutar el método\"\n",
        "\n",
        "    lista_resultados.append([p0, None])\n",
        "\n",
        "    return iteracion_funcional_recursiva(g, numero_iteracion+1, tolerancia, lista_resultados)\n",
        "\n"
      ],
      "metadata": {
        "id": "IJozkFex2Fab"
      },
      "execution_count": 69,
      "outputs": []
    },
    {
      "cell_type": "markdown",
      "source": [
        "#### Ejemplo de uso"
      ],
      "metadata": {
        "id": "_LDHRsAC75tP"
      }
    },
    {
      "cell_type": "code",
      "source": [
        "\n",
        "\n",
        "f = lambda x:  x - np.e**-x\n",
        "derivada_f = lambda x:  1 + np.e**-x\n",
        "derivada_segunda_f = lambda x:  -np.e**-x\n",
        "semilla_p0 = 0.55\n",
        "\n",
        "\n",
        "lista_resultados_NR_multiple = metodo_newton_raphson_para_raices_multiples(f, derivada_f, derivada_segunda_f, semilla_p0, tolerancia=1e-06)\n",
        "lista_pn_NR_multiple = extraer_pn(lista_resultados_NR_multiple)\n",
        "lista_alfa_NR_multiple = calcular_orden_de_convergencia_alfa(lista_pn_NR_multiple)\n",
        "lista_errores_NR_multiple = extraer_errores(lista_resultados_NR_multiple)\n",
        "lista_cte_asintotica_NR_multiple = calcular_cte_asintotica_lambda(lista_errores_NR_multiple, lista_alfa_NR_multiple)\n",
        "\n",
        "\n",
        "# FALTA CAMBIAR TODOS LOS PRINTS A QUE SE MUESTREN EN TABLAS:\n",
        "print(lista_resultados_NR_multiple)\n",
        "print(lista_pn_NR_multiple)\n",
        "print(lista_errores_NR_multiple)\n",
        "print(lista_alfa_NR_multiple)\n",
        "print(lista_cte_asintotica_NR_multiple)\n"
      ],
      "metadata": {
        "colab": {
          "base_uri": "https://localhost:8080/"
        },
        "id": "_v9QqZ2W75tQ",
        "outputId": "e23cda70-9691-49e5-a72f-adbf0e86dfeb"
      },
      "execution_count": 70,
      "outputs": [
        {
          "output_type": "stream",
          "name": "stdout",
          "text": [
            "[[0.55, None], [0.5671973615021451, 0.017197361502145014], [0.567143290938791, 5.407056335404725e-05], [0.5671432904097838, 5.290071714014744e-10]]\n",
            "[0.55, 0.5671973615021451, 0.567143290938791, 0.5671432904097838]\n",
            "[None, 0.017197361502145014, 5.407056335404725e-05, 5.290071714014744e-10]\n",
            "[None, None, 2.0017971952203024]\n",
            "[None, None, 0.18416558330616842]\n"
          ]
        }
      ]
    },
    {
      "cell_type": "markdown",
      "source": [
        "### **Metodo Secante**"
      ],
      "metadata": {
        "id": "wuEH_MIUJ4Px"
      }
    },
    {
      "cell_type": "code",
      "source": [
        "\n",
        "def metodo_secante(funcion, p0, p1, tolerancia):\n",
        "    lista_resultados = []\n",
        "    numero_iteracion = 0\n",
        "    g = lambda x,y: x - (funcion(x)*(x-y))/(funcion(x)-funcion(y))\n",
        "\n",
        "    if((tolerancia <= 0) or (MAX_ITERACIONES <= 0)):\n",
        "        return \"Error en los parametros al ejecutar el método\"\n",
        "\n",
        "    lista_resultados.append([p0, None])\n",
        "    lista_resultados.append([p1, None])\n",
        "    \n",
        "    return iteracion_funcional_recursiva_de_dos_semillas(g, numero_iteracion+2, tolerancia, lista_resultados)\n",
        "\n",
        "\n",
        "\n"
      ],
      "metadata": {
        "id": "T7YdLGQuJ90u"
      },
      "execution_count": 71,
      "outputs": []
    },
    {
      "cell_type": "markdown",
      "source": [
        "#### Ejemplo de uso"
      ],
      "metadata": {
        "id": "6Hbhk0It77sX"
      }
    },
    {
      "cell_type": "code",
      "source": [
        "\n",
        "f = lambda x:  x - np.e**-x\n",
        "semilla_p0 = 0.55\n",
        "semilla_p1 = 1.6\n",
        "\n",
        "\n",
        "lista_resultados_secante = metodo_secante(f, semilla_p0, semilla_p1, tolerancia=1e-06)\n",
        "lista_pn_secante = extraer_pn(lista_resultados_secante)\n",
        "lista_alfa_secante = calcular_orden_de_convergencia_alfa(lista_pn_secante)\n",
        "lista_errores_secante = extraer_errores(lista_resultados_secante)\n",
        "lista_cte_asintotica_secante = calcular_cte_asintotica_lambda(lista_errores_secante, lista_alfa_secante)\n",
        "\n",
        "# FALTA CAMBIAR TODOS LOS PRINTS A QUE SE MUESTREN EN TABLAS:\n",
        "print(lista_resultados_secante)\n",
        "print(lista_pn_secante)\n",
        "print(lista_errores_secante)\n",
        "print(lista_alfa_secante)\n",
        "print(lista_cte_asintotica_secante)"
      ],
      "metadata": {
        "colab": {
          "base_uri": "https://localhost:8080/"
        },
        "id": "xmK7bYrW77sY",
        "outputId": "98364d09-3d78-4b06-e69b-efd5286d3092"
      },
      "execution_count": 72,
      "outputs": [
        {
          "output_type": "stream",
          "name": "stdout",
          "text": [
            "[[0.55, None], [1.6, None], [0.5698570124013647, 1.0301429875986354], [0.5667154799458295, 0.0031415324555351676], [0.5671435004099051, 0.0004280204640756402], [0.5671432904260414, 2.0998386374149192e-07]]\n",
            "[0.55, 1.6, 0.5698570124013647, 0.5667154799458295, 0.5671435004099051, 0.5671432904260414]\n",
            "[None, None, 1.0301429875986354, 0.0031415324555351676, 0.0004280204640756402, 2.0998386374149192e-07]\n",
            "[None, None, 303.40329498045827, 0.3441021431048191, 3.8227636231277087]\n",
            "[None, None, 0.003109592569088658, 1582343.4982842389]\n"
          ]
        }
      ]
    },
    {
      "cell_type": "markdown",
      "source": [
        "## ***Planteo del problema***\n",
        "## ================================================\n",
        "##### 827 kg es el minimo de mercaderia para que arranquen las maquinas (Valor con el cual ...) \n",
        "##### $25000 es el ingreso que justifica el setup de la maquina.\n",
        "## ================================================\n",
        "#### utilidad unitaria : ingreso_unitario - costo_unitario\n",
        "#### utilidad unitaria = f(x)\n",
        "#### ingreso_unitario = 25000 ---> (Se usa el valor de dato del ingreso para garantizar que cuando se maximice el costo en base a la cantidad de producto, se tenga que ese es el minimo correspondiente a ESE ingreso ESPERADO)\n",
        "\n",
        "\n",
        "### => \n",
        "##### Como f(x) = ingreso_unitario_min - costo_unitario\n",
        "##### =>  f(x) = 25000 - costo_unitario\n",
        "##### =>  y : \"costo_unitario\"\n",
        "##### =>  y = 25000 - f(x)   ---> (de aca se puede buscar la cantidad correspondiente al costo maximo ):\n",
        "##### \n",
        "\n",
        "##### => Maximizamos y \n",
        "##### ---> Comparamos la cantidad x correspondiente al maximo costo con la cantidad minima para justificar el setup (827kg). Y nos quedamos con el mayor.\n",
        "\n"
      ],
      "metadata": {
        "id": "ypIJyliYPBCN"
      }
    },
    {
      "cell_type": "markdown",
      "source": [
        "##### $a)$ Formule el problema y grafíquelo."
      ],
      "metadata": {
        "id": "4SsLUDdXjgfW"
      }
    },
    {
      "cell_type": "code",
      "source": [
        "hours_per_day = 5.5\n",
        "min_per_day = hours_per_day * 60\n",
        "min_per_kg = 21\n",
        "days_per_week = 6\n",
        "weeks_per_month = 4"
      ],
      "metadata": {
        "id": "N9ks6FEuj5DW"
      },
      "execution_count": 73,
      "outputs": []
    },
    {
      "cell_type": "code",
      "source": [
        "def utilidad_unitaria (x):\n",
        "  0.001*(x-1000)**2"
      ],
      "metadata": {
        "id": "ODfQiWLYozhZ"
      },
      "execution_count": 74,
      "outputs": []
    },
    {
      "cell_type": "code",
      "source": [
        "min_contribucion_mensual = 2500"
      ],
      "metadata": {
        "id": "Vn2ruWJEpIqT"
      },
      "execution_count": 75,
      "outputs": []
    },
    {
      "cell_type": "markdown",
      "source": [
        "##### $b)$ Hallar las cantidades a fabricar del producto “E41” utilizando los métodos vistos en clase:\n",
        "##### Bisección, Punto Fijo, Newton-Raphson, Newton-Raphson modificado y Secante.\n",
        "##### Use para todos los métodos como criterio de parada las siguientes cotas:\n",
        "##### $1 · 10^{−5}$ y $1 · 10^{−13}$, use como semilla un valor tomado con el criterio que considere correcto, justificar."
      ],
      "metadata": {
        "id": "NVaDe8K3j96X"
      }
    },
    {
      "cell_type": "code",
      "source": [
        ""
      ],
      "metadata": {
        "id": "KFt8MjcskD5S"
      },
      "execution_count": 75,
      "outputs": []
    },
    {
      "cell_type": "markdown",
      "source": [
        "##### $c)$ Realizar una tabla con los resultados de las iteraciones, convergencia $P$ y la constante asintótica $\\lambda$. \n",
        "##### En caso de que se encuentren más de 12 iteraciones, solamente incluir en la tabla las primeras 5 iteraciones y luego las últimas 5."
      ],
      "metadata": {
        "id": "EPtoazQUkG3u"
      }
    },
    {
      "cell_type": "code",
      "source": [
        ""
      ],
      "metadata": {
        "id": "Nv7xieIckcLl"
      },
      "execution_count": 75,
      "outputs": []
    },
    {
      "cell_type": "markdown",
      "source": [
        "##### $d)$ Compare los resultados obtenidos para los distintos métodos y cotas, grafique el orden de convergencia $P$ y la constante asintótica $\\lambda$ para todos los casos. Realice un gráfico $log_{10}(\\Delta x)$ vs iteraciones, para visualizar el comportamiento de la constante asintótica y el orden de convergencia. Discuta ventajas y desventajas. ¿Son las que esperaba en base a la teoría?"
      ],
      "metadata": {
        "id": "3lbYeY7mkk2Y"
      }
    },
    {
      "cell_type": "code",
      "source": [
        ""
      ],
      "metadata": {
        "id": "NtvwA1A_kyad"
      },
      "execution_count": 75,
      "outputs": []
    },
    {
      "cell_type": "markdown",
      "source": [
        "___________________________________________________________________________________________________________________________________________________________________________________________________________________________________________________________________________\n"
      ],
      "metadata": {
        "id": "6ZMgV0EJoWCL"
      }
    },
    {
      "cell_type": "markdown",
      "metadata": {
        "id": "9tY8ne-w1g4U"
      },
      "source": [
        "# ***2. Splines para aproximacion de curvas***"
      ]
    },
    {
      "cell_type": "markdown",
      "source": [
        "### **Definiciones de funciones auxiliares**"
      ],
      "metadata": {
        "id": "Fll-hs0V5LVj"
      }
    },
    {
      "cell_type": "markdown",
      "metadata": {
        "id": "tv82cA6c52vn"
      },
      "source": [
        "Un spline en un intervalo que se ha dividido en $n$ subintervalos requiere determinar $4n$ constantes.\n",
        "\n",
        "La condición "
      ]
    },
    {
      "cell_type": "code",
      "execution_count": 76,
      "metadata": {
        "id": "VbJRvWWG1bgE"
      },
      "outputs": [],
      "source": [
        "def crear_lista_de_incrementos_hi(tabla_de_datos_sobre_nodos: list):\n",
        "    h_lista = []\n",
        "    for i in range(len(tabla_de_datos_sobre_nodos)-1):\n",
        "        h_i = tabla_de_datos_sobre_nodos[i+1][0] - tabla_de_datos_sobre_nodos[i][0]\n",
        "        h_lista.append(h_i)\n",
        "    return h_lista"
      ]
    },
    {
      "cell_type": "code",
      "execution_count": 77,
      "metadata": {
        "id": "yMPsyl6P1e-k"
      },
      "outputs": [],
      "source": [
        "def crear_lista_de_coeficientes_independientes_ai(tabla_de_datos_sobre_nodos: list):\n",
        "    a_lista = []\n",
        "    for i in range(len(tabla_de_datos_sobre_nodos)):\n",
        "        a_i = tabla_de_datos_sobre_nodos[i][1] \n",
        "        a_lista.append(a_i)\n",
        "    return a_lista"
      ]
    },
    {
      "cell_type": "code",
      "execution_count": 78,
      "metadata": {
        "id": "1ZbCYB0j1ifb"
      },
      "outputs": [],
      "source": [
        "def matriz_A(h_lista: list):\n",
        "    nro_sub_splines = len(h_lista)\n",
        "\n",
        "    matriz_A = [([0]*(nro_sub_splines+1)) for i in range(nro_sub_splines+1)]\n",
        "\n",
        "    for i in range(nro_sub_splines+1):\n",
        "        for j in range(nro_sub_splines+1):\n",
        "            if i == j:\n",
        "                if i == 0:\n",
        "                    matriz_A[i][j] = 2 * h_lista[i]\n",
        "                    matriz_A[i][j+1] = h_lista[i]\n",
        "                elif i == nro_sub_splines:\n",
        "                    matriz_A[i][j] = 2 * h_lista[i-1]\n",
        "                    matriz_A[i][j-1] = h_lista[i-1]\n",
        "                else:\n",
        "                    matriz_A[i][j-1] = h_lista[i-1]\n",
        "                    matriz_A[i][j] = 2 * (h_lista[i-1] + h_lista[i])\n",
        "                    matriz_A[i][j+1] = h_lista[i]\n",
        "\n",
        "    return matriz_A"
      ]
    },
    {
      "cell_type": "code",
      "execution_count": 79,
      "metadata": {
        "id": "RV88T3O41j7-"
      },
      "outputs": [],
      "source": [
        "def matriz_b(h_lista: list, a_lista: list, derivada_f_x0, derivada_f_xn):\n",
        "    nro_sub_splines = len(h_lista)\n",
        "    b = []\n",
        "\n",
        "    for i in range(nro_sub_splines+1):\n",
        "        if i == 0:\n",
        "            b.append((3/h_lista[i] * (a_lista[i+1] - a_lista[i])) - (3 * derivada_f_x0))\n",
        "        elif i == nro_sub_splines:\n",
        "            b.append((3 * derivada_f_xn) - (3/h_lista[i-1] * (a_lista[i] - a_lista[i-1])))\n",
        "        else:\n",
        "            b.append(((3/h_lista[i]) * (a_lista[i+1] - a_lista[i])) - ((3/h_lista[i-1]) * (a_lista[i] - a_lista[i-1])))\n",
        "    \n",
        "    return b"
      ]
    },
    {
      "cell_type": "code",
      "execution_count": 80,
      "metadata": {
        "id": "21Tr9GPp15MJ"
      },
      "outputs": [],
      "source": [
        "def crear_lista_de_coeficientes_lineales_bi(h_lista: list, a_lista: list, c_lista: list):\n",
        "    nro_sub_splines = len(h_lista)\n",
        "    lista_bi = []\n",
        "\n",
        "    for i in range(nro_sub_splines):\n",
        "        b_i = ((1/h_lista[i]) * (a_lista[i+1] - a_lista[i])) - ((h_lista[i]/3) * (2 * c_lista[i] + c_lista[i+1]))\n",
        "        lista_bi.append(b_i)\n",
        "\n",
        "    return lista_bi"
      ]
    },
    {
      "cell_type": "code",
      "execution_count": 81,
      "metadata": {
        "id": "1w3HjSOl2yN7"
      },
      "outputs": [],
      "source": [
        "def crear_lista_de_coeficientes_cubicos_di(h_lista: list, c_lista: list):\n",
        "    nro_sub_splines = len(h_lista)\n",
        "    lista_di =[]\n",
        "\n",
        "    for i in range(nro_sub_splines):\n",
        "        d_i = (1/(3*h_lista[i]))*(c_lista[i+1]-c_lista[i])\n",
        "        lista_di.append(d_i)\n",
        "    return lista_di"
      ]
    },
    {
      "cell_type": "markdown",
      "source": [
        "### **Metodo de interpolación de Spline cúbica**"
      ],
      "metadata": {
        "id": "0qn1cY0d5Yco"
      }
    },
    {
      "cell_type": "code",
      "execution_count": 82,
      "metadata": {
        "id": "0QWHhwrwEGhy"
      },
      "outputs": [],
      "source": [
        "def interpolacion_spline(nodos: list, derivada_f_x0, derivada_f_xn):\n",
        "  lista_hi = crear_lista_de_incrementos_hi(nodos)\n",
        "  lista_ai = crear_lista_de_coeficientes_independientes_ai(nodos)\n",
        "  A = matriz_A(lista_hi)\n",
        "  b = matriz_b(lista_hi, lista_ai, derivada_f_x0, derivada_f_xn)\n",
        "  lista_ci = np.linalg.solve(A, b)\n",
        "  lista_bi = crear_lista_de_coeficientes_lineales_bi(lista_hi, lista_ai, lista_ci)\n",
        "  lista_di = crear_lista_de_coeficientes_cubicos_di(lista_hi, lista_ci)\n",
        "  return [lista_ai, lista_bi, lista_ci, lista_di]"
      ]
    },
    {
      "cell_type": "markdown",
      "metadata": {
        "id": "-5krFNoz1oDh"
      },
      "source": [
        "##### **Ejemplo** del Burden"
      ]
    },
    {
      "cell_type": "code",
      "execution_count": 83,
      "metadata": {
        "id": "zrOCmDhE1mAS"
      },
      "outputs": [],
      "source": [
        "#datos\n",
        "tabla_de_datos_sobre_nodos = [(0,1), (1,np.e), (2,np.e**2), (3,np.e**3)] # Las tuplas significan esto -> (x, f(x))\n",
        "# derivadas\n",
        "derivada_f_x0 = 1\n",
        "derivada_f_xn = np.e**3"
      ]
    },
    {
      "cell_type": "code",
      "execution_count": 84,
      "metadata": {
        "id": "YXq8biMq1qgA"
      },
      "outputs": [],
      "source": [
        "lista_hi = crear_lista_de_incrementos_hi(tabla_de_datos_sobre_nodos)\n",
        "lista_ai = crear_lista_de_coeficientes_independientes_ai(tabla_de_datos_sobre_nodos)"
      ]
    },
    {
      "cell_type": "code",
      "execution_count": 85,
      "metadata": {
        "id": "IeFcP6ZqBqyz",
        "outputId": "8f4c2622-fc00-4db0-a53f-e03440656225",
        "colab": {
          "base_uri": "https://localhost:8080/"
        }
      },
      "outputs": [
        {
          "output_type": "execute_result",
          "data": {
            "text/plain": [
              "[1, 1, 1]"
            ]
          },
          "metadata": {},
          "execution_count": 85
        }
      ],
      "source": [
        "lista_hi"
      ]
    },
    {
      "cell_type": "code",
      "execution_count": 86,
      "metadata": {
        "id": "ChZo8knYBqy0",
        "outputId": "843e4f4b-1c57-4c91-bd9a-72d63980480d",
        "colab": {
          "base_uri": "https://localhost:8080/"
        }
      },
      "outputs": [
        {
          "output_type": "execute_result",
          "data": {
            "text/plain": [
              "[1, 2.718281828459045, 7.3890560989306495, 20.085536923187664]"
            ]
          },
          "metadata": {},
          "execution_count": 86
        }
      ],
      "source": [
        "lista_ai"
      ]
    },
    {
      "cell_type": "code",
      "execution_count": 87,
      "metadata": {
        "colab": {
          "base_uri": "https://localhost:8080/"
        },
        "id": "MHv7ca1f1vwc",
        "outputId": "35ed6358-a969-4951-d9bd-f35216884fba"
      },
      "outputs": [
        {
          "output_type": "stream",
          "name": "stdout",
          "text": [
            "[2, 1, 0, 0]\n",
            "[1, 4, 1, 0]\n",
            "[0, 1, 4, 1]\n",
            "[0, 0, 1, 2]\n"
          ]
        }
      ],
      "source": [
        "A = (matriz_A(lista_hi))\n",
        "for i in range(len(A)):\n",
        "    print(A[i])"
      ]
    },
    {
      "cell_type": "code",
      "execution_count": 88,
      "metadata": {
        "colab": {
          "base_uri": "https://localhost:8080/"
        },
        "id": "j9jsJn_P11h_",
        "outputId": "cd31c9ec-2f41-4afc-ede3-df6ba1467e2b"
      },
      "outputs": [
        {
          "output_type": "execute_result",
          "data": {
            "text/plain": [
              "[2.1548454853771357, 8.857477326037676, 24.077119661356235, 22.16716829679195]"
            ]
          },
          "metadata": {},
          "execution_count": 88
        }
      ],
      "source": [
        "b = (matriz_b(lista_hi, lista_ai, derivada_f_x0, derivada_f_xn))\n",
        "b"
      ]
    },
    {
      "cell_type": "code",
      "execution_count": 89,
      "metadata": {
        "colab": {
          "base_uri": "https://localhost:8080/"
        },
        "id": "bRYl6SHt13cH",
        "outputId": "5d3315f9-d74d-402a-e91c-4a148c228707"
      },
      "outputs": [
        {
          "output_type": "stream",
          "name": "stdout",
          "text": [
            "[0.4446825  1.26548049 3.35087286 9.40814772]\n"
          ]
        }
      ],
      "source": [
        "lista_ci = np.linalg.solve(A, b)\n",
        "print(lista_ci)"
      ]
    },
    {
      "cell_type": "code",
      "execution_count": 90,
      "metadata": {
        "colab": {
          "base_uri": "https://localhost:8080/"
        },
        "id": "rj-Buw7I16V7",
        "outputId": "e9322059-fbb9-476e-f70f-752e452048d8"
      },
      "outputs": [
        {
          "output_type": "execute_result",
          "data": {
            "text/plain": [
              "[0.9999999999999999, 2.7101629884113065, 7.3265163431467215]"
            ]
          },
          "metadata": {},
          "execution_count": 90
        }
      ],
      "source": [
        "lista_bi = crear_lista_de_coeficientes_lineales_bi(lista_hi, lista_ai, lista_ci)\n",
        "lista_bi"
      ]
    },
    {
      "cell_type": "code",
      "execution_count": 91,
      "metadata": {
        "colab": {
          "base_uri": "https://localhost:8080/"
        },
        "id": "3JnTu_if2Ss8",
        "outputId": "d2c68ef1-5eb4-4aea-ea08-a3f3ef4852d3"
      },
      "outputs": [
        {
          "output_type": "execute_result",
          "data": {
            "text/plain": [
              "[0.27359933149321614, 0.6951307906148199, 2.019091617820356]"
            ]
          },
          "metadata": {},
          "execution_count": 91
        }
      ],
      "source": [
        "lista_di = crear_lista_de_coeficientes_cubicos_di(lista_hi, lista_ci)\n",
        "lista_di"
      ]
    },
    {
      "cell_type": "code",
      "execution_count": 92,
      "metadata": {
        "id": "r_jYHuKRBqy4"
      },
      "outputs": [],
      "source": [
        "import matplotlib.pyplot as plt\n",
        "from numpy import linspace"
      ]
    },
    {
      "cell_type": "code",
      "execution_count": 93,
      "metadata": {
        "id": "J23v5LRSBqy4"
      },
      "outputs": [],
      "source": [
        "def si(x,lista_ai: list, lista_bi: list, lista_ci: list, lista_di: list, i): \n",
        "    return (lista_ai[i] + lista_bi[i]*(x-x[0]) + lista_ci[i]*((x-x[0])**2)+lista_di[i]*((x-x[0])**3))"
      ]
    },
    {
      "cell_type": "code",
      "execution_count": 94,
      "metadata": {
        "id": "aeqz7fQhBqy5"
      },
      "outputs": [],
      "source": [
        "coeficientes_ejemplo = interpolacion_spline(tabla_de_datos_sobre_nodos,derivada_f_x0,derivada_f_xn)"
      ]
    },
    {
      "cell_type": "code",
      "execution_count": 95,
      "metadata": {
        "id": "TMNOchpNBqy5"
      },
      "outputs": [],
      "source": [
        "interval_1 = linspace(0,1,400) # devuelve un arreglo de 400 valores entre 0 y 1\n",
        "interval_2 = linspace(1,2,400) # devuelve un arreglo de 400 valores entre 1 y 2\n",
        "interval_3 = linspace(2,3,400) # devuelve un arreglo de 400 valores entre 2 y 3"
      ]
    },
    {
      "cell_type": "code",
      "execution_count": 96,
      "metadata": {
        "id": "7d6SiKnRBqy5"
      },
      "outputs": [],
      "source": [
        "s1 = si(interval_1,coeficientes_ejemplo[0],coeficientes_ejemplo[1],coeficientes_ejemplo[2],coeficientes_ejemplo[3],0)\n",
        "s2 = si(interval_2,coeficientes_ejemplo[0],coeficientes_ejemplo[1],coeficientes_ejemplo[2],coeficientes_ejemplo[3],1)\n",
        "s3 = si(interval_3,coeficientes_ejemplo[0],coeficientes_ejemplo[1],coeficientes_ejemplo[2],coeficientes_ejemplo[3],2)"
      ]
    },
    {
      "cell_type": "code",
      "execution_count": 97,
      "metadata": {
        "id": "yces3cxYBqy6",
        "outputId": "380fe94c-34b5-4172-e42c-f0998507de9b",
        "colab": {
          "base_uri": "https://localhost:8080/",
          "height": 441
        }
      },
      "outputs": [
        {
          "output_type": "display_data",
          "data": {
            "text/plain": [
              "<Figure size 432x432 with 1 Axes>"
            ],
            "image/png": "[encoded data removed]"
          },
          "metadata": {
            "needs_background": "light"
          }
        }
      ],
      "source": [
        "plt.rcParams[\"figure.figsize\"] = [6,6]\n",
        "plt.rcParams[\"figure.autolayout\"] = True\n",
        "plt.plot(interval_1,s1,'r')\n",
        "plt.plot(interval_2,s2,'b')\n",
        "plt.plot(interval_3,s3,'g')\n",
        "plt.show()"
      ]
    },
    {
      "cell_type": "markdown",
      "metadata": {
        "id": "SZwHQNfUCqk_"
      },
      "source": [
        "#### Ejercicio 2"
      ]
    },
    {
      "cell_type": "code",
      "execution_count": 98,
      "metadata": {
        "id": "81lvoth9Cp5P"
      },
      "outputs": [],
      "source": [
        "spline_1 = [(1,3),(2,3.7),(5,3.9),(6,4.2),(7,5.7),(8,6.6),(10,7.1),(13,6.7),(17,4.5)]\n",
        "derivadas_spline_1 = (1,-(2/3))\n",
        "spline_2 = [(17,4.5),(20,7),(23,6.1),(24,5.6),(25,5.8),(27,5.2),(27.7,4.1)]\n",
        "derivadas_spline_2 = (3,-4)\n",
        "spline_3 = [(27.7,4.1),(28,4.3),(29,4.1),(30,3)]\n",
        "derivadas_spline_3 = (1/3,-(3/2))"
      ]
    },
    {
      "cell_type": "code",
      "execution_count": 99,
      "metadata": {
        "id": "PyFXipQIGIai"
      },
      "outputs": [],
      "source": [
        "coeficientes_spline_1 = interpolacion_spline(spline_1,derivadas_spline_1[0],derivadas_spline_1[1])\n",
        "coeficientes_spline_2 = interpolacion_spline(spline_2,derivadas_spline_2[0],derivadas_spline_2[1])\n",
        "coeficientes_spline_3 = interpolacion_spline(spline_3,derivadas_spline_3[0],derivadas_spline_3[1])"
      ]
    },
    {
      "cell_type": "code",
      "execution_count": 100,
      "metadata": {
        "id": "aO5MZYHJGaFj"
      },
      "outputs": [],
      "source": [
        "import pandas as pd"
      ]
    },
    {
      "cell_type": "code",
      "execution_count": 101,
      "metadata": {
        "id": "YHd0bmjNJlSB"
      },
      "outputs": [],
      "source": [
        "def curva_dataframe(nombre,coeficientes_spline):\n",
        "    lista_nombres = [[nombre,nombre,nombre,nombre],[\"a\",\"b\",\"c\",\"d\"]]\n",
        "    tuplas = list(zip(*lista_nombres))\n",
        "    indice = pd.MultiIndex.from_tuples(tuplas, names=[\"Spline\", \"Coeficiente\"])\n",
        "    tabla_de_datos = pd.DataFrame(coeficientes_spline, index=indice)\n",
        "    return tabla_de_datos"
      ]
    },
    {
      "cell_type": "code",
      "execution_count": 102,
      "metadata": {
        "id": "bPh1bmf_wO1N"
      },
      "outputs": [],
      "source": [
        "df1 = curva_dataframe(\"Spline 1\",coeficientes_spline_1)\n",
        "df2 = curva_dataframe(\"Spline 2\",coeficientes_spline_2)\n",
        "df3 = curva_dataframe(\"Spline 3\",coeficientes_spline_3)\n",
        "frames = [df1,df2,df3]\n",
        "df_total = pd.concat(frames).T"
      ]
    },
    {
      "cell_type": "code",
      "execution_count": 103,
      "metadata": {
        "colab": {
          "base_uri": "https://localhost:8080/",
          "height": 363
        },
        "id": "q7DkqBklwitC",
        "outputId": "adc636a5-487c-4649-cfd8-3ffc7661f448"
      },
      "outputs": [
        {
          "output_type": "execute_result",
          "data": {
            "text/plain": [
              "Spline      Spline 1                               Spline 2            \\\n",
              "Coeficiente        a         b         c         d        a         b   \n",
              "0                3.0  1.000000 -0.346810  0.046810      4.5  3.000000   \n",
              "1                3.7  0.446810 -0.206380  0.026555      7.0 -0.197875   \n",
              "2                3.9 -0.074479  0.032617  0.341862      6.1 -0.608501   \n",
              "3                4.2  1.016340  1.058202 -0.574542      5.6 -0.111371   \n",
              "4                5.7  1.409117 -0.665425  0.156308      5.8  0.153987   \n",
              "5                6.6  0.547191 -0.196501  0.023953      5.2 -0.401178   \n",
              "6                7.1  0.048621 -0.052784 -0.002623      4.1       NaN   \n",
              "7                6.7 -0.338892 -0.076387  0.005903      NaN       NaN   \n",
              "8                4.5       NaN -0.005556       NaN      NaN       NaN   \n",
              "\n",
              "Spline                          Spline 3                                \n",
              "Coeficiente         c         d        a         b         c         d  \n",
              "0           -1.100708  0.126162      4.1  0.333333  2.244224 -3.777044  \n",
              "1            0.034750 -0.022931      4.3  0.660066 -1.155116  0.295050  \n",
              "2           -0.171626  0.280127      4.1 -0.765017 -0.269967 -0.065017  \n",
              "3            0.668756 -0.357385      3.0       NaN -0.465017       NaN  \n",
              "4           -0.403398  0.088202      NaN       NaN       NaN       NaN  \n",
              "5            0.125815 -2.568002      NaN       NaN       NaN       NaN  \n",
              "6           -5.266989       NaN      NaN       NaN       NaN       NaN  \n",
              "7                 NaN       NaN      NaN       NaN       NaN       NaN  \n",
              "8                 NaN       NaN      NaN       NaN       NaN       NaN  "
            ],
            "text/html": [
              "\n",
              "  <div id=\"df-f3f538dd-b84c-483b-a328-23804a7b0c0a\">\n",
              "    <div class=\"colab-df-container\">\n",
              "      <div>\n",
              "<style scoped>\n",
              "    .dataframe tbody tr th:only-of-type {\n",
              "        vertical-align: middle;\n",
              "    }\n",
              "\n",
              "    .dataframe tbody tr th {\n",
              "        vertical-align: top;\n",
              "    }\n",
              "\n",
              "    .dataframe thead tr th {\n",
              "        text-align: left;\n",
              "    }\n",
              "</style>\n",
              "<table border=\"1\" class=\"dataframe\">\n",
              "  <thead>\n",
              "    <tr>\n",
              "      <th>Spline</th>\n",
              "      <th colspan=\"4\" halign=\"left\">Spline 1</th>\n",
              "      <th colspan=\"4\" halign=\"left\">Spline 2</th>\n",
              "      <th colspan=\"4\" halign=\"left\">Spline 3</th>\n",
              "    </tr>\n",
              "    <tr>\n",
              "      <th>Coeficiente</th>\n",
              "      <th>a</th>\n",
              "      <th>b</th>\n",
              "      <th>c</th>\n",
              "      <th>d</th>\n",
              "      <th>a</th>\n",
              "      <th>b</th>\n",
              "      <th>c</th>\n",
              "      <th>d</th>\n",
              "      <th>a</th>\n",
              "      <th>b</th>\n",
              "      <th>c</th>\n",
              "      <th>d</th>\n",
              "    </tr>\n",
              "  </thead>\n",
              "  <tbody>\n",
              "    <tr>\n",
              "      <th>0</th>\n",
              "      <td>3.0</td>\n",
              "      <td>1.000000</td>\n",
              "      <td>-0.346810</td>\n",
              "      <td>0.046810</td>\n",
              "      <td>4.5</td>\n",
              "      <td>3.000000</td>\n",
              "      <td>-1.100708</td>\n",
              "      <td>0.126162</td>\n",
              "      <td>4.1</td>\n",
              "      <td>0.333333</td>\n",
              "      <td>2.244224</td>\n",
              "      <td>-3.777044</td>\n",
              "    </tr>\n",
              "    <tr>\n",
              "      <th>1</th>\n",
              "      <td>3.7</td>\n",
              "      <td>0.446810</td>\n",
              "      <td>-0.206380</td>\n",
              "      <td>0.026555</td>\n",
              "      <td>7.0</td>\n",
              "      <td>-0.197875</td>\n",
              "      <td>0.034750</td>\n",
              "      <td>-0.022931</td>\n",
              "      <td>4.3</td>\n",
              "      <td>0.660066</td>\n",
              "      <td>-1.155116</td>\n",
              "      <td>0.295050</td>\n",
              "    </tr>\n",
              "    <tr>\n",
              "      <th>2</th>\n",
              "      <td>3.9</td>\n",
              "      <td>-0.074479</td>\n",
              "      <td>0.032617</td>\n",
              "      <td>0.341862</td>\n",
              "      <td>6.1</td>\n",
              "      <td>-0.608501</td>\n",
              "      <td>-0.171626</td>\n",
              "      <td>0.280127</td>\n",
              "      <td>4.1</td>\n",
              "      <td>-0.765017</td>\n",
              "      <td>-0.269967</td>\n",
              "      <td>-0.065017</td>\n",
              "    </tr>\n",
              "    <tr>\n",
              "      <th>3</th>\n",
              "      <td>4.2</td>\n",
              "      <td>1.016340</td>\n",
              "      <td>1.058202</td>\n",
              "      <td>-0.574542</td>\n",
              "      <td>5.6</td>\n",
              "      <td>-0.111371</td>\n",
              "      <td>0.668756</td>\n",
              "      <td>-0.357385</td>\n",
              "      <td>3.0</td>\n",
              "      <td>NaN</td>\n",
              "      <td>-0.465017</td>\n",
              "      <td>NaN</td>\n",
              "    </tr>\n",
              "    <tr>\n",
              "      <th>4</th>\n",
              "      <td>5.7</td>\n",
              "      <td>1.409117</td>\n",
              "      <td>-0.665425</td>\n",
              "      <td>0.156308</td>\n",
              "      <td>5.8</td>\n",
              "      <td>0.153987</td>\n",
              "      <td>-0.403398</td>\n",
              "      <td>0.088202</td>\n",
              "      <td>NaN</td>\n",
              "      <td>NaN</td>\n",
              "      <td>NaN</td>\n",
              "      <td>NaN</td>\n",
              "    </tr>\n",
              "    <tr>\n",
              "      <th>5</th>\n",
              "      <td>6.6</td>\n",
              "      <td>0.547191</td>\n",
              "      <td>-0.196501</td>\n",
              "      <td>0.023953</td>\n",
              "      <td>5.2</td>\n",
              "      <td>-0.401178</td>\n",
              "      <td>0.125815</td>\n",
              "      <td>-2.568002</td>\n",
              "      <td>NaN</td>\n",
              "      <td>NaN</td>\n",
              "      <td>NaN</td>\n",
              "      <td>NaN</td>\n",
              "    </tr>\n",
              "    <tr>\n",
              "      <th>6</th>\n",
              "      <td>7.1</td>\n",
              "      <td>0.048621</td>\n",
              "      <td>-0.052784</td>\n",
              "      <td>-0.002623</td>\n",
              "      <td>4.1</td>\n",
              "      <td>NaN</td>\n",
              "      <td>-5.266989</td>\n",
              "      <td>NaN</td>\n",
              "      <td>NaN</td>\n",
              "      <td>NaN</td>\n",
              "      <td>NaN</td>\n",
              "      <td>NaN</td>\n",
              "    </tr>\n",
              "    <tr>\n",
              "      <th>7</th>\n",
              "      <td>6.7</td>\n",
              "      <td>-0.338892</td>\n",
              "      <td>-0.076387</td>\n",
              "      <td>0.005903</td>\n",
              "      <td>NaN</td>\n",
              "      <td>NaN</td>\n",
              "      <td>NaN</td>\n",
              "      <td>NaN</td>\n",
              "      <td>NaN</td>\n",
              "      <td>NaN</td>\n",
              "      <td>NaN</td>\n",
              "      <td>NaN</td>\n",
              "    </tr>\n",
              "    <tr>\n",
              "      <th>8</th>\n",
              "      <td>4.5</td>\n",
              "      <td>NaN</td>\n",
              "      <td>-0.005556</td>\n",
              "      <td>NaN</td>\n",
              "      <td>NaN</td>\n",
              "      <td>NaN</td>\n",
              "      <td>NaN</td>\n",
              "      <td>NaN</td>\n",
              "      <td>NaN</td>\n",
              "      <td>NaN</td>\n",
              "      <td>NaN</td>\n",
              "      <td>NaN</td>\n",
              "    </tr>\n",
              "  </tbody>\n",
              "</table>\n",
              "</div>\n",
              "      <button class=\"colab-df-convert\" onclick=\"convertToInteractive('df-f3f538dd-b84c-483b-a328-23804a7b0c0a')\"\n",
              "              title=\"Convert this dataframe to an interactive table.\"\n",
              "              style=\"display:none;\">\n",
              "        \n",
              "  <svg xmlns=\"http://www.w3.org/2000/svg\" height=\"24px\"viewBox=\"0 0 24 24\"\n",
              "       width=\"24px\">\n",
              "    <path d=\"M0 0h24v24H0V0z\" fill=\"none\"/>\n",
              "    <path d=\"M18.56 5.44l.94 2.06.94-2.06 2.06-.94-2.06-.94-.94-2.06-.94 2.06-2.06.94zm-11 1L8.5 8.5l.94-2.06 2.06-.94-2.06-.94L8.5 2.5l-.94 2.06-2.06.94zm10 10l.94 2.06.94-2.06 2.06-.94-2.06-.94-.94-2.06-.94 2.06-2.06.94z\"/><path d=\"M17.41 7.96l-1.37-1.37c-.4-.4-.92-.59-1.43-.59-.52 0-1.04.2-1.43.59L10.3 9.45l-7.72 7.72c-.78.78-.78 2.05 0 2.83L4 21.41c.39.39.9.59 1.41.59.51 0 1.02-.2 1.41-.59l7.78-7.78 2.81-2.81c.8-.78.8-2.07 0-2.86zM5.41 20L4 18.59l7.72-7.72 1.47 1.35L5.41 20z\"/>\n",
              "  </svg>\n",
              "      </button>\n",
              "      \n",
              "  <style>\n",
              "    .colab-df-container {\n",
              "      display:flex;\n",
              "      flex-wrap:wrap;\n",
              "      gap: 12px;\n",
              "    }\n",
              "\n",
              "    .colab-df-convert {\n",
              "      background-color: #E8F0FE;\n",
              "      border: none;\n",
              "      border-radius: 50%;\n",
              "      cursor: pointer;\n",
              "      display: none;\n",
              "      fill: #1967D2;\n",
              "      height: 32px;\n",
              "      padding: 0 0 0 0;\n",
              "      width: 32px;\n",
              "    }\n",
              "\n",
              "    .colab-df-convert:hover {\n",
              "      background-color: #E2EBFA;\n",
              "      box-shadow: 0px 1px 2px rgba(60, 64, 67, 0.3), 0px 1px 3px 1px rgba(60, 64, 67, 0.15);\n",
              "      fill: #174EA6;\n",
              "    }\n",
              "\n",
              "    [theme=dark] .colab-df-convert {\n",
              "      background-color: #3B4455;\n",
              "      fill: #D2E3FC;\n",
              "    }\n",
              "\n",
              "    [theme=dark] .colab-df-convert:hover {\n",
              "      background-color: #434B5C;\n",
              "      box-shadow: 0px 1px 3px 1px rgba(0, 0, 0, 0.15);\n",
              "      filter: drop-shadow(0px 1px 2px rgba(0, 0, 0, 0.3));\n",
              "      fill: #FFFFFF;\n",
              "    }\n",
              "  </style>\n",
              "\n",
              "      <script>\n",
              "        const buttonEl =\n",
              "          document.querySelector('#df-f3f538dd-b84c-483b-a328-23804a7b0c0a button.colab-df-convert');\n",
              "        buttonEl.style.display =\n",
              "          google.colab.kernel.accessAllowed ? 'block' : 'none';\n",
              "\n",
              "        async function convertToInteractive(key) {\n",
              "          const element = document.querySelector('#df-f3f538dd-b84c-483b-a328-23804a7b0c0a');\n",
              "          const dataTable =\n",
              "            await google.colab.kernel.invokeFunction('convertToInteractive',\n",
              "                                                     [key], {});\n",
              "          if (!dataTable) return;\n",
              "\n",
              "          const docLinkHtml = 'Like what you see? Visit the ' +\n",
              "            '<a target=\"_blank\" href=https://colab.research.google.com/notebooks/data_table.ipynb>data table notebook</a>'\n",
              "            + ' to learn more about interactive tables.';\n",
              "          element.innerHTML = '';\n",
              "          dataTable['output_type'] = 'display_data';\n",
              "          await google.colab.output.renderOutput(dataTable, element);\n",
              "          const docLink = document.createElement('div');\n",
              "          docLink.innerHTML = docLinkHtml;\n",
              "          element.appendChild(docLink);\n",
              "        }\n",
              "      </script>\n",
              "    </div>\n",
              "  </div>\n",
              "  "
            ]
          },
          "metadata": {},
          "execution_count": 103
        }
      ],
      "source": [
        "df_total"
      ]
    },
    {
      "cell_type": "markdown",
      "metadata": {
        "id": "2KWzUoC6Bqy8"
      },
      "source": [
        "##### Grafico"
      ]
    },
    {
      "cell_type": "markdown",
      "metadata": {
        "id": "-7UlVEFQBqy8"
      },
      "source": [
        "Curva 1"
      ]
    },
    {
      "cell_type": "code",
      "execution_count": 104,
      "metadata": {
        "id": "K8sEtsd2Bqy8"
      },
      "outputs": [],
      "source": [
        "interval_1_0 = linspace(1,2,100)\n",
        "interval_2_0 = linspace(2,5,100)\n",
        "interval_3_0 = linspace(5,6,100)\n",
        "interval_4_0 = linspace(6,7,100)\n",
        "interval_5_0 = linspace(7,8,100)\n",
        "interval_6_0 = linspace(8,10,100)\n",
        "interval_7_0 = linspace(10,13,100)\n",
        "interval_8_0 = linspace(13,17,100)"
      ]
    },
    {
      "cell_type": "code",
      "execution_count": 105,
      "metadata": {
        "id": "C-9flDWkBqy8"
      },
      "outputs": [],
      "source": [
        "a_0 = si(interval_1_0,coeficientes_spline_1[0],coeficientes_spline_1[1],coeficientes_spline_1[2],coeficientes_spline_1[3],0)\n",
        "b_0 = si(interval_2_0,coeficientes_spline_1[0],coeficientes_spline_1[1],coeficientes_spline_1[2],coeficientes_spline_1[3],1)\n",
        "c_0 = si(interval_3_0,coeficientes_spline_1[0],coeficientes_spline_1[1],coeficientes_spline_1[2],coeficientes_spline_1[3],2)\n",
        "d_0 = si(interval_4_0,coeficientes_spline_1[0],coeficientes_spline_1[1],coeficientes_spline_1[2],coeficientes_spline_1[3],3)\n",
        "e_0 = si(interval_5_0,coeficientes_spline_1[0],coeficientes_spline_1[1],coeficientes_spline_1[2],coeficientes_spline_1[3],4)\n",
        "f_0 = si(interval_6_0,coeficientes_spline_1[0],coeficientes_spline_1[1],coeficientes_spline_1[2],coeficientes_spline_1[3],5)\n",
        "g_0 = si(interval_7_0,coeficientes_spline_1[0],coeficientes_spline_1[1],coeficientes_spline_1[2],coeficientes_spline_1[3],6)\n",
        "h_0 = si(interval_8_0,coeficientes_spline_1[0],coeficientes_spline_1[1],coeficientes_spline_1[2],coeficientes_spline_1[3],7)"
      ]
    },
    {
      "cell_type": "markdown",
      "metadata": {
        "id": "4hS1z0E7Bqy9"
      },
      "source": [
        "Curva 2"
      ]
    },
    {
      "cell_type": "code",
      "execution_count": 106,
      "metadata": {
        "id": "-wqpSfhzBqy9"
      },
      "outputs": [],
      "source": [
        "interval_1_1 = linspace(17,20,100)\n",
        "interval_2_1 = linspace(20,23,100)\n",
        "interval_3_1 = linspace(23,24,100)\n",
        "interval_4_1 = linspace(24,25,100)\n",
        "interval_5_1 = linspace(25,27,100)\n",
        "interval_6_1 = linspace(27,27.7,100)"
      ]
    },
    {
      "cell_type": "code",
      "execution_count": 107,
      "metadata": {
        "id": "DlxFZmW0Bqy9"
      },
      "outputs": [],
      "source": [
        "a_1 = si(interval_1_1,coeficientes_spline_2[0],coeficientes_spline_2[1],coeficientes_spline_2[2],coeficientes_spline_2[3],0)\n",
        "b_1 = si(interval_2_1,coeficientes_spline_2[0],coeficientes_spline_2[1],coeficientes_spline_2[2],coeficientes_spline_2[3],1)\n",
        "c_1 = si(interval_3_1,coeficientes_spline_2[0],coeficientes_spline_2[1],coeficientes_spline_2[2],coeficientes_spline_2[3],2)\n",
        "d_1 = si(interval_4_1,coeficientes_spline_2[0],coeficientes_spline_2[1],coeficientes_spline_2[2],coeficientes_spline_2[3],3)\n",
        "e_1 = si(interval_5_1,coeficientes_spline_2[0],coeficientes_spline_2[1],coeficientes_spline_2[2],coeficientes_spline_2[3],4)\n",
        "f_1 = si(interval_6_1,coeficientes_spline_2[0],coeficientes_spline_2[1],coeficientes_spline_2[2],coeficientes_spline_2[3],5)"
      ]
    },
    {
      "cell_type": "markdown",
      "metadata": {
        "id": "2jCbfc4uBqy9"
      },
      "source": [
        "Curva 3"
      ]
    },
    {
      "cell_type": "code",
      "execution_count": 108,
      "metadata": {
        "id": "Pr4xp6ZFBqy9"
      },
      "outputs": [],
      "source": [
        "interval_1_2 = linspace(27.7,28,100)\n",
        "interval_2_2 = linspace(28,29,100)\n",
        "interval_3_2 = linspace(29,30,100)"
      ]
    },
    {
      "cell_type": "code",
      "execution_count": 109,
      "metadata": {
        "id": "gBrxVEC3Bqy-"
      },
      "outputs": [],
      "source": [
        "a_2 = si(interval_1_2,coeficientes_spline_3[0],coeficientes_spline_3[1],coeficientes_spline_3[2],coeficientes_spline_3[3],0)\n",
        "b_2 = si(interval_2_2,coeficientes_spline_3[0],coeficientes_spline_3[1],coeficientes_spline_3[2],coeficientes_spline_3[3],1)\n",
        "c_2 = si(interval_3_2,coeficientes_spline_3[0],coeficientes_spline_3[1],coeficientes_spline_3[2],coeficientes_spline_3[3],2)"
      ]
    },
    {
      "cell_type": "code",
      "execution_count": 110,
      "metadata": {
        "id": "-XNupw5dBqy-",
        "outputId": "8d90da41-89e0-44ac-ee09-fec80da115b7",
        "colab": {
          "base_uri": "https://localhost:8080/",
          "height": 297
        }
      },
      "outputs": [
        {
          "output_type": "display_data",
          "data": {
            "text/plain": [
              "<Figure size 1080x288 with 1 Axes>"
            ],
            "image/png": "[encoded data removed]"
          },
          "metadata": {
            "needs_background": "light"
          }
        }
      ],
      "source": [
        "plt.rcParams[\"figure.figsize\"] = [15,4]\n",
        "plt.rcParams[\"figure.autolayout\"] = True\n",
        "# grafico spline 1\n",
        "plt.plot(interval_1_0,a_0,'r')\n",
        "plt.plot(interval_2_0,b_0,'r')\n",
        "plt.plot(interval_3_0,c_0,'r')\n",
        "plt.plot(interval_4_0,d_0,'r')\n",
        "plt.plot(interval_5_0,e_0,'r')\n",
        "plt.plot(interval_6_0,f_0,'r')\n",
        "plt.plot(interval_7_0,g_0,'r')\n",
        "plt.plot(interval_8_0,h_0,'r')\n",
        "# grafico spline 2\n",
        "plt.plot(interval_1_1,a_1,'g')\n",
        "plt.plot(interval_2_1,b_1,'g')\n",
        "plt.plot(interval_3_1,c_1,'g')\n",
        "plt.plot(interval_4_1,d_1,'g')\n",
        "plt.plot(interval_5_1,e_1,'g')\n",
        "plt.plot(interval_6_1,f_1,'g')\n",
        "# grafico spline 3\n",
        "plt.plot(interval_1_2,a_2,'b')\n",
        "plt.plot(interval_2_2,b_2,'b')\n",
        "plt.plot(interval_3_2,c_2,'b')\n",
        "\n",
        "plt.grid()\n",
        "plt.show()"
      ]
    }
  ]
}